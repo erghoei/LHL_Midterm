{
 "cells": [
  {
   "cell_type": "markdown",
   "metadata": {},
   "source": [
    "## Import and Scale Data"
   ]
  },
  {
   "cell_type": "code",
   "execution_count": 1,
   "metadata": {},
   "outputs": [],
   "source": [
    "import pandas as pd\n",
    "import numpy as np\n",
    "from sklearn.neighbors import NearestNeighbors\n",
    "from sklearn.preprocessing import MinMaxScaler\n",
    "from sklearn.cluster import KMeans"
   ]
  },
  {
   "cell_type": "code",
   "execution_count": 2,
   "metadata": {},
   "outputs": [],
   "source": [
    "data = pd.read_csv('nyc_data3.csv')"
   ]
  },
  {
   "cell_type": "code",
   "execution_count": 3,
   "metadata": {},
   "outputs": [],
   "source": [
    "data.rename(columns={'Median Sale Price - na has median':'house_price'}, inplace=True)"
   ]
  },
  {
   "cell_type": "code",
   "execution_count": 4,
   "metadata": {},
   "outputs": [],
   "source": [
    "data_features = data[['uber_count', 'avg_price', 'pop_density', 'median_daily_test_rate', 'avg_test_score', 'house_price']]"
   ]
  },
  {
   "cell_type": "code",
   "execution_count": 5,
   "metadata": {},
   "outputs": [],
   "source": [
    "scaler = MinMaxScaler()\n",
    "scaled_features = scaler.fit_transform(data_features) # np array of scaled features"
   ]
  },
  {
   "cell_type": "code",
   "execution_count": 6,
   "metadata": {},
   "outputs": [],
   "source": [
    "scaled_df = pd.DataFrame(data=scaled_features, columns=['uber_count', 'avg_price', 'pop_density', 'median_daily_test_rate', 'avg_test_score', 'house_price']) # scaled features as dataframe"
   ]
  },
  {
   "cell_type": "markdown",
   "metadata": {},
   "source": [
    "## K-means Model for Suggestion"
   ]
  },
  {
   "cell_type": "code",
   "execution_count": 7,
   "metadata": {},
   "outputs": [],
   "source": [
    "# K-means model instantiation\n",
    "km = KMeans(n_clusters=3,\n",
    "            n_init=10,\n",
    "           random_state=12)"
   ]
  },
  {
   "cell_type": "code",
   "execution_count": 8,
   "metadata": {},
   "outputs": [],
   "source": [
    "# fit_predict K-means model on scaled_df\n",
    "y_km = km.fit_predict(scaled_df)"
   ]
  },
  {
   "cell_type": "code",
   "execution_count": 9,
   "metadata": {},
   "outputs": [
    {
     "name": "stderr",
     "output_type": "stream",
     "text": [
      "<ipython-input-9-6852cbe0bf2b>:2: SettingWithCopyWarning: \n",
      "A value is trying to be set on a copy of a slice from a DataFrame.\n",
      "Try using .loc[row_indexer,col_indexer] = value instead\n",
      "\n",
      "See the caveats in the documentation: https://pandas.pydata.org/pandas-docs/stable/user_guide/indexing.html#returning-a-view-versus-a-copy\n",
      "  data_features['cluster'] = y_km\n"
     ]
    }
   ],
   "source": [
    "# create clusters column in data_features, data, and scaled_df\n",
    "data_features['cluster'] = y_km\n",
    "data['cluster'] = y_km\n",
    "scaled_df['cluster'] = y_km"
   ]
  },
  {
   "cell_type": "code",
   "execution_count": 10,
   "metadata": {},
   "outputs": [],
   "source": [
    "# create clusters based dataframes\n",
    "nyc_0 = data_features.loc[data_features['cluster'] == 0]\n",
    "nyc_1 = data_features.loc[data_features['cluster'] == 1]\n",
    "nyc_2 = data_features.loc[data_features['cluster'] == 2]\n",
    "# create clusters based dataframes for scaled dataframes as well\n",
    "scaled_0 = scaled_df.loc[scaled_df['cluster'] == 0]\n",
    "scaled_1 = scaled_df.loc[scaled_df['cluster'] == 1]\n",
    "scaled_2 = scaled_df.loc[scaled_df['cluster'] == 2]"
   ]
  },
  {
   "cell_type": "markdown",
   "metadata": {},
   "source": [
    "## NYC Neighborhood Suggestion Tool"
   ]
  },
  {
   "cell_type": "code",
   "execution_count": 11,
   "metadata": {},
   "outputs": [],
   "source": [
    "# feature conversion key\n",
    "convert = {'a1':scaled_df['uber_count'].min(), 'a2':scaled_df['uber_count'].quantile(0.25), 'a3':scaled_df['uber_count'].quantile(0.5),'a4':scaled_df['uber_count'].quantile(0.75), 'a5':scaled_df['uber_count'].max(),\n",
    "          'b1':scaled_df['avg_price'].min(), 'b2':scaled_df['avg_price'].quantile(0.25), 'b3':scaled_df['avg_price'].quantile(0.5),'b4':scaled_df['avg_price'].quantile(0.75), 'b5':scaled_df['avg_price'].max(),\n",
    "          'c1':scaled_df['pop_density'].min(), 'c2':scaled_df['pop_density'].quantile(0.25), 'c3':scaled_df['pop_density'].quantile(0.5),'c4':scaled_df['pop_density'].quantile(0.75), 'c5':scaled_df['pop_density'].max(),\n",
    "          'd1':scaled_df['median_daily_test_rate'].min(), 'd2':scaled_df['median_daily_test_rate'].quantile(0.25), 'd3':scaled_df['median_daily_test_rate'].quantile(0.5),'d4':scaled_df['median_daily_test_rate'].quantile(0.75), 'd5':scaled_df['median_daily_test_rate'].max(),\n",
    "          'e1':scaled_df['avg_test_score'].min(), 'e2':scaled_df['avg_test_score'].quantile(0.25), 'e3':scaled_df['avg_test_score'].quantile(0.5),'e4':scaled_df['avg_test_score'].quantile(0.75), 'e5':scaled_df['avg_test_score'].max(),\n",
    "          'f1':scaled_df['house_price'].min(), 'f2':scaled_df['house_price'].quantile(0.25), 'f3':scaled_df['house_price'].quantile(0.5),'f4':scaled_df['house_price'].quantile(0.75), 'f5':scaled_df['house_price'].max(),}"
   ]
  },
  {
   "cell_type": "markdown",
   "metadata": {},
   "source": [
    "##### NYC_Suggest preamble:\n",
    "\n",
    "When deciding where to live in NYC, please consider the following questions on a scale of 1-5:\n",
    "\n",
    "Entry a: Would use of Uber/3rd party transportation services be of importance to you?\\\n",
    "Entry b: Do you prefer cheap or expensive restaurants around you?\\\n",
    "Entry c: Do you prefer neighborhoods where things are more spread out or close together?\\\n",
    "Entry d: Is access to healthcare important to you?\\\n",
    "Entry e: What level of elementary education would you prefer? (Living in NYC as a family or alone?)\\\n",
    "Entry f: How expensive of a place would you be able to afford?"
   ]
  },
  {
   "cell_type": "code",
   "execution_count": 15,
   "metadata": {},
   "outputs": [],
   "source": [
    "#NYC_Suggest('a3', 'b3', 'c3', 'd3', 'e3', 'f3')"
   ]
  },
  {
   "cell_type": "code",
   "execution_count": 13,
   "metadata": {},
   "outputs": [],
   "source": [
    "def NYC_Suggest(a, b, c, d, e, f):\n",
    "    '''\n",
    "    Returns cluster grouping and suggested neighborhoods based on inputs.\n",
    "    \n",
    "        Parameters:\n",
    "            a, b, c, d, e, f (str): strings that are letters ranging from a-f and numbers ranging from 1-5\n",
    "            example: 'a3', 'b3', 'c3', 'd3', 'e3', 'f3'\n",
    "        Returns:\n",
    "            Printed returns of the belonging cluster grouping and the top 10 neighborhoods that the K-means algorithm suggests.\n",
    "    '''\n",
    "    \n",
    "    X = [[convert[a], convert[b], convert[c], convert[d], convert[e], convert[f]]]\n",
    "    \n",
    "    belong = km.predict(X)\n",
    "    if belong == 0:\n",
    "        print('You fit in with cluster 0')\n",
    "    elif belong == 1:\n",
    "        print('You fit in with cluster 1')\n",
    "    elif belong == 2:\n",
    "        print('You fit in with cluster 2')\n",
    "\n",
    "    print('\\n')\n",
    "    print('The Top 10 recommended neighborhoods for you to live in are:')\n",
    "    neigh = NearestNeighbors(n_neighbors=10)\n",
    "    neigh.fit(scaled_features)\n",
    "    ind = neigh.kneighbors(X, return_distance=False)\n",
    "    for i in ind:\n",
    "        h = i.astype(int)\n",
    "    for x in h:\n",
    "        print(data.iloc[x]['name'])"
   ]
  },
  {
   "cell_type": "markdown",
   "metadata": {},
   "source": [
    "#### Submission"
   ]
  },
  {
   "cell_type": "raw",
   "metadata": {},
   "source": [
    "submission = data[['name', 'cluster']]"
   ]
  },
  {
   "cell_type": "raw",
   "metadata": {},
   "source": [
    "submission.to_csv('submission.csv', index=False)"
   ]
  }
 ],
 "metadata": {
  "kernelspec": {
   "display_name": "Python 3",
   "language": "python",
   "name": "python3"
  },
  "language_info": {
   "codemirror_mode": {
    "name": "ipython",
    "version": 3
   },
   "file_extension": ".py",
   "mimetype": "text/x-python",
   "name": "python",
   "nbconvert_exporter": "python",
   "pygments_lexer": "ipython3",
   "version": "3.8.5"
  }
 },
 "nbformat": 4,
 "nbformat_minor": 4
}
