{
 "cells": [
  {
   "cell_type": "markdown",
   "metadata": {},
   "source": [
    "## Converting nyc_geo.json into dataframe"
   ]
  },
  {
   "cell_type": "code",
   "execution_count": 5,
   "metadata": {},
   "outputs": [],
   "source": [
    "# required libraries\n",
    "import json\n",
    "import pandas as pd"
   ]
  },
  {
   "cell_type": "code",
   "execution_count": 8,
   "metadata": {},
   "outputs": [],
   "source": [
    "# open and load json\n",
    "nycd = open('nyc_geo.json')\n",
    "nyc_geo = json.load(nycd)"
   ]
  },
  {
   "cell_type": "code",
   "execution_count": 11,
   "metadata": {},
   "outputs": [
    {
     "data": {
      "text/plain": [
       "dict_keys(['type', 'totalFeatures', 'features', 'crs', 'bbox'])"
      ]
     },
     "execution_count": 11,
     "metadata": {},
     "output_type": "execute_result"
    }
   ],
   "source": [
    "# check json keys\n",
    "nyc_geo.keys()"
   ]
  },
  {
   "cell_type": "markdown",
   "metadata": {},
   "source": [
    "After looking at json file, it appears all we really need from here is name, longitude, and latitude of each neighborhood"
   ]
  },
  {
   "cell_type": "code",
   "execution_count": null,
   "metadata": {},
   "outputs": [],
   "source": [
    "# longitude is 0, latitude is 1"
   ]
  },
  {
   "cell_type": "code",
   "execution_count": 44,
   "metadata": {},
   "outputs": [],
   "source": [
    "# create longitude list to append to dictionary\n",
    "long_list = []\n",
    "for i in nyc_geo['features']:\n",
    "    long_list.append(i['geometry']['coordinates'][0])"
   ]
  },
  {
   "cell_type": "code",
   "execution_count": 45,
   "metadata": {},
   "outputs": [],
   "source": [
    "# create latitude list to append to dictionary\n",
    "lat_list = []\n",
    "for i in nyc_geo['features']:\n",
    "    lat_list.append(i['geometry']['coordinates'][1])"
   ]
  },
  {
   "cell_type": "code",
   "execution_count": 46,
   "metadata": {},
   "outputs": [],
   "source": [
    "# create name list to append to dictionary\n",
    "name_list = []\n",
    "for i in nyc_geo['features']:\n",
    "    name_list.append(i['properties']['name'])"
   ]
  },
  {
   "cell_type": "code",
   "execution_count": 47,
   "metadata": {},
   "outputs": [],
   "source": [
    "# instantiate empty dictionary\n",
    "nyc_dict = {}"
   ]
  },
  {
   "cell_type": "code",
   "execution_count": 49,
   "metadata": {},
   "outputs": [],
   "source": [
    "# append relevant data to dictionary\n",
    "nyc_dict['name'] = name_list\n",
    "nyc_dict['longitude'] = long_list\n",
    "nyc_dict['latitude'] = lat_list"
   ]
  },
  {
   "cell_type": "code",
   "execution_count": 55,
   "metadata": {},
   "outputs": [],
   "source": [
    "# convert dictionary into dataframe\n",
    "df_nyc = pd.DataFrame.from_dict(nyc_dict)"
   ]
  },
  {
   "cell_type": "code",
   "execution_count": 61,
   "metadata": {},
   "outputs": [
    {
     "data": {
      "text/html": [
       "<div>\n",
       "<style scoped>\n",
       "    .dataframe tbody tr th:only-of-type {\n",
       "        vertical-align: middle;\n",
       "    }\n",
       "\n",
       "    .dataframe tbody tr th {\n",
       "        vertical-align: top;\n",
       "    }\n",
       "\n",
       "    .dataframe thead th {\n",
       "        text-align: right;\n",
       "    }\n",
       "</style>\n",
       "<table border=\"1\" class=\"dataframe\">\n",
       "  <thead>\n",
       "    <tr style=\"text-align: right;\">\n",
       "      <th></th>\n",
       "      <th>name</th>\n",
       "      <th>longitude</th>\n",
       "      <th>latitude</th>\n",
       "    </tr>\n",
       "  </thead>\n",
       "  <tbody>\n",
       "    <tr>\n",
       "      <th>0</th>\n",
       "      <td>Wakefield</td>\n",
       "      <td>-73.847201</td>\n",
       "      <td>40.894705</td>\n",
       "    </tr>\n",
       "    <tr>\n",
       "      <th>1</th>\n",
       "      <td>Co-op City</td>\n",
       "      <td>-73.829939</td>\n",
       "      <td>40.874294</td>\n",
       "    </tr>\n",
       "    <tr>\n",
       "      <th>2</th>\n",
       "      <td>Eastchester</td>\n",
       "      <td>-73.827806</td>\n",
       "      <td>40.887556</td>\n",
       "    </tr>\n",
       "    <tr>\n",
       "      <th>3</th>\n",
       "      <td>Fieldston</td>\n",
       "      <td>-73.905643</td>\n",
       "      <td>40.895437</td>\n",
       "    </tr>\n",
       "    <tr>\n",
       "      <th>4</th>\n",
       "      <td>Riverdale</td>\n",
       "      <td>-73.912585</td>\n",
       "      <td>40.890834</td>\n",
       "    </tr>\n",
       "    <tr>\n",
       "      <th>...</th>\n",
       "      <td>...</td>\n",
       "      <td>...</td>\n",
       "      <td>...</td>\n",
       "    </tr>\n",
       "    <tr>\n",
       "      <th>301</th>\n",
       "      <td>Hudson Yards</td>\n",
       "      <td>-74.000111</td>\n",
       "      <td>40.756658</td>\n",
       "    </tr>\n",
       "    <tr>\n",
       "      <th>302</th>\n",
       "      <td>Hammels</td>\n",
       "      <td>-73.805530</td>\n",
       "      <td>40.587338</td>\n",
       "    </tr>\n",
       "    <tr>\n",
       "      <th>303</th>\n",
       "      <td>Bayswater</td>\n",
       "      <td>-73.765968</td>\n",
       "      <td>40.611322</td>\n",
       "    </tr>\n",
       "    <tr>\n",
       "      <th>304</th>\n",
       "      <td>Queensbridge</td>\n",
       "      <td>-73.945631</td>\n",
       "      <td>40.756091</td>\n",
       "    </tr>\n",
       "    <tr>\n",
       "      <th>305</th>\n",
       "      <td>Fox Hills</td>\n",
       "      <td>-74.081740</td>\n",
       "      <td>40.617311</td>\n",
       "    </tr>\n",
       "  </tbody>\n",
       "</table>\n",
       "<p>306 rows × 3 columns</p>\n",
       "</div>"
      ],
      "text/plain": [
       "             name  longitude   latitude\n",
       "0       Wakefield -73.847201  40.894705\n",
       "1      Co-op City -73.829939  40.874294\n",
       "2     Eastchester -73.827806  40.887556\n",
       "3       Fieldston -73.905643  40.895437\n",
       "4       Riverdale -73.912585  40.890834\n",
       "..            ...        ...        ...\n",
       "301  Hudson Yards -74.000111  40.756658\n",
       "302       Hammels -73.805530  40.587338\n",
       "303     Bayswater -73.765968  40.611322\n",
       "304  Queensbridge -73.945631  40.756091\n",
       "305     Fox Hills -74.081740  40.617311\n",
       "\n",
       "[306 rows x 3 columns]"
      ]
     },
     "execution_count": 61,
     "metadata": {},
     "output_type": "execute_result"
    }
   ],
   "source": [
    "df_nyc"
   ]
  },
  {
   "cell_type": "markdown",
   "metadata": {},
   "source": [
    "Each neighborhood will be used as a sample in our unsupervised clustering. (Total of 306 samples)"
   ]
  },
  {
   "cell_type": "code",
   "execution_count": 58,
   "metadata": {},
   "outputs": [],
   "source": [
    "# save dataframe as csv on local machine\n",
    "df_nyc.to_csv('nyc_geo_dataframe.csv', index=False)"
   ]
  },
  {
   "cell_type": "code",
   "execution_count": 63,
   "metadata": {},
   "outputs": [
    {
     "data": {
      "text/plain": [
       "name         Gravesend\n",
       "longitude     -73.9735\n",
       "latitude       40.5953\n",
       "Name: 50, dtype: object"
      ]
     },
     "execution_count": 63,
     "metadata": {},
     "output_type": "execute_result"
    }
   ],
   "source": [
    "df_nyc.loc[50]"
   ]
  },
  {
   "cell_type": "code",
   "execution_count": null,
   "metadata": {},
   "outputs": [],
   "source": []
  }
 ],
 "metadata": {
  "kernelspec": {
   "display_name": "Python 3",
   "language": "python",
   "name": "python3"
  },
  "language_info": {
   "codemirror_mode": {
    "name": "ipython",
    "version": 3
   },
   "file_extension": ".py",
   "mimetype": "text/x-python",
   "name": "python",
   "nbconvert_exporter": "python",
   "pygments_lexer": "ipython3",
   "version": "3.8.5"
  }
 },
 "nbformat": 4,
 "nbformat_minor": 4
}
