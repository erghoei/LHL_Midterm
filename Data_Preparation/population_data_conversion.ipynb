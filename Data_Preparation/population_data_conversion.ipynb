{
 "cells": [
  {
   "cell_type": "code",
   "execution_count": 1,
   "metadata": {},
   "outputs": [],
   "source": [
    "# import libraries\n",
    "import pandas as pd"
   ]
  },
  {
   "cell_type": "code",
   "execution_count": 63,
   "metadata": {},
   "outputs": [],
   "source": [
    "# read csv as dataframe\n",
    "nyc_pop = pd.read_csv('pop_dataframe_old_names.csv')"
   ]
  },
  {
   "cell_type": "code",
   "execution_count": 64,
   "metadata": {},
   "outputs": [
    {
     "data": {
      "text/html": [
       "<div>\n",
       "<style scoped>\n",
       "    .dataframe tbody tr th:only-of-type {\n",
       "        vertical-align: middle;\n",
       "    }\n",
       "\n",
       "    .dataframe tbody tr th {\n",
       "        vertical-align: top;\n",
       "    }\n",
       "\n",
       "    .dataframe thead th {\n",
       "        text-align: right;\n",
       "    }\n",
       "</style>\n",
       "<table border=\"1\" class=\"dataframe\">\n",
       "  <thead>\n",
       "    <tr style=\"text-align: right;\">\n",
       "      <th></th>\n",
       "      <th>Unnamed: 0</th>\n",
       "      <th>neighbourhood</th>\n",
       "      <th>pop</th>\n",
       "    </tr>\n",
       "  </thead>\n",
       "  <tbody>\n",
       "    <tr>\n",
       "      <th>0</th>\n",
       "      <td>0</td>\n",
       "      <td>Claremont-Bathgate</td>\n",
       "      <td>28149</td>\n",
       "    </tr>\n",
       "    <tr>\n",
       "      <th>1</th>\n",
       "      <td>1</td>\n",
       "      <td>Eastchester-Edenwald-Baychester</td>\n",
       "      <td>35422</td>\n",
       "    </tr>\n",
       "    <tr>\n",
       "      <th>2</th>\n",
       "      <td>2</td>\n",
       "      <td>Bedford Park-Fordham North</td>\n",
       "      <td>55329</td>\n",
       "    </tr>\n",
       "    <tr>\n",
       "      <th>3</th>\n",
       "      <td>3</td>\n",
       "      <td>Belmont</td>\n",
       "      <td>25967</td>\n",
       "    </tr>\n",
       "    <tr>\n",
       "      <th>4</th>\n",
       "      <td>4</td>\n",
       "      <td>Bronxdale</td>\n",
       "      <td>34309</td>\n",
       "    </tr>\n",
       "    <tr>\n",
       "      <th>...</th>\n",
       "      <td>...</td>\n",
       "      <td>...</td>\n",
       "      <td>...</td>\n",
       "    </tr>\n",
       "    <tr>\n",
       "      <th>385</th>\n",
       "      <td>385</td>\n",
       "      <td>Stapleton-Rosebank</td>\n",
       "      <td>26453</td>\n",
       "    </tr>\n",
       "    <tr>\n",
       "      <th>386</th>\n",
       "      <td>386</td>\n",
       "      <td>New Dorp-Midland Beach</td>\n",
       "      <td>21896</td>\n",
       "    </tr>\n",
       "    <tr>\n",
       "      <th>387</th>\n",
       "      <td>387</td>\n",
       "      <td>Arden Heights</td>\n",
       "      <td>25238</td>\n",
       "    </tr>\n",
       "    <tr>\n",
       "      <th>388</th>\n",
       "      <td>388</td>\n",
       "      <td>Great Kills</td>\n",
       "      <td>40720</td>\n",
       "    </tr>\n",
       "    <tr>\n",
       "      <th>389</th>\n",
       "      <td>389</td>\n",
       "      <td>park-cemetery-etc-Staten Island</td>\n",
       "      <td>0</td>\n",
       "    </tr>\n",
       "  </tbody>\n",
       "</table>\n",
       "<p>390 rows × 3 columns</p>\n",
       "</div>"
      ],
      "text/plain": [
       "     Unnamed: 0                    neighbourhood    pop\n",
       "0             0               Claremont-Bathgate  28149\n",
       "1             1  Eastchester-Edenwald-Baychester  35422\n",
       "2             2       Bedford Park-Fordham North  55329\n",
       "3             3                          Belmont  25967\n",
       "4             4                        Bronxdale  34309\n",
       "..          ...                              ...    ...\n",
       "385         385               Stapleton-Rosebank  26453\n",
       "386         386           New Dorp-Midland Beach  21896\n",
       "387         387                    Arden Heights  25238\n",
       "388         388                      Great Kills  40720\n",
       "389         389  park-cemetery-etc-Staten Island      0\n",
       "\n",
       "[390 rows x 3 columns]"
      ]
     },
     "execution_count": 64,
     "metadata": {},
     "output_type": "execute_result"
    }
   ],
   "source": [
    "nyc_pop"
   ]
  },
  {
   "cell_type": "code",
   "execution_count": 65,
   "metadata": {},
   "outputs": [],
   "source": [
    "# format dataframe for compatibility to nyc_uber_price data\n",
    "nyc_pop.drop(columns='Unnamed: 0', inplace=True)"
   ]
  },
  {
   "cell_type": "code",
   "execution_count": 66,
   "metadata": {},
   "outputs": [],
   "source": [
    "nyc_pop.rename(columns={'neighbourhood':'name'}, inplace=True)"
   ]
  },
  {
   "cell_type": "code",
   "execution_count": 67,
   "metadata": {},
   "outputs": [
    {
     "data": {
      "text/html": [
       "<div>\n",
       "<style scoped>\n",
       "    .dataframe tbody tr th:only-of-type {\n",
       "        vertical-align: middle;\n",
       "    }\n",
       "\n",
       "    .dataframe tbody tr th {\n",
       "        vertical-align: top;\n",
       "    }\n",
       "\n",
       "    .dataframe thead th {\n",
       "        text-align: right;\n",
       "    }\n",
       "</style>\n",
       "<table border=\"1\" class=\"dataframe\">\n",
       "  <thead>\n",
       "    <tr style=\"text-align: right;\">\n",
       "      <th></th>\n",
       "      <th>name</th>\n",
       "      <th>pop</th>\n",
       "    </tr>\n",
       "  </thead>\n",
       "  <tbody>\n",
       "    <tr>\n",
       "      <th>0</th>\n",
       "      <td>Claremont-Bathgate</td>\n",
       "      <td>28149</td>\n",
       "    </tr>\n",
       "    <tr>\n",
       "      <th>1</th>\n",
       "      <td>Eastchester-Edenwald-Baychester</td>\n",
       "      <td>35422</td>\n",
       "    </tr>\n",
       "    <tr>\n",
       "      <th>2</th>\n",
       "      <td>Bedford Park-Fordham North</td>\n",
       "      <td>55329</td>\n",
       "    </tr>\n",
       "    <tr>\n",
       "      <th>3</th>\n",
       "      <td>Belmont</td>\n",
       "      <td>25967</td>\n",
       "    </tr>\n",
       "    <tr>\n",
       "      <th>4</th>\n",
       "      <td>Bronxdale</td>\n",
       "      <td>34309</td>\n",
       "    </tr>\n",
       "    <tr>\n",
       "      <th>...</th>\n",
       "      <td>...</td>\n",
       "      <td>...</td>\n",
       "    </tr>\n",
       "    <tr>\n",
       "      <th>385</th>\n",
       "      <td>Stapleton-Rosebank</td>\n",
       "      <td>26453</td>\n",
       "    </tr>\n",
       "    <tr>\n",
       "      <th>386</th>\n",
       "      <td>New Dorp-Midland Beach</td>\n",
       "      <td>21896</td>\n",
       "    </tr>\n",
       "    <tr>\n",
       "      <th>387</th>\n",
       "      <td>Arden Heights</td>\n",
       "      <td>25238</td>\n",
       "    </tr>\n",
       "    <tr>\n",
       "      <th>388</th>\n",
       "      <td>Great Kills</td>\n",
       "      <td>40720</td>\n",
       "    </tr>\n",
       "    <tr>\n",
       "      <th>389</th>\n",
       "      <td>park-cemetery-etc-Staten Island</td>\n",
       "      <td>0</td>\n",
       "    </tr>\n",
       "  </tbody>\n",
       "</table>\n",
       "<p>390 rows × 2 columns</p>\n",
       "</div>"
      ],
      "text/plain": [
       "                                name    pop\n",
       "0                 Claremont-Bathgate  28149\n",
       "1    Eastchester-Edenwald-Baychester  35422\n",
       "2         Bedford Park-Fordham North  55329\n",
       "3                            Belmont  25967\n",
       "4                          Bronxdale  34309\n",
       "..                               ...    ...\n",
       "385               Stapleton-Rosebank  26453\n",
       "386           New Dorp-Midland Beach  21896\n",
       "387                    Arden Heights  25238\n",
       "388                      Great Kills  40720\n",
       "389  park-cemetery-etc-Staten Island      0\n",
       "\n",
       "[390 rows x 2 columns]"
      ]
     },
     "execution_count": 67,
     "metadata": {},
     "output_type": "execute_result"
    }
   ],
   "source": [
    "nyc_pop"
   ]
  },
  {
   "cell_type": "code",
   "execution_count": 68,
   "metadata": {},
   "outputs": [],
   "source": [
    "# use explode method to separate neighborhoods into individual rows\n",
    "nyc_pop['name'] = nyc_pop['name'].str.split('-')"
   ]
  },
  {
   "cell_type": "code",
   "execution_count": 69,
   "metadata": {},
   "outputs": [],
   "source": [
    "nyc_pop1 = nyc_pop.explode('name')"
   ]
  },
  {
   "cell_type": "code",
   "execution_count": 70,
   "metadata": {},
   "outputs": [],
   "source": [
    "pop_count = nyc_pop1.groupby(by='pop').count()"
   ]
  },
  {
   "cell_type": "code",
   "execution_count": 71,
   "metadata": {},
   "outputs": [],
   "source": [
    "# create new formatted dataframe that will contain adjusted population based on number of splits made by explode method\n",
    "# this is now assuming even distribution between splits\n",
    "nyc_pop2 = nyc_pop1.merge(pop_count, how='outer', on='pop')"
   ]
  },
  {
   "cell_type": "code",
   "execution_count": 72,
   "metadata": {},
   "outputs": [],
   "source": [
    "nyc_pop2.rename(columns={'name_x':'name', 'name_y':'pop_count'}, inplace=True)"
   ]
  },
  {
   "cell_type": "code",
   "execution_count": 73,
   "metadata": {},
   "outputs": [],
   "source": [
    "nyc_pop2['adj_pop'] = nyc_pop2['pop'] / 2"
   ]
  },
  {
   "cell_type": "code",
   "execution_count": 74,
   "metadata": {},
   "outputs": [],
   "source": [
    "nyc_pop2['adj_pop'] = nyc_pop2['adj_pop'].round()"
   ]
  },
  {
   "cell_type": "code",
   "execution_count": 75,
   "metadata": {},
   "outputs": [
    {
     "data": {
      "text/html": [
       "<div>\n",
       "<style scoped>\n",
       "    .dataframe tbody tr th:only-of-type {\n",
       "        vertical-align: middle;\n",
       "    }\n",
       "\n",
       "    .dataframe tbody tr th {\n",
       "        vertical-align: top;\n",
       "    }\n",
       "\n",
       "    .dataframe thead th {\n",
       "        text-align: right;\n",
       "    }\n",
       "</style>\n",
       "<table border=\"1\" class=\"dataframe\">\n",
       "  <thead>\n",
       "    <tr style=\"text-align: right;\">\n",
       "      <th></th>\n",
       "      <th>name</th>\n",
       "      <th>pop</th>\n",
       "      <th>pop_count</th>\n",
       "      <th>adj_pop</th>\n",
       "    </tr>\n",
       "  </thead>\n",
       "  <tbody>\n",
       "    <tr>\n",
       "      <th>0</th>\n",
       "      <td>Claremont</td>\n",
       "      <td>28149</td>\n",
       "      <td>2</td>\n",
       "      <td>14074.0</td>\n",
       "    </tr>\n",
       "    <tr>\n",
       "      <th>1</th>\n",
       "      <td>Bathgate</td>\n",
       "      <td>28149</td>\n",
       "      <td>2</td>\n",
       "      <td>14074.0</td>\n",
       "    </tr>\n",
       "    <tr>\n",
       "      <th>2</th>\n",
       "      <td>Eastchester</td>\n",
       "      <td>35422</td>\n",
       "      <td>3</td>\n",
       "      <td>17711.0</td>\n",
       "    </tr>\n",
       "    <tr>\n",
       "      <th>3</th>\n",
       "      <td>Edenwald</td>\n",
       "      <td>35422</td>\n",
       "      <td>3</td>\n",
       "      <td>17711.0</td>\n",
       "    </tr>\n",
       "    <tr>\n",
       "      <th>4</th>\n",
       "      <td>Baychester</td>\n",
       "      <td>35422</td>\n",
       "      <td>3</td>\n",
       "      <td>17711.0</td>\n",
       "    </tr>\n",
       "    <tr>\n",
       "      <th>...</th>\n",
       "      <td>...</td>\n",
       "      <td>...</td>\n",
       "      <td>...</td>\n",
       "      <td>...</td>\n",
       "    </tr>\n",
       "    <tr>\n",
       "      <th>641</th>\n",
       "      <td>Rosebank</td>\n",
       "      <td>26453</td>\n",
       "      <td>2</td>\n",
       "      <td>13226.0</td>\n",
       "    </tr>\n",
       "    <tr>\n",
       "      <th>642</th>\n",
       "      <td>New Dorp</td>\n",
       "      <td>21896</td>\n",
       "      <td>2</td>\n",
       "      <td>10948.0</td>\n",
       "    </tr>\n",
       "    <tr>\n",
       "      <th>643</th>\n",
       "      <td>Midland Beach</td>\n",
       "      <td>21896</td>\n",
       "      <td>2</td>\n",
       "      <td>10948.0</td>\n",
       "    </tr>\n",
       "    <tr>\n",
       "      <th>644</th>\n",
       "      <td>Arden Heights</td>\n",
       "      <td>25238</td>\n",
       "      <td>1</td>\n",
       "      <td>12619.0</td>\n",
       "    </tr>\n",
       "    <tr>\n",
       "      <th>645</th>\n",
       "      <td>Great Kills</td>\n",
       "      <td>40720</td>\n",
       "      <td>1</td>\n",
       "      <td>20360.0</td>\n",
       "    </tr>\n",
       "  </tbody>\n",
       "</table>\n",
       "<p>646 rows × 4 columns</p>\n",
       "</div>"
      ],
      "text/plain": [
       "              name    pop  pop_count  adj_pop\n",
       "0        Claremont  28149          2  14074.0\n",
       "1         Bathgate  28149          2  14074.0\n",
       "2      Eastchester  35422          3  17711.0\n",
       "3         Edenwald  35422          3  17711.0\n",
       "4       Baychester  35422          3  17711.0\n",
       "..             ...    ...        ...      ...\n",
       "641       Rosebank  26453          2  13226.0\n",
       "642       New Dorp  21896          2  10948.0\n",
       "643  Midland Beach  21896          2  10948.0\n",
       "644  Arden Heights  25238          1  12619.0\n",
       "645    Great Kills  40720          1  20360.0\n",
       "\n",
       "[646 rows x 4 columns]"
      ]
     },
     "execution_count": 75,
     "metadata": {},
     "output_type": "execute_result"
    }
   ],
   "source": [
    "nyc_pop2"
   ]
  },
  {
   "cell_type": "code",
   "execution_count": 76,
   "metadata": {},
   "outputs": [],
   "source": [
    "nyc_pop3 = nyc_pop2[['name', 'adj_pop']]"
   ]
  },
  {
   "cell_type": "code",
   "execution_count": 77,
   "metadata": {},
   "outputs": [
    {
     "name": "stderr",
     "output_type": "stream",
     "text": [
      "<ipython-input-77-2ac08d4090c6>:1: SettingWithCopyWarning: \n",
      "A value is trying to be set on a copy of a slice from a DataFrame\n",
      "\n",
      "See the caveats in the documentation: https://pandas.pydata.org/pandas-docs/stable/user_guide/indexing.html#returning-a-view-versus-a-copy\n",
      "  nyc_pop3.sort_values(by='name', inplace=True)\n"
     ]
    }
   ],
   "source": [
    "nyc_pop3.sort_values(by='name', inplace=True)"
   ]
  },
  {
   "cell_type": "code",
   "execution_count": 78,
   "metadata": {},
   "outputs": [],
   "source": [
    "# function to fully print entire dataframe for visual\n",
    "def print_full(x):\n",
    "    pd.set_option('display.max_rows', len(x))\n",
    "    print(x)\n",
    "    pd.reset_option('display.max_rows')"
   ]
  },
  {
   "cell_type": "code",
   "execution_count": null,
   "metadata": {},
   "outputs": [],
   "source": [
    "print_full(nyc_upp)"
   ]
  },
  {
   "cell_type": "code",
   "execution_count": 322,
   "metadata": {},
   "outputs": [],
   "source": [
    "# manually update all discrepancies by manually cross-referencing between uber data names and nyc_geo data names\n",
    "nyc_upp.at[265, 'adj_pop'] = 7031"
   ]
  },
  {
   "cell_type": "code",
   "execution_count": 252,
   "metadata": {},
   "outputs": [],
   "source": [
    "# remove columns that do not exist in original nyc_geo data\n",
    "indexname = nyc_pop3[nyc_pop3['name'] == 'Westchester'].index\n",
    "nyc_pop3.drop(indexname, inplace=True)"
   ]
  },
  {
   "cell_type": "code",
   "execution_count": 254,
   "metadata": {},
   "outputs": [],
   "source": [
    "# aggregate and sum by name\n",
    "nyc_pop3 = nyc_pop3.groupby(by='name').sum()"
   ]
  },
  {
   "cell_type": "code",
   "execution_count": 97,
   "metadata": {},
   "outputs": [],
   "source": [
    "nyc_pop3.reset_index(inplace=True)"
   ]
  },
  {
   "cell_type": "code",
   "execution_count": 257,
   "metadata": {},
   "outputs": [],
   "source": [
    "nyc_up = pd.read_csv('nyc_uber_price.csv')"
   ]
  },
  {
   "cell_type": "code",
   "execution_count": 259,
   "metadata": {},
   "outputs": [],
   "source": [
    "# merge nyc_uber_price data with population data\n",
    "nyc_upp = nyc_up.merge(nyc_pop3, how='outer', on='name')"
   ]
  },
  {
   "cell_type": "code",
   "execution_count": 323,
   "metadata": {},
   "outputs": [
    {
     "data": {
      "text/plain": [
       "name          0\n",
       "longitude     0\n",
       "latitude      0\n",
       "uber_count    0\n",
       "avg_price     0\n",
       "adj_pop       0\n",
       "dtype: int64"
      ]
     },
     "execution_count": 323,
     "metadata": {},
     "output_type": "execute_result"
    }
   ],
   "source": [
    "# check for null values\n",
    "nyc_upp.isnull().sum()"
   ]
  },
  {
   "cell_type": "code",
   "execution_count": 326,
   "metadata": {},
   "outputs": [],
   "source": [
    "# save nyc_uber_price_pop data to csv\n",
    "nyc_upp.to_csv('nyc_upp_data.csv', index=False)"
   ]
  },
  {
   "cell_type": "code",
   "execution_count": null,
   "metadata": {},
   "outputs": [],
   "source": []
  }
 ],
 "metadata": {
  "kernelspec": {
   "display_name": "Python 3",
   "language": "python",
   "name": "python3"
  },
  "language_info": {
   "codemirror_mode": {
    "name": "ipython",
    "version": 3
   },
   "file_extension": ".py",
   "mimetype": "text/x-python",
   "name": "python",
   "nbconvert_exporter": "python",
   "pygments_lexer": "ipython3",
   "version": "3.8.5"
  }
 },
 "nbformat": 4,
 "nbformat_minor": 4
}
