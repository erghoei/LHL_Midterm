{
 "cells": [
  {
   "cell_type": "code",
   "execution_count": null,
   "metadata": {},
   "outputs": [],
   "source": []
  },
  {
   "cell_type": "code",
   "execution_count": 1,
   "metadata": {},
   "outputs": [],
   "source": [
    "# import Kmeans from sklearn\n",
    "from sklearn.cluster import KMeans\n",
    "\n",
    "# import numpy\n",
    "import numpy as np\n",
    "\n",
    "import pandas as pd\n",
    "\n",
    "# import matplotlib\n",
    "import matplotlib.pyplot as plt\n",
    "\n",
    "#import MinMaxScaler for Normalization\n",
    "from sklearn.preprocessing import MinMaxScaler\n",
    "\n",
    "# PCA scatterplot\n",
    "import plotly.express as px\n",
    "from sklearn.decomposition import PCA\n",
    "\n",
    "#for box and whisker plots\n",
    "import seaborn as sns"
   ]
  },
  {
   "cell_type": "markdown",
   "metadata": {},
   "source": [
    "# import data"
   ]
  },
  {
   "cell_type": "code",
   "execution_count": 2,
   "metadata": {},
   "outputs": [],
   "source": [
    "# load geo data\n",
    "nyc_geo_dataframe = pd.read_csv(\"nyc_data2.csv\")"
   ]
  },
  {
   "cell_type": "code",
   "execution_count": 3,
   "metadata": {},
   "outputs": [],
   "source": [
    "nyc_geo_dataframe.rename(columns= {'Median Sale Price - na has median':'house_price'}, inplace = True)"
   ]
  },
  {
   "cell_type": "code",
   "execution_count": 4,
   "metadata": {},
   "outputs": [
    {
     "data": {
      "text/html": [
       "<div>\n",
       "<style scoped>\n",
       "    .dataframe tbody tr th:only-of-type {\n",
       "        vertical-align: middle;\n",
       "    }\n",
       "\n",
       "    .dataframe tbody tr th {\n",
       "        vertical-align: top;\n",
       "    }\n",
       "\n",
       "    .dataframe thead th {\n",
       "        text-align: right;\n",
       "    }\n",
       "</style>\n",
       "<table border=\"1\" class=\"dataframe\">\n",
       "  <thead>\n",
       "    <tr style=\"text-align: right;\">\n",
       "      <th></th>\n",
       "      <th>name</th>\n",
       "      <th>longitude</th>\n",
       "      <th>latitude</th>\n",
       "      <th>uber_count</th>\n",
       "      <th>avg_price</th>\n",
       "      <th>adj_pop</th>\n",
       "      <th>median_daily_test_rate</th>\n",
       "      <th>avg_test_score</th>\n",
       "      <th>house_price</th>\n",
       "    </tr>\n",
       "  </thead>\n",
       "  <tbody>\n",
       "    <tr>\n",
       "      <th>0</th>\n",
       "      <td>Allerton</td>\n",
       "      <td>-73.859319</td>\n",
       "      <td>40.865788</td>\n",
       "      <td>860</td>\n",
       "      <td>1.50</td>\n",
       "      <td>28707</td>\n",
       "      <td>511.5</td>\n",
       "      <td>27.259983</td>\n",
       "      <td>312000</td>\n",
       "    </tr>\n",
       "    <tr>\n",
       "      <th>1</th>\n",
       "      <td>Annadale</td>\n",
       "      <td>-74.178549</td>\n",
       "      <td>40.538114</td>\n",
       "      <td>11</td>\n",
       "      <td>1.75</td>\n",
       "      <td>27073</td>\n",
       "      <td>263.7</td>\n",
       "      <td>45.011856</td>\n",
       "      <td>649500</td>\n",
       "    </tr>\n",
       "    <tr>\n",
       "      <th>2</th>\n",
       "      <td>Arden Heights</td>\n",
       "      <td>-74.185887</td>\n",
       "      <td>40.549286</td>\n",
       "      <td>10</td>\n",
       "      <td>1.70</td>\n",
       "      <td>25117</td>\n",
       "      <td>482.5</td>\n",
       "      <td>44.121985</td>\n",
       "      <td>578500</td>\n",
       "    </tr>\n",
       "    <tr>\n",
       "      <th>3</th>\n",
       "      <td>Arlington</td>\n",
       "      <td>-74.165104</td>\n",
       "      <td>40.635325</td>\n",
       "      <td>0</td>\n",
       "      <td>1.55</td>\n",
       "      <td>29715</td>\n",
       "      <td>482.5</td>\n",
       "      <td>38.728529</td>\n",
       "      <td>590000</td>\n",
       "    </tr>\n",
       "    <tr>\n",
       "      <th>4</th>\n",
       "      <td>Arrochar</td>\n",
       "      <td>-74.067124</td>\n",
       "      <td>40.596313</td>\n",
       "      <td>145</td>\n",
       "      <td>1.75</td>\n",
       "      <td>15659</td>\n",
       "      <td>317.3</td>\n",
       "      <td>48.440916</td>\n",
       "      <td>560000</td>\n",
       "    </tr>\n",
       "  </tbody>\n",
       "</table>\n",
       "</div>"
      ],
      "text/plain": [
       "            name  longitude   latitude  uber_count  avg_price  adj_pop  \\\n",
       "0       Allerton -73.859319  40.865788         860       1.50    28707   \n",
       "1       Annadale -74.178549  40.538114          11       1.75    27073   \n",
       "2  Arden Heights -74.185887  40.549286          10       1.70    25117   \n",
       "3      Arlington -74.165104  40.635325           0       1.55    29715   \n",
       "4       Arrochar -74.067124  40.596313         145       1.75    15659   \n",
       "\n",
       "   median_daily_test_rate  avg_test_score  house_price  \n",
       "0                   511.5       27.259983       312000  \n",
       "1                   263.7       45.011856       649500  \n",
       "2                   482.5       44.121985       578500  \n",
       "3                   482.5       38.728529       590000  \n",
       "4                   317.3       48.440916       560000  "
      ]
     },
     "execution_count": 4,
     "metadata": {},
     "output_type": "execute_result"
    }
   ],
   "source": [
    "nyc_geo_dataframe.head()"
   ]
  },
  {
   "cell_type": "code",
   "execution_count": 35,
   "metadata": {},
   "outputs": [
    {
     "data": {
      "text/html": [
       "<div>\n",
       "<style scoped>\n",
       "    .dataframe tbody tr th:only-of-type {\n",
       "        vertical-align: middle;\n",
       "    }\n",
       "\n",
       "    .dataframe tbody tr th {\n",
       "        vertical-align: top;\n",
       "    }\n",
       "\n",
       "    .dataframe thead th {\n",
       "        text-align: right;\n",
       "    }\n",
       "</style>\n",
       "<table border=\"1\" class=\"dataframe\">\n",
       "  <thead>\n",
       "    <tr style=\"text-align: right;\">\n",
       "      <th></th>\n",
       "      <th>longitude</th>\n",
       "      <th>latitude</th>\n",
       "      <th>uber_count</th>\n",
       "      <th>avg_price</th>\n",
       "      <th>adj_pop</th>\n",
       "      <th>median_daily_test_rate</th>\n",
       "      <th>avg_test_score</th>\n",
       "      <th>house_price</th>\n",
       "    </tr>\n",
       "  </thead>\n",
       "  <tbody>\n",
       "    <tr>\n",
       "      <th>count</th>\n",
       "      <td>302.000000</td>\n",
       "      <td>302.000000</td>\n",
       "      <td>302.000000</td>\n",
       "      <td>302.000000</td>\n",
       "      <td>302.000000</td>\n",
       "      <td>302.000000</td>\n",
       "      <td>302.000000</td>\n",
       "      <td>3.020000e+02</td>\n",
       "    </tr>\n",
       "    <tr>\n",
       "      <th>mean</th>\n",
       "      <td>-73.945370</td>\n",
       "      <td>40.701794</td>\n",
       "      <td>8627.738411</td>\n",
       "      <td>1.660596</td>\n",
       "      <td>41037.817881</td>\n",
       "      <td>482.539073</td>\n",
       "      <td>39.916554</td>\n",
       "      <td>6.672672e+05</td>\n",
       "    </tr>\n",
       "    <tr>\n",
       "      <th>std</th>\n",
       "      <td>0.120893</td>\n",
       "      <td>0.097543</td>\n",
       "      <td>21929.739104</td>\n",
       "      <td>0.175360</td>\n",
       "      <td>28266.396667</td>\n",
       "      <td>332.476092</td>\n",
       "      <td>10.083204</td>\n",
       "      <td>4.543206e+05</td>\n",
       "    </tr>\n",
       "    <tr>\n",
       "      <th>min</th>\n",
       "      <td>-74.246569</td>\n",
       "      <td>40.505334</td>\n",
       "      <td>0.000000</td>\n",
       "      <td>1.150000</td>\n",
       "      <td>0.000000</td>\n",
       "      <td>128.100000</td>\n",
       "      <td>11.450911</td>\n",
       "      <td>5.000000e+04</td>\n",
       "    </tr>\n",
       "    <tr>\n",
       "      <th>25%</th>\n",
       "      <td>-73.998705</td>\n",
       "      <td>40.619182</td>\n",
       "      <td>0.000000</td>\n",
       "      <td>1.550000</td>\n",
       "      <td>23926.000000</td>\n",
       "      <td>288.750000</td>\n",
       "      <td>33.000982</td>\n",
       "      <td>4.981248e+05</td>\n",
       "    </tr>\n",
       "    <tr>\n",
       "      <th>50%</th>\n",
       "      <td>-73.931460</td>\n",
       "      <td>40.702969</td>\n",
       "      <td>920.000000</td>\n",
       "      <td>1.650000</td>\n",
       "      <td>32887.500000</td>\n",
       "      <td>482.500000</td>\n",
       "      <td>40.922400</td>\n",
       "      <td>5.900000e+05</td>\n",
       "    </tr>\n",
       "    <tr>\n",
       "      <th>75%</th>\n",
       "      <td>-73.857525</td>\n",
       "      <td>40.767796</td>\n",
       "      <td>3673.250000</td>\n",
       "      <td>1.800000</td>\n",
       "      <td>52225.750000</td>\n",
       "      <td>482.500000</td>\n",
       "      <td>45.712733</td>\n",
       "      <td>7.383750e+05</td>\n",
       "    </tr>\n",
       "    <tr>\n",
       "      <th>max</th>\n",
       "      <td>-73.708847</td>\n",
       "      <td>40.908543</td>\n",
       "      <td>201832.000000</td>\n",
       "      <td>2.050000</td>\n",
       "      <td>159351.000000</td>\n",
       "      <td>3527.500000</td>\n",
       "      <td>81.326022</td>\n",
       "      <td>5.504250e+06</td>\n",
       "    </tr>\n",
       "  </tbody>\n",
       "</table>\n",
       "</div>"
      ],
      "text/plain": [
       "        longitude    latitude     uber_count   avg_price        adj_pop  \\\n",
       "count  302.000000  302.000000     302.000000  302.000000     302.000000   \n",
       "mean   -73.945370   40.701794    8627.738411    1.660596   41037.817881   \n",
       "std      0.120893    0.097543   21929.739104    0.175360   28266.396667   \n",
       "min    -74.246569   40.505334       0.000000    1.150000       0.000000   \n",
       "25%    -73.998705   40.619182       0.000000    1.550000   23926.000000   \n",
       "50%    -73.931460   40.702969     920.000000    1.650000   32887.500000   \n",
       "75%    -73.857525   40.767796    3673.250000    1.800000   52225.750000   \n",
       "max    -73.708847   40.908543  201832.000000    2.050000  159351.000000   \n",
       "\n",
       "       median_daily_test_rate  avg_test_score   house_price  \n",
       "count              302.000000      302.000000  3.020000e+02  \n",
       "mean               482.539073       39.916554  6.672672e+05  \n",
       "std                332.476092       10.083204  4.543206e+05  \n",
       "min                128.100000       11.450911  5.000000e+04  \n",
       "25%                288.750000       33.000982  4.981248e+05  \n",
       "50%                482.500000       40.922400  5.900000e+05  \n",
       "75%                482.500000       45.712733  7.383750e+05  \n",
       "max               3527.500000       81.326022  5.504250e+06  "
      ]
     },
     "execution_count": 35,
     "metadata": {},
     "output_type": "execute_result"
    }
   ],
   "source": [
    "nyc_geo_dataframe.describe()"
   ]
  },
  {
   "cell_type": "code",
   "execution_count": 5,
   "metadata": {},
   "outputs": [],
   "source": [
    "#will we just cluster on this or take out a few things, like maybe longitude and latitude?"
   ]
  },
  {
   "cell_type": "code",
   "execution_count": 6,
   "metadata": {},
   "outputs": [],
   "source": [
    "#leaves out longitude and latitude\n",
    "nyc_geo_dataframe_features_only = nyc_geo_dataframe[['uber_count','avg_price','adj_pop','median_daily_test_rate','avg_test_score','house_price']]"
   ]
  },
  {
   "cell_type": "markdown",
   "metadata": {},
   "source": [
    "# Optional: Normalize Data"
   ]
  },
  {
   "cell_type": "code",
   "execution_count": 7,
   "metadata": {},
   "outputs": [],
   "source": [
    "#normalize\n",
    "scaler = MinMaxScaler()\n",
    "normalized_df1 = scaler.fit_transform(nyc_geo_dataframe_features_only)\n",
    "#normalized_df1\n"
   ]
  },
  {
   "cell_type": "code",
   "execution_count": 8,
   "metadata": {},
   "outputs": [
    {
     "data": {
      "text/html": [
       "<div>\n",
       "<style scoped>\n",
       "    .dataframe tbody tr th:only-of-type {\n",
       "        vertical-align: middle;\n",
       "    }\n",
       "\n",
       "    .dataframe tbody tr th {\n",
       "        vertical-align: top;\n",
       "    }\n",
       "\n",
       "    .dataframe thead th {\n",
       "        text-align: right;\n",
       "    }\n",
       "</style>\n",
       "<table border=\"1\" class=\"dataframe\">\n",
       "  <thead>\n",
       "    <tr style=\"text-align: right;\">\n",
       "      <th></th>\n",
       "      <th>uber_count</th>\n",
       "      <th>avg_price</th>\n",
       "      <th>adj_pop</th>\n",
       "      <th>median_daily_test_rate</th>\n",
       "      <th>avg_test_score</th>\n",
       "      <th>house_price</th>\n",
       "    </tr>\n",
       "  </thead>\n",
       "  <tbody>\n",
       "    <tr>\n",
       "      <th>0</th>\n",
       "      <td>0.004261</td>\n",
       "      <td>0.388889</td>\n",
       "      <td>0.180149</td>\n",
       "      <td>0.112785</td>\n",
       "      <td>0.226248</td>\n",
       "      <td>0.048036</td>\n",
       "    </tr>\n",
       "    <tr>\n",
       "      <th>1</th>\n",
       "      <td>0.000055</td>\n",
       "      <td>0.666667</td>\n",
       "      <td>0.169895</td>\n",
       "      <td>0.039889</td>\n",
       "      <td>0.480299</td>\n",
       "      <td>0.109914</td>\n",
       "    </tr>\n",
       "    <tr>\n",
       "      <th>2</th>\n",
       "      <td>0.000050</td>\n",
       "      <td>0.611111</td>\n",
       "      <td>0.157621</td>\n",
       "      <td>0.104254</td>\n",
       "      <td>0.467564</td>\n",
       "      <td>0.096897</td>\n",
       "    </tr>\n",
       "    <tr>\n",
       "      <th>3</th>\n",
       "      <td>0.000000</td>\n",
       "      <td>0.444444</td>\n",
       "      <td>0.186475</td>\n",
       "      <td>0.104254</td>\n",
       "      <td>0.390377</td>\n",
       "      <td>0.099005</td>\n",
       "    </tr>\n",
       "    <tr>\n",
       "      <th>4</th>\n",
       "      <td>0.000718</td>\n",
       "      <td>0.666667</td>\n",
       "      <td>0.098267</td>\n",
       "      <td>0.055657</td>\n",
       "      <td>0.529373</td>\n",
       "      <td>0.093505</td>\n",
       "    </tr>\n",
       "    <tr>\n",
       "      <th>...</th>\n",
       "      <td>...</td>\n",
       "      <td>...</td>\n",
       "      <td>...</td>\n",
       "      <td>...</td>\n",
       "      <td>...</td>\n",
       "      <td>...</td>\n",
       "    </tr>\n",
       "    <tr>\n",
       "      <th>297</th>\n",
       "      <td>0.010197</td>\n",
       "      <td>0.277778</td>\n",
       "      <td>0.347729</td>\n",
       "      <td>0.027681</td>\n",
       "      <td>0.418960</td>\n",
       "      <td>0.097172</td>\n",
       "    </tr>\n",
       "    <tr>\n",
       "      <th>298</th>\n",
       "      <td>0.004013</td>\n",
       "      <td>0.277778</td>\n",
       "      <td>0.270058</td>\n",
       "      <td>0.038830</td>\n",
       "      <td>0.493530</td>\n",
       "      <td>0.026585</td>\n",
       "    </tr>\n",
       "    <tr>\n",
       "      <th>299</th>\n",
       "      <td>0.000025</td>\n",
       "      <td>0.666667</td>\n",
       "      <td>0.124436</td>\n",
       "      <td>0.049832</td>\n",
       "      <td>0.469729</td>\n",
       "      <td>0.136591</td>\n",
       "    </tr>\n",
       "    <tr>\n",
       "      <th>300</th>\n",
       "      <td>0.022628</td>\n",
       "      <td>0.277778</td>\n",
       "      <td>0.279088</td>\n",
       "      <td>0.034065</td>\n",
       "      <td>0.508237</td>\n",
       "      <td>0.058853</td>\n",
       "    </tr>\n",
       "    <tr>\n",
       "      <th>301</th>\n",
       "      <td>0.231970</td>\n",
       "      <td>0.722222</td>\n",
       "      <td>0.485438</td>\n",
       "      <td>0.235394</td>\n",
       "      <td>0.451739</td>\n",
       "      <td>0.141908</td>\n",
       "    </tr>\n",
       "  </tbody>\n",
       "</table>\n",
       "<p>302 rows × 6 columns</p>\n",
       "</div>"
      ],
      "text/plain": [
       "     uber_count  avg_price   adj_pop  median_daily_test_rate  avg_test_score  \\\n",
       "0      0.004261   0.388889  0.180149                0.112785        0.226248   \n",
       "1      0.000055   0.666667  0.169895                0.039889        0.480299   \n",
       "2      0.000050   0.611111  0.157621                0.104254        0.467564   \n",
       "3      0.000000   0.444444  0.186475                0.104254        0.390377   \n",
       "4      0.000718   0.666667  0.098267                0.055657        0.529373   \n",
       "..          ...        ...       ...                     ...             ...   \n",
       "297    0.010197   0.277778  0.347729                0.027681        0.418960   \n",
       "298    0.004013   0.277778  0.270058                0.038830        0.493530   \n",
       "299    0.000025   0.666667  0.124436                0.049832        0.469729   \n",
       "300    0.022628   0.277778  0.279088                0.034065        0.508237   \n",
       "301    0.231970   0.722222  0.485438                0.235394        0.451739   \n",
       "\n",
       "     house_price  \n",
       "0       0.048036  \n",
       "1       0.109914  \n",
       "2       0.096897  \n",
       "3       0.099005  \n",
       "4       0.093505  \n",
       "..           ...  \n",
       "297     0.097172  \n",
       "298     0.026585  \n",
       "299     0.136591  \n",
       "300     0.058853  \n",
       "301     0.141908  \n",
       "\n",
       "[302 rows x 6 columns]"
      ]
     },
     "execution_count": 8,
     "metadata": {},
     "output_type": "execute_result"
    }
   ],
   "source": [
    "#make interpretable df\n",
    "normalized_df2 = pd.DataFrame(data=normalized_df1, columns=['uber_count','avg_price','adj_pop','median_daily_test_rate','avg_test_score','house_price'])\n",
    "normalized_df2"
   ]
  },
  {
   "cell_type": "markdown",
   "metadata": {},
   "source": [
    "# Elbow Plot"
   ]
  },
  {
   "cell_type": "code",
   "execution_count": 9,
   "metadata": {},
   "outputs": [],
   "source": [
    "def plot_distortion(X,max_clusters = 30):\n",
    "    distortions = []\n",
    "    for i in range(1, max_clusters +1):\n",
    "        km = KMeans(n_clusters=i,\n",
    "                    init='k-means++',\n",
    "                    n_init=10,\n",
    "                    random_state=0)\n",
    "        km.fit(X)\n",
    "        distortions.append(km.inertia_)\n",
    "\n",
    "    plt.plot(range(1,max_clusters +1), distortions, marker='o')\n",
    "    plt.xlabel('Number of clusters')\n",
    "    plt.ylabel('Distortion')\n",
    "    plt.show() "
   ]
  },
  {
   "cell_type": "code",
   "execution_count": 10,
   "metadata": {},
   "outputs": [
    {
     "data": {
      "image/png": "[encoded data removed]",
      "text/plain": [
       "<Figure size 432x288 with 1 Axes>"
      ]
     },
     "metadata": {
      "needs_background": "light"
     },
     "output_type": "display_data"
    }
   ],
   "source": [
    "# elbow rule graph\n",
    "plot_distortion(normalized_df2,max_clusters=10)"
   ]
  },
  {
   "cell_type": "code",
   "execution_count": 11,
   "metadata": {},
   "outputs": [],
   "source": [
    "#decide on number of clusters, input below"
   ]
  },
  {
   "cell_type": "markdown",
   "metadata": {},
   "source": [
    "# Create clustering model with K-Means"
   ]
  },
  {
   "cell_type": "code",
   "execution_count": 36,
   "metadata": {},
   "outputs": [],
   "source": [
    "km = KMeans(n_clusters=4, # how many clusters we expected \n",
    "            n_init=10) # how many initial runs"
   ]
  },
  {
   "cell_type": "code",
   "execution_count": 37,
   "metadata": {},
   "outputs": [],
   "source": [
    "# y Axis for K-Means\n",
    "\n",
    "y_km = km.fit_predict(normalized_df2)"
   ]
  },
  {
   "cell_type": "code",
   "execution_count": 38,
   "metadata": {},
   "outputs": [
    {
     "data": {
      "text/plain": [
       "array([0, 3, 3, 0, 3, 3, 1, 0, 3, 0, 3, 3, 3, 0, 3, 0, 0, 3, 3, 0, 3, 0,\n",
       "       3, 2, 3, 3, 0, 3, 2, 3, 0, 3, 0, 0, 0, 3, 0, 0, 0, 2, 3, 0, 2, 3,\n",
       "       3, 0, 3, 2, 3, 1, 0, 3, 0, 1, 0, 0, 3, 1, 3, 2, 3, 3, 3, 2, 0, 0,\n",
       "       0, 0, 2, 0, 3, 3, 3, 0, 3, 3, 0, 0, 2, 2, 0, 1, 3, 0, 0, 0, 3, 3,\n",
       "       0, 2, 3, 3, 3, 0, 3, 1, 2, 3, 3, 0, 2, 2, 3, 3, 3, 3, 0, 3, 3, 3,\n",
       "       0, 3, 0, 3, 3, 0, 3, 3, 0, 3, 3, 3, 1, 0, 0, 3, 3, 0, 0, 0, 0, 0,\n",
       "       0, 3, 0, 1, 3, 3, 0, 0, 2, 0, 0, 0, 0, 0, 3, 3, 0, 0, 0, 1, 3, 1,\n",
       "       3, 0, 3, 3, 0, 2, 0, 3, 3, 3, 3, 3, 2, 0, 3, 0, 2, 0, 0, 3, 1, 3,\n",
       "       0, 3, 2, 3, 0, 0, 0, 2, 0, 0, 1, 3, 3, 3, 3, 0, 3, 3, 0, 0, 0, 0,\n",
       "       3, 3, 0, 0, 3, 0, 0, 3, 3, 1, 0, 3, 3, 0, 3, 0, 0, 0, 0, 3, 3, 3,\n",
       "       3, 0, 3, 3, 0, 3, 3, 3, 0, 3, 3, 3, 0, 3, 2, 3, 3, 2, 3, 0, 0, 3,\n",
       "       3, 3, 3, 0, 3, 3, 3, 1, 3, 2, 3, 0, 2, 3, 0, 3, 0, 3, 3, 0, 3, 3,\n",
       "       2, 3, 2, 3, 3, 3, 0, 3, 0, 1, 3, 1, 0, 0, 1, 1, 0, 0, 3, 0, 2, 0,\n",
       "       0, 0, 1, 0, 0, 3, 0, 1, 0, 3, 3, 0, 0, 3, 0, 1], dtype=int32)"
      ]
     },
     "execution_count": 38,
     "metadata": {},
     "output_type": "execute_result"
    }
   ],
   "source": [
    "y_km"
   ]
  },
  {
   "cell_type": "markdown",
   "metadata": {},
   "source": [
    "# Make cluster series for merging"
   ]
  },
  {
   "cell_type": "code",
   "execution_count": 39,
   "metadata": {},
   "outputs": [],
   "source": [
    "y_km_series_for_merging = pd.Series(data=y_km, name='clusters_K_Means')"
   ]
  },
  {
   "cell_type": "code",
   "execution_count": 40,
   "metadata": {},
   "outputs": [
    {
     "data": {
      "text/plain": [
       "0      0\n",
       "1      3\n",
       "2      3\n",
       "3      0\n",
       "4      3\n",
       "      ..\n",
       "297    0\n",
       "298    0\n",
       "299    3\n",
       "300    0\n",
       "301    1\n",
       "Name: clusters_K_Means, Length: 302, dtype: int32"
      ]
     },
     "execution_count": 40,
     "metadata": {},
     "output_type": "execute_result"
    }
   ],
   "source": [
    "y_km_series_for_merging"
   ]
  },
  {
   "cell_type": "markdown",
   "metadata": {},
   "source": [
    "# Merge Clusters on to Orig Dataframe"
   ]
  },
  {
   "cell_type": "code",
   "execution_count": 41,
   "metadata": {},
   "outputs": [],
   "source": [
    "#this merge is on to the orig, unnormalized data\n",
    "#use: box and whisker plots\n",
    "\n",
    "orig_merged_df = nyc_geo_dataframe_features_only.merge(y_km_series_for_merging, how='inner', left_index = True, right_index = True)"
   ]
  },
  {
   "cell_type": "code",
   "execution_count": 42,
   "metadata": {},
   "outputs": [],
   "source": [
    "#this merge is on the normalized data\n",
    "#use: PCA, Heatmap\n",
    "\n",
    "normalized_merged_df_1 = normalized_df2.merge(y_km_series_for_merging, how='inner', left_index = True, right_index = True)"
   ]
  },
  {
   "cell_type": "code",
   "execution_count": 43,
   "metadata": {},
   "outputs": [
    {
     "data": {
      "text/html": [
       "<div>\n",
       "<style scoped>\n",
       "    .dataframe tbody tr th:only-of-type {\n",
       "        vertical-align: middle;\n",
       "    }\n",
       "\n",
       "    .dataframe tbody tr th {\n",
       "        vertical-align: top;\n",
       "    }\n",
       "\n",
       "    .dataframe thead th {\n",
       "        text-align: right;\n",
       "    }\n",
       "</style>\n",
       "<table border=\"1\" class=\"dataframe\">\n",
       "  <thead>\n",
       "    <tr style=\"text-align: right;\">\n",
       "      <th></th>\n",
       "      <th>uber_count</th>\n",
       "      <th>avg_price</th>\n",
       "      <th>adj_pop</th>\n",
       "      <th>median_daily_test_rate</th>\n",
       "      <th>avg_test_score</th>\n",
       "      <th>house_price</th>\n",
       "      <th>clusters_K_Means</th>\n",
       "    </tr>\n",
       "  </thead>\n",
       "  <tbody>\n",
       "    <tr>\n",
       "      <th>0</th>\n",
       "      <td>0.004261</td>\n",
       "      <td>0.388889</td>\n",
       "      <td>0.180149</td>\n",
       "      <td>0.112785</td>\n",
       "      <td>0.226248</td>\n",
       "      <td>0.048036</td>\n",
       "      <td>0</td>\n",
       "    </tr>\n",
       "    <tr>\n",
       "      <th>1</th>\n",
       "      <td>0.000055</td>\n",
       "      <td>0.666667</td>\n",
       "      <td>0.169895</td>\n",
       "      <td>0.039889</td>\n",
       "      <td>0.480299</td>\n",
       "      <td>0.109914</td>\n",
       "      <td>3</td>\n",
       "    </tr>\n",
       "    <tr>\n",
       "      <th>2</th>\n",
       "      <td>0.000050</td>\n",
       "      <td>0.611111</td>\n",
       "      <td>0.157621</td>\n",
       "      <td>0.104254</td>\n",
       "      <td>0.467564</td>\n",
       "      <td>0.096897</td>\n",
       "      <td>3</td>\n",
       "    </tr>\n",
       "    <tr>\n",
       "      <th>3</th>\n",
       "      <td>0.000000</td>\n",
       "      <td>0.444444</td>\n",
       "      <td>0.186475</td>\n",
       "      <td>0.104254</td>\n",
       "      <td>0.390377</td>\n",
       "      <td>0.099005</td>\n",
       "      <td>0</td>\n",
       "    </tr>\n",
       "    <tr>\n",
       "      <th>4</th>\n",
       "      <td>0.000718</td>\n",
       "      <td>0.666667</td>\n",
       "      <td>0.098267</td>\n",
       "      <td>0.055657</td>\n",
       "      <td>0.529373</td>\n",
       "      <td>0.093505</td>\n",
       "      <td>3</td>\n",
       "    </tr>\n",
       "  </tbody>\n",
       "</table>\n",
       "</div>"
      ],
      "text/plain": [
       "   uber_count  avg_price   adj_pop  median_daily_test_rate  avg_test_score  \\\n",
       "0    0.004261   0.388889  0.180149                0.112785        0.226248   \n",
       "1    0.000055   0.666667  0.169895                0.039889        0.480299   \n",
       "2    0.000050   0.611111  0.157621                0.104254        0.467564   \n",
       "3    0.000000   0.444444  0.186475                0.104254        0.390377   \n",
       "4    0.000718   0.666667  0.098267                0.055657        0.529373   \n",
       "\n",
       "   house_price  clusters_K_Means  \n",
       "0     0.048036                 0  \n",
       "1     0.109914                 3  \n",
       "2     0.096897                 3  \n",
       "3     0.099005                 0  \n",
       "4     0.093505                 3  "
      ]
     },
     "execution_count": 43,
     "metadata": {},
     "output_type": "execute_result"
    }
   ],
   "source": [
    "normalized_merged_df_1.head()"
   ]
  },
  {
   "cell_type": "code",
   "execution_count": 44,
   "metadata": {},
   "outputs": [
    {
     "data": {
      "text/html": [
       "<div>\n",
       "<style scoped>\n",
       "    .dataframe tbody tr th:only-of-type {\n",
       "        vertical-align: middle;\n",
       "    }\n",
       "\n",
       "    .dataframe tbody tr th {\n",
       "        vertical-align: top;\n",
       "    }\n",
       "\n",
       "    .dataframe thead th {\n",
       "        text-align: right;\n",
       "    }\n",
       "</style>\n",
       "<table border=\"1\" class=\"dataframe\">\n",
       "  <thead>\n",
       "    <tr style=\"text-align: right;\">\n",
       "      <th></th>\n",
       "      <th>uber_count</th>\n",
       "      <th>avg_price</th>\n",
       "      <th>adj_pop</th>\n",
       "      <th>median_daily_test_rate</th>\n",
       "      <th>avg_test_score</th>\n",
       "      <th>house_price</th>\n",
       "      <th>clusters_K_Means</th>\n",
       "    </tr>\n",
       "  </thead>\n",
       "  <tbody>\n",
       "    <tr>\n",
       "      <th>count</th>\n",
       "      <td>302.000000</td>\n",
       "      <td>302.000000</td>\n",
       "      <td>302.000000</td>\n",
       "      <td>302.000000</td>\n",
       "      <td>302.000000</td>\n",
       "      <td>302.000000</td>\n",
       "      <td>302.000000</td>\n",
       "    </tr>\n",
       "    <tr>\n",
       "      <th>mean</th>\n",
       "      <td>0.042747</td>\n",
       "      <td>0.567329</td>\n",
       "      <td>0.257531</td>\n",
       "      <td>0.104265</td>\n",
       "      <td>0.407379</td>\n",
       "      <td>0.113172</td>\n",
       "      <td>1.599338</td>\n",
       "    </tr>\n",
       "    <tr>\n",
       "      <th>std</th>\n",
       "      <td>0.108653</td>\n",
       "      <td>0.194844</td>\n",
       "      <td>0.177384</td>\n",
       "      <td>0.097804</td>\n",
       "      <td>0.144303</td>\n",
       "      <td>0.083297</td>\n",
       "      <td>1.388754</td>\n",
       "    </tr>\n",
       "    <tr>\n",
       "      <th>min</th>\n",
       "      <td>0.000000</td>\n",
       "      <td>0.000000</td>\n",
       "      <td>0.000000</td>\n",
       "      <td>0.000000</td>\n",
       "      <td>0.000000</td>\n",
       "      <td>0.000000</td>\n",
       "      <td>0.000000</td>\n",
       "    </tr>\n",
       "    <tr>\n",
       "      <th>25%</th>\n",
       "      <td>0.000000</td>\n",
       "      <td>0.444444</td>\n",
       "      <td>0.150147</td>\n",
       "      <td>0.047258</td>\n",
       "      <td>0.308408</td>\n",
       "      <td>0.082161</td>\n",
       "      <td>0.000000</td>\n",
       "    </tr>\n",
       "    <tr>\n",
       "      <th>50%</th>\n",
       "      <td>0.004558</td>\n",
       "      <td>0.555556</td>\n",
       "      <td>0.206384</td>\n",
       "      <td>0.104254</td>\n",
       "      <td>0.421774</td>\n",
       "      <td>0.099005</td>\n",
       "      <td>2.000000</td>\n",
       "    </tr>\n",
       "    <tr>\n",
       "      <th>75%</th>\n",
       "      <td>0.018200</td>\n",
       "      <td>0.722222</td>\n",
       "      <td>0.327740</td>\n",
       "      <td>0.104254</td>\n",
       "      <td>0.490329</td>\n",
       "      <td>0.126209</td>\n",
       "      <td>3.000000</td>\n",
       "    </tr>\n",
       "    <tr>\n",
       "      <th>max</th>\n",
       "      <td>1.000000</td>\n",
       "      <td>1.000000</td>\n",
       "      <td>1.000000</td>\n",
       "      <td>1.000000</td>\n",
       "      <td>1.000000</td>\n",
       "      <td>1.000000</td>\n",
       "      <td>3.000000</td>\n",
       "    </tr>\n",
       "  </tbody>\n",
       "</table>\n",
       "</div>"
      ],
      "text/plain": [
       "       uber_count   avg_price     adj_pop  median_daily_test_rate  \\\n",
       "count  302.000000  302.000000  302.000000              302.000000   \n",
       "mean     0.042747    0.567329    0.257531                0.104265   \n",
       "std      0.108653    0.194844    0.177384                0.097804   \n",
       "min      0.000000    0.000000    0.000000                0.000000   \n",
       "25%      0.000000    0.444444    0.150147                0.047258   \n",
       "50%      0.004558    0.555556    0.206384                0.104254   \n",
       "75%      0.018200    0.722222    0.327740                0.104254   \n",
       "max      1.000000    1.000000    1.000000                1.000000   \n",
       "\n",
       "       avg_test_score  house_price  clusters_K_Means  \n",
       "count      302.000000   302.000000        302.000000  \n",
       "mean         0.407379     0.113172          1.599338  \n",
       "std          0.144303     0.083297          1.388754  \n",
       "min          0.000000     0.000000          0.000000  \n",
       "25%          0.308408     0.082161          0.000000  \n",
       "50%          0.421774     0.099005          2.000000  \n",
       "75%          0.490329     0.126209          3.000000  \n",
       "max          1.000000     1.000000          3.000000  "
      ]
     },
     "execution_count": 44,
     "metadata": {},
     "output_type": "execute_result"
    }
   ],
   "source": [
    "normalized_merged_df_1.describe()"
   ]
  },
  {
   "cell_type": "markdown",
   "metadata": {},
   "source": [
    "# PCA scatterplot for this clustering"
   ]
  },
  {
   "cell_type": "code",
   "execution_count": 46,
   "metadata": {},
   "outputs": [],
   "source": [
    "n_components = 2 "
   ]
  },
  {
   "cell_type": "code",
   "execution_count": 47,
   "metadata": {},
   "outputs": [
    {
     "data": {
      "application/vnd.plotly.v1+json": {
       "config": {
        "plotlyServerURL": "https://plot.ly"
       },
       "data": [
        {
         "hovertemplate": "0=%{x}<br>1=%{y}<br>color=%{marker.color}<extra></extra>",
         "legendgroup": "",
         "marker": {
          "color": [
           0,
           3,
           3,
           0,
           3,
           3,
           1,
           0,
           3,
           0,
           3,
           3,
           3,
           0,
           3,
           0,
           0,
           3,
           3,
           0,
           3,
           0,
           3,
           2,
           3,
           3,
           0,
           3,
           2,
           3,
           0,
           3,
           0,
           0,
           0,
           3,
           0,
           0,
           0,
           2,
           3,
           0,
           2,
           3,
           3,
           0,
           3,
           2,
           3,
           1,
           0,
           3,
           0,
           1,
           0,
           0,
           3,
           1,
           3,
           2,
           3,
           3,
           3,
           2,
           0,
           0,
           0,
           0,
           2,
           0,
           3,
           3,
           3,
           0,
           3,
           3,
           0,
           0,
           2,
           2,
           0,
           1,
           3,
           0,
           0,
           0,
           3,
           3,
           0,
           2,
           3,
           3,
           3,
           0,
           3,
           1,
           2,
           3,
           3,
           0,
           2,
           2,
           3,
           3,
           3,
           3,
           0,
           3,
           3,
           3,
           0,
           3,
           0,
           3,
           3,
           0,
           3,
           3,
           0,
           3,
           3,
           3,
           1,
           0,
           0,
           3,
           3,
           0,
           0,
           0,
           0,
           0,
           0,
           3,
           0,
           1,
           3,
           3,
           0,
           0,
           2,
           0,
           0,
           0,
           0,
           0,
           3,
           3,
           0,
           0,
           0,
           1,
           3,
           1,
           3,
           0,
           3,
           3,
           0,
           2,
           0,
           3,
           3,
           3,
           3,
           3,
           2,
           0,
           3,
           0,
           2,
           0,
           0,
           3,
           1,
           3,
           0,
           3,
           2,
           3,
           0,
           0,
           0,
           2,
           0,
           0,
           1,
           3,
           3,
           3,
           3,
           0,
           3,
           3,
           0,
           0,
           0,
           0,
           3,
           3,
           0,
           0,
           3,
           0,
           0,
           3,
           3,
           1,
           0,
           3,
           3,
           0,
           3,
           0,
           0,
           0,
           0,
           3,
           3,
           3,
           3,
           0,
           3,
           3,
           0,
           3,
           3,
           3,
           0,
           3,
           3,
           3,
           0,
           3,
           2,
           3,
           3,
           2,
           3,
           0,
           0,
           3,
           3,
           3,
           3,
           0,
           3,
           3,
           3,
           1,
           3,
           2,
           3,
           0,
           2,
           3,
           0,
           3,
           0,
           3,
           3,
           0,
           3,
           3,
           2,
           3,
           2,
           3,
           3,
           3,
           0,
           3,
           0,
           1,
           3,
           1,
           0,
           0,
           1,
           1,
           0,
           0,
           3,
           0,
           2,
           0,
           0,
           0,
           1,
           0,
           0,
           3,
           0,
           1,
           0,
           3,
           3,
           0,
           0,
           3,
           0,
           1
          ],
          "coloraxis": "coloraxis",
          "symbol": "circle"
         },
         "mode": "markers",
         "name": "",
         "orientation": "v",
         "showlegend": false,
         "type": "scatter",
         "x": [
          -0.20524227012406215,
          0.1317024498523462,
          0.084622338233329,
          -0.09519740638613448,
          0.17077186815151685,
          0.05985376608518171,
          0.06807355605326902,
          -0.1463717903112983,
          0.14563521455242587,
          -0.24651574453950606,
          0.30456780541984835,
          0.18396295405622215,
          0.09596754061732629,
          -0.07700636823960061,
          0.26258385862856,
          -0.40018333105801074,
          -0.3541325202199263,
          0.12499669397939313,
          0.07883974925548581,
          -0.025376839511044004,
          0.19394919986423548,
          -0.07854218287466726,
          0.004075874722953537,
          -0.293179623818501,
          0.20585191729987037,
          0.09124180000982746,
          -0.20297468805991192,
          0.17607057073436386,
          -0.12853328291155042,
          0.23963362415984532,
          -0.41470978683073784,
          0.013549061391985908,
          -0.07508349859849714,
          -0.09736839550684111,
          -0.05573617211758319,
          0.03849047895049303,
          -0.29916459439681903,
          -0.2267974854222378,
          -0.01825490083146535,
          -0.2874729186502489,
          0.3786596176122915,
          -0.17222652211344222,
          -0.41254713955644307,
          0.1742341066557301,
          0.19756220406743752,
          -0.17472869696551888,
          0.04626113322257862,
          0.06004911133423928,
          0.24073498334257584,
          0.06699925241431667,
          -0.3095966881522581,
          0.38766319620222395,
          -0.4156275758293348,
          -0.12353846296235768,
          -0.19582251194319758,
          -0.2635891151341474,
          0.2527049172187129,
          0.20076241694934072,
          0.11660694209446938,
          -0.14690522305053957,
          0.345821078674185,
          0.1648806798830187,
          0.12427203527442107,
          -0.35361986535945583,
          -0.27881069862737345,
          -0.17805203470419512,
          -0.3271259818279536,
          -0.0502509937944013,
          -0.09627342539452444,
          -0.5143243155777317,
          0.21434800430194187,
          0.14219235594637789,
          0.26851218814497146,
          -0.18995186028091393,
          0.24789769139053905,
          -0.007144994005214605,
          -0.33948069882110105,
          -0.0530479008455312,
          -0.3539142220194152,
          -0.3110606714162967,
          -0.21494969031386876,
          0.18123164938934894,
          0.0805562246380665,
          -0.33408148945701893,
          -0.21581255891100262,
          -0.2785820509598187,
          0.07011411177488698,
          0.2775532689655028,
          -0.1630628885477055,
          -0.3324528516091688,
          0.18368812346114316,
          0.1777820336712706,
          0.09986611080981606,
          -0.11702113147694819,
          0.07538304967173311,
          0.04682141479799855,
          0.10058818894879074,
          0.17492814166942325,
          0.02404851709735377,
          -0.006715001607348738,
          -0.02408707798708696,
          -0.3688330264448189,
          0.2322190180273686,
          0.41471533728981136,
          0.1580922052066863,
          0.29952816198064636,
          0.008463625980325394,
          0.1528010784505246,
          0.24199684446030467,
          0.08399958760562276,
          -0.05567786066963209,
          0.23929136498529724,
          -0.0229496516428963,
          0.10042723024864238,
          0.07422916542521102,
          -0.10396269856412839,
          0.2613454388838171,
          0.26354703304902044,
          -0.07475507796280781,
          0.24404172316136394,
          0.2170228914614903,
          0.2283607629369184,
          0.06132066964925513,
          -0.004645142618142842,
          -0.128142484862779,
          0.03653997803685276,
          0.059880455788558745,
          -0.04212881578161289,
          -0.16936365256276606,
          -0.181461987685646,
          -0.10143058318133852,
          -0.03991539542000893,
          -0.052299193447156105,
          0.2803190055810349,
          -0.04070543912119495,
          0.5227183327330087,
          0.1386698473090313,
          0.16899748426761202,
          -0.2893257659540883,
          -0.15552642510618253,
          -0.27625129931402226,
          -0.33395938096117056,
          -0.2769235691162768,
          -0.2592556125939787,
          -0.03131324108312007,
          -0.1692852641319873,
          0.008491685601509728,
          0.1649745264253175,
          -0.09841867818347978,
          -0.16219926733799414,
          -0.37218315491270065,
          0.0625268901318897,
          0.2742372270402643,
          0.050336998726210946,
          0.0080806515845987,
          -0.11193627173037472,
          0.4707695752504983,
          0.04162350771143321,
          -0.15488588319827168,
          -0.18248066909729926,
          -0.06906502566392388,
          0.12207810530879297,
          0.37633326124267813,
          0.13358262916411334,
          0.08161148224066891,
          0.24554723868637643,
          -0.14899908761372466,
          -0.17138649041419887,
          0.062450420003171636,
          -0.11139370576972571,
          -0.37357433510371674,
          -0.20346167221592382,
          -0.11665752516249447,
          0.29683223200894077,
          0.18471151505353306,
          0.17666383207940747,
          -0.10749143714384878,
          0.1913885933490201,
          0.06544267790366624,
          0.01266057123572756,
          -0.3465016356574314,
          -0.15422847881894416,
          -0.05763442394510348,
          -0.3028648079863651,
          -0.2674456680463767,
          -0.2835694729753881,
          0.10868542478928911,
          0.21080271014629562,
          -0.017088984494602957,
          0.1531611911778928,
          0.27595452670415827,
          -0.31598106775772467,
          0.046026567739207415,
          0.32597324130000355,
          -0.39566149249721916,
          -0.03205889128040855,
          -0.056621601110786526,
          -0.36781621105919443,
          0.3141851937706501,
          0.2393092965670536,
          -0.1681968812703567,
          -0.16117561393697943,
          0.24078231107690015,
          -0.44012959470177015,
          -0.10692816416276137,
          0.23107450282459863,
          0.2022581420993761,
          0.30987814299789107,
          -0.20541452505945437,
          0.02481138268990178,
          0.04410984206345427,
          -0.07405689795985924,
          0.3716199777340699,
          -0.06068738978814479,
          -0.09794181879281835,
          -0.10485011351594499,
          -0.28448912875701815,
          0.18523516832245532,
          0.08479958836927001,
          0.045466766658270485,
          0.268569222956956,
          -0.34105897648091216,
          0.049081550887777055,
          0.13869587081688342,
          -0.036084903157439695,
          0.08458784294370487,
          0.04465667616783212,
          0.09989595751716604,
          -0.10407305564369866,
          0.007191753347969086,
          0.2680321736963917,
          0.39117776478219635,
          -0.2061509852959419,
          0.21150206692162984,
          -0.3273193194608135,
          0.11493361704673606,
          0.0509660002028759,
          -0.026552439715668053,
          0.10279783715824582,
          -0.16400825404305439,
          -0.10231037003519218,
          0.16996311807878864,
          -0.017202880545371762,
          0.184265694431729,
          0.07205296235075698,
          -0.08221107043372276,
          0.024100698273708487,
          0.24870690168408016,
          0.15007448416746963,
          0.09186243545235838,
          0.11749519560633394,
          -0.25512345933270014,
          0.2439584277952706,
          -0.25059866727496605,
          -0.21630306294313945,
          0.03132609695885571,
          -0.20155583753694795,
          0.24178376892360956,
          -0.2670041402849477,
          0.065301007541444,
          0.13325817080601984,
          -0.23534983772038998,
          0.007737668044858031,
          0.1798430405734332,
          -0.13208411291828429,
          0.16162132289397224,
          -0.03021749221359043,
          0.256566198858039,
          0.16457413851887026,
          0.2712169144608918,
          -0.0008613881421933521,
          0.2911259907908565,
          -0.04682609857655919,
          0.6488696706648631,
          0.16185163673522782,
          0.02717767499808145,
          -0.0668491313803434,
          -0.3190064447727995,
          0.2924804916414414,
          0.16078621167088147,
          -0.008168330636419766,
          -0.021123333393492854,
          0.2521327019523195,
          -0.3745279390024055,
          -0.5453555850662507,
          -0.09527962856603998,
          -0.13256050555183824,
          -0.0281202392123191,
          0.2773199810528926,
          -0.08406417015646774,
          -0.04994107616427851,
          0.21434381627741328,
          -0.3014447776592732,
          0.23348878074317606,
          0.010183839433209671,
          0.15277116719127734,
          0.0198749326633502,
          -0.2830317725875461,
          -0.24108441684794096,
          0.14655824637976014,
          -0.23279122409257172,
          0.10515106785180266
         ],
         "xaxis": "x",
         "y": [
          -0.14130584723698722,
          -0.08081837779739723,
          -0.08680387798679312,
          -0.10305985952370972,
          -0.13362039274021587,
          -0.05531175675032141,
          0.3766458846127964,
          -0.12468309568288205,
          -0.09995740492878079,
          -0.13922657612513828,
          0.07175786198141118,
          0.25868886476597236,
          -0.09896178321069019,
          -0.08924148020385392,
          0.09439923402818698,
          -0.06611288395058566,
          0.062068116210467456,
          0.1502394129175032,
          -0.11689303466666237,
          -0.107193883530712,
          -0.06526270877933481,
          -0.11424042403822944,
          -0.09944790365614303,
          0.5373516683035985,
          0.043847699087951594,
          -0.22772023506888742,
          -0.08495133625248219,
          0.017172211578501084,
          0.30922519273364124,
          -0.04994555333652187,
          -0.14882460750608412,
          -0.03769751510413831,
          -0.13984578274937146,
          -0.2776079129094833,
          -0.07423190876315044,
          -0.09994663540990431,
          -0.211519071595634,
          0.04975395731723248,
          -0.1437531899973705,
          0.46449147836757343,
          -0.15888913860189535,
          -0.19435391154268655,
          0.12180096840233293,
          0.16725217897721162,
          0.030073442466801246,
          -0.01607602133415468,
          -0.16324536961531094,
          0.5566161828664568,
          -0.08790612863332363,
          0.36228163371592115,
          0.007286062672297759,
          -0.0319657386350121,
          -0.06163114718671623,
          0.11950666322283171,
          -0.1308205639952771,
          -0.03434388038167306,
          -0.06996507407938223,
          0.18415636503304048,
          0.016257405569851502,
          0.19277845367390695,
          -0.03753288701976162,
          -0.10185310587443944,
          -0.16415140676957932,
          0.24816403921813127,
          0.025946009148611296,
          -0.11739449254500715,
          -0.041032738538776876,
          -0.1310117437088607,
          0.6593106878054993,
          -0.07658178873390119,
          -0.18559665976214795,
          -0.0849653093578842,
          -0.029601205750020638,
          -0.09434880447600884,
          0.009603690002928109,
          -0.03064258944871269,
          -0.20815791492979785,
          0.05747899753077391,
          0.40510910999357985,
          0.3880796635086387,
          -0.07449119361517574,
          0.1702263693774772,
          -0.012062967652095077,
          -0.1330635361031781,
          -0.10200181657576157,
          -0.13424131523892782,
          0.0235163342223715,
          -0.1894380899958599,
          -0.1426991316835221,
          0.3194728757051066,
          -0.05055261963289056,
          -0.031903571994118037,
          -0.04978969639169945,
          -0.025991550291017306,
          -0.08696678582826976,
          0.2914107227086292,
          0.4181774192659215,
          0.2185536804250698,
          0.13473673572114617,
          -0.10979309410555045,
          0.49779586228633316,
          0.13234009780423472,
          0.2892508120082759,
          -0.15919336240324547,
          -0.057025792155546554,
          -0.19019794748516394,
          -0.12548851285630777,
          -0.10834107455562104,
          -0.18384378883470737,
          0.021663727653989055,
          0.08654511336092899,
          -0.06505020173455732,
          -0.0961642145897815,
          0.1728646086083582,
          0.023651341896429902,
          -0.12094652243667628,
          -0.10837467388899036,
          -0.0986085934008683,
          -0.10122526322354895,
          0.024498143503238326,
          0.056613275503728355,
          -0.19413886878532732,
          0.041049800562770335,
          -0.13193559844227723,
          0.006951637931989296,
          -0.052200898299283115,
          -0.06449251790529467,
          -0.08969678853640686,
          -0.10228229998548817,
          -0.10543312428674043,
          -0.16441635803687316,
          -0.11436342265672042,
          -0.0037937555088259265,
          -0.0484140666346702,
          -0.2429952384851898,
          0.46659336838459015,
          -0.058767618324921396,
          0.1816460011272355,
          -0.17613104011492833,
          -0.03416309806694894,
          0.33857906552400796,
          -0.022048529621468433,
          -0.19360046334111114,
          -0.11171151692275127,
          -0.06429162024720587,
          -0.17069371406741302,
          -0.05331620066181074,
          -0.018513795842340475,
          -0.07277775281889334,
          -0.16184067579092995,
          0.048776212928483026,
          0.42930826889840534,
          -0.016072297492496782,
          0.3012623701484136,
          -0.12293641691816035,
          0.05825138060128029,
          0.014076691186756947,
          -0.07542243979659739,
          -0.1587744914436906,
          0.18091526683183476,
          -0.032249358795593444,
          0.011839573705892843,
          0.21817025574207988,
          0.0840834206295523,
          -0.09327391459387026,
          -0.05592769709082624,
          0.23533072735881133,
          -0.03871103026680628,
          0.012355902830991878,
          -0.1235520570414153,
          0.3313207541511931,
          0.08537429012512288,
          -0.08048142038621715,
          -0.05198970896838869,
          0.8157009220136844,
          0.03896578755418927,
          0.050619391524783154,
          0.04535073876124099,
          0.3088054233535531,
          0.12025773806148073,
          -0.03598984826763243,
          -0.13911762400061903,
          -0.09806718244913341,
          0.17271267684549702,
          -0.20176645900541815,
          -0.030383894884123033,
          0.542514351252644,
          -0.19960324223992335,
          0.034959826411677164,
          -0.0666800256196185,
          -0.1585139485325512,
          -0.04525994593109901,
          -0.013527538787451257,
          -0.01602727646754741,
          -0.07699846474761304,
          -0.10736116401873824,
          -0.020827712412264273,
          -0.12410783201068572,
          -0.032973363725739654,
          -0.08330571504179052,
          -0.09719599878493956,
          0.04889644942888846,
          -0.05751279673405601,
          -0.021087769251006645,
          -0.15470663343249516,
          -0.19969099241959518,
          -0.10516782560965252,
          0.31047539820089415,
          -0.16604639719491682,
          -0.11097815585002521,
          -0.09363590787723731,
          -0.088031332721136,
          -0.1477204741963744,
          -0.07646888190095938,
          -0.11940371945881173,
          0.0006707041061465085,
          -0.2324679731954941,
          -0.06257307157306244,
          -0.10686903503757901,
          0.16321997396731538,
          -0.17302992172393775,
          -0.009512996862825047,
          -0.1453463794223952,
          -0.09941657232582292,
          -0.23963222555938016,
          -0.11219348851188293,
          -0.01517686510897403,
          -0.07883831732519996,
          0.05580941240967829,
          0.11723483176152105,
          -0.1620798988504397,
          -0.03848205482181974,
          0.0929276175478771,
          -0.034594700411443,
          0.23877726023247298,
          -0.13549000610738438,
          -0.11099234916307876,
          0.18513065159892333,
          -0.07980945709649932,
          -0.13579691216641607,
          -0.1798383088179631,
          -0.19736943547539207,
          0.06946296890501193,
          -0.2100530838075241,
          0.01903394982492507,
          -0.09525366491609719,
          0.1283915428426624,
          -0.20588028865155386,
          -0.13296167428381583,
          0.12085649055378693,
          -0.16461939987822738,
          0.1887866128052908,
          -0.069654181353452,
          -0.09831947364768817,
          0.16905936167125044,
          -0.001979327501637736,
          -0.05617206859986779,
          -0.041387871468257634,
          -0.02388865175666304,
          -0.05946105555413562,
          -0.0769875120960118,
          -0.22277986881993478,
          0.046179390799100134,
          0.0213025073122089,
          0.29931676209883384,
          -0.1776971040545307,
          0.45426478857769154,
          -0.13063801647622386,
          0.026453870264116795,
          -0.0051795962279866554,
          -0.13338538239242034,
          -0.08416498321788944,
          -0.03501119329559108,
          0.3614339922975279,
          -0.2038482655073016,
          0.14911856945528923,
          -0.11271137994577249,
          -0.020757901068589543,
          0.5070349328943241,
          0.7339532506205633,
          -0.17956940947861194,
          -0.09931432421208233,
          0.0032628190762079203,
          -0.08816288866344539,
          0.6543764942241572,
          -0.01396738582893789,
          -0.009352450369352557,
          -0.08539661744645087,
          0.3839428361946551,
          -0.11086557897356294,
          -0.12713798944637564,
          -0.031107726223456526,
          0.019874548277656653,
          0.122521517560955,
          -0.2116348414853813,
          -0.07205345985164222,
          0.15080458541832545,
          -0.012745538767701344,
          -0.07862331517787441,
          -0.11447351738467079,
          -0.059773746466351946,
          0.3367504095586578
         ],
         "yaxis": "y"
        }
       ],
       "layout": {
        "autosize": true,
        "coloraxis": {
         "colorbar": {
          "title": {
           "text": "color"
          }
         },
         "colorscale": [
          [
           0,
           "#0d0887"
          ],
          [
           0.1111111111111111,
           "#46039f"
          ],
          [
           0.2222222222222222,
           "#7201a8"
          ],
          [
           0.3333333333333333,
           "#9c179e"
          ],
          [
           0.4444444444444444,
           "#bd3786"
          ],
          [
           0.5555555555555556,
           "#d8576b"
          ],
          [
           0.6666666666666666,
           "#ed7953"
          ],
          [
           0.7777777777777778,
           "#fb9f3a"
          ],
          [
           0.8888888888888888,
           "#fdca26"
          ],
          [
           1,
           "#f0f921"
          ]
         ]
        },
        "legend": {
         "tracegroupgap": 0
        },
        "margin": {
         "t": 60
        },
        "template": {
         "data": {
          "bar": [
           {
            "error_x": {
             "color": "#2a3f5f"
            },
            "error_y": {
             "color": "#2a3f5f"
            },
            "marker": {
             "line": {
              "color": "#E5ECF6",
              "width": 0.5
             }
            },
            "type": "bar"
           }
          ],
          "barpolar": [
           {
            "marker": {
             "line": {
              "color": "#E5ECF6",
              "width": 0.5
             }
            },
            "type": "barpolar"
           }
          ],
          "carpet": [
           {
            "aaxis": {
             "endlinecolor": "#2a3f5f",
             "gridcolor": "white",
             "linecolor": "white",
             "minorgridcolor": "white",
             "startlinecolor": "#2a3f5f"
            },
            "baxis": {
             "endlinecolor": "#2a3f5f",
             "gridcolor": "white",
             "linecolor": "white",
             "minorgridcolor": "white",
             "startlinecolor": "#2a3f5f"
            },
            "type": "carpet"
           }
          ],
          "choropleth": [
           {
            "colorbar": {
             "outlinewidth": 0,
             "ticks": ""
            },
            "type": "choropleth"
           }
          ],
          "contour": [
           {
            "colorbar": {
             "outlinewidth": 0,
             "ticks": ""
            },
            "colorscale": [
             [
              0,
              "#0d0887"
             ],
             [
              0.1111111111111111,
              "#46039f"
             ],
             [
              0.2222222222222222,
              "#7201a8"
             ],
             [
              0.3333333333333333,
              "#9c179e"
             ],
             [
              0.4444444444444444,
              "#bd3786"
             ],
             [
              0.5555555555555556,
              "#d8576b"
             ],
             [
              0.6666666666666666,
              "#ed7953"
             ],
             [
              0.7777777777777778,
              "#fb9f3a"
             ],
             [
              0.8888888888888888,
              "#fdca26"
             ],
             [
              1,
              "#f0f921"
             ]
            ],
            "type": "contour"
           }
          ],
          "contourcarpet": [
           {
            "colorbar": {
             "outlinewidth": 0,
             "ticks": ""
            },
            "type": "contourcarpet"
           }
          ],
          "heatmap": [
           {
            "colorbar": {
             "outlinewidth": 0,
             "ticks": ""
            },
            "colorscale": [
             [
              0,
              "#0d0887"
             ],
             [
              0.1111111111111111,
              "#46039f"
             ],
             [
              0.2222222222222222,
              "#7201a8"
             ],
             [
              0.3333333333333333,
              "#9c179e"
             ],
             [
              0.4444444444444444,
              "#bd3786"
             ],
             [
              0.5555555555555556,
              "#d8576b"
             ],
             [
              0.6666666666666666,
              "#ed7953"
             ],
             [
              0.7777777777777778,
              "#fb9f3a"
             ],
             [
              0.8888888888888888,
              "#fdca26"
             ],
             [
              1,
              "#f0f921"
             ]
            ],
            "type": "heatmap"
           }
          ],
          "heatmapgl": [
           {
            "colorbar": {
             "outlinewidth": 0,
             "ticks": ""
            },
            "colorscale": [
             [
              0,
              "#0d0887"
             ],
             [
              0.1111111111111111,
              "#46039f"
             ],
             [
              0.2222222222222222,
              "#7201a8"
             ],
             [
              0.3333333333333333,
              "#9c179e"
             ],
             [
              0.4444444444444444,
              "#bd3786"
             ],
             [
              0.5555555555555556,
              "#d8576b"
             ],
             [
              0.6666666666666666,
              "#ed7953"
             ],
             [
              0.7777777777777778,
              "#fb9f3a"
             ],
             [
              0.8888888888888888,
              "#fdca26"
             ],
             [
              1,
              "#f0f921"
             ]
            ],
            "type": "heatmapgl"
           }
          ],
          "histogram": [
           {
            "marker": {
             "colorbar": {
              "outlinewidth": 0,
              "ticks": ""
             }
            },
            "type": "histogram"
           }
          ],
          "histogram2d": [
           {
            "colorbar": {
             "outlinewidth": 0,
             "ticks": ""
            },
            "colorscale": [
             [
              0,
              "#0d0887"
             ],
             [
              0.1111111111111111,
              "#46039f"
             ],
             [
              0.2222222222222222,
              "#7201a8"
             ],
             [
              0.3333333333333333,
              "#9c179e"
             ],
             [
              0.4444444444444444,
              "#bd3786"
             ],
             [
              0.5555555555555556,
              "#d8576b"
             ],
             [
              0.6666666666666666,
              "#ed7953"
             ],
             [
              0.7777777777777778,
              "#fb9f3a"
             ],
             [
              0.8888888888888888,
              "#fdca26"
             ],
             [
              1,
              "#f0f921"
             ]
            ],
            "type": "histogram2d"
           }
          ],
          "histogram2dcontour": [
           {
            "colorbar": {
             "outlinewidth": 0,
             "ticks": ""
            },
            "colorscale": [
             [
              0,
              "#0d0887"
             ],
             [
              0.1111111111111111,
              "#46039f"
             ],
             [
              0.2222222222222222,
              "#7201a8"
             ],
             [
              0.3333333333333333,
              "#9c179e"
             ],
             [
              0.4444444444444444,
              "#bd3786"
             ],
             [
              0.5555555555555556,
              "#d8576b"
             ],
             [
              0.6666666666666666,
              "#ed7953"
             ],
             [
              0.7777777777777778,
              "#fb9f3a"
             ],
             [
              0.8888888888888888,
              "#fdca26"
             ],
             [
              1,
              "#f0f921"
             ]
            ],
            "type": "histogram2dcontour"
           }
          ],
          "mesh3d": [
           {
            "colorbar": {
             "outlinewidth": 0,
             "ticks": ""
            },
            "type": "mesh3d"
           }
          ],
          "parcoords": [
           {
            "line": {
             "colorbar": {
              "outlinewidth": 0,
              "ticks": ""
             }
            },
            "type": "parcoords"
           }
          ],
          "pie": [
           {
            "automargin": true,
            "type": "pie"
           }
          ],
          "scatter": [
           {
            "marker": {
             "colorbar": {
              "outlinewidth": 0,
              "ticks": ""
             }
            },
            "type": "scatter"
           }
          ],
          "scatter3d": [
           {
            "line": {
             "colorbar": {
              "outlinewidth": 0,
              "ticks": ""
             }
            },
            "marker": {
             "colorbar": {
              "outlinewidth": 0,
              "ticks": ""
             }
            },
            "type": "scatter3d"
           }
          ],
          "scattercarpet": [
           {
            "marker": {
             "colorbar": {
              "outlinewidth": 0,
              "ticks": ""
             }
            },
            "type": "scattercarpet"
           }
          ],
          "scattergeo": [
           {
            "marker": {
             "colorbar": {
              "outlinewidth": 0,
              "ticks": ""
             }
            },
            "type": "scattergeo"
           }
          ],
          "scattergl": [
           {
            "marker": {
             "colorbar": {
              "outlinewidth": 0,
              "ticks": ""
             }
            },
            "type": "scattergl"
           }
          ],
          "scattermapbox": [
           {
            "marker": {
             "colorbar": {
              "outlinewidth": 0,
              "ticks": ""
             }
            },
            "type": "scattermapbox"
           }
          ],
          "scatterpolar": [
           {
            "marker": {
             "colorbar": {
              "outlinewidth": 0,
              "ticks": ""
             }
            },
            "type": "scatterpolar"
           }
          ],
          "scatterpolargl": [
           {
            "marker": {
             "colorbar": {
              "outlinewidth": 0,
              "ticks": ""
             }
            },
            "type": "scatterpolargl"
           }
          ],
          "scatterternary": [
           {
            "marker": {
             "colorbar": {
              "outlinewidth": 0,
              "ticks": ""
             }
            },
            "type": "scatterternary"
           }
          ],
          "surface": [
           {
            "colorbar": {
             "outlinewidth": 0,
             "ticks": ""
            },
            "colorscale": [
             [
              0,
              "#0d0887"
             ],
             [
              0.1111111111111111,
              "#46039f"
             ],
             [
              0.2222222222222222,
              "#7201a8"
             ],
             [
              0.3333333333333333,
              "#9c179e"
             ],
             [
              0.4444444444444444,
              "#bd3786"
             ],
             [
              0.5555555555555556,
              "#d8576b"
             ],
             [
              0.6666666666666666,
              "#ed7953"
             ],
             [
              0.7777777777777778,
              "#fb9f3a"
             ],
             [
              0.8888888888888888,
              "#fdca26"
             ],
             [
              1,
              "#f0f921"
             ]
            ],
            "type": "surface"
           }
          ],
          "table": [
           {
            "cells": {
             "fill": {
              "color": "#EBF0F8"
             },
             "line": {
              "color": "white"
             }
            },
            "header": {
             "fill": {
              "color": "#C8D4E3"
             },
             "line": {
              "color": "white"
             }
            },
            "type": "table"
           }
          ]
         },
         "layout": {
          "annotationdefaults": {
           "arrowcolor": "#2a3f5f",
           "arrowhead": 0,
           "arrowwidth": 1
          },
          "autotypenumbers": "strict",
          "coloraxis": {
           "colorbar": {
            "outlinewidth": 0,
            "ticks": ""
           }
          },
          "colorscale": {
           "diverging": [
            [
             0,
             "#8e0152"
            ],
            [
             0.1,
             "#c51b7d"
            ],
            [
             0.2,
             "#de77ae"
            ],
            [
             0.3,
             "#f1b6da"
            ],
            [
             0.4,
             "#fde0ef"
            ],
            [
             0.5,
             "#f7f7f7"
            ],
            [
             0.6,
             "#e6f5d0"
            ],
            [
             0.7,
             "#b8e186"
            ],
            [
             0.8,
             "#7fbc41"
            ],
            [
             0.9,
             "#4d9221"
            ],
            [
             1,
             "#276419"
            ]
           ],
           "sequential": [
            [
             0,
             "#0d0887"
            ],
            [
             0.1111111111111111,
             "#46039f"
            ],
            [
             0.2222222222222222,
             "#7201a8"
            ],
            [
             0.3333333333333333,
             "#9c179e"
            ],
            [
             0.4444444444444444,
             "#bd3786"
            ],
            [
             0.5555555555555556,
             "#d8576b"
            ],
            [
             0.6666666666666666,
             "#ed7953"
            ],
            [
             0.7777777777777778,
             "#fb9f3a"
            ],
            [
             0.8888888888888888,
             "#fdca26"
            ],
            [
             1,
             "#f0f921"
            ]
           ],
           "sequentialminus": [
            [
             0,
             "#0d0887"
            ],
            [
             0.1111111111111111,
             "#46039f"
            ],
            [
             0.2222222222222222,
             "#7201a8"
            ],
            [
             0.3333333333333333,
             "#9c179e"
            ],
            [
             0.4444444444444444,
             "#bd3786"
            ],
            [
             0.5555555555555556,
             "#d8576b"
            ],
            [
             0.6666666666666666,
             "#ed7953"
            ],
            [
             0.7777777777777778,
             "#fb9f3a"
            ],
            [
             0.8888888888888888,
             "#fdca26"
            ],
            [
             1,
             "#f0f921"
            ]
           ]
          },
          "colorway": [
           "#636efa",
           "#EF553B",
           "#00cc96",
           "#ab63fa",
           "#FFA15A",
           "#19d3f3",
           "#FF6692",
           "#B6E880",
           "#FF97FF",
           "#FECB52"
          ],
          "font": {
           "color": "#2a3f5f"
          },
          "geo": {
           "bgcolor": "white",
           "lakecolor": "white",
           "landcolor": "#E5ECF6",
           "showlakes": true,
           "showland": true,
           "subunitcolor": "white"
          },
          "hoverlabel": {
           "align": "left"
          },
          "hovermode": "closest",
          "mapbox": {
           "style": "light"
          },
          "paper_bgcolor": "white",
          "plot_bgcolor": "#E5ECF6",
          "polar": {
           "angularaxis": {
            "gridcolor": "white",
            "linecolor": "white",
            "ticks": ""
           },
           "bgcolor": "#E5ECF6",
           "radialaxis": {
            "gridcolor": "white",
            "linecolor": "white",
            "ticks": ""
           }
          },
          "scene": {
           "xaxis": {
            "backgroundcolor": "#E5ECF6",
            "gridcolor": "white",
            "gridwidth": 2,
            "linecolor": "white",
            "showbackground": true,
            "ticks": "",
            "zerolinecolor": "white"
           },
           "yaxis": {
            "backgroundcolor": "#E5ECF6",
            "gridcolor": "white",
            "gridwidth": 2,
            "linecolor": "white",
            "showbackground": true,
            "ticks": "",
            "zerolinecolor": "white"
           },
           "zaxis": {
            "backgroundcolor": "#E5ECF6",
            "gridcolor": "white",
            "gridwidth": 2,
            "linecolor": "white",
            "showbackground": true,
            "ticks": "",
            "zerolinecolor": "white"
           }
          },
          "shapedefaults": {
           "line": {
            "color": "#2a3f5f"
           }
          },
          "ternary": {
           "aaxis": {
            "gridcolor": "white",
            "linecolor": "white",
            "ticks": ""
           },
           "baxis": {
            "gridcolor": "white",
            "linecolor": "white",
            "ticks": ""
           },
           "bgcolor": "#E5ECF6",
           "caxis": {
            "gridcolor": "white",
            "linecolor": "white",
            "ticks": ""
           }
          },
          "title": {
           "x": 0.05
          },
          "xaxis": {
           "automargin": true,
           "gridcolor": "white",
           "linecolor": "white",
           "ticks": "",
           "title": {
            "standoff": 15
           },
           "zerolinecolor": "white",
           "zerolinewidth": 2
          },
          "yaxis": {
           "automargin": true,
           "gridcolor": "white",
           "linecolor": "white",
           "ticks": "",
           "title": {
            "standoff": 15
           },
           "zerolinecolor": "white",
           "zerolinewidth": 2
          }
         }
        },
        "xaxis": {
         "anchor": "y",
         "autorange": true,
         "domain": [
          0,
          1
         ],
         "range": [
          -0.6204680615102267,
          0.7239821471088391
         ],
         "title": {
          "text": "0"
         },
         "type": "linear"
        },
        "yaxis": {
         "anchor": "x",
         "autorange": true,
         "domain": [
          0,
          1
         ],
         "range": [
          -0.35512612680366734,
          0.8932191359078685
         ],
         "title": {
          "text": "1"
         },
         "type": "linear"
        }
       }
      },
      "image/png": "[encoded data removed]",
      "text/html": [
       "<div>                            <div id=\"03b1405f-3c17-4ac9-b359-0e681a42d5ac\" class=\"plotly-graph-div\" style=\"height:525px; width:100%;\"></div>            <script type=\"text/javascript\">                require([\"plotly\"], function(Plotly) {                    window.PLOTLYENV=window.PLOTLYENV || {};                                    if (document.getElementById(\"03b1405f-3c17-4ac9-b359-0e681a42d5ac\")) {                    Plotly.newPlot(                        \"03b1405f-3c17-4ac9-b359-0e681a42d5ac\",                        [{\"hovertemplate\": \"0=%{x}<br>1=%{y}<br>color=%{marker.color}<extra></extra>\", \"legendgroup\": \"\", \"marker\": {\"color\": [0, 3, 3, 0, 3, 3, 1, 0, 3, 0, 3, 3, 3, 0, 3, 0, 0, 3, 3, 0, 3, 0, 3, 2, 3, 3, 0, 3, 2, 3, 0, 3, 0, 0, 0, 3, 0, 0, 0, 2, 3, 0, 2, 3, 3, 0, 3, 2, 3, 1, 0, 3, 0, 1, 0, 0, 3, 1, 3, 2, 3, 3, 3, 2, 0, 0, 0, 0, 2, 0, 3, 3, 3, 0, 3, 3, 0, 0, 2, 2, 0, 1, 3, 0, 0, 0, 3, 3, 0, 2, 3, 3, 3, 0, 3, 1, 2, 3, 3, 0, 2, 2, 3, 3, 3, 3, 0, 3, 3, 3, 0, 3, 0, 3, 3, 0, 3, 3, 0, 3, 3, 3, 1, 0, 0, 3, 3, 0, 0, 0, 0, 0, 0, 3, 0, 1, 3, 3, 0, 0, 2, 0, 0, 0, 0, 0, 3, 3, 0, 0, 0, 1, 3, 1, 3, 0, 3, 3, 0, 2, 0, 3, 3, 3, 3, 3, 2, 0, 3, 0, 2, 0, 0, 3, 1, 3, 0, 3, 2, 3, 0, 0, 0, 2, 0, 0, 1, 3, 3, 3, 3, 0, 3, 3, 0, 0, 0, 0, 3, 3, 0, 0, 3, 0, 0, 3, 3, 1, 0, 3, 3, 0, 3, 0, 0, 0, 0, 3, 3, 3, 3, 0, 3, 3, 0, 3, 3, 3, 0, 3, 3, 3, 0, 3, 2, 3, 3, 2, 3, 0, 0, 3, 3, 3, 3, 0, 3, 3, 3, 1, 3, 2, 3, 0, 2, 3, 0, 3, 0, 3, 3, 0, 3, 3, 2, 3, 2, 3, 3, 3, 0, 3, 0, 1, 3, 1, 0, 0, 1, 1, 0, 0, 3, 0, 2, 0, 0, 0, 1, 0, 0, 3, 0, 1, 0, 3, 3, 0, 0, 3, 0, 1], \"coloraxis\": \"coloraxis\", \"symbol\": \"circle\"}, \"mode\": \"markers\", \"name\": \"\", \"orientation\": \"v\", \"showlegend\": false, \"type\": \"scatter\", \"x\": [-0.20524227012406215, 0.1317024498523462, 0.084622338233329, -0.09519740638613448, 0.17077186815151685, 0.05985376608518171, 0.06807355605326902, -0.1463717903112983, 0.14563521455242587, -0.24651574453950606, 0.30456780541984835, 0.18396295405622215, 0.09596754061732629, -0.07700636823960061, 0.26258385862856, -0.40018333105801074, -0.3541325202199263, 0.12499669397939313, 0.07883974925548581, -0.025376839511044004, 0.19394919986423548, -0.07854218287466726, 0.004075874722953537, -0.293179623818501, 0.20585191729987037, 0.09124180000982746, -0.20297468805991192, 0.17607057073436386, -0.12853328291155042, 0.23963362415984532, -0.41470978683073784, 0.013549061391985908, -0.07508349859849714, -0.09736839550684111, -0.05573617211758319, 0.03849047895049303, -0.29916459439681903, -0.2267974854222378, -0.01825490083146535, -0.2874729186502489, 0.3786596176122915, -0.17222652211344222, -0.41254713955644307, 0.1742341066557301, 0.19756220406743752, -0.17472869696551888, 0.04626113322257862, 0.06004911133423928, 0.24073498334257584, 0.06699925241431667, -0.3095966881522581, 0.38766319620222395, -0.4156275758293348, -0.12353846296235768, -0.19582251194319758, -0.2635891151341474, 0.2527049172187129, 0.20076241694934072, 0.11660694209446938, -0.14690522305053957, 0.345821078674185, 0.1648806798830187, 0.12427203527442107, -0.35361986535945583, -0.27881069862737345, -0.17805203470419512, -0.3271259818279536, -0.0502509937944013, -0.09627342539452444, -0.5143243155777317, 0.21434800430194187, 0.14219235594637789, 0.26851218814497146, -0.18995186028091393, 0.24789769139053905, -0.007144994005214605, -0.33948069882110105, -0.0530479008455312, -0.3539142220194152, -0.3110606714162967, -0.21494969031386876, 0.18123164938934894, 0.0805562246380665, -0.33408148945701893, -0.21581255891100262, -0.2785820509598187, 0.07011411177488698, 0.2775532689655028, -0.1630628885477055, -0.3324528516091688, 0.18368812346114316, 0.1777820336712706, 0.09986611080981606, -0.11702113147694819, 0.07538304967173311, 0.04682141479799855, 0.10058818894879074, 0.17492814166942325, 0.02404851709735377, -0.006715001607348738, -0.02408707798708696, -0.3688330264448189, 0.2322190180273686, 0.41471533728981136, 0.1580922052066863, 0.29952816198064636, 0.008463625980325394, 0.1528010784505246, 0.24199684446030467, 0.08399958760562276, -0.05567786066963209, 0.23929136498529724, -0.0229496516428963, 0.10042723024864238, 0.07422916542521102, -0.10396269856412839, 0.2613454388838171, 0.26354703304902044, -0.07475507796280781, 0.24404172316136394, 0.2170228914614903, 0.2283607629369184, 0.06132066964925513, -0.004645142618142842, -0.128142484862779, 0.03653997803685276, 0.059880455788558745, -0.04212881578161289, -0.16936365256276606, -0.181461987685646, -0.10143058318133852, -0.03991539542000893, -0.052299193447156105, 0.2803190055810349, -0.04070543912119495, 0.5227183327330087, 0.1386698473090313, 0.16899748426761202, -0.2893257659540883, -0.15552642510618253, -0.27625129931402226, -0.33395938096117056, -0.2769235691162768, -0.2592556125939787, -0.03131324108312007, -0.1692852641319873, 0.008491685601509728, 0.1649745264253175, -0.09841867818347978, -0.16219926733799414, -0.37218315491270065, 0.0625268901318897, 0.2742372270402643, 0.050336998726210946, 0.0080806515845987, -0.11193627173037472, 0.4707695752504983, 0.04162350771143321, -0.15488588319827168, -0.18248066909729926, -0.06906502566392388, 0.12207810530879297, 0.37633326124267813, 0.13358262916411334, 0.08161148224066891, 0.24554723868637643, -0.14899908761372466, -0.17138649041419887, 0.062450420003171636, -0.11139370576972571, -0.37357433510371674, -0.20346167221592382, -0.11665752516249447, 0.29683223200894077, 0.18471151505353306, 0.17666383207940747, -0.10749143714384878, 0.1913885933490201, 0.06544267790366624, 0.01266057123572756, -0.3465016356574314, -0.15422847881894416, -0.05763442394510348, -0.3028648079863651, -0.2674456680463767, -0.2835694729753881, 0.10868542478928911, 0.21080271014629562, -0.017088984494602957, 0.1531611911778928, 0.27595452670415827, -0.31598106775772467, 0.046026567739207415, 0.32597324130000355, -0.39566149249721916, -0.03205889128040855, -0.056621601110786526, -0.36781621105919443, 0.3141851937706501, 0.2393092965670536, -0.1681968812703567, -0.16117561393697943, 0.24078231107690015, -0.44012959470177015, -0.10692816416276137, 0.23107450282459863, 0.2022581420993761, 0.30987814299789107, -0.20541452505945437, 0.02481138268990178, 0.04410984206345427, -0.07405689795985924, 0.3716199777340699, -0.06068738978814479, -0.09794181879281835, -0.10485011351594499, -0.28448912875701815, 0.18523516832245532, 0.08479958836927001, 0.045466766658270485, 0.268569222956956, -0.34105897648091216, 0.049081550887777055, 0.13869587081688342, -0.036084903157439695, 0.08458784294370487, 0.04465667616783212, 0.09989595751716604, -0.10407305564369866, 0.007191753347969086, 0.2680321736963917, 0.39117776478219635, -0.2061509852959419, 0.21150206692162984, -0.3273193194608135, 0.11493361704673606, 0.0509660002028759, -0.026552439715668053, 0.10279783715824582, -0.16400825404305439, -0.10231037003519218, 0.16996311807878864, -0.017202880545371762, 0.184265694431729, 0.07205296235075698, -0.08221107043372276, 0.024100698273708487, 0.24870690168408016, 0.15007448416746963, 0.09186243545235838, 0.11749519560633394, -0.25512345933270014, 0.2439584277952706, -0.25059866727496605, -0.21630306294313945, 0.03132609695885571, -0.20155583753694795, 0.24178376892360956, -0.2670041402849477, 0.065301007541444, 0.13325817080601984, -0.23534983772038998, 0.007737668044858031, 0.1798430405734332, -0.13208411291828429, 0.16162132289397224, -0.03021749221359043, 0.256566198858039, 0.16457413851887026, 0.2712169144608918, -0.0008613881421933521, 0.2911259907908565, -0.04682609857655919, 0.6488696706648631, 0.16185163673522782, 0.02717767499808145, -0.0668491313803434, -0.3190064447727995, 0.2924804916414414, 0.16078621167088147, -0.008168330636419766, -0.021123333393492854, 0.2521327019523195, -0.3745279390024055, -0.5453555850662507, -0.09527962856603998, -0.13256050555183824, -0.0281202392123191, 0.2773199810528926, -0.08406417015646774, -0.04994107616427851, 0.21434381627741328, -0.3014447776592732, 0.23348878074317606, 0.010183839433209671, 0.15277116719127734, 0.0198749326633502, -0.2830317725875461, -0.24108441684794096, 0.14655824637976014, -0.23279122409257172, 0.10515106785180266], \"xaxis\": \"x\", \"y\": [-0.14130584723698722, -0.08081837779739723, -0.08680387798679312, -0.10305985952370972, -0.13362039274021587, -0.05531175675032141, 0.3766458846127964, -0.12468309568288205, -0.09995740492878079, -0.13922657612513828, 0.07175786198141118, 0.25868886476597236, -0.09896178321069019, -0.08924148020385392, 0.09439923402818698, -0.06611288395058566, 0.062068116210467456, 0.1502394129175032, -0.11689303466666237, -0.107193883530712, -0.06526270877933481, -0.11424042403822944, -0.09944790365614303, 0.5373516683035985, 0.043847699087951594, -0.22772023506888742, -0.08495133625248219, 0.017172211578501084, 0.30922519273364124, -0.04994555333652187, -0.14882460750608412, -0.03769751510413831, -0.13984578274937146, -0.2776079129094833, -0.07423190876315044, -0.09994663540990431, -0.211519071595634, 0.04975395731723248, -0.1437531899973705, 0.46449147836757343, -0.15888913860189535, -0.19435391154268655, 0.12180096840233293, 0.16725217897721162, 0.030073442466801246, -0.01607602133415468, -0.16324536961531094, 0.5566161828664568, -0.08790612863332363, 0.36228163371592115, 0.007286062672297759, -0.0319657386350121, -0.06163114718671623, 0.11950666322283171, -0.1308205639952771, -0.03434388038167306, -0.06996507407938223, 0.18415636503304048, 0.016257405569851502, 0.19277845367390695, -0.03753288701976162, -0.10185310587443944, -0.16415140676957932, 0.24816403921813127, 0.025946009148611296, -0.11739449254500715, -0.041032738538776876, -0.1310117437088607, 0.6593106878054993, -0.07658178873390119, -0.18559665976214795, -0.0849653093578842, -0.029601205750020638, -0.09434880447600884, 0.009603690002928109, -0.03064258944871269, -0.20815791492979785, 0.05747899753077391, 0.40510910999357985, 0.3880796635086387, -0.07449119361517574, 0.1702263693774772, -0.012062967652095077, -0.1330635361031781, -0.10200181657576157, -0.13424131523892782, 0.0235163342223715, -0.1894380899958599, -0.1426991316835221, 0.3194728757051066, -0.05055261963289056, -0.031903571994118037, -0.04978969639169945, -0.025991550291017306, -0.08696678582826976, 0.2914107227086292, 0.4181774192659215, 0.2185536804250698, 0.13473673572114617, -0.10979309410555045, 0.49779586228633316, 0.13234009780423472, 0.2892508120082759, -0.15919336240324547, -0.057025792155546554, -0.19019794748516394, -0.12548851285630777, -0.10834107455562104, -0.18384378883470737, 0.021663727653989055, 0.08654511336092899, -0.06505020173455732, -0.0961642145897815, 0.1728646086083582, 0.023651341896429902, -0.12094652243667628, -0.10837467388899036, -0.0986085934008683, -0.10122526322354895, 0.024498143503238326, 0.056613275503728355, -0.19413886878532732, 0.041049800562770335, -0.13193559844227723, 0.006951637931989296, -0.052200898299283115, -0.06449251790529467, -0.08969678853640686, -0.10228229998548817, -0.10543312428674043, -0.16441635803687316, -0.11436342265672042, -0.0037937555088259265, -0.0484140666346702, -0.2429952384851898, 0.46659336838459015, -0.058767618324921396, 0.1816460011272355, -0.17613104011492833, -0.03416309806694894, 0.33857906552400796, -0.022048529621468433, -0.19360046334111114, -0.11171151692275127, -0.06429162024720587, -0.17069371406741302, -0.05331620066181074, -0.018513795842340475, -0.07277775281889334, -0.16184067579092995, 0.048776212928483026, 0.42930826889840534, -0.016072297492496782, 0.3012623701484136, -0.12293641691816035, 0.05825138060128029, 0.014076691186756947, -0.07542243979659739, -0.1587744914436906, 0.18091526683183476, -0.032249358795593444, 0.011839573705892843, 0.21817025574207988, 0.0840834206295523, -0.09327391459387026, -0.05592769709082624, 0.23533072735881133, -0.03871103026680628, 0.012355902830991878, -0.1235520570414153, 0.3313207541511931, 0.08537429012512288, -0.08048142038621715, -0.05198970896838869, 0.8157009220136844, 0.03896578755418927, 0.050619391524783154, 0.04535073876124099, 0.3088054233535531, 0.12025773806148073, -0.03598984826763243, -0.13911762400061903, -0.09806718244913341, 0.17271267684549702, -0.20176645900541815, -0.030383894884123033, 0.542514351252644, -0.19960324223992335, 0.034959826411677164, -0.0666800256196185, -0.1585139485325512, -0.04525994593109901, -0.013527538787451257, -0.01602727646754741, -0.07699846474761304, -0.10736116401873824, -0.020827712412264273, -0.12410783201068572, -0.032973363725739654, -0.08330571504179052, -0.09719599878493956, 0.04889644942888846, -0.05751279673405601, -0.021087769251006645, -0.15470663343249516, -0.19969099241959518, -0.10516782560965252, 0.31047539820089415, -0.16604639719491682, -0.11097815585002521, -0.09363590787723731, -0.088031332721136, -0.1477204741963744, -0.07646888190095938, -0.11940371945881173, 0.0006707041061465085, -0.2324679731954941, -0.06257307157306244, -0.10686903503757901, 0.16321997396731538, -0.17302992172393775, -0.009512996862825047, -0.1453463794223952, -0.09941657232582292, -0.23963222555938016, -0.11219348851188293, -0.01517686510897403, -0.07883831732519996, 0.05580941240967829, 0.11723483176152105, -0.1620798988504397, -0.03848205482181974, 0.0929276175478771, -0.034594700411443, 0.23877726023247298, -0.13549000610738438, -0.11099234916307876, 0.18513065159892333, -0.07980945709649932, -0.13579691216641607, -0.1798383088179631, -0.19736943547539207, 0.06946296890501193, -0.2100530838075241, 0.01903394982492507, -0.09525366491609719, 0.1283915428426624, -0.20588028865155386, -0.13296167428381583, 0.12085649055378693, -0.16461939987822738, 0.1887866128052908, -0.069654181353452, -0.09831947364768817, 0.16905936167125044, -0.001979327501637736, -0.05617206859986779, -0.041387871468257634, -0.02388865175666304, -0.05946105555413562, -0.0769875120960118, -0.22277986881993478, 0.046179390799100134, 0.0213025073122089, 0.29931676209883384, -0.1776971040545307, 0.45426478857769154, -0.13063801647622386, 0.026453870264116795, -0.0051795962279866554, -0.13338538239242034, -0.08416498321788944, -0.03501119329559108, 0.3614339922975279, -0.2038482655073016, 0.14911856945528923, -0.11271137994577249, -0.020757901068589543, 0.5070349328943241, 0.7339532506205633, -0.17956940947861194, -0.09931432421208233, 0.0032628190762079203, -0.08816288866344539, 0.6543764942241572, -0.01396738582893789, -0.009352450369352557, -0.08539661744645087, 0.3839428361946551, -0.11086557897356294, -0.12713798944637564, -0.031107726223456526, 0.019874548277656653, 0.122521517560955, -0.2116348414853813, -0.07205345985164222, 0.15080458541832545, -0.012745538767701344, -0.07862331517787441, -0.11447351738467079, -0.059773746466351946, 0.3367504095586578], \"yaxis\": \"y\"}],                        {\"coloraxis\": {\"colorbar\": {\"title\": {\"text\": \"color\"}}, \"colorscale\": [[0.0, \"#0d0887\"], [0.1111111111111111, \"#46039f\"], [0.2222222222222222, \"#7201a8\"], [0.3333333333333333, \"#9c179e\"], [0.4444444444444444, \"#bd3786\"], [0.5555555555555556, \"#d8576b\"], [0.6666666666666666, \"#ed7953\"], [0.7777777777777778, \"#fb9f3a\"], [0.8888888888888888, \"#fdca26\"], [1.0, \"#f0f921\"]]}, \"legend\": {\"tracegroupgap\": 0}, \"margin\": {\"t\": 60}, \"template\": {\"data\": {\"bar\": [{\"error_x\": {\"color\": \"#2a3f5f\"}, \"error_y\": {\"color\": \"#2a3f5f\"}, \"marker\": {\"line\": {\"color\": \"#E5ECF6\", \"width\": 0.5}}, \"type\": \"bar\"}], \"barpolar\": [{\"marker\": {\"line\": {\"color\": \"#E5ECF6\", \"width\": 0.5}}, \"type\": \"barpolar\"}], \"carpet\": [{\"aaxis\": {\"endlinecolor\": \"#2a3f5f\", \"gridcolor\": \"white\", \"linecolor\": \"white\", \"minorgridcolor\": \"white\", \"startlinecolor\": \"#2a3f5f\"}, \"baxis\": {\"endlinecolor\": \"#2a3f5f\", \"gridcolor\": \"white\", \"linecolor\": \"white\", \"minorgridcolor\": \"white\", \"startlinecolor\": \"#2a3f5f\"}, \"type\": \"carpet\"}], \"choropleth\": [{\"colorbar\": {\"outlinewidth\": 0, \"ticks\": \"\"}, \"type\": \"choropleth\"}], \"contour\": [{\"colorbar\": {\"outlinewidth\": 0, \"ticks\": \"\"}, \"colorscale\": [[0.0, \"#0d0887\"], [0.1111111111111111, \"#46039f\"], [0.2222222222222222, \"#7201a8\"], [0.3333333333333333, \"#9c179e\"], [0.4444444444444444, \"#bd3786\"], [0.5555555555555556, \"#d8576b\"], [0.6666666666666666, \"#ed7953\"], [0.7777777777777778, \"#fb9f3a\"], [0.8888888888888888, \"#fdca26\"], [1.0, \"#f0f921\"]], \"type\": \"contour\"}], \"contourcarpet\": [{\"colorbar\": {\"outlinewidth\": 0, \"ticks\": \"\"}, \"type\": \"contourcarpet\"}], \"heatmap\": [{\"colorbar\": {\"outlinewidth\": 0, \"ticks\": \"\"}, \"colorscale\": [[0.0, \"#0d0887\"], [0.1111111111111111, \"#46039f\"], [0.2222222222222222, \"#7201a8\"], [0.3333333333333333, \"#9c179e\"], [0.4444444444444444, \"#bd3786\"], [0.5555555555555556, \"#d8576b\"], [0.6666666666666666, \"#ed7953\"], [0.7777777777777778, \"#fb9f3a\"], [0.8888888888888888, \"#fdca26\"], [1.0, \"#f0f921\"]], \"type\": \"heatmap\"}], \"heatmapgl\": [{\"colorbar\": {\"outlinewidth\": 0, \"ticks\": \"\"}, \"colorscale\": [[0.0, \"#0d0887\"], [0.1111111111111111, \"#46039f\"], [0.2222222222222222, \"#7201a8\"], [0.3333333333333333, \"#9c179e\"], [0.4444444444444444, \"#bd3786\"], [0.5555555555555556, \"#d8576b\"], [0.6666666666666666, \"#ed7953\"], [0.7777777777777778, \"#fb9f3a\"], [0.8888888888888888, \"#fdca26\"], [1.0, \"#f0f921\"]], \"type\": \"heatmapgl\"}], \"histogram\": [{\"marker\": {\"colorbar\": {\"outlinewidth\": 0, \"ticks\": \"\"}}, \"type\": \"histogram\"}], \"histogram2d\": [{\"colorbar\": {\"outlinewidth\": 0, \"ticks\": \"\"}, \"colorscale\": [[0.0, \"#0d0887\"], [0.1111111111111111, \"#46039f\"], [0.2222222222222222, \"#7201a8\"], [0.3333333333333333, \"#9c179e\"], [0.4444444444444444, \"#bd3786\"], [0.5555555555555556, \"#d8576b\"], [0.6666666666666666, \"#ed7953\"], [0.7777777777777778, \"#fb9f3a\"], [0.8888888888888888, \"#fdca26\"], [1.0, \"#f0f921\"]], \"type\": \"histogram2d\"}], \"histogram2dcontour\": [{\"colorbar\": {\"outlinewidth\": 0, \"ticks\": \"\"}, \"colorscale\": [[0.0, \"#0d0887\"], [0.1111111111111111, \"#46039f\"], [0.2222222222222222, \"#7201a8\"], [0.3333333333333333, \"#9c179e\"], [0.4444444444444444, \"#bd3786\"], [0.5555555555555556, \"#d8576b\"], [0.6666666666666666, \"#ed7953\"], [0.7777777777777778, \"#fb9f3a\"], [0.8888888888888888, \"#fdca26\"], [1.0, \"#f0f921\"]], \"type\": \"histogram2dcontour\"}], \"mesh3d\": [{\"colorbar\": {\"outlinewidth\": 0, \"ticks\": \"\"}, \"type\": \"mesh3d\"}], \"parcoords\": [{\"line\": {\"colorbar\": {\"outlinewidth\": 0, \"ticks\": \"\"}}, \"type\": \"parcoords\"}], \"pie\": [{\"automargin\": true, \"type\": \"pie\"}], \"scatter\": [{\"marker\": {\"colorbar\": {\"outlinewidth\": 0, \"ticks\": \"\"}}, \"type\": \"scatter\"}], \"scatter3d\": [{\"line\": {\"colorbar\": {\"outlinewidth\": 0, \"ticks\": \"\"}}, \"marker\": {\"colorbar\": {\"outlinewidth\": 0, \"ticks\": \"\"}}, \"type\": \"scatter3d\"}], \"scattercarpet\": [{\"marker\": {\"colorbar\": {\"outlinewidth\": 0, \"ticks\": \"\"}}, \"type\": \"scattercarpet\"}], \"scattergeo\": [{\"marker\": {\"colorbar\": {\"outlinewidth\": 0, \"ticks\": \"\"}}, \"type\": \"scattergeo\"}], \"scattergl\": [{\"marker\": {\"colorbar\": {\"outlinewidth\": 0, \"ticks\": \"\"}}, \"type\": \"scattergl\"}], \"scattermapbox\": [{\"marker\": {\"colorbar\": {\"outlinewidth\": 0, \"ticks\": \"\"}}, \"type\": \"scattermapbox\"}], \"scatterpolar\": [{\"marker\": {\"colorbar\": {\"outlinewidth\": 0, \"ticks\": \"\"}}, \"type\": \"scatterpolar\"}], \"scatterpolargl\": [{\"marker\": {\"colorbar\": {\"outlinewidth\": 0, \"ticks\": \"\"}}, \"type\": \"scatterpolargl\"}], \"scatterternary\": [{\"marker\": {\"colorbar\": {\"outlinewidth\": 0, \"ticks\": \"\"}}, \"type\": \"scatterternary\"}], \"surface\": [{\"colorbar\": {\"outlinewidth\": 0, \"ticks\": \"\"}, \"colorscale\": [[0.0, \"#0d0887\"], [0.1111111111111111, \"#46039f\"], [0.2222222222222222, \"#7201a8\"], [0.3333333333333333, \"#9c179e\"], [0.4444444444444444, \"#bd3786\"], [0.5555555555555556, \"#d8576b\"], [0.6666666666666666, \"#ed7953\"], [0.7777777777777778, \"#fb9f3a\"], [0.8888888888888888, \"#fdca26\"], [1.0, \"#f0f921\"]], \"type\": \"surface\"}], \"table\": [{\"cells\": {\"fill\": {\"color\": \"#EBF0F8\"}, \"line\": {\"color\": \"white\"}}, \"header\": {\"fill\": {\"color\": \"#C8D4E3\"}, \"line\": {\"color\": \"white\"}}, \"type\": \"table\"}]}, \"layout\": {\"annotationdefaults\": {\"arrowcolor\": \"#2a3f5f\", \"arrowhead\": 0, \"arrowwidth\": 1}, \"autotypenumbers\": \"strict\", \"coloraxis\": {\"colorbar\": {\"outlinewidth\": 0, \"ticks\": \"\"}}, \"colorscale\": {\"diverging\": [[0, \"#8e0152\"], [0.1, \"#c51b7d\"], [0.2, \"#de77ae\"], [0.3, \"#f1b6da\"], [0.4, \"#fde0ef\"], [0.5, \"#f7f7f7\"], [0.6, \"#e6f5d0\"], [0.7, \"#b8e186\"], [0.8, \"#7fbc41\"], [0.9, \"#4d9221\"], [1, \"#276419\"]], \"sequential\": [[0.0, \"#0d0887\"], [0.1111111111111111, \"#46039f\"], [0.2222222222222222, \"#7201a8\"], [0.3333333333333333, \"#9c179e\"], [0.4444444444444444, \"#bd3786\"], [0.5555555555555556, \"#d8576b\"], [0.6666666666666666, \"#ed7953\"], [0.7777777777777778, \"#fb9f3a\"], [0.8888888888888888, \"#fdca26\"], [1.0, \"#f0f921\"]], \"sequentialminus\": [[0.0, \"#0d0887\"], [0.1111111111111111, \"#46039f\"], [0.2222222222222222, \"#7201a8\"], [0.3333333333333333, \"#9c179e\"], [0.4444444444444444, \"#bd3786\"], [0.5555555555555556, \"#d8576b\"], [0.6666666666666666, \"#ed7953\"], [0.7777777777777778, \"#fb9f3a\"], [0.8888888888888888, \"#fdca26\"], [1.0, \"#f0f921\"]]}, \"colorway\": [\"#636efa\", \"#EF553B\", \"#00cc96\", \"#ab63fa\", \"#FFA15A\", \"#19d3f3\", \"#FF6692\", \"#B6E880\", \"#FF97FF\", \"#FECB52\"], \"font\": {\"color\": \"#2a3f5f\"}, \"geo\": {\"bgcolor\": \"white\", \"lakecolor\": \"white\", \"landcolor\": \"#E5ECF6\", \"showlakes\": true, \"showland\": true, \"subunitcolor\": \"white\"}, \"hoverlabel\": {\"align\": \"left\"}, \"hovermode\": \"closest\", \"mapbox\": {\"style\": \"light\"}, \"paper_bgcolor\": \"white\", \"plot_bgcolor\": \"#E5ECF6\", \"polar\": {\"angularaxis\": {\"gridcolor\": \"white\", \"linecolor\": \"white\", \"ticks\": \"\"}, \"bgcolor\": \"#E5ECF6\", \"radialaxis\": {\"gridcolor\": \"white\", \"linecolor\": \"white\", \"ticks\": \"\"}}, \"scene\": {\"xaxis\": {\"backgroundcolor\": \"#E5ECF6\", \"gridcolor\": \"white\", \"gridwidth\": 2, \"linecolor\": \"white\", \"showbackground\": true, \"ticks\": \"\", \"zerolinecolor\": \"white\"}, \"yaxis\": {\"backgroundcolor\": \"#E5ECF6\", \"gridcolor\": \"white\", \"gridwidth\": 2, \"linecolor\": \"white\", \"showbackground\": true, \"ticks\": \"\", \"zerolinecolor\": \"white\"}, \"zaxis\": {\"backgroundcolor\": \"#E5ECF6\", \"gridcolor\": \"white\", \"gridwidth\": 2, \"linecolor\": \"white\", \"showbackground\": true, \"ticks\": \"\", \"zerolinecolor\": \"white\"}}, \"shapedefaults\": {\"line\": {\"color\": \"#2a3f5f\"}}, \"ternary\": {\"aaxis\": {\"gridcolor\": \"white\", \"linecolor\": \"white\", \"ticks\": \"\"}, \"baxis\": {\"gridcolor\": \"white\", \"linecolor\": \"white\", \"ticks\": \"\"}, \"bgcolor\": \"#E5ECF6\", \"caxis\": {\"gridcolor\": \"white\", \"linecolor\": \"white\", \"ticks\": \"\"}}, \"title\": {\"x\": 0.05}, \"xaxis\": {\"automargin\": true, \"gridcolor\": \"white\", \"linecolor\": \"white\", \"ticks\": \"\", \"title\": {\"standoff\": 15}, \"zerolinecolor\": \"white\", \"zerolinewidth\": 2}, \"yaxis\": {\"automargin\": true, \"gridcolor\": \"white\", \"linecolor\": \"white\", \"ticks\": \"\", \"title\": {\"standoff\": 15}, \"zerolinecolor\": \"white\", \"zerolinewidth\": 2}}}, \"xaxis\": {\"anchor\": \"y\", \"domain\": [0.0, 1.0], \"title\": {\"text\": \"0\"}}, \"yaxis\": {\"anchor\": \"x\", \"domain\": [0.0, 1.0], \"title\": {\"text\": \"1\"}}},                        {\"responsive\": true}                    ).then(function(){\n",
       "                            \n",
       "var gd = document.getElementById('03b1405f-3c17-4ac9-b359-0e681a42d5ac');\n",
       "var x = new MutationObserver(function (mutations, observer) {{\n",
       "        var display = window.getComputedStyle(gd).display;\n",
       "        if (!display || display === 'none') {{\n",
       "            console.log([gd, 'removed!']);\n",
       "            Plotly.purge(gd);\n",
       "            observer.disconnect();\n",
       "        }}\n",
       "}});\n",
       "\n",
       "// Listen for the removal of the full notebook cells\n",
       "var notebookContainer = gd.closest('#notebook-container');\n",
       "if (notebookContainer) {{\n",
       "    x.observe(notebookContainer, {childList: true});\n",
       "}}\n",
       "\n",
       "// Listen for the clearing of the current output cell\n",
       "var outputEl = gd.closest('.output');\n",
       "if (outputEl) {{\n",
       "    x.observe(outputEl, {childList: true});\n",
       "}}\n",
       "\n",
       "                        })                };                });            </script>        </div>"
      ]
     },
     "metadata": {},
     "output_type": "display_data"
    }
   ],
   "source": [
    "pca = PCA(n_components = n_components)\n",
    "components = pca.fit_transform(normalized_df2)\n",
    "# Plotting the PCA scatter plot for different classes\n",
    "\n",
    "fig = px.scatter(components, x=0, y=1, color=normalized_merged_df_1['clusters_K_Means']) #check if column name is correct\n",
    "fig.show()"
   ]
  },
  {
   "cell_type": "markdown",
   "metadata": {},
   "source": [
    "# Explore clusters with box polts"
   ]
  },
  {
   "cell_type": "markdown",
   "metadata": {},
   "source": [
    "['uber_count','avg_price','median_daily_test_rate','avg_test_score']"
   ]
  },
  {
   "cell_type": "code",
   "execution_count": 48,
   "metadata": {},
   "outputs": [
    {
     "data": {
      "image/png": "[encoded data removed]",
      "text/plain": [
       "<Figure size 360x360 with 1 Axes>"
      ]
     },
     "metadata": {
      "needs_background": "light"
     },
     "output_type": "display_data"
    }
   ],
   "source": [
    "sns.set_palette(\"Blues\")\n",
    "sns.catplot(x = 'clusters_K_Means', y= \"uber_count\", kind=\"box\", data= orig_merged_df)\n",
    "\n",
    "#the below formula makes it all easier to read\n",
    "plt.xticks(\n",
    "    rotation=45, \n",
    "    horizontalalignment='right',\n",
    "    fontweight='light',\n",
    "    fontsize='x-large'  \n",
    ")\n",
    "\n",
    "plt.show()"
   ]
  },
  {
   "cell_type": "code",
   "execution_count": 49,
   "metadata": {},
   "outputs": [
    {
     "data": {
      "image/png": "[encoded data removed]",
      "text/plain": [
       "<Figure size 360x360 with 1 Axes>"
      ]
     },
     "metadata": {
      "needs_background": "light"
     },
     "output_type": "display_data"
    }
   ],
   "source": [
    "#avg_price\n",
    "sns.set_palette(\"Blues\")\n",
    "sns.catplot(x = 'clusters_K_Means', y= \"avg_price\", kind=\"box\", data= orig_merged_df)\n",
    "\n",
    "#the below formula makes it all easier to read\n",
    "plt.xticks(\n",
    "    rotation=45, \n",
    "    horizontalalignment='right',\n",
    "    fontweight='light',\n",
    "    fontsize='x-large'  \n",
    ")\n",
    "\n",
    "plt.show()"
   ]
  },
  {
   "cell_type": "code",
   "execution_count": 50,
   "metadata": {},
   "outputs": [
    {
     "data": {
      "image/png": "[encoded data removed]",
      "text/plain": [
       "<Figure size 360x360 with 1 Axes>"
      ]
     },
     "metadata": {
      "needs_background": "light"
     },
     "output_type": "display_data"
    }
   ],
   "source": [
    "#median_daily_test_rate\n",
    "sns.set_palette(\"Blues\")\n",
    "sns.catplot(x = 'clusters_K_Means', y= \"median_daily_test_rate\", kind=\"box\", data= orig_merged_df)\n",
    "\n",
    "#the below formula makes it all easier to read\n",
    "plt.xticks(\n",
    "    rotation=45, \n",
    "    horizontalalignment='right',\n",
    "    fontweight='light',\n",
    "    fontsize='x-large'  \n",
    ")\n",
    "\n",
    "plt.show()"
   ]
  },
  {
   "cell_type": "code",
   "execution_count": 51,
   "metadata": {},
   "outputs": [
    {
     "data": {
      "image/png": "[encoded data removed]",
      "text/plain": [
       "<Figure size 360x360 with 1 Axes>"
      ]
     },
     "metadata": {
      "needs_background": "light"
     },
     "output_type": "display_data"
    }
   ],
   "source": [
    "#median_daily_test_rate\n",
    "sns.set_palette(\"Blues\")\n",
    "sns.catplot(x = 'clusters_K_Means', y= \"adj_pop\", kind=\"box\", data= orig_merged_df)\n",
    "\n",
    "#the below formula makes it all easier to read\n",
    "plt.xticks(\n",
    "    rotation=45, \n",
    "    horizontalalignment='right',\n",
    "    fontweight='light',\n",
    "    fontsize='x-large'  \n",
    ")\n",
    "\n",
    "plt.show()"
   ]
  },
  {
   "cell_type": "code",
   "execution_count": 52,
   "metadata": {},
   "outputs": [
    {
     "data": {
      "image/png": "[encoded data removed]",
      "text/plain": [
       "<Figure size 360x360 with 1 Axes>"
      ]
     },
     "metadata": {
      "needs_background": "light"
     },
     "output_type": "display_data"
    }
   ],
   "source": [
    "#median_daily_test_rate\n",
    "sns.set_palette(\"Blues\")\n",
    "sns.catplot(x = 'clusters_K_Means', y= \"avg_test_score\", kind=\"box\", data= orig_merged_df)\n",
    "\n",
    "#the below formula makes it all easier to read\n",
    "plt.xticks(\n",
    "    rotation=45, \n",
    "    horizontalalignment='right',\n",
    "    fontweight='light',\n",
    "    fontsize='x-large'  \n",
    ")\n",
    "\n",
    "plt.show()"
   ]
  },
  {
   "cell_type": "code",
   "execution_count": 53,
   "metadata": {},
   "outputs": [
    {
     "data": {
      "image/png": "[encoded data removed]",
      "text/plain": [
       "<Figure size 360x360 with 1 Axes>"
      ]
     },
     "metadata": {
      "needs_background": "light"
     },
     "output_type": "display_data"
    }
   ],
   "source": [
    "#median_daily_test_rate\n",
    "sns.set_palette(\"Blues\")\n",
    "sns.catplot(x = 'clusters_K_Means', y= \"house_price\", kind=\"box\", data= orig_merged_df)\n",
    "\n",
    "#the below formula makes it all easier to read\n",
    "plt.xticks(\n",
    "    rotation=45, \n",
    "    horizontalalignment='right',\n",
    "    fontweight='light',\n",
    "    fontsize='x-large'  \n",
    ")\n",
    "\n",
    "plt.show()"
   ]
  },
  {
   "cell_type": "code",
   "execution_count": 34,
   "metadata": {},
   "outputs": [
    {
     "data": {
      "text/html": [
       "<div>\n",
       "<style scoped>\n",
       "    .dataframe tbody tr th:only-of-type {\n",
       "        vertical-align: middle;\n",
       "    }\n",
       "\n",
       "    .dataframe tbody tr th {\n",
       "        vertical-align: top;\n",
       "    }\n",
       "\n",
       "    .dataframe thead th {\n",
       "        text-align: right;\n",
       "    }\n",
       "</style>\n",
       "<table border=\"1\" class=\"dataframe\">\n",
       "  <thead>\n",
       "    <tr style=\"text-align: right;\">\n",
       "      <th></th>\n",
       "      <th>uber_count</th>\n",
       "      <th>avg_price</th>\n",
       "      <th>adj_pop</th>\n",
       "      <th>median_daily_test_rate</th>\n",
       "      <th>avg_test_score</th>\n",
       "      <th>house_price</th>\n",
       "      <th>clusters_K_Means</th>\n",
       "    </tr>\n",
       "  </thead>\n",
       "  <tbody>\n",
       "    <tr>\n",
       "      <th>count</th>\n",
       "      <td>302.000000</td>\n",
       "      <td>302.000000</td>\n",
       "      <td>302.000000</td>\n",
       "      <td>302.000000</td>\n",
       "      <td>302.000000</td>\n",
       "      <td>3.020000e+02</td>\n",
       "      <td>302.00000</td>\n",
       "    </tr>\n",
       "    <tr>\n",
       "      <th>mean</th>\n",
       "      <td>8627.738411</td>\n",
       "      <td>1.660596</td>\n",
       "      <td>41037.817881</td>\n",
       "      <td>482.539073</td>\n",
       "      <td>39.916554</td>\n",
       "      <td>6.672672e+05</td>\n",
       "      <td>0.65894</td>\n",
       "    </tr>\n",
       "    <tr>\n",
       "      <th>std</th>\n",
       "      <td>21929.739104</td>\n",
       "      <td>0.175360</td>\n",
       "      <td>28266.396667</td>\n",
       "      <td>332.476092</td>\n",
       "      <td>10.083204</td>\n",
       "      <td>4.543206e+05</td>\n",
       "      <td>0.68168</td>\n",
       "    </tr>\n",
       "    <tr>\n",
       "      <th>min</th>\n",
       "      <td>0.000000</td>\n",
       "      <td>1.150000</td>\n",
       "      <td>0.000000</td>\n",
       "      <td>128.100000</td>\n",
       "      <td>11.450911</td>\n",
       "      <td>5.000000e+04</td>\n",
       "      <td>0.00000</td>\n",
       "    </tr>\n",
       "    <tr>\n",
       "      <th>25%</th>\n",
       "      <td>0.000000</td>\n",
       "      <td>1.550000</td>\n",
       "      <td>23926.000000</td>\n",
       "      <td>288.750000</td>\n",
       "      <td>33.000982</td>\n",
       "      <td>4.981248e+05</td>\n",
       "      <td>0.00000</td>\n",
       "    </tr>\n",
       "    <tr>\n",
       "      <th>50%</th>\n",
       "      <td>920.000000</td>\n",
       "      <td>1.650000</td>\n",
       "      <td>32887.500000</td>\n",
       "      <td>482.500000</td>\n",
       "      <td>40.922400</td>\n",
       "      <td>5.900000e+05</td>\n",
       "      <td>1.00000</td>\n",
       "    </tr>\n",
       "    <tr>\n",
       "      <th>75%</th>\n",
       "      <td>3673.250000</td>\n",
       "      <td>1.800000</td>\n",
       "      <td>52225.750000</td>\n",
       "      <td>482.500000</td>\n",
       "      <td>45.712733</td>\n",
       "      <td>7.383750e+05</td>\n",
       "      <td>1.00000</td>\n",
       "    </tr>\n",
       "    <tr>\n",
       "      <th>max</th>\n",
       "      <td>201832.000000</td>\n",
       "      <td>2.050000</td>\n",
       "      <td>159351.000000</td>\n",
       "      <td>3527.500000</td>\n",
       "      <td>81.326022</td>\n",
       "      <td>5.504250e+06</td>\n",
       "      <td>2.00000</td>\n",
       "    </tr>\n",
       "  </tbody>\n",
       "</table>\n",
       "</div>"
      ],
      "text/plain": [
       "          uber_count   avg_price        adj_pop  median_daily_test_rate  \\\n",
       "count     302.000000  302.000000     302.000000              302.000000   \n",
       "mean     8627.738411    1.660596   41037.817881              482.539073   \n",
       "std     21929.739104    0.175360   28266.396667              332.476092   \n",
       "min         0.000000    1.150000       0.000000              128.100000   \n",
       "25%         0.000000    1.550000   23926.000000              288.750000   \n",
       "50%       920.000000    1.650000   32887.500000              482.500000   \n",
       "75%      3673.250000    1.800000   52225.750000              482.500000   \n",
       "max    201832.000000    2.050000  159351.000000             3527.500000   \n",
       "\n",
       "       avg_test_score   house_price  clusters_K_Means  \n",
       "count      302.000000  3.020000e+02         302.00000  \n",
       "mean        39.916554  6.672672e+05           0.65894  \n",
       "std         10.083204  4.543206e+05           0.68168  \n",
       "min         11.450911  5.000000e+04           0.00000  \n",
       "25%         33.000982  4.981248e+05           0.00000  \n",
       "50%         40.922400  5.900000e+05           1.00000  \n",
       "75%         45.712733  7.383750e+05           1.00000  \n",
       "max         81.326022  5.504250e+06           2.00000  "
      ]
     },
     "execution_count": 34,
     "metadata": {},
     "output_type": "execute_result"
    }
   ],
   "source": [
    "orig_merged_df.describe()"
   ]
  },
  {
   "cell_type": "markdown",
   "metadata": {},
   "source": [
    "# Explore Feature Correlation with Heat Map"
   ]
  },
  {
   "cell_type": "code",
   "execution_count": 28,
   "metadata": {
    "ExecuteTime": {
     "end_time": "2020-02-10T14:37:14.692736Z",
     "start_time": "2020-02-10T14:37:14.683568Z"
    }
   },
   "outputs": [],
   "source": [
    "# compute correlations between features\n",
    "df_corr = normalized_merged_df_1.corr()\n"
   ]
  },
  {
   "cell_type": "code",
   "execution_count": 29,
   "metadata": {
    "ExecuteTime": {
     "end_time": "2020-02-10T14:37:22.204089Z",
     "start_time": "2020-02-10T14:37:21.980920Z"
    }
   },
   "outputs": [
    {
     "data": {
      "image/png": "[encoded data removed]",
      "text/plain": [
       "<Figure size 432x288 with 2 Axes>"
      ]
     },
     "metadata": {
      "needs_background": "light"
     },
     "output_type": "display_data"
    }
   ],
   "source": [
    "# plot the correlations\n",
    "sns.heatmap(df_corr)\n",
    "plt.title('Correlation plot')\n",
    "plt.show()"
   ]
  },
  {
   "cell_type": "code",
   "execution_count": null,
   "metadata": {},
   "outputs": [],
   "source": []
  },
  {
   "cell_type": "markdown",
   "metadata": {},
   "source": [
    "# Radar Plot"
   ]
  },
  {
   "cell_type": "raw",
   "metadata": {},
   "source": [
    "normalized_merged_df_1.mean()"
   ]
  },
  {
   "cell_type": "raw",
   "metadata": {},
   "source": [
    "\n",
    "df = pd.DataFrame(dict(\n",
    "    r=[normalized_merged_df_1['uber_count'].mean(),normalized_merged_df_1['avg_price'].mean(),normalized_merged_df_1['median_daily_test_rate'].mean()],\n",
    "    theta=['uber_count','avg_price','median_daily_test_rate']))\n",
    "fig = px.line_polar(df, r='r', theta='theta', line_close=True)\n",
    "fig.show()"
   ]
  },
  {
   "cell_type": "code",
   "execution_count": null,
   "metadata": {},
   "outputs": [],
   "source": []
  }
 ],
 "metadata": {
  "kernelspec": {
   "display_name": "Python 3",
   "language": "python",
   "name": "python3"
  },
  "language_info": {
   "codemirror_mode": {
    "name": "ipython",
    "version": 3
   },
   "file_extension": ".py",
   "mimetype": "text/x-python",
   "name": "python",
   "nbconvert_exporter": "python",
   "pygments_lexer": "ipython3",
   "version": "3.8.5"
  }
 },
 "nbformat": 4,
 "nbformat_minor": 4
}
