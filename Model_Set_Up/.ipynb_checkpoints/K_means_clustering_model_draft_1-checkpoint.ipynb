{
 "cells": [
  {
   "cell_type": "code",
   "execution_count": null,
   "metadata": {},
   "outputs": [],
   "source": []
  },
  {
   "cell_type": "code",
   "execution_count": 10,
   "metadata": {},
   "outputs": [],
   "source": [
    "# import Kmeans from sklearn\n",
    "from sklearn.cluster import KMeans\n",
    "\n",
    "# import numpy\n",
    "import numpy as np\n",
    "\n",
    "import pandas as pd\n",
    "\n",
    "# import matplotlib\n",
    "import matplotlib.pyplot as plt\n",
    "\n",
    "#import MinMaxScaler for Normalization\n",
    "from sklearn.preprocessing import MinMaxScaler\n",
    "\n",
    "# PCA scatterplot\n",
    "import plotly.express as px\n",
    "from sklearn.decomposition import PCA\n",
    "\n",
    "#for box and whisker plots\n",
    "import seaborn as sns"
   ]
  },
  {
   "cell_type": "markdown",
   "metadata": {},
   "source": [
    "# import data"
   ]
  },
  {
   "cell_type": "code",
   "execution_count": 11,
   "metadata": {},
   "outputs": [],
   "source": [
    "# load geo data\n",
    "nyc_geo_dataframe = pd.read_csv(\"nyc_data.csv\")"
   ]
  },
  {
   "cell_type": "code",
   "execution_count": 12,
   "metadata": {},
   "outputs": [
    {
     "data": {
      "text/html": [
       "<div>\n",
       "<style scoped>\n",
       "    .dataframe tbody tr th:only-of-type {\n",
       "        vertical-align: middle;\n",
       "    }\n",
       "\n",
       "    .dataframe tbody tr th {\n",
       "        vertical-align: top;\n",
       "    }\n",
       "\n",
       "    .dataframe thead th {\n",
       "        text-align: right;\n",
       "    }\n",
       "</style>\n",
       "<table border=\"1\" class=\"dataframe\">\n",
       "  <thead>\n",
       "    <tr style=\"text-align: right;\">\n",
       "      <th></th>\n",
       "      <th>name</th>\n",
       "      <th>longitude</th>\n",
       "      <th>latitude</th>\n",
       "      <th>uber_count</th>\n",
       "      <th>avg_price</th>\n",
       "      <th>adj_pop</th>\n",
       "      <th>median_daily_test_rate</th>\n",
       "      <th>avg_test_score</th>\n",
       "    </tr>\n",
       "  </thead>\n",
       "  <tbody>\n",
       "    <tr>\n",
       "      <th>0</th>\n",
       "      <td>Allerton</td>\n",
       "      <td>-73.859319</td>\n",
       "      <td>40.865788</td>\n",
       "      <td>860.0</td>\n",
       "      <td>1.50</td>\n",
       "      <td>28707.0</td>\n",
       "      <td>511.5</td>\n",
       "      <td>27.259983</td>\n",
       "    </tr>\n",
       "    <tr>\n",
       "      <th>1</th>\n",
       "      <td>Annadale</td>\n",
       "      <td>-74.178549</td>\n",
       "      <td>40.538114</td>\n",
       "      <td>11.0</td>\n",
       "      <td>1.75</td>\n",
       "      <td>27073.0</td>\n",
       "      <td>263.7</td>\n",
       "      <td>45.011856</td>\n",
       "    </tr>\n",
       "    <tr>\n",
       "      <th>2</th>\n",
       "      <td>Arden Heights</td>\n",
       "      <td>-74.185887</td>\n",
       "      <td>40.549286</td>\n",
       "      <td>10.0</td>\n",
       "      <td>1.70</td>\n",
       "      <td>25117.0</td>\n",
       "      <td>482.5</td>\n",
       "      <td>44.121985</td>\n",
       "    </tr>\n",
       "    <tr>\n",
       "      <th>3</th>\n",
       "      <td>Arlington</td>\n",
       "      <td>-74.165104</td>\n",
       "      <td>40.635325</td>\n",
       "      <td>0.0</td>\n",
       "      <td>1.55</td>\n",
       "      <td>29715.0</td>\n",
       "      <td>482.5</td>\n",
       "      <td>38.728529</td>\n",
       "    </tr>\n",
       "    <tr>\n",
       "      <th>4</th>\n",
       "      <td>Arrochar</td>\n",
       "      <td>-74.067124</td>\n",
       "      <td>40.596313</td>\n",
       "      <td>145.0</td>\n",
       "      <td>1.75</td>\n",
       "      <td>15659.0</td>\n",
       "      <td>317.3</td>\n",
       "      <td>48.440916</td>\n",
       "    </tr>\n",
       "  </tbody>\n",
       "</table>\n",
       "</div>"
      ],
      "text/plain": [
       "            name  longitude   latitude  uber_count  avg_price  adj_pop  \\\n",
       "0       Allerton -73.859319  40.865788       860.0       1.50  28707.0   \n",
       "1       Annadale -74.178549  40.538114        11.0       1.75  27073.0   \n",
       "2  Arden Heights -74.185887  40.549286        10.0       1.70  25117.0   \n",
       "3      Arlington -74.165104  40.635325         0.0       1.55  29715.0   \n",
       "4       Arrochar -74.067124  40.596313       145.0       1.75  15659.0   \n",
       "\n",
       "   median_daily_test_rate  avg_test_score  \n",
       "0                   511.5       27.259983  \n",
       "1                   263.7       45.011856  \n",
       "2                   482.5       44.121985  \n",
       "3                   482.5       38.728529  \n",
       "4                   317.3       48.440916  "
      ]
     },
     "execution_count": 12,
     "metadata": {},
     "output_type": "execute_result"
    }
   ],
   "source": [
    "nyc_geo_dataframe.head()"
   ]
  },
  {
   "cell_type": "code",
   "execution_count": 6,
   "metadata": {},
   "outputs": [],
   "source": [
    "#will we just cluster on this or take out a few things, like maybe longitude and latitude?"
   ]
  },
  {
   "cell_type": "code",
   "execution_count": 17,
   "metadata": {},
   "outputs": [],
   "source": [
    "#leaves out longitude and latitude\n",
    "nyc_geo_dataframe_features_only = nyc_geo_dataframe[['uber_count','avg_price','median_daily_test_rate','avg_test_score']]"
   ]
  },
  {
   "cell_type": "markdown",
   "metadata": {},
   "source": [
    "# Optional: Normalize Data"
   ]
  },
  {
   "cell_type": "code",
   "execution_count": 15,
   "metadata": {},
   "outputs": [
    {
     "data": {
      "text/plain": [
       "array([[4.26096952e-03, 3.88888889e-01, 1.12784609e-01, 2.26247536e-01],\n",
       "       [5.45007729e-05, 6.66666667e-01, 3.98893922e-02, 4.80298979e-01],\n",
       "       [4.95461572e-05, 6.11111111e-01, 1.04253692e-01, 4.67563822e-01],\n",
       "       ...,\n",
       "       [2.47730786e-05, 6.66666667e-01, 4.98323234e-02, 4.69728978e-01],\n",
       "       [2.26277300e-02, 2.77777778e-01, 3.40648350e-02, 5.08236863e-01],\n",
       "       [2.31970153e-01, 7.22222222e-01, 2.35394481e-01, 4.51739222e-01]])"
      ]
     },
     "execution_count": 15,
     "metadata": {},
     "output_type": "execute_result"
    }
   ],
   "source": [
    "#normalize\n",
    "scaler = MinMaxScaler()\n",
    "normalized_df1 = scaler.fit_transform(nyc_geo_dataframe_features_only)\n",
    "normalized_df1\n"
   ]
  },
  {
   "cell_type": "code",
   "execution_count": 16,
   "metadata": {},
   "outputs": [
    {
     "data": {
      "text/html": [
       "<div>\n",
       "<style scoped>\n",
       "    .dataframe tbody tr th:only-of-type {\n",
       "        vertical-align: middle;\n",
       "    }\n",
       "\n",
       "    .dataframe tbody tr th {\n",
       "        vertical-align: top;\n",
       "    }\n",
       "\n",
       "    .dataframe thead th {\n",
       "        text-align: right;\n",
       "    }\n",
       "</style>\n",
       "<table border=\"1\" class=\"dataframe\">\n",
       "  <thead>\n",
       "    <tr style=\"text-align: right;\">\n",
       "      <th></th>\n",
       "      <th>uber_count</th>\n",
       "      <th>avg_price</th>\n",
       "      <th>median_daily_test_rate</th>\n",
       "      <th>avg_test_score</th>\n",
       "    </tr>\n",
       "  </thead>\n",
       "  <tbody>\n",
       "    <tr>\n",
       "      <th>0</th>\n",
       "      <td>0.004261</td>\n",
       "      <td>0.388889</td>\n",
       "      <td>0.112785</td>\n",
       "      <td>0.226248</td>\n",
       "    </tr>\n",
       "    <tr>\n",
       "      <th>1</th>\n",
       "      <td>0.000055</td>\n",
       "      <td>0.666667</td>\n",
       "      <td>0.039889</td>\n",
       "      <td>0.480299</td>\n",
       "    </tr>\n",
       "    <tr>\n",
       "      <th>2</th>\n",
       "      <td>0.000050</td>\n",
       "      <td>0.611111</td>\n",
       "      <td>0.104254</td>\n",
       "      <td>0.467564</td>\n",
       "    </tr>\n",
       "    <tr>\n",
       "      <th>3</th>\n",
       "      <td>0.000000</td>\n",
       "      <td>0.444444</td>\n",
       "      <td>0.104254</td>\n",
       "      <td>0.390377</td>\n",
       "    </tr>\n",
       "    <tr>\n",
       "      <th>4</th>\n",
       "      <td>0.000718</td>\n",
       "      <td>0.666667</td>\n",
       "      <td>0.055657</td>\n",
       "      <td>0.529373</td>\n",
       "    </tr>\n",
       "    <tr>\n",
       "      <th>...</th>\n",
       "      <td>...</td>\n",
       "      <td>...</td>\n",
       "      <td>...</td>\n",
       "      <td>...</td>\n",
       "    </tr>\n",
       "    <tr>\n",
       "      <th>297</th>\n",
       "      <td>0.010197</td>\n",
       "      <td>0.277778</td>\n",
       "      <td>0.027681</td>\n",
       "      <td>0.418960</td>\n",
       "    </tr>\n",
       "    <tr>\n",
       "      <th>298</th>\n",
       "      <td>0.004013</td>\n",
       "      <td>0.277778</td>\n",
       "      <td>0.038830</td>\n",
       "      <td>0.493530</td>\n",
       "    </tr>\n",
       "    <tr>\n",
       "      <th>299</th>\n",
       "      <td>0.000025</td>\n",
       "      <td>0.666667</td>\n",
       "      <td>0.049832</td>\n",
       "      <td>0.469729</td>\n",
       "    </tr>\n",
       "    <tr>\n",
       "      <th>300</th>\n",
       "      <td>0.022628</td>\n",
       "      <td>0.277778</td>\n",
       "      <td>0.034065</td>\n",
       "      <td>0.508237</td>\n",
       "    </tr>\n",
       "    <tr>\n",
       "      <th>301</th>\n",
       "      <td>0.231970</td>\n",
       "      <td>0.722222</td>\n",
       "      <td>0.235394</td>\n",
       "      <td>0.451739</td>\n",
       "    </tr>\n",
       "  </tbody>\n",
       "</table>\n",
       "<p>302 rows × 4 columns</p>\n",
       "</div>"
      ],
      "text/plain": [
       "     uber_count  avg_price  median_daily_test_rate  avg_test_score\n",
       "0      0.004261   0.388889                0.112785        0.226248\n",
       "1      0.000055   0.666667                0.039889        0.480299\n",
       "2      0.000050   0.611111                0.104254        0.467564\n",
       "3      0.000000   0.444444                0.104254        0.390377\n",
       "4      0.000718   0.666667                0.055657        0.529373\n",
       "..          ...        ...                     ...             ...\n",
       "297    0.010197   0.277778                0.027681        0.418960\n",
       "298    0.004013   0.277778                0.038830        0.493530\n",
       "299    0.000025   0.666667                0.049832        0.469729\n",
       "300    0.022628   0.277778                0.034065        0.508237\n",
       "301    0.231970   0.722222                0.235394        0.451739\n",
       "\n",
       "[302 rows x 4 columns]"
      ]
     },
     "execution_count": 16,
     "metadata": {},
     "output_type": "execute_result"
    }
   ],
   "source": [
    "#make interpretable df\n",
    "normalized_df2 = pd.DataFrame(data=normalized_df1, columns=['uber_count','avg_price','median_daily_test_rate','avg_test_score'])\n",
    "normalized_df2"
   ]
  },
  {
   "cell_type": "markdown",
   "metadata": {},
   "source": [
    "# Elbow Plot"
   ]
  },
  {
   "cell_type": "code",
   "execution_count": 18,
   "metadata": {},
   "outputs": [],
   "source": [
    "def plot_distortion(X,max_clusters = 30):\n",
    "    distortions = []\n",
    "    for i in range(1, max_clusters +1):\n",
    "        km = KMeans(n_clusters=i,\n",
    "                    init='k-means++',\n",
    "                    n_init=10,\n",
    "                    random_state=0)\n",
    "        km.fit(X)\n",
    "        distortions.append(km.inertia_)\n",
    "\n",
    "    plt.plot(range(1,max_clusters +1), distortions, marker='o')\n",
    "    plt.xlabel('Number of clusters')\n",
    "    plt.ylabel('Distortion')\n",
    "    plt.show() "
   ]
  },
  {
   "cell_type": "code",
   "execution_count": 21,
   "metadata": {},
   "outputs": [
    {
     "data": {
      "image/png": "[encoded data removed]",
      "text/plain": [
       "<Figure size 432x288 with 1 Axes>"
      ]
     },
     "metadata": {
      "needs_background": "light"
     },
     "output_type": "display_data"
    }
   ],
   "source": [
    "# elbow rule graph\n",
    "plot_distortion(normalized_df2,max_clusters=10)"
   ]
  },
  {
   "cell_type": "code",
   "execution_count": 3,
   "metadata": {},
   "outputs": [],
   "source": [
    "#decide on number of clusters, input below"
   ]
  },
  {
   "cell_type": "markdown",
   "metadata": {},
   "source": [
    "# Create clustering model with K-Means"
   ]
  },
  {
   "cell_type": "code",
   "execution_count": 22,
   "metadata": {},
   "outputs": [],
   "source": [
    "km = KMeans(n_clusters=3, # how many clusters we expected \n",
    "            n_init=10, # how many initial runs\n",
    "            random_state=0)"
   ]
  },
  {
   "cell_type": "code",
   "execution_count": 23,
   "metadata": {},
   "outputs": [],
   "source": [
    "# y Axis for K-Means\n",
    "\n",
    "y_km = km.fit_predict(normalized_df2)"
   ]
  },
  {
   "cell_type": "code",
   "execution_count": 24,
   "metadata": {},
   "outputs": [
    {
     "data": {
      "text/plain": [
       "array([1, 0, 0, 1, 0, 0, 2, 1, 0, 1, 0, 0, 0, 1, 0, 1, 1, 0, 0, 1, 0, 1,\n",
       "       0, 1, 0, 0, 1, 0, 0, 0, 1, 0, 1, 1, 1, 0, 1, 1, 1, 1, 0, 1, 1, 0,\n",
       "       0, 1, 0, 2, 0, 2, 1, 0, 1, 1, 1, 1, 0, 2, 0, 1, 0, 0, 0, 1, 1, 1,\n",
       "       1, 1, 2, 1, 0, 0, 0, 1, 0, 0, 1, 1, 1, 1, 1, 2, 0, 1, 1, 1, 0, 0,\n",
       "       1, 1, 0, 0, 0, 1, 0, 2, 0, 0, 0, 1, 0, 1, 0, 0, 0, 0, 1, 0, 0, 0,\n",
       "       0, 0, 1, 0, 2, 1, 0, 0, 1, 0, 0, 0, 2, 1, 1, 0, 0, 1, 1, 1, 1, 1,\n",
       "       1, 0, 1, 2, 0, 0, 1, 1, 1, 1, 1, 1, 1, 1, 0, 0, 1, 1, 1, 2, 0, 2,\n",
       "       0, 1, 0, 0, 1, 1, 1, 0, 0, 0, 0, 0, 1, 1, 0, 1, 1, 1, 1, 0, 2, 2,\n",
       "       1, 0, 0, 0, 1, 1, 1, 1, 1, 1, 2, 0, 0, 0, 0, 1, 0, 0, 1, 1, 1, 1,\n",
       "       0, 0, 1, 1, 0, 1, 1, 0, 0, 2, 1, 0, 0, 1, 0, 1, 1, 1, 1, 0, 0, 0,\n",
       "       0, 1, 0, 0, 1, 0, 0, 0, 1, 0, 0, 0, 1, 0, 1, 0, 0, 0, 0, 1, 1, 0,\n",
       "       0, 0, 0, 1, 0, 0, 0, 2, 0, 1, 0, 1, 1, 0, 1, 0, 1, 0, 0, 1, 0, 2,\n",
       "       1, 0, 0, 0, 0, 0, 1, 0, 1, 2, 0, 2, 1, 1, 2, 2, 1, 1, 0, 1, 1, 1,\n",
       "       1, 1, 2, 1, 1, 0, 1, 2, 1, 0, 0, 1, 1, 0, 1, 2], dtype=int32)"
      ]
     },
     "execution_count": 24,
     "metadata": {},
     "output_type": "execute_result"
    }
   ],
   "source": [
    "y_km"
   ]
  },
  {
   "cell_type": "markdown",
   "metadata": {},
   "source": [
    "# Make cluster series for merging"
   ]
  },
  {
   "cell_type": "code",
   "execution_count": 25,
   "metadata": {},
   "outputs": [],
   "source": [
    "y_km_series_for_merging = pd.Series(data=y_km, name='clusters_K_Means')"
   ]
  },
  {
   "cell_type": "code",
   "execution_count": 26,
   "metadata": {},
   "outputs": [
    {
     "data": {
      "text/plain": [
       "0      1\n",
       "1      0\n",
       "2      0\n",
       "3      1\n",
       "4      0\n",
       "      ..\n",
       "297    1\n",
       "298    1\n",
       "299    0\n",
       "300    1\n",
       "301    2\n",
       "Name: clusters_K_Means, Length: 302, dtype: int32"
      ]
     },
     "execution_count": 26,
     "metadata": {},
     "output_type": "execute_result"
    }
   ],
   "source": [
    "y_km_series_for_merging"
   ]
  },
  {
   "cell_type": "markdown",
   "metadata": {},
   "source": [
    "# Merge Clusters on to Orig Dataframe"
   ]
  },
  {
   "cell_type": "code",
   "execution_count": 27,
   "metadata": {},
   "outputs": [],
   "source": [
    "#this merge is on to the orig, unnormalized data\n",
    "#use: box and whisker plots\n",
    "\n",
    "orig_merged_df = nyc_geo_dataframe_features_only.merge(y_km_series_for_merging, how='inner', left_index = True, right_index = True)"
   ]
  },
  {
   "cell_type": "code",
   "execution_count": 31,
   "metadata": {},
   "outputs": [],
   "source": [
    "#this merge is on the normalized data\n",
    "#use: PCA, Heatmap\n",
    "\n",
    "normalized_merged_df_1 = normalized_df2.merge(y_km_series_for_merging, how='inner', left_index = True, right_index = True)"
   ]
  },
  {
   "cell_type": "code",
   "execution_count": 32,
   "metadata": {},
   "outputs": [
    {
     "data": {
      "text/html": [
       "<div>\n",
       "<style scoped>\n",
       "    .dataframe tbody tr th:only-of-type {\n",
       "        vertical-align: middle;\n",
       "    }\n",
       "\n",
       "    .dataframe tbody tr th {\n",
       "        vertical-align: top;\n",
       "    }\n",
       "\n",
       "    .dataframe thead th {\n",
       "        text-align: right;\n",
       "    }\n",
       "</style>\n",
       "<table border=\"1\" class=\"dataframe\">\n",
       "  <thead>\n",
       "    <tr style=\"text-align: right;\">\n",
       "      <th></th>\n",
       "      <th>uber_count</th>\n",
       "      <th>avg_price</th>\n",
       "      <th>median_daily_test_rate</th>\n",
       "      <th>avg_test_score</th>\n",
       "      <th>clusters_K_Means</th>\n",
       "    </tr>\n",
       "  </thead>\n",
       "  <tbody>\n",
       "    <tr>\n",
       "      <th>0</th>\n",
       "      <td>0.004261</td>\n",
       "      <td>0.388889</td>\n",
       "      <td>0.112785</td>\n",
       "      <td>0.226248</td>\n",
       "      <td>1</td>\n",
       "    </tr>\n",
       "    <tr>\n",
       "      <th>1</th>\n",
       "      <td>0.000055</td>\n",
       "      <td>0.666667</td>\n",
       "      <td>0.039889</td>\n",
       "      <td>0.480299</td>\n",
       "      <td>0</td>\n",
       "    </tr>\n",
       "    <tr>\n",
       "      <th>2</th>\n",
       "      <td>0.000050</td>\n",
       "      <td>0.611111</td>\n",
       "      <td>0.104254</td>\n",
       "      <td>0.467564</td>\n",
       "      <td>0</td>\n",
       "    </tr>\n",
       "    <tr>\n",
       "      <th>3</th>\n",
       "      <td>0.000000</td>\n",
       "      <td>0.444444</td>\n",
       "      <td>0.104254</td>\n",
       "      <td>0.390377</td>\n",
       "      <td>1</td>\n",
       "    </tr>\n",
       "    <tr>\n",
       "      <th>4</th>\n",
       "      <td>0.000718</td>\n",
       "      <td>0.666667</td>\n",
       "      <td>0.055657</td>\n",
       "      <td>0.529373</td>\n",
       "      <td>0</td>\n",
       "    </tr>\n",
       "  </tbody>\n",
       "</table>\n",
       "</div>"
      ],
      "text/plain": [
       "   uber_count  avg_price  median_daily_test_rate  avg_test_score  \\\n",
       "0    0.004261   0.388889                0.112785        0.226248   \n",
       "1    0.000055   0.666667                0.039889        0.480299   \n",
       "2    0.000050   0.611111                0.104254        0.467564   \n",
       "3    0.000000   0.444444                0.104254        0.390377   \n",
       "4    0.000718   0.666667                0.055657        0.529373   \n",
       "\n",
       "   clusters_K_Means  \n",
       "0                 1  \n",
       "1                 0  \n",
       "2                 0  \n",
       "3                 1  \n",
       "4                 0  "
      ]
     },
     "execution_count": 32,
     "metadata": {},
     "output_type": "execute_result"
    }
   ],
   "source": [
    "normalized_merged_df_1.head()"
   ]
  },
  {
   "cell_type": "markdown",
   "metadata": {},
   "source": [
    "# PCA scatterplot for this clustering"
   ]
  },
  {
   "cell_type": "code",
   "execution_count": 45,
   "metadata": {},
   "outputs": [],
   "source": [
    "n_components = 3 #from above"
   ]
  },
  {
   "cell_type": "code",
   "execution_count": 49,
   "metadata": {},
   "outputs": [
    {
     "data": {
      "application/vnd.plotly.v1+json": {
       "config": {
        "plotlyServerURL": "https://plot.ly"
       },
       "data": [
        {
         "hovertemplate": "0=%{x}<br>1=%{y}<br>color=%{marker.color}<extra></extra>",
         "legendgroup": "",
         "marker": {
          "color": [
           1,
           0,
           0,
           1,
           0,
           0,
           2,
           1,
           0,
           1,
           0,
           0,
           0,
           1,
           0,
           1,
           1,
           0,
           0,
           1,
           0,
           1,
           0,
           1,
           0,
           0,
           1,
           0,
           0,
           0,
           1,
           0,
           1,
           1,
           1,
           0,
           1,
           1,
           1,
           1,
           0,
           1,
           1,
           0,
           0,
           1,
           0,
           2,
           0,
           2,
           1,
           0,
           1,
           1,
           1,
           1,
           0,
           2,
           0,
           1,
           0,
           0,
           0,
           1,
           1,
           1,
           1,
           1,
           2,
           1,
           0,
           0,
           0,
           1,
           0,
           0,
           1,
           1,
           1,
           1,
           1,
           2,
           0,
           1,
           1,
           1,
           0,
           0,
           1,
           1,
           0,
           0,
           0,
           1,
           0,
           2,
           0,
           0,
           0,
           1,
           0,
           1,
           0,
           0,
           0,
           0,
           1,
           0,
           0,
           0,
           0,
           0,
           1,
           0,
           2,
           1,
           0,
           0,
           1,
           0,
           0,
           0,
           2,
           1,
           1,
           0,
           0,
           1,
           1,
           1,
           1,
           1,
           1,
           0,
           1,
           2,
           0,
           0,
           1,
           1,
           1,
           1,
           1,
           1,
           1,
           1,
           0,
           0,
           1,
           1,
           1,
           2,
           0,
           2,
           0,
           1,
           0,
           0,
           1,
           1,
           1,
           0,
           0,
           0,
           0,
           0,
           1,
           1,
           0,
           1,
           1,
           1,
           1,
           0,
           2,
           2,
           1,
           0,
           0,
           0,
           1,
           1,
           1,
           1,
           1,
           1,
           2,
           0,
           0,
           0,
           0,
           1,
           0,
           0,
           1,
           1,
           1,
           1,
           0,
           0,
           1,
           1,
           0,
           1,
           1,
           0,
           0,
           2,
           1,
           0,
           0,
           1,
           0,
           1,
           1,
           1,
           1,
           0,
           0,
           0,
           0,
           1,
           0,
           0,
           1,
           0,
           0,
           0,
           1,
           0,
           0,
           0,
           1,
           0,
           1,
           0,
           0,
           0,
           0,
           1,
           1,
           0,
           0,
           0,
           0,
           1,
           0,
           0,
           0,
           2,
           0,
           1,
           0,
           1,
           1,
           0,
           1,
           0,
           1,
           0,
           0,
           1,
           0,
           2,
           1,
           0,
           0,
           0,
           0,
           0,
           1,
           0,
           1,
           2,
           0,
           2,
           1,
           1,
           2,
           2,
           1,
           1,
           0,
           1,
           1,
           1,
           1,
           1,
           2,
           1,
           1,
           0,
           1,
           2,
           1,
           0,
           0,
           1,
           1,
           0,
           1,
           2
          ],
          "coloraxis": "coloraxis",
          "symbol": "circle"
         },
         "mode": "markers",
         "name": "",
         "orientation": "v",
         "showlegend": false,
         "type": "scatter",
         "x": [
          -0.2348793787447108,
          0.10317558794568354,
          0.055097872626444305,
          -0.12477017984675327,
          0.12336854938626335,
          0.05219078685139702,
          0.1837639574691732,
          -0.1789889480248042,
          0.10076255230891248,
          -0.2880460538309974,
          0.3068577476915478,
          0.2723281668260543,
          0.06058729258050147,
          -0.09652884587043944,
          0.2826171169275765,
          -0.4045394579513697,
          -0.3168137200904119,
          0.1755574543787853,
          0.036923044608432126,
          -0.060847493462350445,
          0.16178167224097817,
          -0.10948682073570344,
          -0.020354068596827705,
          -0.08776153064658962,
          0.2122952471659221,
          0.00949005483090481,
          -0.22091035388227254,
          0.15215716796916465,
          -0.02152136225948414,
          0.21585370648653796,
          -0.438502875266866,
          0.007701469467859466,
          -0.11007704786320727,
          -0.19009927874434746,
          -0.06125314693642686,
          -0.008837599655288159,
          -0.36078253656592135,
          -0.1941961059713756,
          -0.062429251217974394,
          -0.11780471452581091,
          0.3136764988590368,
          -0.22977635803396423,
          -0.3415165684380976,
          0.20494955294132333,
          0.1856705733388899,
          -0.1645743012802634,
          -0.010574048753337497,
          0.24263642484030284,
          0.20207320717971275,
          0.16301305452434206,
          -0.3328106672748506,
          0.37409264002908565,
          -0.4210227810570537,
          -0.16657114780643292,
          -0.2307582592601066,
          -0.25431820771020913,
          0.22311915840779695,
          0.23493758855712976,
          0.10948724013920151,
          -0.06568731251014792,
          0.31017553887302024,
          0.1277695364080232,
          0.06683214709342833,
          -0.2357750574629447,
          -0.24504708176278106,
          -0.20547073084721976,
          -0.3120074234338178,
          -0.08961683328344165,
          0.12744704198000079,
          -0.5233715652021995,
          0.14462987745099928,
          0.11324740393577495,
          0.24709198631232795,
          -0.22489803906342418,
          0.22506665698880354,
          -0.01863177973188566,
          -0.40422525156453226,
          -0.02476740415245323,
          -0.206812219307397,
          -0.15282822528907156,
          -0.2119619052684772,
          0.20612838247393409,
          0.07341331606237142,
          -0.35838855332177755,
          -0.23498025596786765,
          -0.3088721222312491,
          0.07975703005564883,
          0.2046383283832517,
          -0.20014765905264426,
          -0.1963954736564922,
          0.16049280848403205,
          0.16486480629579914,
          0.08327066612629942,
          -0.11018037768441905,
          0.056715458010981525,
          0.11616156771670078,
          0.2287948198516535,
          0.2417864719579024,
          0.0782648550501696,
          -0.05056879554732214,
          0.15370879438205504,
          -0.28983669190218075,
          0.3392555424948256,
          0.3490921125664369,
          0.12988103835021933,
          0.22522826794710946,
          -0.033804905969998786,
          0.10307922463976824,
          0.17511491274022783,
          0.0953497884266891,
          -0.013447757525659174,
          0.21888194895735907,
          -0.050887120365164316,
          0.14624564399159198,
          0.06661973722090553,
          -0.13296903990101325,
          0.21418584925416204,
          0.2212915193375148,
          -0.10699572797816878,
          0.2540800510982965,
          0.2094653614196673,
          0.15511863307023893,
          0.03441809021855898,
          -0.043979022334393686,
          -0.11631531490079816,
          0.023644171779659398,
          0.046739307373136064,
          -0.04645073385618183,
          -0.19578450058226116,
          -0.20854602191778,
          -0.15202511051689524,
          -0.08211624549955054,
          -0.04020877241933434,
          0.25492246598953655,
          -0.1175441168370947,
          0.49593433088051303,
          0.11062055562021818,
          0.2209966234386018,
          -0.33734703670271077,
          -0.1516880732536389,
          -0.1343943310716058,
          -0.3237360343822201,
          -0.3194204969163226,
          -0.2732845338753808,
          -0.0445972441709497,
          -0.2120338109137675,
          0.003236309620549129,
          0.1547422689974045,
          -0.10753229982102254,
          -0.20560532874567314,
          -0.3378432243204453,
          0.16961761952458507,
          0.24729594544526673,
          0.11547150852723355,
          -0.01921814995933571,
          -0.1437480970386985,
          0.47064389447578303,
          0.011478765534076327,
          -0.1881910158202458,
          -0.12020973571139933,
          -0.08242685296691923,
          0.11646266525915436,
          0.4222287437267653,
          0.16439147932202647,
          0.04154935894418456,
          0.2225885418473441,
          -0.05318582965771332,
          -0.16968490972737257,
          0.06678116381749691,
          -0.14031817828845372,
          -0.2357902817194429,
          -0.14932769740502036,
          -0.13911579482750505,
          0.27264097877899995,
          0.38201970977700456,
          0.16077522626963187,
          -0.09018658958832126,
          0.2011083664797728,
          0.17975903663829912,
          0.05078360084201695,
          -0.34927061519885294,
          -0.19358794843838736,
          -0.07420966749615779,
          -0.21480224985567822,
          -0.3245089070744824,
          -0.26378538595146833,
          0.2809307075142221,
          0.11357775158494686,
          0.0005598301342964119,
          0.1211620193491155,
          0.21607986197129764,
          -0.3183466275694408,
          0.045294952699766806,
          0.272388730448636,
          -0.40334468462070916,
          -0.056053498697620795,
          -0.05607609871652153,
          -0.38230226884138996,
          0.30402277172259556,
          0.2067906606725602,
          -0.19015258453348002,
          -0.13519410925411102,
          0.21668573938165497,
          -0.41718088477595966,
          -0.15610044896596878,
          0.15570364903825049,
          0.16891528185008386,
          0.3863866970938361,
          -0.23496437531758416,
          -0.006425494678775479,
          0.014562669827858801,
          -0.1161940179033705,
          0.3124657423772127,
          -0.08512049375676699,
          -0.12592303581246067,
          -0.1008940159119183,
          -0.34925977406024666,
          0.15545666577865527,
          0.03673740771271131,
          0.10244715860593481,
          0.1977623738434853,
          -0.3297916994523065,
          -0.006155226664019752,
          0.10242179605123798,
          -0.11357820179586929,
          0.045453915935870275,
          0.031074816384831096,
          0.08246403621220533,
          -0.07611271746926918,
          0.053940219362079024,
          0.20850548432643048,
          0.3631906104610427,
          -0.1658420820468184,
          0.20464068813152866,
          -0.2204112069743278,
          0.0716206827158577,
          0.0253073568062879,
          0.045761327697029876,
          0.07420676261007221,
          -0.20381556589299857,
          -0.15293639299758163,
          0.1010416916224951,
          0.014446175623144354,
          0.10642145301671839,
          0.08179358261897009,
          -0.11018361228802277,
          0.07925144001258545,
          0.17178235581440238,
          0.10764579409741144,
          0.055646971980617535,
          0.06170556804511579,
          -0.16411516124847816,
          0.21765599540444486,
          -0.26962992541550235,
          -0.14530101717356844,
          0.03651817505647212,
          -0.20655304002731914,
          0.23624591216716645,
          -0.2623798256063793,
          0.04874457524109572,
          0.11005764014536759,
          -0.3055321916303293,
          0.021917580903783648,
          0.16862806440297934,
          -0.01581276016873426,
          0.10142117899088982,
          0.14169769726601736,
          0.18854052413970945,
          0.17418116695309416,
          0.2573957440276941,
          -0.04531892918024329,
          0.25463013371963655,
          -0.05087148045559154,
          0.6340509917189682,
          0.09068453335155888,
          0.06051713149586429,
          -0.0995182424235419,
          -0.30524196246015,
          0.4171567616577887,
          0.38240002304671994,
          -0.0636992640907503,
          -0.047759179787087824,
          0.24453109851348023,
          -0.38709754508878913,
          -0.3015752063439158,
          -0.0916582757801281,
          -0.12237302675831818,
          -0.038639096087048214,
          0.3585647026097598,
          -0.1162529211633599,
          -0.09021653010712921,
          0.19793270925317644,
          -0.27540901999463313,
          0.24269585208582917,
          -0.060469827727853524,
          0.11629291284664794,
          0.07880485865123131,
          -0.271701020242448,
          -0.24360585299792584,
          0.10029860932718447,
          -0.23553359424840195,
          0.20259138003204702
         ],
         "xaxis": "x",
         "y": [
          -0.07867064303983518,
          -0.017281554591166395,
          0.013145983485465992,
          0.023015562265176873,
          0.02567901316530623,
          -0.2517291163644959,
          0.03826973818853904,
          0.03836448018741507,
          0.10809184355431103,
          0.19615375433663432,
          0.031132029834660596,
          0.08043797843841413,
          0.024734119910526056,
          -0.04909697967924402,
          -0.022922012839055216,
          -0.047723911470943695,
          0.14513315944750965,
          -0.25072609462499834,
          0.10419158678538396,
          0.1572774094199036,
          -0.024120199723657088,
          0.18563175494929873,
          -0.015918950420997828,
          0.09965764687028075,
          0.08264660219090493,
          0.046571920140612615,
          0.07760311946003115,
          0.08891527569842246,
          -0.02158624917559401,
          0.089888281576207,
          0.007813841414729673,
          0.3010324465824911,
          -0.07811635219633067,
          0.015020204049758,
          -0.10193616425951636,
          -0.37899959771015956,
          0.044182192970373,
          0.008554325864633226,
          0.024734631378924548,
          -0.08831934293175532,
          -0.08984428715352549,
          0.05883582377501797,
          -0.04648531000916544,
          -0.059771069885172785,
          -0.22929034476930304,
          -0.19207401967909024,
          0.0044297048944548,
          -0.09566590434159686,
          -0.06766225487965838,
          0.25589257220630957,
          0.10440451829014502,
          -0.22387276980968557,
          0.17609584380287296,
          0.3295668120200603,
          -0.07035163660270795,
          0.007001037031127216,
          -0.021598262274489927,
          0.13965908861160625,
          0.0012472423604712598,
          0.016352357178158222,
          -0.3557520166511792,
          -0.0951795059637881,
          0.03779153996460975,
          -0.0797647639655889,
          -0.10023006187031591,
          0.23843782180686948,
          -0.11431911399823194,
          -0.035074987966060976,
          0.17247185590410083,
          0.22035231961677648,
          -0.05815209337094702,
          -0.12314626554300981,
          0.030322062912912805,
          -0.05785198639927906,
          -0.27582913655855007,
          -0.014941385190314089,
          0.08091615320823754,
          -0.15254069407423965,
          -0.013540293482867356,
          0.09804755053811189,
          -0.030799873999754673,
          -0.04981012272408135,
          -0.07594934218255134,
          0.049268912817758755,
          -0.20704297671903546,
          -0.2348288380658694,
          0.06502674973481554,
          -0.06042475930922691,
          -0.007448538827999774,
          0.12907811498434796,
          -0.02392563031433451,
          -0.014726893795644302,
          -0.056707321269632446,
          -0.2075767788036231,
          -0.11361307731802463,
          0.15793780282805012,
          -0.010579327455057188,
          0.020849846788121573,
          -0.19616942469314047,
          0.30808705508553036,
          -0.039724183842597106,
          0.06392077642660748,
          -0.03730784957636287,
          -0.14466536605600308,
          -0.34731147384258254,
          0.11007590915370012,
          0.08485659564489387,
          0.11341406445992208,
          -0.2516555996442071,
          -0.03153110218253464,
          -0.004444877967906691,
          0.09874950387081055,
          -0.08303463293112599,
          -0.18334015421420727,
          0.17355751979885395,
          0.0042134580327921264,
          -0.04037135009910482,
          -0.02544675220398558,
          0.1884030540108227,
          -0.0879732039925783,
          0.08011553026797594,
          -0.035214383414597386,
          0.23634017976277555,
          0.06349685442983315,
          -0.08839506146271131,
          -0.18211924343862707,
          -0.004394714816280631,
          -0.20243407532271593,
          0.0030922945426485053,
          -0.023695379874581014,
          -0.034777896504504566,
          -0.017197656363642923,
          0.19998496586023232,
          -0.08688040635118946,
          0.038193030894998516,
          0.043010150035677625,
          0.0005432915396491774,
          -0.024651639768032453,
          -0.03625569811409802,
          -0.1650005885726191,
          0.0040653030425913715,
          -0.006750694725720003,
          -0.00037507340246694363,
          -0.03260148542919629,
          -0.06918398956988199,
          0.0963324564767657,
          0.1602947878854136,
          -0.16221197665081266,
          -0.06720214809363122,
          -0.01944713736440928,
          0.09236343516685466,
          0.2709520225103157,
          -0.10199558252765988,
          0.2859969734468091,
          -0.016682916530847018,
          0.5029281894773993,
          0.11214857380740689,
          -0.2027329683255614,
          -0.11013842255659449,
          0.03393591913459934,
          0.11211005719998085,
          0.012813934026217002,
          0.13599835701440058,
          -0.01573789491628924,
          -0.14326663655625196,
          -0.15163694554479987,
          0.04414931688271296,
          -0.20248730320233083,
          0.16487420256835605,
          -0.011214831719427552,
          0.04626580858349911,
          -0.15927753122675548,
          -0.010071662273078822,
          -0.04558235904493236,
          0.6184669418633773,
          0.11037251801073591,
          0.09613767635171727,
          0.18855524667611084,
          0.016539794715389713,
          0.009213292764511011,
          -0.06327129387380193,
          0.00590043894202816,
          -0.13162725682314766,
          -0.1658572548329551,
          -0.00884993706710935,
          -0.13970530620722924,
          0.11539507826265066,
          0.0038538011979823033,
          0.027827326157509106,
          0.025828404441332022,
          -0.03639320618306288,
          0.1333136711641236,
          -0.0074447237999397215,
          -0.17656423534752963,
          0.08140109257961155,
          0.03719087447854215,
          -0.09114183039187193,
          0.12601128347323082,
          0.27426746241273103,
          -0.05784764593589738,
          0.017105441549545786,
          0.13046824484466085,
          -0.03512063419235025,
          -0.07417727335744109,
          0.08604848263551186,
          -0.03398562835246019,
          -0.006236196568886712,
          0.19869877484745227,
          -0.21093886657165398,
          -0.11795055423626903,
          -0.07412945728658069,
          -0.08813424163655288,
          -0.09238733424523726,
          -0.02324009409245843,
          0.019012734744974412,
          -0.18731636963674242,
          -0.06305467600071928,
          -0.03635389742240742,
          -0.025753659021299818,
          -0.2737295805821333,
          -0.07486686757591293,
          0.10930174219291688,
          0.010284991658768455,
          -0.016574642736201507,
          0.044299401061832604,
          -0.007008275347415109,
          -0.16663438068674447,
          -0.06022000939921534,
          -0.0037377604772884016,
          0.010620086978354554,
          -0.05230226744390926,
          -0.11506639095566605,
          0.06350983704024829,
          -0.18774583823731517,
          -0.048646323519266225,
          -0.08137120972913119,
          -0.05231349740785609,
          -0.008493596612939358,
          0.053281025111812624,
          -0.012399897939180381,
          0.09088822385251524,
          0.1096445376808491,
          -0.07223883723667299,
          -0.008276414011331282,
          -0.059916206482669404,
          0.17999264875469556,
          0.06374803522954989,
          -0.0018666666687338729,
          -0.007291228799806784,
          0.14881216290247365,
          -0.23141719290287074,
          -0.05979874260215294,
          -0.034721585715215754,
          -0.15112989839788263,
          -0.01721093716288567,
          -0.1550997681593978,
          -0.02151788755756639,
          -0.12496212445553603,
          -0.006607586321067853,
          -0.001785604868742282,
          -0.0006254895914968894,
          0.16027710012868684,
          -0.05745573932195959,
          0.004923119968181721,
          0.1254161032638822,
          -0.018778882930587434,
          -0.06396086021937358,
          0.03786617784669208,
          0.13132896834067748,
          -0.0785583145385059,
          0.060672786862304526,
          -0.08738951805548045,
          0.0490103265869884,
          0.46492771893433005,
          -0.04132990444294435,
          0.029970060453119417,
          0.07613776491959726,
          -0.09771436611648422,
          0.4152872159738249,
          0.3240680874846602,
          -0.1099250539324602,
          -0.07383698380772324,
          -0.3634027363750576,
          -0.010200154883337757,
          0.17974771160743877,
          -0.03665738842209519,
          0.025836089748290898,
          -0.056999038318164025,
          0.1414013467430873,
          -0.08800437964309604,
          -0.033615622033210064,
          0.18139580928934082,
          -0.03455357565086414,
          -0.10140338913829902,
          0.028850162687480134,
          0.01436538420133193,
          -0.06628171981678059,
          0.09964065092759036,
          0.1589224897812574,
          -0.02298673301682221,
          0.17603960853737408,
          0.07299756914722455
         ],
         "yaxis": "y"
        }
       ],
       "layout": {
        "autosize": true,
        "coloraxis": {
         "colorbar": {
          "title": {
           "text": "color"
          }
         },
         "colorscale": [
          [
           0,
           "#0d0887"
          ],
          [
           0.1111111111111111,
           "#46039f"
          ],
          [
           0.2222222222222222,
           "#7201a8"
          ],
          [
           0.3333333333333333,
           "#9c179e"
          ],
          [
           0.4444444444444444,
           "#bd3786"
          ],
          [
           0.5555555555555556,
           "#d8576b"
          ],
          [
           0.6666666666666666,
           "#ed7953"
          ],
          [
           0.7777777777777778,
           "#fb9f3a"
          ],
          [
           0.8888888888888888,
           "#fdca26"
          ],
          [
           1,
           "#f0f921"
          ]
         ]
        },
        "legend": {
         "tracegroupgap": 0
        },
        "margin": {
         "t": 60
        },
        "template": {
         "data": {
          "bar": [
           {
            "error_x": {
             "color": "#2a3f5f"
            },
            "error_y": {
             "color": "#2a3f5f"
            },
            "marker": {
             "line": {
              "color": "#E5ECF6",
              "width": 0.5
             }
            },
            "type": "bar"
           }
          ],
          "barpolar": [
           {
            "marker": {
             "line": {
              "color": "#E5ECF6",
              "width": 0.5
             }
            },
            "type": "barpolar"
           }
          ],
          "carpet": [
           {
            "aaxis": {
             "endlinecolor": "#2a3f5f",
             "gridcolor": "white",
             "linecolor": "white",
             "minorgridcolor": "white",
             "startlinecolor": "#2a3f5f"
            },
            "baxis": {
             "endlinecolor": "#2a3f5f",
             "gridcolor": "white",
             "linecolor": "white",
             "minorgridcolor": "white",
             "startlinecolor": "#2a3f5f"
            },
            "type": "carpet"
           }
          ],
          "choropleth": [
           {
            "colorbar": {
             "outlinewidth": 0,
             "ticks": ""
            },
            "type": "choropleth"
           }
          ],
          "contour": [
           {
            "colorbar": {
             "outlinewidth": 0,
             "ticks": ""
            },
            "colorscale": [
             [
              0,
              "#0d0887"
             ],
             [
              0.1111111111111111,
              "#46039f"
             ],
             [
              0.2222222222222222,
              "#7201a8"
             ],
             [
              0.3333333333333333,
              "#9c179e"
             ],
             [
              0.4444444444444444,
              "#bd3786"
             ],
             [
              0.5555555555555556,
              "#d8576b"
             ],
             [
              0.6666666666666666,
              "#ed7953"
             ],
             [
              0.7777777777777778,
              "#fb9f3a"
             ],
             [
              0.8888888888888888,
              "#fdca26"
             ],
             [
              1,
              "#f0f921"
             ]
            ],
            "type": "contour"
           }
          ],
          "contourcarpet": [
           {
            "colorbar": {
             "outlinewidth": 0,
             "ticks": ""
            },
            "type": "contourcarpet"
           }
          ],
          "heatmap": [
           {
            "colorbar": {
             "outlinewidth": 0,
             "ticks": ""
            },
            "colorscale": [
             [
              0,
              "#0d0887"
             ],
             [
              0.1111111111111111,
              "#46039f"
             ],
             [
              0.2222222222222222,
              "#7201a8"
             ],
             [
              0.3333333333333333,
              "#9c179e"
             ],
             [
              0.4444444444444444,
              "#bd3786"
             ],
             [
              0.5555555555555556,
              "#d8576b"
             ],
             [
              0.6666666666666666,
              "#ed7953"
             ],
             [
              0.7777777777777778,
              "#fb9f3a"
             ],
             [
              0.8888888888888888,
              "#fdca26"
             ],
             [
              1,
              "#f0f921"
             ]
            ],
            "type": "heatmap"
           }
          ],
          "heatmapgl": [
           {
            "colorbar": {
             "outlinewidth": 0,
             "ticks": ""
            },
            "colorscale": [
             [
              0,
              "#0d0887"
             ],
             [
              0.1111111111111111,
              "#46039f"
             ],
             [
              0.2222222222222222,
              "#7201a8"
             ],
             [
              0.3333333333333333,
              "#9c179e"
             ],
             [
              0.4444444444444444,
              "#bd3786"
             ],
             [
              0.5555555555555556,
              "#d8576b"
             ],
             [
              0.6666666666666666,
              "#ed7953"
             ],
             [
              0.7777777777777778,
              "#fb9f3a"
             ],
             [
              0.8888888888888888,
              "#fdca26"
             ],
             [
              1,
              "#f0f921"
             ]
            ],
            "type": "heatmapgl"
           }
          ],
          "histogram": [
           {
            "marker": {
             "colorbar": {
              "outlinewidth": 0,
              "ticks": ""
             }
            },
            "type": "histogram"
           }
          ],
          "histogram2d": [
           {
            "colorbar": {
             "outlinewidth": 0,
             "ticks": ""
            },
            "colorscale": [
             [
              0,
              "#0d0887"
             ],
             [
              0.1111111111111111,
              "#46039f"
             ],
             [
              0.2222222222222222,
              "#7201a8"
             ],
             [
              0.3333333333333333,
              "#9c179e"
             ],
             [
              0.4444444444444444,
              "#bd3786"
             ],
             [
              0.5555555555555556,
              "#d8576b"
             ],
             [
              0.6666666666666666,
              "#ed7953"
             ],
             [
              0.7777777777777778,
              "#fb9f3a"
             ],
             [
              0.8888888888888888,
              "#fdca26"
             ],
             [
              1,
              "#f0f921"
             ]
            ],
            "type": "histogram2d"
           }
          ],
          "histogram2dcontour": [
           {
            "colorbar": {
             "outlinewidth": 0,
             "ticks": ""
            },
            "colorscale": [
             [
              0,
              "#0d0887"
             ],
             [
              0.1111111111111111,
              "#46039f"
             ],
             [
              0.2222222222222222,
              "#7201a8"
             ],
             [
              0.3333333333333333,
              "#9c179e"
             ],
             [
              0.4444444444444444,
              "#bd3786"
             ],
             [
              0.5555555555555556,
              "#d8576b"
             ],
             [
              0.6666666666666666,
              "#ed7953"
             ],
             [
              0.7777777777777778,
              "#fb9f3a"
             ],
             [
              0.8888888888888888,
              "#fdca26"
             ],
             [
              1,
              "#f0f921"
             ]
            ],
            "type": "histogram2dcontour"
           }
          ],
          "mesh3d": [
           {
            "colorbar": {
             "outlinewidth": 0,
             "ticks": ""
            },
            "type": "mesh3d"
           }
          ],
          "parcoords": [
           {
            "line": {
             "colorbar": {
              "outlinewidth": 0,
              "ticks": ""
             }
            },
            "type": "parcoords"
           }
          ],
          "pie": [
           {
            "automargin": true,
            "type": "pie"
           }
          ],
          "scatter": [
           {
            "marker": {
             "colorbar": {
              "outlinewidth": 0,
              "ticks": ""
             }
            },
            "type": "scatter"
           }
          ],
          "scatter3d": [
           {
            "line": {
             "colorbar": {
              "outlinewidth": 0,
              "ticks": ""
             }
            },
            "marker": {
             "colorbar": {
              "outlinewidth": 0,
              "ticks": ""
             }
            },
            "type": "scatter3d"
           }
          ],
          "scattercarpet": [
           {
            "marker": {
             "colorbar": {
              "outlinewidth": 0,
              "ticks": ""
             }
            },
            "type": "scattercarpet"
           }
          ],
          "scattergeo": [
           {
            "marker": {
             "colorbar": {
              "outlinewidth": 0,
              "ticks": ""
             }
            },
            "type": "scattergeo"
           }
          ],
          "scattergl": [
           {
            "marker": {
             "colorbar": {
              "outlinewidth": 0,
              "ticks": ""
             }
            },
            "type": "scattergl"
           }
          ],
          "scattermapbox": [
           {
            "marker": {
             "colorbar": {
              "outlinewidth": 0,
              "ticks": ""
             }
            },
            "type": "scattermapbox"
           }
          ],
          "scatterpolar": [
           {
            "marker": {
             "colorbar": {
              "outlinewidth": 0,
              "ticks": ""
             }
            },
            "type": "scatterpolar"
           }
          ],
          "scatterpolargl": [
           {
            "marker": {
             "colorbar": {
              "outlinewidth": 0,
              "ticks": ""
             }
            },
            "type": "scatterpolargl"
           }
          ],
          "scatterternary": [
           {
            "marker": {
             "colorbar": {
              "outlinewidth": 0,
              "ticks": ""
             }
            },
            "type": "scatterternary"
           }
          ],
          "surface": [
           {
            "colorbar": {
             "outlinewidth": 0,
             "ticks": ""
            },
            "colorscale": [
             [
              0,
              "#0d0887"
             ],
             [
              0.1111111111111111,
              "#46039f"
             ],
             [
              0.2222222222222222,
              "#7201a8"
             ],
             [
              0.3333333333333333,
              "#9c179e"
             ],
             [
              0.4444444444444444,
              "#bd3786"
             ],
             [
              0.5555555555555556,
              "#d8576b"
             ],
             [
              0.6666666666666666,
              "#ed7953"
             ],
             [
              0.7777777777777778,
              "#fb9f3a"
             ],
             [
              0.8888888888888888,
              "#fdca26"
             ],
             [
              1,
              "#f0f921"
             ]
            ],
            "type": "surface"
           }
          ],
          "table": [
           {
            "cells": {
             "fill": {
              "color": "#EBF0F8"
             },
             "line": {
              "color": "white"
             }
            },
            "header": {
             "fill": {
              "color": "#C8D4E3"
             },
             "line": {
              "color": "white"
             }
            },
            "type": "table"
           }
          ]
         },
         "layout": {
          "annotationdefaults": {
           "arrowcolor": "#2a3f5f",
           "arrowhead": 0,
           "arrowwidth": 1
          },
          "autotypenumbers": "strict",
          "coloraxis": {
           "colorbar": {
            "outlinewidth": 0,
            "ticks": ""
           }
          },
          "colorscale": {
           "diverging": [
            [
             0,
             "#8e0152"
            ],
            [
             0.1,
             "#c51b7d"
            ],
            [
             0.2,
             "#de77ae"
            ],
            [
             0.3,
             "#f1b6da"
            ],
            [
             0.4,
             "#fde0ef"
            ],
            [
             0.5,
             "#f7f7f7"
            ],
            [
             0.6,
             "#e6f5d0"
            ],
            [
             0.7,
             "#b8e186"
            ],
            [
             0.8,
             "#7fbc41"
            ],
            [
             0.9,
             "#4d9221"
            ],
            [
             1,
             "#276419"
            ]
           ],
           "sequential": [
            [
             0,
             "#0d0887"
            ],
            [
             0.1111111111111111,
             "#46039f"
            ],
            [
             0.2222222222222222,
             "#7201a8"
            ],
            [
             0.3333333333333333,
             "#9c179e"
            ],
            [
             0.4444444444444444,
             "#bd3786"
            ],
            [
             0.5555555555555556,
             "#d8576b"
            ],
            [
             0.6666666666666666,
             "#ed7953"
            ],
            [
             0.7777777777777778,
             "#fb9f3a"
            ],
            [
             0.8888888888888888,
             "#fdca26"
            ],
            [
             1,
             "#f0f921"
            ]
           ],
           "sequentialminus": [
            [
             0,
             "#0d0887"
            ],
            [
             0.1111111111111111,
             "#46039f"
            ],
            [
             0.2222222222222222,
             "#7201a8"
            ],
            [
             0.3333333333333333,
             "#9c179e"
            ],
            [
             0.4444444444444444,
             "#bd3786"
            ],
            [
             0.5555555555555556,
             "#d8576b"
            ],
            [
             0.6666666666666666,
             "#ed7953"
            ],
            [
             0.7777777777777778,
             "#fb9f3a"
            ],
            [
             0.8888888888888888,
             "#fdca26"
            ],
            [
             1,
             "#f0f921"
            ]
           ]
          },
          "colorway": [
           "#636efa",
           "#EF553B",
           "#00cc96",
           "#ab63fa",
           "#FFA15A",
           "#19d3f3",
           "#FF6692",
           "#B6E880",
           "#FF97FF",
           "#FECB52"
          ],
          "font": {
           "color": "#2a3f5f"
          },
          "geo": {
           "bgcolor": "white",
           "lakecolor": "white",
           "landcolor": "#E5ECF6",
           "showlakes": true,
           "showland": true,
           "subunitcolor": "white"
          },
          "hoverlabel": {
           "align": "left"
          },
          "hovermode": "closest",
          "mapbox": {
           "style": "light"
          },
          "paper_bgcolor": "white",
          "plot_bgcolor": "#E5ECF6",
          "polar": {
           "angularaxis": {
            "gridcolor": "white",
            "linecolor": "white",
            "ticks": ""
           },
           "bgcolor": "#E5ECF6",
           "radialaxis": {
            "gridcolor": "white",
            "linecolor": "white",
            "ticks": ""
           }
          },
          "scene": {
           "xaxis": {
            "backgroundcolor": "#E5ECF6",
            "gridcolor": "white",
            "gridwidth": 2,
            "linecolor": "white",
            "showbackground": true,
            "ticks": "",
            "zerolinecolor": "white"
           },
           "yaxis": {
            "backgroundcolor": "#E5ECF6",
            "gridcolor": "white",
            "gridwidth": 2,
            "linecolor": "white",
            "showbackground": true,
            "ticks": "",
            "zerolinecolor": "white"
           },
           "zaxis": {
            "backgroundcolor": "#E5ECF6",
            "gridcolor": "white",
            "gridwidth": 2,
            "linecolor": "white",
            "showbackground": true,
            "ticks": "",
            "zerolinecolor": "white"
           }
          },
          "shapedefaults": {
           "line": {
            "color": "#2a3f5f"
           }
          },
          "ternary": {
           "aaxis": {
            "gridcolor": "white",
            "linecolor": "white",
            "ticks": ""
           },
           "baxis": {
            "gridcolor": "white",
            "linecolor": "white",
            "ticks": ""
           },
           "bgcolor": "#E5ECF6",
           "caxis": {
            "gridcolor": "white",
            "linecolor": "white",
            "ticks": ""
           }
          },
          "title": {
           "x": 0.05
          },
          "xaxis": {
           "automargin": true,
           "gridcolor": "white",
           "linecolor": "white",
           "ticks": "",
           "title": {
            "standoff": 15
           },
           "zerolinecolor": "white",
           "zerolinewidth": 2
          },
          "yaxis": {
           "automargin": true,
           "gridcolor": "white",
           "linecolor": "white",
           "ticks": "",
           "title": {
            "standoff": 15
           },
           "zerolinecolor": "white",
           "zerolinewidth": 2
          }
         }
        },
        "xaxis": {
         "anchor": "y",
         "autorange": true,
         "domain": [
          0,
          1
         ],
         "range": [
          -0.5942908971172951,
          0.7049703236340638
         ],
         "title": {
          "text": "0"
         },
         "type": "linear"
        },
        "yaxis": {
         "anchor": "x",
         "autorange": true,
         "domain": [
          0,
          1
         ],
         "range": [
          -0.44972236340736244,
          0.6891897075605802
         ],
         "title": {
          "text": "1"
         },
         "type": "linear"
        }
       }
      },
      "image/png": "[encoded data removed]",
      "text/html": [
       "<div>                            <div id=\"4bdc580d-9e9f-497f-80ef-dc63571c8dcb\" class=\"plotly-graph-div\" style=\"height:525px; width:100%;\"></div>            <script type=\"text/javascript\">                require([\"plotly\"], function(Plotly) {                    window.PLOTLYENV=window.PLOTLYENV || {};                                    if (document.getElementById(\"4bdc580d-9e9f-497f-80ef-dc63571c8dcb\")) {                    Plotly.newPlot(                        \"4bdc580d-9e9f-497f-80ef-dc63571c8dcb\",                        [{\"hovertemplate\": \"0=%{x}<br>1=%{y}<br>color=%{marker.color}<extra></extra>\", \"legendgroup\": \"\", \"marker\": {\"color\": [1, 0, 0, 1, 0, 0, 2, 1, 0, 1, 0, 0, 0, 1, 0, 1, 1, 0, 0, 1, 0, 1, 0, 1, 0, 0, 1, 0, 0, 0, 1, 0, 1, 1, 1, 0, 1, 1, 1, 1, 0, 1, 1, 0, 0, 1, 0, 2, 0, 2, 1, 0, 1, 1, 1, 1, 0, 2, 0, 1, 0, 0, 0, 1, 1, 1, 1, 1, 2, 1, 0, 0, 0, 1, 0, 0, 1, 1, 1, 1, 1, 2, 0, 1, 1, 1, 0, 0, 1, 1, 0, 0, 0, 1, 0, 2, 0, 0, 0, 1, 0, 1, 0, 0, 0, 0, 1, 0, 0, 0, 0, 0, 1, 0, 2, 1, 0, 0, 1, 0, 0, 0, 2, 1, 1, 0, 0, 1, 1, 1, 1, 1, 1, 0, 1, 2, 0, 0, 1, 1, 1, 1, 1, 1, 1, 1, 0, 0, 1, 1, 1, 2, 0, 2, 0, 1, 0, 0, 1, 1, 1, 0, 0, 0, 0, 0, 1, 1, 0, 1, 1, 1, 1, 0, 2, 2, 1, 0, 0, 0, 1, 1, 1, 1, 1, 1, 2, 0, 0, 0, 0, 1, 0, 0, 1, 1, 1, 1, 0, 0, 1, 1, 0, 1, 1, 0, 0, 2, 1, 0, 0, 1, 0, 1, 1, 1, 1, 0, 0, 0, 0, 1, 0, 0, 1, 0, 0, 0, 1, 0, 0, 0, 1, 0, 1, 0, 0, 0, 0, 1, 1, 0, 0, 0, 0, 1, 0, 0, 0, 2, 0, 1, 0, 1, 1, 0, 1, 0, 1, 0, 0, 1, 0, 2, 1, 0, 0, 0, 0, 0, 1, 0, 1, 2, 0, 2, 1, 1, 2, 2, 1, 1, 0, 1, 1, 1, 1, 1, 2, 1, 1, 0, 1, 2, 1, 0, 0, 1, 1, 0, 1, 2], \"coloraxis\": \"coloraxis\", \"symbol\": \"circle\"}, \"mode\": \"markers\", \"name\": \"\", \"orientation\": \"v\", \"showlegend\": false, \"type\": \"scatter\", \"x\": [-0.2348793787447108, 0.10317558794568354, 0.055097872626444305, -0.12477017984675327, 0.12336854938626335, 0.05219078685139702, 0.1837639574691732, -0.1789889480248042, 0.10076255230891248, -0.2880460538309974, 0.3068577476915478, 0.2723281668260543, 0.06058729258050147, -0.09652884587043944, 0.2826171169275765, -0.4045394579513697, -0.3168137200904119, 0.1755574543787853, 0.036923044608432126, -0.060847493462350445, 0.16178167224097817, -0.10948682073570344, -0.020354068596827705, -0.08776153064658962, 0.2122952471659221, 0.00949005483090481, -0.22091035388227254, 0.15215716796916465, -0.02152136225948414, 0.21585370648653796, -0.438502875266866, 0.007701469467859466, -0.11007704786320727, -0.19009927874434746, -0.06125314693642686, -0.008837599655288159, -0.36078253656592135, -0.1941961059713756, -0.062429251217974394, -0.11780471452581091, 0.3136764988590368, -0.22977635803396423, -0.3415165684380976, 0.20494955294132333, 0.1856705733388899, -0.1645743012802634, -0.010574048753337497, 0.24263642484030284, 0.20207320717971275, 0.16301305452434206, -0.3328106672748506, 0.37409264002908565, -0.4210227810570537, -0.16657114780643292, -0.2307582592601066, -0.25431820771020913, 0.22311915840779695, 0.23493758855712976, 0.10948724013920151, -0.06568731251014792, 0.31017553887302024, 0.1277695364080232, 0.06683214709342833, -0.2357750574629447, -0.24504708176278106, -0.20547073084721976, -0.3120074234338178, -0.08961683328344165, 0.12744704198000079, -0.5233715652021995, 0.14462987745099928, 0.11324740393577495, 0.24709198631232795, -0.22489803906342418, 0.22506665698880354, -0.01863177973188566, -0.40422525156453226, -0.02476740415245323, -0.206812219307397, -0.15282822528907156, -0.2119619052684772, 0.20612838247393409, 0.07341331606237142, -0.35838855332177755, -0.23498025596786765, -0.3088721222312491, 0.07975703005564883, 0.2046383283832517, -0.20014765905264426, -0.1963954736564922, 0.16049280848403205, 0.16486480629579914, 0.08327066612629942, -0.11018037768441905, 0.056715458010981525, 0.11616156771670078, 0.2287948198516535, 0.2417864719579024, 0.0782648550501696, -0.05056879554732214, 0.15370879438205504, -0.28983669190218075, 0.3392555424948256, 0.3490921125664369, 0.12988103835021933, 0.22522826794710946, -0.033804905969998786, 0.10307922463976824, 0.17511491274022783, 0.0953497884266891, -0.013447757525659174, 0.21888194895735907, -0.050887120365164316, 0.14624564399159198, 0.06661973722090553, -0.13296903990101325, 0.21418584925416204, 0.2212915193375148, -0.10699572797816878, 0.2540800510982965, 0.2094653614196673, 0.15511863307023893, 0.03441809021855898, -0.043979022334393686, -0.11631531490079816, 0.023644171779659398, 0.046739307373136064, -0.04645073385618183, -0.19578450058226116, -0.20854602191778, -0.15202511051689524, -0.08211624549955054, -0.04020877241933434, 0.25492246598953655, -0.1175441168370947, 0.49593433088051303, 0.11062055562021818, 0.2209966234386018, -0.33734703670271077, -0.1516880732536389, -0.1343943310716058, -0.3237360343822201, -0.3194204969163226, -0.2732845338753808, -0.0445972441709497, -0.2120338109137675, 0.003236309620549129, 0.1547422689974045, -0.10753229982102254, -0.20560532874567314, -0.3378432243204453, 0.16961761952458507, 0.24729594544526673, 0.11547150852723355, -0.01921814995933571, -0.1437480970386985, 0.47064389447578303, 0.011478765534076327, -0.1881910158202458, -0.12020973571139933, -0.08242685296691923, 0.11646266525915436, 0.4222287437267653, 0.16439147932202647, 0.04154935894418456, 0.2225885418473441, -0.05318582965771332, -0.16968490972737257, 0.06678116381749691, -0.14031817828845372, -0.2357902817194429, -0.14932769740502036, -0.13911579482750505, 0.27264097877899995, 0.38201970977700456, 0.16077522626963187, -0.09018658958832126, 0.2011083664797728, 0.17975903663829912, 0.05078360084201695, -0.34927061519885294, -0.19358794843838736, -0.07420966749615779, -0.21480224985567822, -0.3245089070744824, -0.26378538595146833, 0.2809307075142221, 0.11357775158494686, 0.0005598301342964119, 0.1211620193491155, 0.21607986197129764, -0.3183466275694408, 0.045294952699766806, 0.272388730448636, -0.40334468462070916, -0.056053498697620795, -0.05607609871652153, -0.38230226884138996, 0.30402277172259556, 0.2067906606725602, -0.19015258453348002, -0.13519410925411102, 0.21668573938165497, -0.41718088477595966, -0.15610044896596878, 0.15570364903825049, 0.16891528185008386, 0.3863866970938361, -0.23496437531758416, -0.006425494678775479, 0.014562669827858801, -0.1161940179033705, 0.3124657423772127, -0.08512049375676699, -0.12592303581246067, -0.1008940159119183, -0.34925977406024666, 0.15545666577865527, 0.03673740771271131, 0.10244715860593481, 0.1977623738434853, -0.3297916994523065, -0.006155226664019752, 0.10242179605123798, -0.11357820179586929, 0.045453915935870275, 0.031074816384831096, 0.08246403621220533, -0.07611271746926918, 0.053940219362079024, 0.20850548432643048, 0.3631906104610427, -0.1658420820468184, 0.20464068813152866, -0.2204112069743278, 0.0716206827158577, 0.0253073568062879, 0.045761327697029876, 0.07420676261007221, -0.20381556589299857, -0.15293639299758163, 0.1010416916224951, 0.014446175623144354, 0.10642145301671839, 0.08179358261897009, -0.11018361228802277, 0.07925144001258545, 0.17178235581440238, 0.10764579409741144, 0.055646971980617535, 0.06170556804511579, -0.16411516124847816, 0.21765599540444486, -0.26962992541550235, -0.14530101717356844, 0.03651817505647212, -0.20655304002731914, 0.23624591216716645, -0.2623798256063793, 0.04874457524109572, 0.11005764014536759, -0.3055321916303293, 0.021917580903783648, 0.16862806440297934, -0.01581276016873426, 0.10142117899088982, 0.14169769726601736, 0.18854052413970945, 0.17418116695309416, 0.2573957440276941, -0.04531892918024329, 0.25463013371963655, -0.05087148045559154, 0.6340509917189682, 0.09068453335155888, 0.06051713149586429, -0.0995182424235419, -0.30524196246015, 0.4171567616577887, 0.38240002304671994, -0.0636992640907503, -0.047759179787087824, 0.24453109851348023, -0.38709754508878913, -0.3015752063439158, -0.0916582757801281, -0.12237302675831818, -0.038639096087048214, 0.3585647026097598, -0.1162529211633599, -0.09021653010712921, 0.19793270925317644, -0.27540901999463313, 0.24269585208582917, -0.060469827727853524, 0.11629291284664794, 0.07880485865123131, -0.271701020242448, -0.24360585299792584, 0.10029860932718447, -0.23553359424840195, 0.20259138003204702], \"xaxis\": \"x\", \"y\": [-0.07867064303983518, -0.017281554591166395, 0.013145983485465992, 0.023015562265176873, 0.02567901316530623, -0.2517291163644959, 0.03826973818853904, 0.03836448018741507, 0.10809184355431103, 0.19615375433663432, 0.031132029834660596, 0.08043797843841413, 0.024734119910526056, -0.04909697967924402, -0.022922012839055216, -0.047723911470943695, 0.14513315944750965, -0.25072609462499834, 0.10419158678538396, 0.1572774094199036, -0.024120199723657088, 0.18563175494929873, -0.015918950420997828, 0.09965764687028075, 0.08264660219090493, 0.046571920140612615, 0.07760311946003115, 0.08891527569842246, -0.02158624917559401, 0.089888281576207, 0.007813841414729673, 0.3010324465824911, -0.07811635219633067, 0.015020204049758, -0.10193616425951636, -0.37899959771015956, 0.044182192970373, 0.008554325864633226, 0.024734631378924548, -0.08831934293175532, -0.08984428715352549, 0.05883582377501797, -0.04648531000916544, -0.059771069885172785, -0.22929034476930304, -0.19207401967909024, 0.0044297048944548, -0.09566590434159686, -0.06766225487965838, 0.25589257220630957, 0.10440451829014502, -0.22387276980968557, 0.17609584380287296, 0.3295668120200603, -0.07035163660270795, 0.007001037031127216, -0.021598262274489927, 0.13965908861160625, 0.0012472423604712598, 0.016352357178158222, -0.3557520166511792, -0.0951795059637881, 0.03779153996460975, -0.0797647639655889, -0.10023006187031591, 0.23843782180686948, -0.11431911399823194, -0.035074987966060976, 0.17247185590410083, 0.22035231961677648, -0.05815209337094702, -0.12314626554300981, 0.030322062912912805, -0.05785198639927906, -0.27582913655855007, -0.014941385190314089, 0.08091615320823754, -0.15254069407423965, -0.013540293482867356, 0.09804755053811189, -0.030799873999754673, -0.04981012272408135, -0.07594934218255134, 0.049268912817758755, -0.20704297671903546, -0.2348288380658694, 0.06502674973481554, -0.06042475930922691, -0.007448538827999774, 0.12907811498434796, -0.02392563031433451, -0.014726893795644302, -0.056707321269632446, -0.2075767788036231, -0.11361307731802463, 0.15793780282805012, -0.010579327455057188, 0.020849846788121573, -0.19616942469314047, 0.30808705508553036, -0.039724183842597106, 0.06392077642660748, -0.03730784957636287, -0.14466536605600308, -0.34731147384258254, 0.11007590915370012, 0.08485659564489387, 0.11341406445992208, -0.2516555996442071, -0.03153110218253464, -0.004444877967906691, 0.09874950387081055, -0.08303463293112599, -0.18334015421420727, 0.17355751979885395, 0.0042134580327921264, -0.04037135009910482, -0.02544675220398558, 0.1884030540108227, -0.0879732039925783, 0.08011553026797594, -0.035214383414597386, 0.23634017976277555, 0.06349685442983315, -0.08839506146271131, -0.18211924343862707, -0.004394714816280631, -0.20243407532271593, 0.0030922945426485053, -0.023695379874581014, -0.034777896504504566, -0.017197656363642923, 0.19998496586023232, -0.08688040635118946, 0.038193030894998516, 0.043010150035677625, 0.0005432915396491774, -0.024651639768032453, -0.03625569811409802, -0.1650005885726191, 0.0040653030425913715, -0.006750694725720003, -0.00037507340246694363, -0.03260148542919629, -0.06918398956988199, 0.0963324564767657, 0.1602947878854136, -0.16221197665081266, -0.06720214809363122, -0.01944713736440928, 0.09236343516685466, 0.2709520225103157, -0.10199558252765988, 0.2859969734468091, -0.016682916530847018, 0.5029281894773993, 0.11214857380740689, -0.2027329683255614, -0.11013842255659449, 0.03393591913459934, 0.11211005719998085, 0.012813934026217002, 0.13599835701440058, -0.01573789491628924, -0.14326663655625196, -0.15163694554479987, 0.04414931688271296, -0.20248730320233083, 0.16487420256835605, -0.011214831719427552, 0.04626580858349911, -0.15927753122675548, -0.010071662273078822, -0.04558235904493236, 0.6184669418633773, 0.11037251801073591, 0.09613767635171727, 0.18855524667611084, 0.016539794715389713, 0.009213292764511011, -0.06327129387380193, 0.00590043894202816, -0.13162725682314766, -0.1658572548329551, -0.00884993706710935, -0.13970530620722924, 0.11539507826265066, 0.0038538011979823033, 0.027827326157509106, 0.025828404441332022, -0.03639320618306288, 0.1333136711641236, -0.0074447237999397215, -0.17656423534752963, 0.08140109257961155, 0.03719087447854215, -0.09114183039187193, 0.12601128347323082, 0.27426746241273103, -0.05784764593589738, 0.017105441549545786, 0.13046824484466085, -0.03512063419235025, -0.07417727335744109, 0.08604848263551186, -0.03398562835246019, -0.006236196568886712, 0.19869877484745227, -0.21093886657165398, -0.11795055423626903, -0.07412945728658069, -0.08813424163655288, -0.09238733424523726, -0.02324009409245843, 0.019012734744974412, -0.18731636963674242, -0.06305467600071928, -0.03635389742240742, -0.025753659021299818, -0.2737295805821333, -0.07486686757591293, 0.10930174219291688, 0.010284991658768455, -0.016574642736201507, 0.044299401061832604, -0.007008275347415109, -0.16663438068674447, -0.06022000939921534, -0.0037377604772884016, 0.010620086978354554, -0.05230226744390926, -0.11506639095566605, 0.06350983704024829, -0.18774583823731517, -0.048646323519266225, -0.08137120972913119, -0.05231349740785609, -0.008493596612939358, 0.053281025111812624, -0.012399897939180381, 0.09088822385251524, 0.1096445376808491, -0.07223883723667299, -0.008276414011331282, -0.059916206482669404, 0.17999264875469556, 0.06374803522954989, -0.0018666666687338729, -0.007291228799806784, 0.14881216290247365, -0.23141719290287074, -0.05979874260215294, -0.034721585715215754, -0.15112989839788263, -0.01721093716288567, -0.1550997681593978, -0.02151788755756639, -0.12496212445553603, -0.006607586321067853, -0.001785604868742282, -0.0006254895914968894, 0.16027710012868684, -0.05745573932195959, 0.004923119968181721, 0.1254161032638822, -0.018778882930587434, -0.06396086021937358, 0.03786617784669208, 0.13132896834067748, -0.0785583145385059, 0.060672786862304526, -0.08738951805548045, 0.0490103265869884, 0.46492771893433005, -0.04132990444294435, 0.029970060453119417, 0.07613776491959726, -0.09771436611648422, 0.4152872159738249, 0.3240680874846602, -0.1099250539324602, -0.07383698380772324, -0.3634027363750576, -0.010200154883337757, 0.17974771160743877, -0.03665738842209519, 0.025836089748290898, -0.056999038318164025, 0.1414013467430873, -0.08800437964309604, -0.033615622033210064, 0.18139580928934082, -0.03455357565086414, -0.10140338913829902, 0.028850162687480134, 0.01436538420133193, -0.06628171981678059, 0.09964065092759036, 0.1589224897812574, -0.02298673301682221, 0.17603960853737408, 0.07299756914722455], \"yaxis\": \"y\"}],                        {\"coloraxis\": {\"colorbar\": {\"title\": {\"text\": \"color\"}}, \"colorscale\": [[0.0, \"#0d0887\"], [0.1111111111111111, \"#46039f\"], [0.2222222222222222, \"#7201a8\"], [0.3333333333333333, \"#9c179e\"], [0.4444444444444444, \"#bd3786\"], [0.5555555555555556, \"#d8576b\"], [0.6666666666666666, \"#ed7953\"], [0.7777777777777778, \"#fb9f3a\"], [0.8888888888888888, \"#fdca26\"], [1.0, \"#f0f921\"]]}, \"legend\": {\"tracegroupgap\": 0}, \"margin\": {\"t\": 60}, \"template\": {\"data\": {\"bar\": [{\"error_x\": {\"color\": \"#2a3f5f\"}, \"error_y\": {\"color\": \"#2a3f5f\"}, \"marker\": {\"line\": {\"color\": \"#E5ECF6\", \"width\": 0.5}}, \"type\": \"bar\"}], \"barpolar\": [{\"marker\": {\"line\": {\"color\": \"#E5ECF6\", \"width\": 0.5}}, \"type\": \"barpolar\"}], \"carpet\": [{\"aaxis\": {\"endlinecolor\": \"#2a3f5f\", \"gridcolor\": \"white\", \"linecolor\": \"white\", \"minorgridcolor\": \"white\", \"startlinecolor\": \"#2a3f5f\"}, \"baxis\": {\"endlinecolor\": \"#2a3f5f\", \"gridcolor\": \"white\", \"linecolor\": \"white\", \"minorgridcolor\": \"white\", \"startlinecolor\": \"#2a3f5f\"}, \"type\": \"carpet\"}], \"choropleth\": [{\"colorbar\": {\"outlinewidth\": 0, \"ticks\": \"\"}, \"type\": \"choropleth\"}], \"contour\": [{\"colorbar\": {\"outlinewidth\": 0, \"ticks\": \"\"}, \"colorscale\": [[0.0, \"#0d0887\"], [0.1111111111111111, \"#46039f\"], [0.2222222222222222, \"#7201a8\"], [0.3333333333333333, \"#9c179e\"], [0.4444444444444444, \"#bd3786\"], [0.5555555555555556, \"#d8576b\"], [0.6666666666666666, \"#ed7953\"], [0.7777777777777778, \"#fb9f3a\"], [0.8888888888888888, \"#fdca26\"], [1.0, \"#f0f921\"]], \"type\": \"contour\"}], \"contourcarpet\": [{\"colorbar\": {\"outlinewidth\": 0, \"ticks\": \"\"}, \"type\": \"contourcarpet\"}], \"heatmap\": [{\"colorbar\": {\"outlinewidth\": 0, \"ticks\": \"\"}, \"colorscale\": [[0.0, \"#0d0887\"], [0.1111111111111111, \"#46039f\"], [0.2222222222222222, \"#7201a8\"], [0.3333333333333333, \"#9c179e\"], [0.4444444444444444, \"#bd3786\"], [0.5555555555555556, \"#d8576b\"], [0.6666666666666666, \"#ed7953\"], [0.7777777777777778, \"#fb9f3a\"], [0.8888888888888888, \"#fdca26\"], [1.0, \"#f0f921\"]], \"type\": \"heatmap\"}], \"heatmapgl\": [{\"colorbar\": {\"outlinewidth\": 0, \"ticks\": \"\"}, \"colorscale\": [[0.0, \"#0d0887\"], [0.1111111111111111, \"#46039f\"], [0.2222222222222222, \"#7201a8\"], [0.3333333333333333, \"#9c179e\"], [0.4444444444444444, \"#bd3786\"], [0.5555555555555556, \"#d8576b\"], [0.6666666666666666, \"#ed7953\"], [0.7777777777777778, \"#fb9f3a\"], [0.8888888888888888, \"#fdca26\"], [1.0, \"#f0f921\"]], \"type\": \"heatmapgl\"}], \"histogram\": [{\"marker\": {\"colorbar\": {\"outlinewidth\": 0, \"ticks\": \"\"}}, \"type\": \"histogram\"}], \"histogram2d\": [{\"colorbar\": {\"outlinewidth\": 0, \"ticks\": \"\"}, \"colorscale\": [[0.0, \"#0d0887\"], [0.1111111111111111, \"#46039f\"], [0.2222222222222222, \"#7201a8\"], [0.3333333333333333, \"#9c179e\"], [0.4444444444444444, \"#bd3786\"], [0.5555555555555556, \"#d8576b\"], [0.6666666666666666, \"#ed7953\"], [0.7777777777777778, \"#fb9f3a\"], [0.8888888888888888, \"#fdca26\"], [1.0, \"#f0f921\"]], \"type\": \"histogram2d\"}], \"histogram2dcontour\": [{\"colorbar\": {\"outlinewidth\": 0, \"ticks\": \"\"}, \"colorscale\": [[0.0, \"#0d0887\"], [0.1111111111111111, \"#46039f\"], [0.2222222222222222, \"#7201a8\"], [0.3333333333333333, \"#9c179e\"], [0.4444444444444444, \"#bd3786\"], [0.5555555555555556, \"#d8576b\"], [0.6666666666666666, \"#ed7953\"], [0.7777777777777778, \"#fb9f3a\"], [0.8888888888888888, \"#fdca26\"], [1.0, \"#f0f921\"]], \"type\": \"histogram2dcontour\"}], \"mesh3d\": [{\"colorbar\": {\"outlinewidth\": 0, \"ticks\": \"\"}, \"type\": \"mesh3d\"}], \"parcoords\": [{\"line\": {\"colorbar\": {\"outlinewidth\": 0, \"ticks\": \"\"}}, \"type\": \"parcoords\"}], \"pie\": [{\"automargin\": true, \"type\": \"pie\"}], \"scatter\": [{\"marker\": {\"colorbar\": {\"outlinewidth\": 0, \"ticks\": \"\"}}, \"type\": \"scatter\"}], \"scatter3d\": [{\"line\": {\"colorbar\": {\"outlinewidth\": 0, \"ticks\": \"\"}}, \"marker\": {\"colorbar\": {\"outlinewidth\": 0, \"ticks\": \"\"}}, \"type\": \"scatter3d\"}], \"scattercarpet\": [{\"marker\": {\"colorbar\": {\"outlinewidth\": 0, \"ticks\": \"\"}}, \"type\": \"scattercarpet\"}], \"scattergeo\": [{\"marker\": {\"colorbar\": {\"outlinewidth\": 0, \"ticks\": \"\"}}, \"type\": \"scattergeo\"}], \"scattergl\": [{\"marker\": {\"colorbar\": {\"outlinewidth\": 0, \"ticks\": \"\"}}, \"type\": \"scattergl\"}], \"scattermapbox\": [{\"marker\": {\"colorbar\": {\"outlinewidth\": 0, \"ticks\": \"\"}}, \"type\": \"scattermapbox\"}], \"scatterpolar\": [{\"marker\": {\"colorbar\": {\"outlinewidth\": 0, \"ticks\": \"\"}}, \"type\": \"scatterpolar\"}], \"scatterpolargl\": [{\"marker\": {\"colorbar\": {\"outlinewidth\": 0, \"ticks\": \"\"}}, \"type\": \"scatterpolargl\"}], \"scatterternary\": [{\"marker\": {\"colorbar\": {\"outlinewidth\": 0, \"ticks\": \"\"}}, \"type\": \"scatterternary\"}], \"surface\": [{\"colorbar\": {\"outlinewidth\": 0, \"ticks\": \"\"}, \"colorscale\": [[0.0, \"#0d0887\"], [0.1111111111111111, \"#46039f\"], [0.2222222222222222, \"#7201a8\"], [0.3333333333333333, \"#9c179e\"], [0.4444444444444444, \"#bd3786\"], [0.5555555555555556, \"#d8576b\"], [0.6666666666666666, \"#ed7953\"], [0.7777777777777778, \"#fb9f3a\"], [0.8888888888888888, \"#fdca26\"], [1.0, \"#f0f921\"]], \"type\": \"surface\"}], \"table\": [{\"cells\": {\"fill\": {\"color\": \"#EBF0F8\"}, \"line\": {\"color\": \"white\"}}, \"header\": {\"fill\": {\"color\": \"#C8D4E3\"}, \"line\": {\"color\": \"white\"}}, \"type\": \"table\"}]}, \"layout\": {\"annotationdefaults\": {\"arrowcolor\": \"#2a3f5f\", \"arrowhead\": 0, \"arrowwidth\": 1}, \"autotypenumbers\": \"strict\", \"coloraxis\": {\"colorbar\": {\"outlinewidth\": 0, \"ticks\": \"\"}}, \"colorscale\": {\"diverging\": [[0, \"#8e0152\"], [0.1, \"#c51b7d\"], [0.2, \"#de77ae\"], [0.3, \"#f1b6da\"], [0.4, \"#fde0ef\"], [0.5, \"#f7f7f7\"], [0.6, \"#e6f5d0\"], [0.7, \"#b8e186\"], [0.8, \"#7fbc41\"], [0.9, \"#4d9221\"], [1, \"#276419\"]], \"sequential\": [[0.0, \"#0d0887\"], [0.1111111111111111, \"#46039f\"], [0.2222222222222222, \"#7201a8\"], [0.3333333333333333, \"#9c179e\"], [0.4444444444444444, \"#bd3786\"], [0.5555555555555556, \"#d8576b\"], [0.6666666666666666, \"#ed7953\"], [0.7777777777777778, \"#fb9f3a\"], [0.8888888888888888, \"#fdca26\"], [1.0, \"#f0f921\"]], \"sequentialminus\": [[0.0, \"#0d0887\"], [0.1111111111111111, \"#46039f\"], [0.2222222222222222, \"#7201a8\"], [0.3333333333333333, \"#9c179e\"], [0.4444444444444444, \"#bd3786\"], [0.5555555555555556, \"#d8576b\"], [0.6666666666666666, \"#ed7953\"], [0.7777777777777778, \"#fb9f3a\"], [0.8888888888888888, \"#fdca26\"], [1.0, \"#f0f921\"]]}, \"colorway\": [\"#636efa\", \"#EF553B\", \"#00cc96\", \"#ab63fa\", \"#FFA15A\", \"#19d3f3\", \"#FF6692\", \"#B6E880\", \"#FF97FF\", \"#FECB52\"], \"font\": {\"color\": \"#2a3f5f\"}, \"geo\": {\"bgcolor\": \"white\", \"lakecolor\": \"white\", \"landcolor\": \"#E5ECF6\", \"showlakes\": true, \"showland\": true, \"subunitcolor\": \"white\"}, \"hoverlabel\": {\"align\": \"left\"}, \"hovermode\": \"closest\", \"mapbox\": {\"style\": \"light\"}, \"paper_bgcolor\": \"white\", \"plot_bgcolor\": \"#E5ECF6\", \"polar\": {\"angularaxis\": {\"gridcolor\": \"white\", \"linecolor\": \"white\", \"ticks\": \"\"}, \"bgcolor\": \"#E5ECF6\", \"radialaxis\": {\"gridcolor\": \"white\", \"linecolor\": \"white\", \"ticks\": \"\"}}, \"scene\": {\"xaxis\": {\"backgroundcolor\": \"#E5ECF6\", \"gridcolor\": \"white\", \"gridwidth\": 2, \"linecolor\": \"white\", \"showbackground\": true, \"ticks\": \"\", \"zerolinecolor\": \"white\"}, \"yaxis\": {\"backgroundcolor\": \"#E5ECF6\", \"gridcolor\": \"white\", \"gridwidth\": 2, \"linecolor\": \"white\", \"showbackground\": true, \"ticks\": \"\", \"zerolinecolor\": \"white\"}, \"zaxis\": {\"backgroundcolor\": \"#E5ECF6\", \"gridcolor\": \"white\", \"gridwidth\": 2, \"linecolor\": \"white\", \"showbackground\": true, \"ticks\": \"\", \"zerolinecolor\": \"white\"}}, \"shapedefaults\": {\"line\": {\"color\": \"#2a3f5f\"}}, \"ternary\": {\"aaxis\": {\"gridcolor\": \"white\", \"linecolor\": \"white\", \"ticks\": \"\"}, \"baxis\": {\"gridcolor\": \"white\", \"linecolor\": \"white\", \"ticks\": \"\"}, \"bgcolor\": \"#E5ECF6\", \"caxis\": {\"gridcolor\": \"white\", \"linecolor\": \"white\", \"ticks\": \"\"}}, \"title\": {\"x\": 0.05}, \"xaxis\": {\"automargin\": true, \"gridcolor\": \"white\", \"linecolor\": \"white\", \"ticks\": \"\", \"title\": {\"standoff\": 15}, \"zerolinecolor\": \"white\", \"zerolinewidth\": 2}, \"yaxis\": {\"automargin\": true, \"gridcolor\": \"white\", \"linecolor\": \"white\", \"ticks\": \"\", \"title\": {\"standoff\": 15}, \"zerolinecolor\": \"white\", \"zerolinewidth\": 2}}}, \"xaxis\": {\"anchor\": \"y\", \"domain\": [0.0, 1.0], \"title\": {\"text\": \"0\"}}, \"yaxis\": {\"anchor\": \"x\", \"domain\": [0.0, 1.0], \"title\": {\"text\": \"1\"}}},                        {\"responsive\": true}                    ).then(function(){\n",
       "                            \n",
       "var gd = document.getElementById('4bdc580d-9e9f-497f-80ef-dc63571c8dcb');\n",
       "var x = new MutationObserver(function (mutations, observer) {{\n",
       "        var display = window.getComputedStyle(gd).display;\n",
       "        if (!display || display === 'none') {{\n",
       "            console.log([gd, 'removed!']);\n",
       "            Plotly.purge(gd);\n",
       "            observer.disconnect();\n",
       "        }}\n",
       "}});\n",
       "\n",
       "// Listen for the removal of the full notebook cells\n",
       "var notebookContainer = gd.closest('#notebook-container');\n",
       "if (notebookContainer) {{\n",
       "    x.observe(notebookContainer, {childList: true});\n",
       "}}\n",
       "\n",
       "// Listen for the clearing of the current output cell\n",
       "var outputEl = gd.closest('.output');\n",
       "if (outputEl) {{\n",
       "    x.observe(outputEl, {childList: true});\n",
       "}}\n",
       "\n",
       "                        })                };                });            </script>        </div>"
      ]
     },
     "metadata": {},
     "output_type": "display_data"
    }
   ],
   "source": [
    "pca = PCA(n_components = n_components)\n",
    "components = pca.fit_transform(normalized_df2)\n",
    "# Plotting the PCA scatter plot for different classes\n",
    "\n",
    "fig = px.scatter(components, x=0, y=1, color=normalized_merged_df_1['clusters_K_Means']) #check if column name is correct\n",
    "fig.show()"
   ]
  },
  {
   "cell_type": "markdown",
   "metadata": {},
   "source": [
    "# Explore clusters with box polts"
   ]
  },
  {
   "cell_type": "markdown",
   "metadata": {},
   "source": [
    "['uber_count','avg_price','median_daily_test_rate','avg_test_score']"
   ]
  },
  {
   "cell_type": "code",
   "execution_count": 35,
   "metadata": {},
   "outputs": [
    {
     "data": {
      "image/png": "[encoded data removed]",
      "text/plain": [
       "<Figure size 360x360 with 1 Axes>"
      ]
     },
     "metadata": {
      "needs_background": "light"
     },
     "output_type": "display_data"
    }
   ],
   "source": [
    "sns.set_palette(\"Blues\")\n",
    "sns.catplot(x = 'clusters_K_Means', y= \"uber_count\", kind=\"box\", data= orig_merged_df)\n",
    "\n",
    "#the below formula makes it all easier to read\n",
    "plt.xticks(\n",
    "    rotation=45, \n",
    "    horizontalalignment='right',\n",
    "    fontweight='light',\n",
    "    fontsize='x-large'  \n",
    ")\n",
    "\n",
    "plt.show()"
   ]
  },
  {
   "cell_type": "code",
   "execution_count": 36,
   "metadata": {},
   "outputs": [
    {
     "data": {
      "image/png": "[encoded data removed]",
      "text/plain": [
       "<Figure size 360x360 with 1 Axes>"
      ]
     },
     "metadata": {
      "needs_background": "light"
     },
     "output_type": "display_data"
    }
   ],
   "source": [
    "#avg_price\n",
    "sns.set_palette(\"Blues\")\n",
    "sns.catplot(x = 'clusters_K_Means', y= \"avg_price\", kind=\"box\", data= orig_merged_df)\n",
    "\n",
    "#the below formula makes it all easier to read\n",
    "plt.xticks(\n",
    "    rotation=45, \n",
    "    horizontalalignment='right',\n",
    "    fontweight='light',\n",
    "    fontsize='x-large'  \n",
    ")\n",
    "\n",
    "plt.show()"
   ]
  },
  {
   "cell_type": "code",
   "execution_count": null,
   "metadata": {
    "jupyter": {
     "source_hidden": true
    }
   },
   "outputs": [],
   "source": []
  },
  {
   "cell_type": "code",
   "execution_count": 37,
   "metadata": {},
   "outputs": [
    {
     "data": {
      "image/png": "[encoded data removed]",
      "text/plain": [
       "<Figure size 360x360 with 1 Axes>"
      ]
     },
     "metadata": {
      "needs_background": "light"
     },
     "output_type": "display_data"
    }
   ],
   "source": [
    "#median_daily_test_rate\n",
    "sns.set_palette(\"Blues\")\n",
    "sns.catplot(x = 'clusters_K_Means', y= \"median_daily_test_rate\", kind=\"box\", data= orig_merged_df)\n",
    "\n",
    "#the below formula makes it all easier to read\n",
    "plt.xticks(\n",
    "    rotation=45, \n",
    "    horizontalalignment='right',\n",
    "    fontweight='light',\n",
    "    fontsize='x-large'  \n",
    ")\n",
    "\n",
    "plt.show()"
   ]
  },
  {
   "cell_type": "code",
   "execution_count": 38,
   "metadata": {},
   "outputs": [
    {
     "data": {
      "image/png": "[encoded data removed]",
      "text/plain": [
       "<Figure size 360x360 with 1 Axes>"
      ]
     },
     "metadata": {
      "needs_background": "light"
     },
     "output_type": "display_data"
    }
   ],
   "source": [
    "#median_daily_test_rate\n",
    "sns.set_palette(\"Blues\")\n",
    "sns.catplot(x = 'clusters_K_Means', y= \"avg_test_score\", kind=\"box\", data= orig_merged_df)\n",
    "\n",
    "#the below formula makes it all easier to read\n",
    "plt.xticks(\n",
    "    rotation=45, \n",
    "    horizontalalignment='right',\n",
    "    fontweight='light',\n",
    "    fontsize='x-large'  \n",
    ")\n",
    "\n",
    "plt.show()"
   ]
  },
  {
   "cell_type": "markdown",
   "metadata": {},
   "source": [
    "# Explore Feature Correlation with Heat Map"
   ]
  },
  {
   "cell_type": "code",
   "execution_count": 39,
   "metadata": {
    "ExecuteTime": {
     "end_time": "2020-02-10T14:37:14.692736Z",
     "start_time": "2020-02-10T14:37:14.683568Z"
    }
   },
   "outputs": [],
   "source": [
    "# compute correlations between features\n",
    "df_corr = normalized_merged_df_1.corr()\n"
   ]
  },
  {
   "cell_type": "code",
   "execution_count": 40,
   "metadata": {
    "ExecuteTime": {
     "end_time": "2020-02-10T14:37:22.204089Z",
     "start_time": "2020-02-10T14:37:21.980920Z"
    }
   },
   "outputs": [
    {
     "data": {
      "image/png": "[encoded data removed]",
      "text/plain": [
       "<Figure size 432x288 with 2 Axes>"
      ]
     },
     "metadata": {
      "needs_background": "light"
     },
     "output_type": "display_data"
    }
   ],
   "source": [
    "# plot the correlations\n",
    "sns.heatmap(df_corr)\n",
    "plt.title('Correlation plot')\n",
    "plt.show()"
   ]
  },
  {
   "cell_type": "code",
   "execution_count": null,
   "metadata": {},
   "outputs": [],
   "source": []
  },
  {
   "cell_type": "markdown",
   "metadata": {},
   "source": [
    "# Radar Plot"
   ]
  },
  {
   "cell_type": "code",
   "execution_count": 41,
   "metadata": {},
   "outputs": [
    {
     "data": {
      "text/plain": [
       "uber_count                0.042747\n",
       "avg_price                 0.567329\n",
       "median_daily_test_rate    0.104265\n",
       "avg_test_score            0.407379\n",
       "clusters_K_Means          0.619205\n",
       "dtype: float64"
      ]
     },
     "execution_count": 41,
     "metadata": {},
     "output_type": "execute_result"
    }
   ],
   "source": [
    "normalized_merged_df_1.mean()"
   ]
  },
  {
   "cell_type": "code",
   "execution_count": 44,
   "metadata": {},
   "outputs": [
    {
     "data": {
      "application/vnd.plotly.v1+json": {
       "config": {
        "plotlyServerURL": "https://plot.ly"
       },
       "data": [
        {
         "hovertemplate": "r=%{r}<br>theta=%{theta}<extra></extra>",
         "legendgroup": "",
         "line": {
          "color": "#636efa",
          "dash": "solid"
         },
         "mode": "lines",
         "name": "",
         "r": [
          0.04274712835722792,
          0.5673289183222957,
          0.10426518587035433,
          0.40737886410394175,
          0.04274712835722792
         ],
         "showlegend": false,
         "subplot": "polar",
         "theta": [
          "uber_count",
          "avg_price",
          "median_daily_test_rate",
          "avg_test_score",
          "uber_count"
         ],
         "type": "scatterpolar"
        }
       ],
       "layout": {
        "autosize": true,
        "legend": {
         "tracegroupgap": 0
        },
        "margin": {
         "t": 60
        },
        "polar": {
         "angularaxis": {
          "direction": "clockwise",
          "rotation": 90,
          "type": "category"
         },
         "domain": {
          "x": [
           0,
           1
          ],
          "y": [
           0,
           1
          ]
         },
         "radialaxis": {
          "autorange": true,
          "range": [
           0,
           0.5673289183222957
          ],
          "type": "linear"
         }
        },
        "template": {
         "data": {
          "bar": [
           {
            "error_x": {
             "color": "#2a3f5f"
            },
            "error_y": {
             "color": "#2a3f5f"
            },
            "marker": {
             "line": {
              "color": "#E5ECF6",
              "width": 0.5
             }
            },
            "type": "bar"
           }
          ],
          "barpolar": [
           {
            "marker": {
             "line": {
              "color": "#E5ECF6",
              "width": 0.5
             }
            },
            "type": "barpolar"
           }
          ],
          "carpet": [
           {
            "aaxis": {
             "endlinecolor": "#2a3f5f",
             "gridcolor": "white",
             "linecolor": "white",
             "minorgridcolor": "white",
             "startlinecolor": "#2a3f5f"
            },
            "baxis": {
             "endlinecolor": "#2a3f5f",
             "gridcolor": "white",
             "linecolor": "white",
             "minorgridcolor": "white",
             "startlinecolor": "#2a3f5f"
            },
            "type": "carpet"
           }
          ],
          "choropleth": [
           {
            "colorbar": {
             "outlinewidth": 0,
             "ticks": ""
            },
            "type": "choropleth"
           }
          ],
          "contour": [
           {
            "colorbar": {
             "outlinewidth": 0,
             "ticks": ""
            },
            "colorscale": [
             [
              0,
              "#0d0887"
             ],
             [
              0.1111111111111111,
              "#46039f"
             ],
             [
              0.2222222222222222,
              "#7201a8"
             ],
             [
              0.3333333333333333,
              "#9c179e"
             ],
             [
              0.4444444444444444,
              "#bd3786"
             ],
             [
              0.5555555555555556,
              "#d8576b"
             ],
             [
              0.6666666666666666,
              "#ed7953"
             ],
             [
              0.7777777777777778,
              "#fb9f3a"
             ],
             [
              0.8888888888888888,
              "#fdca26"
             ],
             [
              1,
              "#f0f921"
             ]
            ],
            "type": "contour"
           }
          ],
          "contourcarpet": [
           {
            "colorbar": {
             "outlinewidth": 0,
             "ticks": ""
            },
            "type": "contourcarpet"
           }
          ],
          "heatmap": [
           {
            "colorbar": {
             "outlinewidth": 0,
             "ticks": ""
            },
            "colorscale": [
             [
              0,
              "#0d0887"
             ],
             [
              0.1111111111111111,
              "#46039f"
             ],
             [
              0.2222222222222222,
              "#7201a8"
             ],
             [
              0.3333333333333333,
              "#9c179e"
             ],
             [
              0.4444444444444444,
              "#bd3786"
             ],
             [
              0.5555555555555556,
              "#d8576b"
             ],
             [
              0.6666666666666666,
              "#ed7953"
             ],
             [
              0.7777777777777778,
              "#fb9f3a"
             ],
             [
              0.8888888888888888,
              "#fdca26"
             ],
             [
              1,
              "#f0f921"
             ]
            ],
            "type": "heatmap"
           }
          ],
          "heatmapgl": [
           {
            "colorbar": {
             "outlinewidth": 0,
             "ticks": ""
            },
            "colorscale": [
             [
              0,
              "#0d0887"
             ],
             [
              0.1111111111111111,
              "#46039f"
             ],
             [
              0.2222222222222222,
              "#7201a8"
             ],
             [
              0.3333333333333333,
              "#9c179e"
             ],
             [
              0.4444444444444444,
              "#bd3786"
             ],
             [
              0.5555555555555556,
              "#d8576b"
             ],
             [
              0.6666666666666666,
              "#ed7953"
             ],
             [
              0.7777777777777778,
              "#fb9f3a"
             ],
             [
              0.8888888888888888,
              "#fdca26"
             ],
             [
              1,
              "#f0f921"
             ]
            ],
            "type": "heatmapgl"
           }
          ],
          "histogram": [
           {
            "marker": {
             "colorbar": {
              "outlinewidth": 0,
              "ticks": ""
             }
            },
            "type": "histogram"
           }
          ],
          "histogram2d": [
           {
            "colorbar": {
             "outlinewidth": 0,
             "ticks": ""
            },
            "colorscale": [
             [
              0,
              "#0d0887"
             ],
             [
              0.1111111111111111,
              "#46039f"
             ],
             [
              0.2222222222222222,
              "#7201a8"
             ],
             [
              0.3333333333333333,
              "#9c179e"
             ],
             [
              0.4444444444444444,
              "#bd3786"
             ],
             [
              0.5555555555555556,
              "#d8576b"
             ],
             [
              0.6666666666666666,
              "#ed7953"
             ],
             [
              0.7777777777777778,
              "#fb9f3a"
             ],
             [
              0.8888888888888888,
              "#fdca26"
             ],
             [
              1,
              "#f0f921"
             ]
            ],
            "type": "histogram2d"
           }
          ],
          "histogram2dcontour": [
           {
            "colorbar": {
             "outlinewidth": 0,
             "ticks": ""
            },
            "colorscale": [
             [
              0,
              "#0d0887"
             ],
             [
              0.1111111111111111,
              "#46039f"
             ],
             [
              0.2222222222222222,
              "#7201a8"
             ],
             [
              0.3333333333333333,
              "#9c179e"
             ],
             [
              0.4444444444444444,
              "#bd3786"
             ],
             [
              0.5555555555555556,
              "#d8576b"
             ],
             [
              0.6666666666666666,
              "#ed7953"
             ],
             [
              0.7777777777777778,
              "#fb9f3a"
             ],
             [
              0.8888888888888888,
              "#fdca26"
             ],
             [
              1,
              "#f0f921"
             ]
            ],
            "type": "histogram2dcontour"
           }
          ],
          "mesh3d": [
           {
            "colorbar": {
             "outlinewidth": 0,
             "ticks": ""
            },
            "type": "mesh3d"
           }
          ],
          "parcoords": [
           {
            "line": {
             "colorbar": {
              "outlinewidth": 0,
              "ticks": ""
             }
            },
            "type": "parcoords"
           }
          ],
          "pie": [
           {
            "automargin": true,
            "type": "pie"
           }
          ],
          "scatter": [
           {
            "marker": {
             "colorbar": {
              "outlinewidth": 0,
              "ticks": ""
             }
            },
            "type": "scatter"
           }
          ],
          "scatter3d": [
           {
            "line": {
             "colorbar": {
              "outlinewidth": 0,
              "ticks": ""
             }
            },
            "marker": {
             "colorbar": {
              "outlinewidth": 0,
              "ticks": ""
             }
            },
            "type": "scatter3d"
           }
          ],
          "scattercarpet": [
           {
            "marker": {
             "colorbar": {
              "outlinewidth": 0,
              "ticks": ""
             }
            },
            "type": "scattercarpet"
           }
          ],
          "scattergeo": [
           {
            "marker": {
             "colorbar": {
              "outlinewidth": 0,
              "ticks": ""
             }
            },
            "type": "scattergeo"
           }
          ],
          "scattergl": [
           {
            "marker": {
             "colorbar": {
              "outlinewidth": 0,
              "ticks": ""
             }
            },
            "type": "scattergl"
           }
          ],
          "scattermapbox": [
           {
            "marker": {
             "colorbar": {
              "outlinewidth": 0,
              "ticks": ""
             }
            },
            "type": "scattermapbox"
           }
          ],
          "scatterpolar": [
           {
            "marker": {
             "colorbar": {
              "outlinewidth": 0,
              "ticks": ""
             }
            },
            "type": "scatterpolar"
           }
          ],
          "scatterpolargl": [
           {
            "marker": {
             "colorbar": {
              "outlinewidth": 0,
              "ticks": ""
             }
            },
            "type": "scatterpolargl"
           }
          ],
          "scatterternary": [
           {
            "marker": {
             "colorbar": {
              "outlinewidth": 0,
              "ticks": ""
             }
            },
            "type": "scatterternary"
           }
          ],
          "surface": [
           {
            "colorbar": {
             "outlinewidth": 0,
             "ticks": ""
            },
            "colorscale": [
             [
              0,
              "#0d0887"
             ],
             [
              0.1111111111111111,
              "#46039f"
             ],
             [
              0.2222222222222222,
              "#7201a8"
             ],
             [
              0.3333333333333333,
              "#9c179e"
             ],
             [
              0.4444444444444444,
              "#bd3786"
             ],
             [
              0.5555555555555556,
              "#d8576b"
             ],
             [
              0.6666666666666666,
              "#ed7953"
             ],
             [
              0.7777777777777778,
              "#fb9f3a"
             ],
             [
              0.8888888888888888,
              "#fdca26"
             ],
             [
              1,
              "#f0f921"
             ]
            ],
            "type": "surface"
           }
          ],
          "table": [
           {
            "cells": {
             "fill": {
              "color": "#EBF0F8"
             },
             "line": {
              "color": "white"
             }
            },
            "header": {
             "fill": {
              "color": "#C8D4E3"
             },
             "line": {
              "color": "white"
             }
            },
            "type": "table"
           }
          ]
         },
         "layout": {
          "annotationdefaults": {
           "arrowcolor": "#2a3f5f",
           "arrowhead": 0,
           "arrowwidth": 1
          },
          "autotypenumbers": "strict",
          "coloraxis": {
           "colorbar": {
            "outlinewidth": 0,
            "ticks": ""
           }
          },
          "colorscale": {
           "diverging": [
            [
             0,
             "#8e0152"
            ],
            [
             0.1,
             "#c51b7d"
            ],
            [
             0.2,
             "#de77ae"
            ],
            [
             0.3,
             "#f1b6da"
            ],
            [
             0.4,
             "#fde0ef"
            ],
            [
             0.5,
             "#f7f7f7"
            ],
            [
             0.6,
             "#e6f5d0"
            ],
            [
             0.7,
             "#b8e186"
            ],
            [
             0.8,
             "#7fbc41"
            ],
            [
             0.9,
             "#4d9221"
            ],
            [
             1,
             "#276419"
            ]
           ],
           "sequential": [
            [
             0,
             "#0d0887"
            ],
            [
             0.1111111111111111,
             "#46039f"
            ],
            [
             0.2222222222222222,
             "#7201a8"
            ],
            [
             0.3333333333333333,
             "#9c179e"
            ],
            [
             0.4444444444444444,
             "#bd3786"
            ],
            [
             0.5555555555555556,
             "#d8576b"
            ],
            [
             0.6666666666666666,
             "#ed7953"
            ],
            [
             0.7777777777777778,
             "#fb9f3a"
            ],
            [
             0.8888888888888888,
             "#fdca26"
            ],
            [
             1,
             "#f0f921"
            ]
           ],
           "sequentialminus": [
            [
             0,
             "#0d0887"
            ],
            [
             0.1111111111111111,
             "#46039f"
            ],
            [
             0.2222222222222222,
             "#7201a8"
            ],
            [
             0.3333333333333333,
             "#9c179e"
            ],
            [
             0.4444444444444444,
             "#bd3786"
            ],
            [
             0.5555555555555556,
             "#d8576b"
            ],
            [
             0.6666666666666666,
             "#ed7953"
            ],
            [
             0.7777777777777778,
             "#fb9f3a"
            ],
            [
             0.8888888888888888,
             "#fdca26"
            ],
            [
             1,
             "#f0f921"
            ]
           ]
          },
          "colorway": [
           "#636efa",
           "#EF553B",
           "#00cc96",
           "#ab63fa",
           "#FFA15A",
           "#19d3f3",
           "#FF6692",
           "#B6E880",
           "#FF97FF",
           "#FECB52"
          ],
          "font": {
           "color": "#2a3f5f"
          },
          "geo": {
           "bgcolor": "white",
           "lakecolor": "white",
           "landcolor": "#E5ECF6",
           "showlakes": true,
           "showland": true,
           "subunitcolor": "white"
          },
          "hoverlabel": {
           "align": "left"
          },
          "hovermode": "closest",
          "mapbox": {
           "style": "light"
          },
          "paper_bgcolor": "white",
          "plot_bgcolor": "#E5ECF6",
          "polar": {
           "angularaxis": {
            "gridcolor": "white",
            "linecolor": "white",
            "ticks": ""
           },
           "bgcolor": "#E5ECF6",
           "radialaxis": {
            "gridcolor": "white",
            "linecolor": "white",
            "ticks": ""
           }
          },
          "scene": {
           "xaxis": {
            "backgroundcolor": "#E5ECF6",
            "gridcolor": "white",
            "gridwidth": 2,
            "linecolor": "white",
            "showbackground": true,
            "ticks": "",
            "zerolinecolor": "white"
           },
           "yaxis": {
            "backgroundcolor": "#E5ECF6",
            "gridcolor": "white",
            "gridwidth": 2,
            "linecolor": "white",
            "showbackground": true,
            "ticks": "",
            "zerolinecolor": "white"
           },
           "zaxis": {
            "backgroundcolor": "#E5ECF6",
            "gridcolor": "white",
            "gridwidth": 2,
            "linecolor": "white",
            "showbackground": true,
            "ticks": "",
            "zerolinecolor": "white"
           }
          },
          "shapedefaults": {
           "line": {
            "color": "#2a3f5f"
           }
          },
          "ternary": {
           "aaxis": {
            "gridcolor": "white",
            "linecolor": "white",
            "ticks": ""
           },
           "baxis": {
            "gridcolor": "white",
            "linecolor": "white",
            "ticks": ""
           },
           "bgcolor": "#E5ECF6",
           "caxis": {
            "gridcolor": "white",
            "linecolor": "white",
            "ticks": ""
           }
          },
          "title": {
           "x": 0.05
          },
          "xaxis": {
           "automargin": true,
           "gridcolor": "white",
           "linecolor": "white",
           "ticks": "",
           "title": {
            "standoff": 15
           },
           "zerolinecolor": "white",
           "zerolinewidth": 2
          },
          "yaxis": {
           "automargin": true,
           "gridcolor": "white",
           "linecolor": "white",
           "ticks": "",
           "title": {
            "standoff": 15
           },
           "zerolinecolor": "white",
           "zerolinewidth": 2
          }
         }
        }
       }
      },
      "image/png": "[encoded data removed]",
      "text/html": [
       "<div>                            <div id=\"e79459ad-5feb-44a6-971e-5ee7ed52bb0e\" class=\"plotly-graph-div\" style=\"height:525px; width:100%;\"></div>            <script type=\"text/javascript\">                require([\"plotly\"], function(Plotly) {                    window.PLOTLYENV=window.PLOTLYENV || {};                                    if (document.getElementById(\"e79459ad-5feb-44a6-971e-5ee7ed52bb0e\")) {                    Plotly.newPlot(                        \"e79459ad-5feb-44a6-971e-5ee7ed52bb0e\",                        [{\"hovertemplate\": \"r=%{r}<br>theta=%{theta}<extra></extra>\", \"legendgroup\": \"\", \"line\": {\"color\": \"#636efa\", \"dash\": \"solid\"}, \"mode\": \"lines\", \"name\": \"\", \"r\": [0.04274712835722792, 0.5673289183222957, 0.10426518587035433, 0.40737886410394175, 0.04274712835722792], \"showlegend\": false, \"subplot\": \"polar\", \"theta\": [\"uber_count\", \"avg_price\", \"median_daily_test_rate\", \"avg_test_score\", \"uber_count\"], \"type\": \"scatterpolar\"}],                        {\"legend\": {\"tracegroupgap\": 0}, \"margin\": {\"t\": 60}, \"polar\": {\"angularaxis\": {\"direction\": \"clockwise\", \"rotation\": 90}, \"domain\": {\"x\": [0.0, 1.0], \"y\": [0.0, 1.0]}}, \"template\": {\"data\": {\"bar\": [{\"error_x\": {\"color\": \"#2a3f5f\"}, \"error_y\": {\"color\": \"#2a3f5f\"}, \"marker\": {\"line\": {\"color\": \"#E5ECF6\", \"width\": 0.5}}, \"type\": \"bar\"}], \"barpolar\": [{\"marker\": {\"line\": {\"color\": \"#E5ECF6\", \"width\": 0.5}}, \"type\": \"barpolar\"}], \"carpet\": [{\"aaxis\": {\"endlinecolor\": \"#2a3f5f\", \"gridcolor\": \"white\", \"linecolor\": \"white\", \"minorgridcolor\": \"white\", \"startlinecolor\": \"#2a3f5f\"}, \"baxis\": {\"endlinecolor\": \"#2a3f5f\", \"gridcolor\": \"white\", \"linecolor\": \"white\", \"minorgridcolor\": \"white\", \"startlinecolor\": \"#2a3f5f\"}, \"type\": \"carpet\"}], \"choropleth\": [{\"colorbar\": {\"outlinewidth\": 0, \"ticks\": \"\"}, \"type\": \"choropleth\"}], \"contour\": [{\"colorbar\": {\"outlinewidth\": 0, \"ticks\": \"\"}, \"colorscale\": [[0.0, \"#0d0887\"], [0.1111111111111111, \"#46039f\"], [0.2222222222222222, \"#7201a8\"], [0.3333333333333333, \"#9c179e\"], [0.4444444444444444, \"#bd3786\"], [0.5555555555555556, \"#d8576b\"], [0.6666666666666666, \"#ed7953\"], [0.7777777777777778, \"#fb9f3a\"], [0.8888888888888888, \"#fdca26\"], [1.0, \"#f0f921\"]], \"type\": \"contour\"}], \"contourcarpet\": [{\"colorbar\": {\"outlinewidth\": 0, \"ticks\": \"\"}, \"type\": \"contourcarpet\"}], \"heatmap\": [{\"colorbar\": {\"outlinewidth\": 0, \"ticks\": \"\"}, \"colorscale\": [[0.0, \"#0d0887\"], [0.1111111111111111, \"#46039f\"], [0.2222222222222222, \"#7201a8\"], [0.3333333333333333, \"#9c179e\"], [0.4444444444444444, \"#bd3786\"], [0.5555555555555556, \"#d8576b\"], [0.6666666666666666, \"#ed7953\"], [0.7777777777777778, \"#fb9f3a\"], [0.8888888888888888, \"#fdca26\"], [1.0, \"#f0f921\"]], \"type\": \"heatmap\"}], \"heatmapgl\": [{\"colorbar\": {\"outlinewidth\": 0, \"ticks\": \"\"}, \"colorscale\": [[0.0, \"#0d0887\"], [0.1111111111111111, \"#46039f\"], [0.2222222222222222, \"#7201a8\"], [0.3333333333333333, \"#9c179e\"], [0.4444444444444444, \"#bd3786\"], [0.5555555555555556, \"#d8576b\"], [0.6666666666666666, \"#ed7953\"], [0.7777777777777778, \"#fb9f3a\"], [0.8888888888888888, \"#fdca26\"], [1.0, \"#f0f921\"]], \"type\": \"heatmapgl\"}], \"histogram\": [{\"marker\": {\"colorbar\": {\"outlinewidth\": 0, \"ticks\": \"\"}}, \"type\": \"histogram\"}], \"histogram2d\": [{\"colorbar\": {\"outlinewidth\": 0, \"ticks\": \"\"}, \"colorscale\": [[0.0, \"#0d0887\"], [0.1111111111111111, \"#46039f\"], [0.2222222222222222, \"#7201a8\"], [0.3333333333333333, \"#9c179e\"], [0.4444444444444444, \"#bd3786\"], [0.5555555555555556, \"#d8576b\"], [0.6666666666666666, \"#ed7953\"], [0.7777777777777778, \"#fb9f3a\"], [0.8888888888888888, \"#fdca26\"], [1.0, \"#f0f921\"]], \"type\": \"histogram2d\"}], \"histogram2dcontour\": [{\"colorbar\": {\"outlinewidth\": 0, \"ticks\": \"\"}, \"colorscale\": [[0.0, \"#0d0887\"], [0.1111111111111111, \"#46039f\"], [0.2222222222222222, \"#7201a8\"], [0.3333333333333333, \"#9c179e\"], [0.4444444444444444, \"#bd3786\"], [0.5555555555555556, \"#d8576b\"], [0.6666666666666666, \"#ed7953\"], [0.7777777777777778, \"#fb9f3a\"], [0.8888888888888888, \"#fdca26\"], [1.0, \"#f0f921\"]], \"type\": \"histogram2dcontour\"}], \"mesh3d\": [{\"colorbar\": {\"outlinewidth\": 0, \"ticks\": \"\"}, \"type\": \"mesh3d\"}], \"parcoords\": [{\"line\": {\"colorbar\": {\"outlinewidth\": 0, \"ticks\": \"\"}}, \"type\": \"parcoords\"}], \"pie\": [{\"automargin\": true, \"type\": \"pie\"}], \"scatter\": [{\"marker\": {\"colorbar\": {\"outlinewidth\": 0, \"ticks\": \"\"}}, \"type\": \"scatter\"}], \"scatter3d\": [{\"line\": {\"colorbar\": {\"outlinewidth\": 0, \"ticks\": \"\"}}, \"marker\": {\"colorbar\": {\"outlinewidth\": 0, \"ticks\": \"\"}}, \"type\": \"scatter3d\"}], \"scattercarpet\": [{\"marker\": {\"colorbar\": {\"outlinewidth\": 0, \"ticks\": \"\"}}, \"type\": \"scattercarpet\"}], \"scattergeo\": [{\"marker\": {\"colorbar\": {\"outlinewidth\": 0, \"ticks\": \"\"}}, \"type\": \"scattergeo\"}], \"scattergl\": [{\"marker\": {\"colorbar\": {\"outlinewidth\": 0, \"ticks\": \"\"}}, \"type\": \"scattergl\"}], \"scattermapbox\": [{\"marker\": {\"colorbar\": {\"outlinewidth\": 0, \"ticks\": \"\"}}, \"type\": \"scattermapbox\"}], \"scatterpolar\": [{\"marker\": {\"colorbar\": {\"outlinewidth\": 0, \"ticks\": \"\"}}, \"type\": \"scatterpolar\"}], \"scatterpolargl\": [{\"marker\": {\"colorbar\": {\"outlinewidth\": 0, \"ticks\": \"\"}}, \"type\": \"scatterpolargl\"}], \"scatterternary\": [{\"marker\": {\"colorbar\": {\"outlinewidth\": 0, \"ticks\": \"\"}}, \"type\": \"scatterternary\"}], \"surface\": [{\"colorbar\": {\"outlinewidth\": 0, \"ticks\": \"\"}, \"colorscale\": [[0.0, \"#0d0887\"], [0.1111111111111111, \"#46039f\"], [0.2222222222222222, \"#7201a8\"], [0.3333333333333333, \"#9c179e\"], [0.4444444444444444, \"#bd3786\"], [0.5555555555555556, \"#d8576b\"], [0.6666666666666666, \"#ed7953\"], [0.7777777777777778, \"#fb9f3a\"], [0.8888888888888888, \"#fdca26\"], [1.0, \"#f0f921\"]], \"type\": \"surface\"}], \"table\": [{\"cells\": {\"fill\": {\"color\": \"#EBF0F8\"}, \"line\": {\"color\": \"white\"}}, \"header\": {\"fill\": {\"color\": \"#C8D4E3\"}, \"line\": {\"color\": \"white\"}}, \"type\": \"table\"}]}, \"layout\": {\"annotationdefaults\": {\"arrowcolor\": \"#2a3f5f\", \"arrowhead\": 0, \"arrowwidth\": 1}, \"autotypenumbers\": \"strict\", \"coloraxis\": {\"colorbar\": {\"outlinewidth\": 0, \"ticks\": \"\"}}, \"colorscale\": {\"diverging\": [[0, \"#8e0152\"], [0.1, \"#c51b7d\"], [0.2, \"#de77ae\"], [0.3, \"#f1b6da\"], [0.4, \"#fde0ef\"], [0.5, \"#f7f7f7\"], [0.6, \"#e6f5d0\"], [0.7, \"#b8e186\"], [0.8, \"#7fbc41\"], [0.9, \"#4d9221\"], [1, \"#276419\"]], \"sequential\": [[0.0, \"#0d0887\"], [0.1111111111111111, \"#46039f\"], [0.2222222222222222, \"#7201a8\"], [0.3333333333333333, \"#9c179e\"], [0.4444444444444444, \"#bd3786\"], [0.5555555555555556, \"#d8576b\"], [0.6666666666666666, \"#ed7953\"], [0.7777777777777778, \"#fb9f3a\"], [0.8888888888888888, \"#fdca26\"], [1.0, \"#f0f921\"]], \"sequentialminus\": [[0.0, \"#0d0887\"], [0.1111111111111111, \"#46039f\"], [0.2222222222222222, \"#7201a8\"], [0.3333333333333333, \"#9c179e\"], [0.4444444444444444, \"#bd3786\"], [0.5555555555555556, \"#d8576b\"], [0.6666666666666666, \"#ed7953\"], [0.7777777777777778, \"#fb9f3a\"], [0.8888888888888888, \"#fdca26\"], [1.0, \"#f0f921\"]]}, \"colorway\": [\"#636efa\", \"#EF553B\", \"#00cc96\", \"#ab63fa\", \"#FFA15A\", \"#19d3f3\", \"#FF6692\", \"#B6E880\", \"#FF97FF\", \"#FECB52\"], \"font\": {\"color\": \"#2a3f5f\"}, \"geo\": {\"bgcolor\": \"white\", \"lakecolor\": \"white\", \"landcolor\": \"#E5ECF6\", \"showlakes\": true, \"showland\": true, \"subunitcolor\": \"white\"}, \"hoverlabel\": {\"align\": \"left\"}, \"hovermode\": \"closest\", \"mapbox\": {\"style\": \"light\"}, \"paper_bgcolor\": \"white\", \"plot_bgcolor\": \"#E5ECF6\", \"polar\": {\"angularaxis\": {\"gridcolor\": \"white\", \"linecolor\": \"white\", \"ticks\": \"\"}, \"bgcolor\": \"#E5ECF6\", \"radialaxis\": {\"gridcolor\": \"white\", \"linecolor\": \"white\", \"ticks\": \"\"}}, \"scene\": {\"xaxis\": {\"backgroundcolor\": \"#E5ECF6\", \"gridcolor\": \"white\", \"gridwidth\": 2, \"linecolor\": \"white\", \"showbackground\": true, \"ticks\": \"\", \"zerolinecolor\": \"white\"}, \"yaxis\": {\"backgroundcolor\": \"#E5ECF6\", \"gridcolor\": \"white\", \"gridwidth\": 2, \"linecolor\": \"white\", \"showbackground\": true, \"ticks\": \"\", \"zerolinecolor\": \"white\"}, \"zaxis\": {\"backgroundcolor\": \"#E5ECF6\", \"gridcolor\": \"white\", \"gridwidth\": 2, \"linecolor\": \"white\", \"showbackground\": true, \"ticks\": \"\", \"zerolinecolor\": \"white\"}}, \"shapedefaults\": {\"line\": {\"color\": \"#2a3f5f\"}}, \"ternary\": {\"aaxis\": {\"gridcolor\": \"white\", \"linecolor\": \"white\", \"ticks\": \"\"}, \"baxis\": {\"gridcolor\": \"white\", \"linecolor\": \"white\", \"ticks\": \"\"}, \"bgcolor\": \"#E5ECF6\", \"caxis\": {\"gridcolor\": \"white\", \"linecolor\": \"white\", \"ticks\": \"\"}}, \"title\": {\"x\": 0.05}, \"xaxis\": {\"automargin\": true, \"gridcolor\": \"white\", \"linecolor\": \"white\", \"ticks\": \"\", \"title\": {\"standoff\": 15}, \"zerolinecolor\": \"white\", \"zerolinewidth\": 2}, \"yaxis\": {\"automargin\": true, \"gridcolor\": \"white\", \"linecolor\": \"white\", \"ticks\": \"\", \"title\": {\"standoff\": 15}, \"zerolinecolor\": \"white\", \"zerolinewidth\": 2}}}},                        {\"responsive\": true}                    ).then(function(){\n",
       "                            \n",
       "var gd = document.getElementById('e79459ad-5feb-44a6-971e-5ee7ed52bb0e');\n",
       "var x = new MutationObserver(function (mutations, observer) {{\n",
       "        var display = window.getComputedStyle(gd).display;\n",
       "        if (!display || display === 'none') {{\n",
       "            console.log([gd, 'removed!']);\n",
       "            Plotly.purge(gd);\n",
       "            observer.disconnect();\n",
       "        }}\n",
       "}});\n",
       "\n",
       "// Listen for the removal of the full notebook cells\n",
       "var notebookContainer = gd.closest('#notebook-container');\n",
       "if (notebookContainer) {{\n",
       "    x.observe(notebookContainer, {childList: true});\n",
       "}}\n",
       "\n",
       "// Listen for the clearing of the current output cell\n",
       "var outputEl = gd.closest('.output');\n",
       "if (outputEl) {{\n",
       "    x.observe(outputEl, {childList: true});\n",
       "}}\n",
       "\n",
       "                        })                };                });            </script>        </div>"
      ]
     },
     "metadata": {},
     "output_type": "display_data"
    }
   ],
   "source": [
    "\n",
    "df = pd.DataFrame(dict(\n",
    "    r=[normalized_merged_df_1['uber_count'].mean(),normalized_merged_df_1['avg_price'].mean(),normalized_merged_df_1['median_daily_test_rate'].mean(),normalized_merged_df_1['avg_test_score'].mean()],\n",
    "    theta=['uber_count','avg_price','median_daily_test_rate','avg_test_score']))\n",
    "fig = px.line_polar(df, r='r', theta='theta', line_close=True)\n",
    "fig.show()"
   ]
  },
  {
   "cell_type": "code",
   "execution_count": null,
   "metadata": {},
   "outputs": [],
   "source": []
  }
 ],
 "metadata": {
  "kernelspec": {
   "display_name": "Python 3",
   "language": "python",
   "name": "python3"
  },
  "language_info": {
   "codemirror_mode": {
    "name": "ipython",
    "version": 3
   },
   "file_extension": ".py",
   "mimetype": "text/x-python",
   "name": "python",
   "nbconvert_exporter": "python",
   "pygments_lexer": "ipython3",
   "version": "3.8.5"
  }
 },
 "nbformat": 4,
 "nbformat_minor": 4
}
