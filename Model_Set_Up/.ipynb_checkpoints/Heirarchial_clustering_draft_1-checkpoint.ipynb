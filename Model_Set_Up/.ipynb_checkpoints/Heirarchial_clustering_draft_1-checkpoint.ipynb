{
 "cells": [
  {
   "cell_type": "code",
   "execution_count": null,
   "metadata": {},
   "outputs": [],
   "source": []
  },
  {
   "cell_type": "code",
   "execution_count": 1,
   "metadata": {},
   "outputs": [],
   "source": [
    "# import libraries\n",
    "from sklearn.datasets import make_blobs\n",
    "import matplotlib.pyplot as plt\n",
    "import numpy as np\n",
    "import pandas as pd"
   ]
  },
  {
   "cell_type": "code",
   "execution_count": 2,
   "metadata": {},
   "outputs": [],
   "source": [
    "# aglomerative clustering\n",
    "from sklearn.cluster import AgglomerativeClustering\n",
    "\n",
    "# cluster hierarchy\n",
    "import scipy.cluster.hierarchy as sch"
   ]
  },
  {
   "cell_type": "markdown",
   "metadata": {},
   "source": [
    "# import data"
   ]
  },
  {
   "cell_type": "code",
   "execution_count": 3,
   "metadata": {},
   "outputs": [],
   "source": [
    "# load geo data\n",
    "nyc_geo_dataframe = pd.read_csv(\"nyc_data.csv\")"
   ]
  },
  {
   "cell_type": "code",
   "execution_count": 4,
   "metadata": {},
   "outputs": [],
   "source": [
    "#will we just cluster on this or take out a few things"
   ]
  },
  {
   "cell_type": "code",
   "execution_count": 5,
   "metadata": {},
   "outputs": [
    {
     "data": {
      "text/html": [
       "<div>\n",
       "<style scoped>\n",
       "    .dataframe tbody tr th:only-of-type {\n",
       "        vertical-align: middle;\n",
       "    }\n",
       "\n",
       "    .dataframe tbody tr th {\n",
       "        vertical-align: top;\n",
       "    }\n",
       "\n",
       "    .dataframe thead th {\n",
       "        text-align: right;\n",
       "    }\n",
       "</style>\n",
       "<table border=\"1\" class=\"dataframe\">\n",
       "  <thead>\n",
       "    <tr style=\"text-align: right;\">\n",
       "      <th></th>\n",
       "      <th>name</th>\n",
       "      <th>longitude</th>\n",
       "      <th>latitude</th>\n",
       "      <th>uber_count</th>\n",
       "      <th>avg_price</th>\n",
       "      <th>adj_pop</th>\n",
       "      <th>median_daily_test_rate</th>\n",
       "      <th>avg_test_score</th>\n",
       "    </tr>\n",
       "  </thead>\n",
       "  <tbody>\n",
       "    <tr>\n",
       "      <th>0</th>\n",
       "      <td>Allerton</td>\n",
       "      <td>-73.859319</td>\n",
       "      <td>40.865788</td>\n",
       "      <td>860.0</td>\n",
       "      <td>1.50</td>\n",
       "      <td>28707.0</td>\n",
       "      <td>511.5</td>\n",
       "      <td>27.259983</td>\n",
       "    </tr>\n",
       "    <tr>\n",
       "      <th>1</th>\n",
       "      <td>Annadale</td>\n",
       "      <td>-74.178549</td>\n",
       "      <td>40.538114</td>\n",
       "      <td>11.0</td>\n",
       "      <td>1.75</td>\n",
       "      <td>27073.0</td>\n",
       "      <td>263.7</td>\n",
       "      <td>45.011856</td>\n",
       "    </tr>\n",
       "    <tr>\n",
       "      <th>2</th>\n",
       "      <td>Arden Heights</td>\n",
       "      <td>-74.185887</td>\n",
       "      <td>40.549286</td>\n",
       "      <td>10.0</td>\n",
       "      <td>1.70</td>\n",
       "      <td>25117.0</td>\n",
       "      <td>482.5</td>\n",
       "      <td>44.121985</td>\n",
       "    </tr>\n",
       "    <tr>\n",
       "      <th>3</th>\n",
       "      <td>Arlington</td>\n",
       "      <td>-74.165104</td>\n",
       "      <td>40.635325</td>\n",
       "      <td>0.0</td>\n",
       "      <td>1.55</td>\n",
       "      <td>29715.0</td>\n",
       "      <td>482.5</td>\n",
       "      <td>38.728529</td>\n",
       "    </tr>\n",
       "    <tr>\n",
       "      <th>4</th>\n",
       "      <td>Arrochar</td>\n",
       "      <td>-74.067124</td>\n",
       "      <td>40.596313</td>\n",
       "      <td>145.0</td>\n",
       "      <td>1.75</td>\n",
       "      <td>15659.0</td>\n",
       "      <td>317.3</td>\n",
       "      <td>48.440916</td>\n",
       "    </tr>\n",
       "    <tr>\n",
       "      <th>...</th>\n",
       "      <td>...</td>\n",
       "      <td>...</td>\n",
       "      <td>...</td>\n",
       "      <td>...</td>\n",
       "      <td>...</td>\n",
       "      <td>...</td>\n",
       "      <td>...</td>\n",
       "      <td>...</td>\n",
       "    </tr>\n",
       "    <tr>\n",
       "      <th>297</th>\n",
       "      <td>Woodhaven</td>\n",
       "      <td>-73.858110</td>\n",
       "      <td>40.689887</td>\n",
       "      <td>2058.0</td>\n",
       "      <td>1.40</td>\n",
       "      <td>55411.0</td>\n",
       "      <td>222.2</td>\n",
       "      <td>40.725764</td>\n",
       "    </tr>\n",
       "    <tr>\n",
       "      <th>298</th>\n",
       "      <td>Woodlawn</td>\n",
       "      <td>-73.867315</td>\n",
       "      <td>40.898273</td>\n",
       "      <td>810.0</td>\n",
       "      <td>1.40</td>\n",
       "      <td>43034.0</td>\n",
       "      <td>260.1</td>\n",
       "      <td>45.936409</td>\n",
       "    </tr>\n",
       "    <tr>\n",
       "      <th>299</th>\n",
       "      <td>Woodrow</td>\n",
       "      <td>-74.205246</td>\n",
       "      <td>40.541968</td>\n",
       "      <td>5.0</td>\n",
       "      <td>1.75</td>\n",
       "      <td>19829.0</td>\n",
       "      <td>297.5</td>\n",
       "      <td>44.273276</td>\n",
       "    </tr>\n",
       "    <tr>\n",
       "      <th>300</th>\n",
       "      <td>Woodside</td>\n",
       "      <td>-73.901842</td>\n",
       "      <td>40.746349</td>\n",
       "      <td>4567.0</td>\n",
       "      <td>1.40</td>\n",
       "      <td>44473.0</td>\n",
       "      <td>243.9</td>\n",
       "      <td>46.964018</td>\n",
       "    </tr>\n",
       "    <tr>\n",
       "      <th>301</th>\n",
       "      <td>Yorkville</td>\n",
       "      <td>-73.947118</td>\n",
       "      <td>40.775930</td>\n",
       "      <td>46819.0</td>\n",
       "      <td>1.80</td>\n",
       "      <td>77355.0</td>\n",
       "      <td>928.3</td>\n",
       "      <td>43.016239</td>\n",
       "    </tr>\n",
       "  </tbody>\n",
       "</table>\n",
       "<p>302 rows × 8 columns</p>\n",
       "</div>"
      ],
      "text/plain": [
       "              name  longitude   latitude  uber_count  avg_price  adj_pop  \\\n",
       "0         Allerton -73.859319  40.865788       860.0       1.50  28707.0   \n",
       "1         Annadale -74.178549  40.538114        11.0       1.75  27073.0   \n",
       "2    Arden Heights -74.185887  40.549286        10.0       1.70  25117.0   \n",
       "3        Arlington -74.165104  40.635325         0.0       1.55  29715.0   \n",
       "4         Arrochar -74.067124  40.596313       145.0       1.75  15659.0   \n",
       "..             ...        ...        ...         ...        ...      ...   \n",
       "297      Woodhaven -73.858110  40.689887      2058.0       1.40  55411.0   \n",
       "298       Woodlawn -73.867315  40.898273       810.0       1.40  43034.0   \n",
       "299        Woodrow -74.205246  40.541968         5.0       1.75  19829.0   \n",
       "300       Woodside -73.901842  40.746349      4567.0       1.40  44473.0   \n",
       "301      Yorkville -73.947118  40.775930     46819.0       1.80  77355.0   \n",
       "\n",
       "     median_daily_test_rate  avg_test_score  \n",
       "0                     511.5       27.259983  \n",
       "1                     263.7       45.011856  \n",
       "2                     482.5       44.121985  \n",
       "3                     482.5       38.728529  \n",
       "4                     317.3       48.440916  \n",
       "..                      ...             ...  \n",
       "297                   222.2       40.725764  \n",
       "298                   260.1       45.936409  \n",
       "299                   297.5       44.273276  \n",
       "300                   243.9       46.964018  \n",
       "301                   928.3       43.016239  \n",
       "\n",
       "[302 rows x 8 columns]"
      ]
     },
     "execution_count": 5,
     "metadata": {},
     "output_type": "execute_result"
    }
   ],
   "source": [
    "nyc_geo_dataframe"
   ]
  },
  {
   "cell_type": "code",
   "execution_count": null,
   "metadata": {},
   "outputs": [],
   "source": []
  },
  {
   "cell_type": "code",
   "execution_count": 6,
   "metadata": {},
   "outputs": [],
   "source": [
    "#leaves out longitude and latitude\n",
    "nyc_geo_dataframe_features_only = nyc_geo_dataframe[['uber_count','avg_price','adj_pop','median_daily_test_rate','avg_test_score']]"
   ]
  },
  {
   "cell_type": "code",
   "execution_count": null,
   "metadata": {},
   "outputs": [],
   "source": []
  },
  {
   "cell_type": "markdown",
   "metadata": {},
   "source": [
    "## Set Up Function to Graph Data"
   ]
  },
  {
   "cell_type": "code",
   "execution_count": 7,
   "metadata": {},
   "outputs": [],
   "source": [
    "def plot_clusters(X,y_res, plt_cluster_centers = False):\n",
    "    X_centroids = []\n",
    "    Y_centroids = []\n",
    "\n",
    "    for cluster in set(y_res):\n",
    "        x = X[y_res == cluster,0]\n",
    "        y = X[y_res == cluster,1]\n",
    "        X_centroids.append(np.mean(x))\n",
    "        Y_centroids.append(np.mean(y))\n",
    "\n",
    "        plt.scatter(x,\n",
    "                    y,\n",
    "                    s=50,\n",
    "                    marker='s',\n",
    "                    label=f'cluster {cluster}')\n",
    "\n",
    "    if plt_cluster_centers:\n",
    "        plt.scatter(X_centroids,\n",
    "                    Y_centroids,\n",
    "                    marker='*',\n",
    "                    c='red',\n",
    "                    s=250,\n",
    "                    label='centroids')\n",
    "    plt.legend()\n",
    "    plt.grid()\n",
    "    plt.show()\n",
    "    "
   ]
  },
  {
   "cell_type": "code",
   "execution_count": 13,
   "metadata": {},
   "outputs": [],
   "source": [
    "# create an object\n",
    "ac = AgglomerativeClustering(affinity='euclidean',\n",
    "                             linkage='ward',\n",
    "                             n_clusters = 4)"
   ]
  },
  {
   "cell_type": "markdown",
   "metadata": {},
   "source": [
    "## Fit and predict the data:\n"
   ]
  },
  {
   "cell_type": "code",
   "execution_count": 14,
   "metadata": {},
   "outputs": [],
   "source": [
    "# fit and predict\n",
    "y_hc = ac.fit_predict(nyc_geo_dataframe_features_only)"
   ]
  },
  {
   "cell_type": "code",
   "execution_count": 15,
   "metadata": {},
   "outputs": [
    {
     "data": {
      "text/plain": [
       "array([1, 1, 1, 1, 1, 1, 2, 1, 1, 1, 1, 2, 1, 1, 3, 3, 3, 3, 1, 1, 1, 1,\n",
       "       1, 2, 3, 1, 1, 1, 2, 1, 1, 1, 1, 1, 1, 1, 1, 3, 1, 2, 1, 1, 2, 3,\n",
       "       1, 3, 1, 2, 1, 0, 3, 1, 3, 0, 1, 3, 1, 0, 1, 2, 1, 1, 1, 2, 3, 1,\n",
       "       3, 1, 2, 3, 1, 1, 1, 1, 1, 1, 1, 3, 2, 2, 1, 0, 1, 1, 1, 1, 3, 1,\n",
       "       1, 2, 1, 1, 1, 3, 1, 0, 2, 0, 3, 1, 2, 2, 2, 1, 1, 1, 1, 1, 1, 3,\n",
       "       3, 1, 1, 3, 1, 1, 1, 1, 1, 1, 1, 1, 0, 1, 3, 1, 1, 1, 1, 1, 1, 1,\n",
       "       3, 1, 1, 0, 1, 3, 1, 3, 2, 3, 1, 1, 1, 1, 1, 1, 1, 1, 3, 0, 1, 0,\n",
       "       1, 1, 1, 1, 1, 0, 1, 1, 3, 3, 1, 1, 2, 3, 3, 1, 2, 3, 1, 1, 0, 1,\n",
       "       3, 3, 2, 3, 3, 1, 1, 2, 1, 3, 2, 1, 3, 1, 1, 3, 1, 1, 3, 1, 3, 1,\n",
       "       1, 1, 1, 3, 1, 3, 1, 1, 1, 0, 1, 1, 1, 1, 1, 1, 1, 3, 1, 1, 1, 3,\n",
       "       1, 3, 1, 1, 1, 1, 1, 1, 3, 3, 1, 1, 3, 1, 2, 1, 1, 2, 1, 1, 1, 1,\n",
       "       3, 1, 3, 1, 3, 1, 1, 1, 1, 2, 1, 1, 2, 3, 3, 1, 3, 1, 1, 1, 3, 1,\n",
       "       2, 1, 2, 1, 3, 1, 1, 1, 1, 0, 1, 0, 1, 3, 0, 2, 1, 1, 1, 3, 2, 3,\n",
       "       3, 1, 0, 1, 1, 1, 3, 0, 1, 1, 3, 3, 3, 1, 3, 0])"
      ]
     },
     "execution_count": 15,
     "metadata": {},
     "output_type": "execute_result"
    }
   ],
   "source": [
    "y_hc"
   ]
  },
  {
   "cell_type": "code",
   "execution_count": 19,
   "metadata": {},
   "outputs": [
    {
     "data": {
      "text/plain": [
       "array([0, 1, 2, 3])"
      ]
     },
     "execution_count": 19,
     "metadata": {},
     "output_type": "execute_result"
    }
   ],
   "source": [
    "np.unique(y_hc)"
   ]
  },
  {
   "cell_type": "markdown",
   "metadata": {},
   "source": [
    "## Find the right number of clusters using a Dendrogram\n",
    "\n",
    "before, in the centriod/kmeans learning we started with identifying the number of groups, and then deciding who goes into which groups. I guess the above illustration was just to show that the data we are working with is the same type as before? Because below we will be identifying who goes into which group and how at the same time. we can look at the graph and decide at which level would we get the most value of grouping. I think it's also cool to see the sub groups rolling up into this level."
   ]
  },
  {
   "cell_type": "code",
   "execution_count": 16,
   "metadata": {},
   "outputs": [],
   "source": [
    "# define plot_dendrogram function\n",
    "def plot_dendrogram(X,method ='ward'):\n",
    "    dendrogram = sch.dendrogram(sch.linkage(X, method=method))\n",
    "    plt.title(\"Dendrogram\")\n",
    "    plt.ylabel(\"Euclidean distances\")\n",
    "    plt.xlabel('Points')\n",
    "    plt.show()"
   ]
  },
  {
   "cell_type": "code",
   "execution_count": null,
   "metadata": {},
   "outputs": [],
   "source": []
  },
  {
   "cell_type": "code",
   "execution_count": 17,
   "metadata": {},
   "outputs": [
    {
     "data": {
      "image/png": "[encoded data removed]",
      "text/plain": [
       "<Figure size 432x288 with 1 Axes>"
      ]
     },
     "metadata": {
      "needs_background": "light"
     },
     "output_type": "display_data"
    }
   ],
   "source": [
    "# Plot dendrogram\n",
    "plot_dendrogram(nyc_geo_dataframe_features_only)"
   ]
  },
  {
   "cell_type": "code",
   "execution_count": null,
   "metadata": {},
   "outputs": [],
   "source": []
  }
 ],
 "metadata": {
  "kernelspec": {
   "display_name": "Python 3",
   "language": "python",
   "name": "python3"
  },
  "language_info": {
   "codemirror_mode": {
    "name": "ipython",
    "version": 3
   },
   "file_extension": ".py",
   "mimetype": "text/x-python",
   "name": "python",
   "nbconvert_exporter": "python",
   "pygments_lexer": "ipython3",
   "version": "3.8.5"
  }
 },
 "nbformat": 4,
 "nbformat_minor": 4
}
