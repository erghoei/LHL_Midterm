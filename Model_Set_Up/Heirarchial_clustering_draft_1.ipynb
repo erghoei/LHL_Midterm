{
 "cells": [
  {
   "cell_type": "code",
   "execution_count": null,
   "metadata": {},
   "outputs": [],
   "source": []
  },
  {
   "cell_type": "code",
   "execution_count": 1,
   "metadata": {},
   "outputs": [],
   "source": [
    "# import libraries\n",
    "from sklearn.datasets import make_blobs\n",
    "import matplotlib.pyplot as plt\n",
    "import numpy as np\n",
    "import pandas as pd"
   ]
  },
  {
   "cell_type": "code",
   "execution_count": 17,
   "metadata": {},
   "outputs": [],
   "source": [
    "# aglomerative clustering\n",
    "from sklearn.cluster import AgglomerativeClustering\n",
    "\n",
    "# cluster hierarchy\n",
    "import scipy.cluster.hierarchy as sch\n",
    "\n",
    "# PCA scatterplot\n",
    "import plotly.express as px\n",
    "from sklearn.decomposition import PCA\n",
    "\n",
    "#import MinMaxScaler for Normalization\n",
    "from sklearn.preprocessing import MinMaxScaler"
   ]
  },
  {
   "cell_type": "markdown",
   "metadata": {},
   "source": [
    "# import data"
   ]
  },
  {
   "cell_type": "code",
   "execution_count": 3,
   "metadata": {},
   "outputs": [],
   "source": [
    "# load geo data\n",
    "nyc_geo_dataframe = pd.read_csv(\"nyc_data.csv\")"
   ]
  },
  {
   "cell_type": "code",
   "execution_count": 4,
   "metadata": {},
   "outputs": [],
   "source": [
    "#will we just cluster on this or take out a few things"
   ]
  },
  {
   "cell_type": "code",
   "execution_count": 5,
   "metadata": {},
   "outputs": [
    {
     "data": {
      "text/html": [
       "<div>\n",
       "<style scoped>\n",
       "    .dataframe tbody tr th:only-of-type {\n",
       "        vertical-align: middle;\n",
       "    }\n",
       "\n",
       "    .dataframe tbody tr th {\n",
       "        vertical-align: top;\n",
       "    }\n",
       "\n",
       "    .dataframe thead th {\n",
       "        text-align: right;\n",
       "    }\n",
       "</style>\n",
       "<table border=\"1\" class=\"dataframe\">\n",
       "  <thead>\n",
       "    <tr style=\"text-align: right;\">\n",
       "      <th></th>\n",
       "      <th>name</th>\n",
       "      <th>longitude</th>\n",
       "      <th>latitude</th>\n",
       "      <th>uber_count</th>\n",
       "      <th>avg_price</th>\n",
       "      <th>adj_pop</th>\n",
       "      <th>median_daily_test_rate</th>\n",
       "      <th>avg_test_score</th>\n",
       "    </tr>\n",
       "  </thead>\n",
       "  <tbody>\n",
       "    <tr>\n",
       "      <th>0</th>\n",
       "      <td>Allerton</td>\n",
       "      <td>-73.859319</td>\n",
       "      <td>40.865788</td>\n",
       "      <td>860.0</td>\n",
       "      <td>1.50</td>\n",
       "      <td>28707.0</td>\n",
       "      <td>511.5</td>\n",
       "      <td>27.259983</td>\n",
       "    </tr>\n",
       "    <tr>\n",
       "      <th>1</th>\n",
       "      <td>Annadale</td>\n",
       "      <td>-74.178549</td>\n",
       "      <td>40.538114</td>\n",
       "      <td>11.0</td>\n",
       "      <td>1.75</td>\n",
       "      <td>27073.0</td>\n",
       "      <td>263.7</td>\n",
       "      <td>45.011856</td>\n",
       "    </tr>\n",
       "    <tr>\n",
       "      <th>2</th>\n",
       "      <td>Arden Heights</td>\n",
       "      <td>-74.185887</td>\n",
       "      <td>40.549286</td>\n",
       "      <td>10.0</td>\n",
       "      <td>1.70</td>\n",
       "      <td>25117.0</td>\n",
       "      <td>482.5</td>\n",
       "      <td>44.121985</td>\n",
       "    </tr>\n",
       "    <tr>\n",
       "      <th>3</th>\n",
       "      <td>Arlington</td>\n",
       "      <td>-74.165104</td>\n",
       "      <td>40.635325</td>\n",
       "      <td>0.0</td>\n",
       "      <td>1.55</td>\n",
       "      <td>29715.0</td>\n",
       "      <td>482.5</td>\n",
       "      <td>38.728529</td>\n",
       "    </tr>\n",
       "    <tr>\n",
       "      <th>4</th>\n",
       "      <td>Arrochar</td>\n",
       "      <td>-74.067124</td>\n",
       "      <td>40.596313</td>\n",
       "      <td>145.0</td>\n",
       "      <td>1.75</td>\n",
       "      <td>15659.0</td>\n",
       "      <td>317.3</td>\n",
       "      <td>48.440916</td>\n",
       "    </tr>\n",
       "    <tr>\n",
       "      <th>...</th>\n",
       "      <td>...</td>\n",
       "      <td>...</td>\n",
       "      <td>...</td>\n",
       "      <td>...</td>\n",
       "      <td>...</td>\n",
       "      <td>...</td>\n",
       "      <td>...</td>\n",
       "      <td>...</td>\n",
       "    </tr>\n",
       "    <tr>\n",
       "      <th>297</th>\n",
       "      <td>Woodhaven</td>\n",
       "      <td>-73.858110</td>\n",
       "      <td>40.689887</td>\n",
       "      <td>2058.0</td>\n",
       "      <td>1.40</td>\n",
       "      <td>55411.0</td>\n",
       "      <td>222.2</td>\n",
       "      <td>40.725764</td>\n",
       "    </tr>\n",
       "    <tr>\n",
       "      <th>298</th>\n",
       "      <td>Woodlawn</td>\n",
       "      <td>-73.867315</td>\n",
       "      <td>40.898273</td>\n",
       "      <td>810.0</td>\n",
       "      <td>1.40</td>\n",
       "      <td>43034.0</td>\n",
       "      <td>260.1</td>\n",
       "      <td>45.936409</td>\n",
       "    </tr>\n",
       "    <tr>\n",
       "      <th>299</th>\n",
       "      <td>Woodrow</td>\n",
       "      <td>-74.205246</td>\n",
       "      <td>40.541968</td>\n",
       "      <td>5.0</td>\n",
       "      <td>1.75</td>\n",
       "      <td>19829.0</td>\n",
       "      <td>297.5</td>\n",
       "      <td>44.273276</td>\n",
       "    </tr>\n",
       "    <tr>\n",
       "      <th>300</th>\n",
       "      <td>Woodside</td>\n",
       "      <td>-73.901842</td>\n",
       "      <td>40.746349</td>\n",
       "      <td>4567.0</td>\n",
       "      <td>1.40</td>\n",
       "      <td>44473.0</td>\n",
       "      <td>243.9</td>\n",
       "      <td>46.964018</td>\n",
       "    </tr>\n",
       "    <tr>\n",
       "      <th>301</th>\n",
       "      <td>Yorkville</td>\n",
       "      <td>-73.947118</td>\n",
       "      <td>40.775930</td>\n",
       "      <td>46819.0</td>\n",
       "      <td>1.80</td>\n",
       "      <td>77355.0</td>\n",
       "      <td>928.3</td>\n",
       "      <td>43.016239</td>\n",
       "    </tr>\n",
       "  </tbody>\n",
       "</table>\n",
       "<p>302 rows × 8 columns</p>\n",
       "</div>"
      ],
      "text/plain": [
       "              name  longitude   latitude  uber_count  avg_price  adj_pop  \\\n",
       "0         Allerton -73.859319  40.865788       860.0       1.50  28707.0   \n",
       "1         Annadale -74.178549  40.538114        11.0       1.75  27073.0   \n",
       "2    Arden Heights -74.185887  40.549286        10.0       1.70  25117.0   \n",
       "3        Arlington -74.165104  40.635325         0.0       1.55  29715.0   \n",
       "4         Arrochar -74.067124  40.596313       145.0       1.75  15659.0   \n",
       "..             ...        ...        ...         ...        ...      ...   \n",
       "297      Woodhaven -73.858110  40.689887      2058.0       1.40  55411.0   \n",
       "298       Woodlawn -73.867315  40.898273       810.0       1.40  43034.0   \n",
       "299        Woodrow -74.205246  40.541968         5.0       1.75  19829.0   \n",
       "300       Woodside -73.901842  40.746349      4567.0       1.40  44473.0   \n",
       "301      Yorkville -73.947118  40.775930     46819.0       1.80  77355.0   \n",
       "\n",
       "     median_daily_test_rate  avg_test_score  \n",
       "0                     511.5       27.259983  \n",
       "1                     263.7       45.011856  \n",
       "2                     482.5       44.121985  \n",
       "3                     482.5       38.728529  \n",
       "4                     317.3       48.440916  \n",
       "..                      ...             ...  \n",
       "297                   222.2       40.725764  \n",
       "298                   260.1       45.936409  \n",
       "299                   297.5       44.273276  \n",
       "300                   243.9       46.964018  \n",
       "301                   928.3       43.016239  \n",
       "\n",
       "[302 rows x 8 columns]"
      ]
     },
     "execution_count": 5,
     "metadata": {},
     "output_type": "execute_result"
    }
   ],
   "source": [
    "nyc_geo_dataframe"
   ]
  },
  {
   "cell_type": "code",
   "execution_count": null,
   "metadata": {},
   "outputs": [],
   "source": []
  },
  {
   "cell_type": "code",
   "execution_count": 6,
   "metadata": {},
   "outputs": [],
   "source": [
    "#leaves out longitude and latitude\n",
    "nyc_geo_dataframe_features_only = nyc_geo_dataframe[['uber_count','avg_price','adj_pop','median_daily_test_rate','avg_test_score']]"
   ]
  },
  {
   "cell_type": "code",
   "execution_count": null,
   "metadata": {},
   "outputs": [],
   "source": []
  },
  {
   "cell_type": "markdown",
   "metadata": {},
   "source": [
    "## Set Up Function to Graph Data"
   ]
  },
  {
   "cell_type": "code",
   "execution_count": 7,
   "metadata": {},
   "outputs": [],
   "source": [
    "def plot_clusters(X,y_res, plt_cluster_centers = False):\n",
    "    X_centroids = []\n",
    "    Y_centroids = []\n",
    "\n",
    "    for cluster in set(y_res):\n",
    "        x = X[y_res == cluster,0]\n",
    "        y = X[y_res == cluster,1]\n",
    "        X_centroids.append(np.mean(x))\n",
    "        Y_centroids.append(np.mean(y))\n",
    "\n",
    "        plt.scatter(x,\n",
    "                    y,\n",
    "                    s=50,\n",
    "                    marker='s',\n",
    "                    label=f'cluster {cluster}')\n",
    "\n",
    "    if plt_cluster_centers:\n",
    "        plt.scatter(X_centroids,\n",
    "                    Y_centroids,\n",
    "                    marker='*',\n",
    "                    c='red',\n",
    "                    s=250,\n",
    "                    label='centroids')\n",
    "    plt.legend()\n",
    "    plt.grid()\n",
    "    plt.show()\n",
    "    "
   ]
  },
  {
   "cell_type": "code",
   "execution_count": 158,
   "metadata": {},
   "outputs": [],
   "source": [
    "# create an object\n",
    "ac = AgglomerativeClustering(affinity='manhattan',\n",
    "                             linkage='complete',\n",
    "                             n_clusters = 4)"
   ]
  },
  {
   "cell_type": "markdown",
   "metadata": {},
   "source": [
    "## Fit and predict the data:\n"
   ]
  },
  {
   "cell_type": "code",
   "execution_count": 159,
   "metadata": {},
   "outputs": [],
   "source": [
    "# fit and predict\n",
    "y_hc = ac.fit_predict(normalized_df2)"
   ]
  },
  {
   "cell_type": "code",
   "execution_count": 160,
   "metadata": {},
   "outputs": [
    {
     "data": {
      "text/plain": [
       "array([2, 3, 3, 3, 3, 3, 0, 3, 3, 2, 3, 0, 3, 3, 3, 2, 2, 2, 3, 3, 3, 3,\n",
       "       3, 2, 3, 3, 2, 3, 2, 3, 2, 3, 3, 3, 3, 3, 2, 2, 3, 2, 3, 2, 2, 0,\n",
       "       3, 2, 3, 0, 3, 1, 2, 3, 2, 2, 2, 2, 3, 3, 3, 2, 3, 3, 3, 2, 2, 3,\n",
       "       2, 3, 0, 2, 3, 3, 3, 2, 3, 3, 2, 2, 2, 2, 2, 3, 3, 2, 2, 2, 2, 3,\n",
       "       2, 2, 3, 3, 3, 2, 3, 1, 0, 0, 2, 3, 2, 2, 0, 3, 3, 3, 3, 3, 3, 2,\n",
       "       2, 3, 3, 2, 3, 3, 3, 3, 3, 3, 3, 3, 3, 3, 2, 3, 3, 2, 2, 2, 3, 3,\n",
       "       3, 3, 3, 0, 3, 0, 2, 2, 2, 2, 2, 2, 3, 2, 3, 3, 3, 2, 2, 1, 3, 1,\n",
       "       3, 2, 0, 3, 2, 2, 3, 2, 0, 2, 3, 3, 2, 2, 3, 3, 2, 2, 3, 3, 1, 3,\n",
       "       2, 3, 0, 2, 2, 2, 3, 2, 2, 2, 0, 3, 3, 3, 3, 2, 3, 3, 2, 3, 3, 2,\n",
       "       3, 3, 2, 2, 3, 2, 3, 3, 3, 0, 2, 3, 3, 3, 3, 3, 3, 2, 2, 3, 3, 2,\n",
       "       3, 2, 3, 3, 3, 3, 3, 3, 2, 2, 3, 3, 2, 3, 2, 3, 3, 2, 3, 2, 3, 3,\n",
       "       2, 3, 2, 3, 2, 3, 3, 3, 3, 2, 3, 2, 2, 3, 2, 3, 2, 3, 3, 2, 2, 3,\n",
       "       2, 3, 2, 3, 3, 3, 3, 3, 3, 0, 3, 3, 3, 2, 1, 0, 3, 3, 3, 2, 2, 2,\n",
       "       3, 3, 0, 3, 3, 3, 2, 3, 3, 3, 2, 2, 2, 3, 2, 0])"
      ]
     },
     "execution_count": 160,
     "metadata": {},
     "output_type": "execute_result"
    }
   ],
   "source": [
    "y_hc"
   ]
  },
  {
   "cell_type": "code",
   "execution_count": 161,
   "metadata": {},
   "outputs": [
    {
     "data": {
      "text/plain": [
       "array([0, 1, 2, 3])"
      ]
     },
     "execution_count": 161,
     "metadata": {},
     "output_type": "execute_result"
    }
   ],
   "source": [
    "np.unique(y_hc)"
   ]
  },
  {
   "cell_type": "code",
   "execution_count": 162,
   "metadata": {},
   "outputs": [],
   "source": [
    "y_hc_df = pd.DataFrame(y_hc)"
   ]
  },
  {
   "cell_type": "code",
   "execution_count": 163,
   "metadata": {},
   "outputs": [
    {
     "data": {
      "text/html": [
       "<div>\n",
       "<style scoped>\n",
       "    .dataframe tbody tr th:only-of-type {\n",
       "        vertical-align: middle;\n",
       "    }\n",
       "\n",
       "    .dataframe tbody tr th {\n",
       "        vertical-align: top;\n",
       "    }\n",
       "\n",
       "    .dataframe thead th {\n",
       "        text-align: right;\n",
       "    }\n",
       "</style>\n",
       "<table border=\"1\" class=\"dataframe\">\n",
       "  <thead>\n",
       "    <tr style=\"text-align: right;\">\n",
       "      <th></th>\n",
       "      <th>0</th>\n",
       "    </tr>\n",
       "  </thead>\n",
       "  <tbody>\n",
       "    <tr>\n",
       "      <th>0</th>\n",
       "      <td>2</td>\n",
       "    </tr>\n",
       "    <tr>\n",
       "      <th>1</th>\n",
       "      <td>3</td>\n",
       "    </tr>\n",
       "    <tr>\n",
       "      <th>2</th>\n",
       "      <td>3</td>\n",
       "    </tr>\n",
       "    <tr>\n",
       "      <th>3</th>\n",
       "      <td>3</td>\n",
       "    </tr>\n",
       "    <tr>\n",
       "      <th>4</th>\n",
       "      <td>3</td>\n",
       "    </tr>\n",
       "    <tr>\n",
       "      <th>...</th>\n",
       "      <td>...</td>\n",
       "    </tr>\n",
       "    <tr>\n",
       "      <th>297</th>\n",
       "      <td>2</td>\n",
       "    </tr>\n",
       "    <tr>\n",
       "      <th>298</th>\n",
       "      <td>2</td>\n",
       "    </tr>\n",
       "    <tr>\n",
       "      <th>299</th>\n",
       "      <td>3</td>\n",
       "    </tr>\n",
       "    <tr>\n",
       "      <th>300</th>\n",
       "      <td>2</td>\n",
       "    </tr>\n",
       "    <tr>\n",
       "      <th>301</th>\n",
       "      <td>0</td>\n",
       "    </tr>\n",
       "  </tbody>\n",
       "</table>\n",
       "<p>302 rows × 1 columns</p>\n",
       "</div>"
      ],
      "text/plain": [
       "     0\n",
       "0    2\n",
       "1    3\n",
       "2    3\n",
       "3    3\n",
       "4    3\n",
       "..  ..\n",
       "297  2\n",
       "298  2\n",
       "299  3\n",
       "300  2\n",
       "301  0\n",
       "\n",
       "[302 rows x 1 columns]"
      ]
     },
     "execution_count": 163,
     "metadata": {},
     "output_type": "execute_result"
    }
   ],
   "source": [
    "y_hc_df"
   ]
  },
  {
   "cell_type": "markdown",
   "metadata": {},
   "source": [
    "## Find the right number of clusters using a Dendrogram\n",
    "\n",
    "before, in the centriod/kmeans learning we started with identifying the number of groups, and then deciding who goes into which groups. I guess the above illustration was just to show that the data we are working with is the same type as before? Because below we will be identifying who goes into which group and how at the same time. we can look at the graph and decide at which level would we get the most value of grouping. I think it's also cool to see the sub groups rolling up into this level."
   ]
  },
  {
   "cell_type": "code",
   "execution_count": 110,
   "metadata": {},
   "outputs": [],
   "source": [
    "# define plot_dendrogram function\n",
    "def plot_dendrogram(X,method ='complete'):\n",
    "    dendrogram = sch.dendrogram(sch.linkage(X, method=method))\n",
    "    plt.title(\"Dendrogram\")\n",
    "    plt.ylabel(\"Euclidean distances\")\n",
    "    plt.xlabel('Points')\n",
    "    plt.show()"
   ]
  },
  {
   "cell_type": "code",
   "execution_count": null,
   "metadata": {},
   "outputs": [],
   "source": []
  },
  {
   "cell_type": "code",
   "execution_count": 111,
   "metadata": {},
   "outputs": [
    {
     "data": {
      "image/png": "[encoded data removed]",
      "text/plain": [
       "<Figure size 432x288 with 1 Axes>"
      ]
     },
     "metadata": {
      "needs_background": "light"
     },
     "output_type": "display_data"
    }
   ],
   "source": [
    "# Plot dendrogram\n",
    "plot_dendrogram(nyc_geo_dataframe_features_only)"
   ]
  },
  {
   "cell_type": "code",
   "execution_count": null,
   "metadata": {},
   "outputs": [],
   "source": []
  },
  {
   "cell_type": "code",
   "execution_count": null,
   "metadata": {},
   "outputs": [],
   "source": []
  },
  {
   "cell_type": "markdown",
   "metadata": {},
   "source": [
    "# Optional: Normalize Data"
   ]
  },
  {
   "cell_type": "code",
   "execution_count": 114,
   "metadata": {},
   "outputs": [
    {
     "data": {
      "text/plain": [
       "array([[4.26096952e-03, 3.88888889e-01, 1.80149481e-01, 1.12784609e-01,\n",
       "        2.26247536e-01],\n",
       "       [5.45007729e-05, 6.66666667e-01, 1.69895388e-01, 3.98893922e-02,\n",
       "        4.80298979e-01],\n",
       "       [4.95461572e-05, 6.11111111e-01, 1.57620599e-01, 1.04253692e-01,\n",
       "        4.67563822e-01],\n",
       "       ...,\n",
       "       [2.47730786e-05, 6.66666667e-01, 1.24435993e-01, 4.98323234e-02,\n",
       "        4.69728978e-01],\n",
       "       [2.26277300e-02, 2.77777778e-01, 2.79088302e-01, 3.40648350e-02,\n",
       "        5.08236863e-01],\n",
       "       [2.31970153e-01, 7.22222222e-01, 4.85437807e-01, 2.35394481e-01,\n",
       "        4.51739222e-01]])"
      ]
     },
     "execution_count": 114,
     "metadata": {},
     "output_type": "execute_result"
    }
   ],
   "source": [
    "#normalize\n",
    "scaler = MinMaxScaler()\n",
    "normalized_df1 = scaler.fit_transform(nyc_geo_dataframe_features_only)\n",
    "normalized_df1\n"
   ]
  },
  {
   "cell_type": "code",
   "execution_count": 115,
   "metadata": {},
   "outputs": [
    {
     "data": {
      "text/html": [
       "<div>\n",
       "<style scoped>\n",
       "    .dataframe tbody tr th:only-of-type {\n",
       "        vertical-align: middle;\n",
       "    }\n",
       "\n",
       "    .dataframe tbody tr th {\n",
       "        vertical-align: top;\n",
       "    }\n",
       "\n",
       "    .dataframe thead th {\n",
       "        text-align: right;\n",
       "    }\n",
       "</style>\n",
       "<table border=\"1\" class=\"dataframe\">\n",
       "  <thead>\n",
       "    <tr style=\"text-align: right;\">\n",
       "      <th></th>\n",
       "      <th>uber_count</th>\n",
       "      <th>avg_price</th>\n",
       "      <th>adj_pop</th>\n",
       "      <th>median_daily_test_rate</th>\n",
       "      <th>avg_test_score</th>\n",
       "    </tr>\n",
       "  </thead>\n",
       "  <tbody>\n",
       "    <tr>\n",
       "      <th>0</th>\n",
       "      <td>0.004261</td>\n",
       "      <td>0.388889</td>\n",
       "      <td>0.180149</td>\n",
       "      <td>0.112785</td>\n",
       "      <td>0.226248</td>\n",
       "    </tr>\n",
       "    <tr>\n",
       "      <th>1</th>\n",
       "      <td>0.000055</td>\n",
       "      <td>0.666667</td>\n",
       "      <td>0.169895</td>\n",
       "      <td>0.039889</td>\n",
       "      <td>0.480299</td>\n",
       "    </tr>\n",
       "    <tr>\n",
       "      <th>2</th>\n",
       "      <td>0.000050</td>\n",
       "      <td>0.611111</td>\n",
       "      <td>0.157621</td>\n",
       "      <td>0.104254</td>\n",
       "      <td>0.467564</td>\n",
       "    </tr>\n",
       "    <tr>\n",
       "      <th>3</th>\n",
       "      <td>0.000000</td>\n",
       "      <td>0.444444</td>\n",
       "      <td>0.186475</td>\n",
       "      <td>0.104254</td>\n",
       "      <td>0.390377</td>\n",
       "    </tr>\n",
       "    <tr>\n",
       "      <th>4</th>\n",
       "      <td>0.000718</td>\n",
       "      <td>0.666667</td>\n",
       "      <td>0.098267</td>\n",
       "      <td>0.055657</td>\n",
       "      <td>0.529373</td>\n",
       "    </tr>\n",
       "    <tr>\n",
       "      <th>...</th>\n",
       "      <td>...</td>\n",
       "      <td>...</td>\n",
       "      <td>...</td>\n",
       "      <td>...</td>\n",
       "      <td>...</td>\n",
       "    </tr>\n",
       "    <tr>\n",
       "      <th>297</th>\n",
       "      <td>0.010197</td>\n",
       "      <td>0.277778</td>\n",
       "      <td>0.347729</td>\n",
       "      <td>0.027681</td>\n",
       "      <td>0.418960</td>\n",
       "    </tr>\n",
       "    <tr>\n",
       "      <th>298</th>\n",
       "      <td>0.004013</td>\n",
       "      <td>0.277778</td>\n",
       "      <td>0.270058</td>\n",
       "      <td>0.038830</td>\n",
       "      <td>0.493530</td>\n",
       "    </tr>\n",
       "    <tr>\n",
       "      <th>299</th>\n",
       "      <td>0.000025</td>\n",
       "      <td>0.666667</td>\n",
       "      <td>0.124436</td>\n",
       "      <td>0.049832</td>\n",
       "      <td>0.469729</td>\n",
       "    </tr>\n",
       "    <tr>\n",
       "      <th>300</th>\n",
       "      <td>0.022628</td>\n",
       "      <td>0.277778</td>\n",
       "      <td>0.279088</td>\n",
       "      <td>0.034065</td>\n",
       "      <td>0.508237</td>\n",
       "    </tr>\n",
       "    <tr>\n",
       "      <th>301</th>\n",
       "      <td>0.231970</td>\n",
       "      <td>0.722222</td>\n",
       "      <td>0.485438</td>\n",
       "      <td>0.235394</td>\n",
       "      <td>0.451739</td>\n",
       "    </tr>\n",
       "  </tbody>\n",
       "</table>\n",
       "<p>302 rows × 5 columns</p>\n",
       "</div>"
      ],
      "text/plain": [
       "     uber_count  avg_price   adj_pop  median_daily_test_rate  avg_test_score\n",
       "0      0.004261   0.388889  0.180149                0.112785        0.226248\n",
       "1      0.000055   0.666667  0.169895                0.039889        0.480299\n",
       "2      0.000050   0.611111  0.157621                0.104254        0.467564\n",
       "3      0.000000   0.444444  0.186475                0.104254        0.390377\n",
       "4      0.000718   0.666667  0.098267                0.055657        0.529373\n",
       "..          ...        ...       ...                     ...             ...\n",
       "297    0.010197   0.277778  0.347729                0.027681        0.418960\n",
       "298    0.004013   0.277778  0.270058                0.038830        0.493530\n",
       "299    0.000025   0.666667  0.124436                0.049832        0.469729\n",
       "300    0.022628   0.277778  0.279088                0.034065        0.508237\n",
       "301    0.231970   0.722222  0.485438                0.235394        0.451739\n",
       "\n",
       "[302 rows x 5 columns]"
      ]
     },
     "execution_count": 115,
     "metadata": {},
     "output_type": "execute_result"
    }
   ],
   "source": [
    "#make interpretable df\n",
    "normalized_df2 = pd.DataFrame(data=normalized_df1, columns=['uber_count','avg_price','adj_pop','median_daily_test_rate','avg_test_score'])\n",
    "normalized_df2"
   ]
  },
  {
   "cell_type": "markdown",
   "metadata": {},
   "source": [
    "# PCA scatterplot for this clustering"
   ]
  },
  {
   "cell_type": "code",
   "execution_count": 164,
   "metadata": {},
   "outputs": [],
   "source": [
    "n_components = 2 #from above"
   ]
  },
  {
   "cell_type": "code",
   "execution_count": 165,
   "metadata": {},
   "outputs": [
    {
     "data": {
      "application/vnd.plotly.v1+json": {
       "config": {
        "plotlyServerURL": "https://plot.ly"
       },
       "data": [
        {
         "hovertemplate": "0=%{x}<br>1=%{y}<br>color=%{marker.color}<extra></extra>",
         "legendgroup": "",
         "marker": {
          "color": [
           2,
           3,
           3,
           3,
           3,
           3,
           0,
           3,
           3,
           2,
           3,
           0,
           3,
           3,
           3,
           2,
           2,
           2,
           3,
           3,
           3,
           3,
           3,
           2,
           3,
           3,
           2,
           3,
           2,
           3,
           2,
           3,
           3,
           3,
           3,
           3,
           2,
           2,
           3,
           2,
           3,
           2,
           2,
           0,
           3,
           2,
           3,
           0,
           3,
           1,
           2,
           3,
           2,
           2,
           2,
           2,
           3,
           3,
           3,
           2,
           3,
           3,
           3,
           2,
           2,
           3,
           2,
           3,
           0,
           2,
           3,
           3,
           3,
           2,
           3,
           3,
           2,
           2,
           2,
           2,
           2,
           3,
           3,
           2,
           2,
           2,
           2,
           3,
           2,
           2,
           3,
           3,
           3,
           2,
           3,
           1,
           0,
           0,
           2,
           3,
           2,
           2,
           0,
           3,
           3,
           3,
           3,
           3,
           3,
           2,
           2,
           3,
           3,
           2,
           3,
           3,
           3,
           3,
           3,
           3,
           3,
           3,
           3,
           3,
           2,
           3,
           3,
           2,
           2,
           2,
           3,
           3,
           3,
           3,
           3,
           0,
           3,
           0,
           2,
           2,
           2,
           2,
           2,
           2,
           3,
           2,
           3,
           3,
           3,
           2,
           2,
           1,
           3,
           1,
           3,
           2,
           0,
           3,
           2,
           2,
           3,
           2,
           0,
           2,
           3,
           3,
           2,
           2,
           3,
           3,
           2,
           2,
           3,
           3,
           1,
           3,
           2,
           3,
           0,
           2,
           2,
           2,
           3,
           2,
           2,
           2,
           0,
           3,
           3,
           3,
           3,
           2,
           3,
           3,
           2,
           3,
           3,
           2,
           3,
           3,
           2,
           2,
           3,
           2,
           3,
           3,
           3,
           0,
           2,
           3,
           3,
           3,
           3,
           3,
           3,
           2,
           2,
           3,
           3,
           2,
           3,
           2,
           3,
           3,
           3,
           3,
           3,
           3,
           2,
           2,
           3,
           3,
           2,
           3,
           2,
           3,
           3,
           2,
           3,
           2,
           3,
           3,
           2,
           3,
           2,
           3,
           2,
           3,
           3,
           3,
           3,
           2,
           3,
           2,
           2,
           3,
           2,
           3,
           2,
           3,
           3,
           2,
           2,
           3,
           2,
           3,
           2,
           3,
           3,
           3,
           3,
           3,
           3,
           0,
           3,
           3,
           3,
           2,
           1,
           0,
           3,
           3,
           3,
           2,
           2,
           2,
           3,
           3,
           0,
           3,
           3,
           3,
           2,
           3,
           3,
           3,
           2,
           2,
           2,
           3,
           2,
           0
          ],
          "coloraxis": "coloraxis",
          "symbol": "circle"
         },
         "mode": "markers",
         "name": "",
         "orientation": "v",
         "showlegend": false,
         "type": "scatter",
         "x": [
          0.19163657142747453,
          -0.13690238363829796,
          -0.09135330244495435,
          0.08941380967047267,
          -0.18051001776742912,
          -0.07011783559102178,
          -0.05000687477590174,
          0.1377436137514836,
          -0.14712556770176863,
          0.24278937416125176,
          -0.3007993026429942,
          -0.17341713229618533,
          -0.10273912726627718,
          0.06981557293561666,
          -0.2578828159692475,
          0.3979901100868065,
          0.34961246428592413,
          -0.1167761202834723,
          -0.08617395570496018,
          0.0194827236320303,
          -0.19316477712842545,
          0.06766410113550671,
          -0.015854619515764036,
          0.3202353366800763,
          -0.20115056615413474,
          -0.10378176150754115,
          0.1991158541180993,
          -0.1606148934194557,
          0.1538125507126373,
          -0.24279182319386394,
          0.4030707500860659,
          -0.02165147538989144,
          0.06414408237436496,
          0.08391423250610976,
          0.04064143950328428,
          -0.03435978062314841,
          0.2899534228558433,
          0.22533428024634897,
          0.008003403073782552,
          0.312250858184436,
          -0.390937186121442,
          0.16268776492599354,
          0.4150116827289554,
          -0.14916046128333932,
          -0.18441034872521916,
          0.17252808870465067,
          -0.05533063840000022,
          -0.035571801377447664,
          -0.24434802827005223,
          -0.051411150873672914,
          0.3377254527948118,
          -0.39572302498067596,
          0.4147357518759377,
          0.18245873706119656,
          0.18919290950536222,
          0.2583399058906896,
          -0.25960120683907045,
          -0.1886405477614799,
          -0.11307111748531512,
          0.15454023646627735,
          -0.339782738622987,
          -0.17074440007038114,
          -0.13596872266019636,
          0.3565063628237485,
          0.2732224256169491,
          0.16985140526613682,
          0.3183447096858537,
          0.04405282400499672,
          0.1313732296877337,
          0.5137272557561279,
          -0.22628976257154504,
          -0.1498951860022617,
          -0.2711037307171266,
          0.19315542166224547,
          -0.2345964945076909,
          0.009611415074734737,
          0.33543777615968456,
          0.05203354758571542,
          0.3773976444762527,
          0.32228032268663476,
          0.19841892495344976,
          -0.16434980280146902,
          -0.08337811792211555,
          0.32291376428426516,
          0.2070138166685663,
          0.2716799848697252,
          -0.0713699030871192,
          -0.29028295455725817,
          0.1541042646671531,
          0.34446172408624987,
          -0.18693823075486235,
          -0.18265109402552246,
          -0.10505843359445619,
          0.11287610347581434,
          -0.08848879055352721,
          -0.026125597267330575,
          -0.06719525955002803,
          -0.16734057679097963,
          -0.020931744314700705,
          0.004583511235295624,
          0.05123623841744779,
          0.36539596405656544,
          -0.22695567611697634,
          -0.42751382401031907,
          -0.1577768487031438,
          -0.31162421201820256,
          -0.015733176295849704,
          -0.15401628323470604,
          -0.25506034378786435,
          -0.08678006345239425,
          0.05721919375531176,
          -0.25166528537671445,
          0.018446611017354113,
          -0.08189857374772243,
          -0.07357235724112393,
          0.09397291418285854,
          -0.26744383747347567,
          -0.2703666793677485,
          0.07067777394058201,
          -0.24818800514971318,
          -0.20390768629197675,
          -0.24081677274676622,
          -0.0451423613237726,
          -0.006190756611670397,
          0.12717731494952622,
          -0.041979786476378816,
          -0.07075041314163778,
          0.02345552602470332,
          0.16408604756278977,
          0.17607982011284737,
          0.09301887357834686,
          0.038709284776799885,
          0.04450713408628301,
          -0.28191345488387026,
          0.02433308419453289,
          -0.3902207481768541,
          -0.1395726820549833,
          -0.15764120279333615,
          0.28157209633395486,
          0.15130575499720325,
          0.2860703467514069,
          0.33155997023268663,
          0.26056726878560316,
          0.24683422406074862,
          0.02557783366270835,
          0.15556254481860346,
          -0.01915287967065053,
          -0.16911772499019445,
          0.08536429849915876,
          0.152369901349928,
          0.3754357673363891,
          -0.0304697162500462,
          -0.2651100459359748,
          -0.02635355218267237,
          -0.02238415426220461,
          0.14834287145816938,
          -0.4824916097673545,
          -0.04769121639213158,
          0.1373698051739438,
          0.1946626127290299,
          0.07157584506817673,
          -0.11709223393331214,
          -0.35284249728379846,
          -0.13304680311515688,
          -0.08374262798641656,
          -0.25247940148545894,
          0.15784019527024354,
          0.16809486109352328,
          -0.06200522674445509,
          0.10086850524524867,
          0.390063757740874,
          0.2004864532370238,
          0.11576635988566542,
          -0.3044382922564812,
          -0.1434193519836738,
          -0.16670178926445792,
          0.11413798036674891,
          -0.18910579209448442,
          -0.05440311100234937,
          -0.007525220306495025,
          0.35258502811067355,
          0.14785082292544022,
          0.04548389612293387,
          0.3040328135628885,
          0.25719109198411866,
          0.2713624132647964,
          -0.08807108291869653,
          -0.20480288836139196,
          0.01679642536459991,
          -0.15684539209727846,
          -0.28873836212218634,
          0.3148717314694368,
          -0.04973560345153339,
          -0.30036075925240324,
          0.3936636935374555,
          0.01921279451480977,
          0.053649323800760436,
          0.354696142539709,
          -0.32499455700008667,
          -0.2459055632921742,
          0.15907588706775805,
          0.16306690897781415,
          -0.24734177309025435,
          0.43325145075321225,
          0.09971488901500239,
          -0.24378878194945186,
          -0.21564433078544892,
          -0.2884632116196407,
          0.18729368187668227,
          -0.03348237538911786,
          -0.049381523577607986,
          0.08178101573316274,
          -0.3844477962730433,
          0.05855409307781577,
          0.08739356800816263,
          0.10962370904458187,
          0.2731004228494917,
          -0.1858592732974441,
          -0.08475207287093753,
          -0.0362367161663368,
          -0.2774028180919689,
          0.34187564336900167,
          -0.051255502889833354,
          -0.14620956202788998,
          0.022855205890246335,
          -0.09221422874875443,
          -0.038930053084942656,
          -0.11193282219227384,
          0.10529688099685622,
          -0.004165236433203392,
          -0.2818060622478796,
          -0.39357527736406633,
          0.21478904332257298,
          -0.22347701147077736,
          0.3356379858781513,
          -0.12705304221545108,
          -0.06407011642183007,
          0.03488525210919698,
          -0.10889910110946463,
          0.15687440198482686,
          0.08984010163656003,
          -0.18547935301131882,
          0.01797700436985565,
          -0.19697010874703316,
          -0.07407201892579078,
          0.07865565334717291,
          -0.02450519921194402,
          -0.2616171300204206,
          -0.16236730735084054,
          -0.0391095519185223,
          -0.12869436983653354,
          0.25727931070888377,
          -0.2514250384236531,
          0.24400202771846508,
          0.2227754593709865,
          -0.03441330616777992,
          0.1976009853673784,
          -0.25526311860212125,
          0.26580814988347795,
          -0.0710095606940207,
          -0.1431174703292978,
          0.22599134665058807,
          -0.002504858599266239,
          -0.18186275109929337,
          0.14136552821658366,
          -0.17637628801245345,
          0.047396762722066076,
          -0.26008049663564664,
          -0.16603904516648052,
          -0.27014755161846105,
          -0.006791406829745946,
          -0.2959795634556584,
          0.041662601244525074,
          -0.5661328569475943,
          -0.17655423705883605,
          -0.015456299418743186,
          0.05893164227464567,
          0.3151770221135986,
          -0.2706435766203921,
          -0.11680069539935732,
          -0.002098619219247985,
          0.012467786113237126,
          -0.2520757818960591,
          0.36964179730576235,
          0.577019578777874,
          0.0931383410516547,
          0.1297402015525824,
          0.01415280307460016,
          -0.24353412770262992,
          0.07782214735042484,
          0.043340377406198484,
          -0.21680808149925485,
          0.29983629922121113,
          -0.2217091632643572,
          -0.02304156633071041,
          -0.1541859863904778,
          -0.015174257905973477,
          0.2828831939660885,
          0.2288927378089525,
          -0.14996328161173852,
          0.22569797347677945,
          -0.08617721412011059
         ],
         "xaxis": "x",
         "y": [
          -0.1461155240500495,
          -0.07232971618707795,
          -0.07974228250198913,
          -0.10834190860681238,
          -0.12123965992322029,
          -0.0428284367453526,
          0.3834142846616028,
          -0.13108908684035894,
          -0.0964520420529996,
          -0.15831082970053753,
          0.08895053315112532,
          0.2730648455273141,
          -0.09201011634220822,
          -0.09082241071835613,
          0.11012851502709543,
          -0.09025351124693339,
          0.05019304289438296,
          0.15845277941852368,
          -0.11166780496357953,
          -0.10910614115525576,
          -0.05894566177411923,
          -0.1141387709001533,
          -0.0920270542373755,
          0.5232740289485254,
          0.052829391384365654,
          -0.22260712805208305,
          -0.09762163802036286,
          0.01057757755928745,
          0.29283737284098776,
          -0.036068152600541956,
          -0.16858498155064452,
          -0.031152522836276578,
          -0.14015153196714555,
          -0.2851875428848084,
          -0.06463410609954669,
          -0.10731256478517893,
          -0.23136239276661122,
          0.04162092579024655,
          -0.14217270752966737,
          0.4489777075157749,
          -0.1329588332548958,
          -0.20561621357137513,
          0.10328088938127933,
          0.15978462693949827,
          0.02927753386835924,
          -0.02379604123615173,
          -0.16044482940323057,
          0.567244802350439,
          -0.07523829025453987,
          0.3687218084227597,
          -0.041744605085038924,
          -0.0019472975671274118,
          -0.08862453945424212,
          0.05179803356942765,
          -0.14228594758396967,
          -0.04553467957410093,
          -0.05198074380526567,
          0.1918773370236003,
          0.019831363451059673,
          0.18781201489132757,
          -0.025602269575136418,
          -0.09176962112029884,
          -0.15414090212136178,
          0.24045751985799055,
          0.018368470122025974,
          -0.1263896873545279,
          -0.051905536442459745,
          -0.13481637627966253,
          0.6544440801420727,
          -0.11062146581400553,
          -0.17131711293408286,
          -0.07294165391862677,
          -0.013217401710631111,
          -0.11442519521642669,
          0.01038149512472273,
          -0.035583018339182884,
          -0.23605811208078142,
          0.05973747253631974,
          0.38359507220609823,
          0.38153275093141986,
          -0.07262792912881563,
          0.1714385733121313,
          -0.0049971648684020075,
          -0.14788558443225447,
          -0.1098872683207952,
          -0.14973495906429166,
          0.03024363975671671,
          -0.17075378820263587,
          -0.1506478179482749,
          0.30637840747999673,
          -0.03937122995479472,
          -0.018129591475370712,
          -0.041077558933834024,
          -0.028797212793225408,
          -0.07291107253398559,
          0.28801663303938596,
          0.41238457197504386,
          0.23299382248080963,
          0.1417116626366687,
          -0.11554823890013408,
          0.4969751709721168,
          0.12323562814812433,
          0.31457447021432833,
          -0.13045261979131367,
          -0.050776471442874754,
          -0.17163970470756118,
          -0.12480747296976202,
          -0.10527222450821423,
          -0.16578784566174096,
          0.031130250472519695,
          0.08710615422715677,
          -0.04182727737242956,
          -0.09801498190155691,
          0.16918492948686048,
          0.027486834899265542,
          -0.12307344865105105,
          -0.0930964680579402,
          -0.0818472266545777,
          -0.10774840650212382,
          0.04496610553464933,
          0.05724189570386488,
          -0.17894312081894762,
          0.027180579834034723,
          -0.12833448894562346,
          0.0014898112052283026,
          -0.046496009855273024,
          -0.05277002263890874,
          -0.0759479078587014,
          -0.11223916387287013,
          -0.11608834131908755,
          -0.17070972437959356,
          -0.12217990214634268,
          0.0010671581223658034,
          -0.03326821777150764,
          -0.24202435910236822,
          0.3758279880959737,
          -0.05337192481153242,
          0.1897700680754609,
          -0.19458718213417686,
          -0.039780724969138925,
          0.3327717138648611,
          -0.03965656810086353,
          -0.20295368160904076,
          -0.1193016751364052,
          -0.06332306382828082,
          -0.17580679272212796,
          -0.044696290183924174,
          -0.004951286621545401,
          -0.06790333506413358,
          -0.16992035921249574,
          0.02673932847794224,
          0.42193339815039577,
          -0.011193437578607048,
          0.2942799410125927,
          -0.1139140037422398,
          0.012406123182979657,
          0.05461861025083252,
          -0.07034939154378568,
          -0.157306577577588,
          0.16738186259304313,
          -0.041290181169295774,
          0.014019760530593848,
          0.2264043105251536,
          0.0964646370259131,
          -0.09153493518873734,
          -0.03702987427947596,
          0.23145345134349316,
          -0.04637224584005382,
          0.015661617873966995,
          -0.12561067560408318,
          0.3119228492192354,
          0.0830204878290657,
          -0.09100928979658054,
          -0.029489804025170985,
          0.8258314884488459,
          0.03930025807066887,
          0.03991434089481683,
          0.055902936730046635,
          0.31932258007311703,
          0.12265801843232342,
          -0.06445834858770706,
          -0.1493050115943033,
          -0.0932670540726639,
          0.16549648702289715,
          -0.21784444891838003,
          -0.03415930285472164,
          0.5581501743728682,
          -0.20656349363895157,
          0.03649251940398489,
          -0.05789780918948372,
          -0.13803433659601896,
          -0.06516987238932923,
          -0.007445198124071235,
          -0.026365372369087425,
          -0.10226766811424423,
          -0.10151173815118733,
          -0.02157197285366365,
          -0.1384182736650374,
          -0.005909292322097924,
          -0.06713245693267514,
          -0.10254136214167635,
          0.04025590892135227,
          -0.03976562151692039,
          -0.039400763750092986,
          -0.16249313703979743,
          -0.18439907338887504,
          -0.08502282579537458,
          0.3223496632260029,
          -0.1668987702035851,
          -0.10620851765119334,
          -0.0906593982517558,
          -0.10592576667644742,
          -0.12087622840907848,
          -0.08209435608397977,
          -0.1205197953211977,
          -0.009875419439838268,
          -0.2499732486295212,
          -0.05495744115480984,
          -0.1086500188458088,
          0.1666684674066782,
          -0.15815237365479057,
          -0.03073114320924805,
          -0.14906704021259246,
          -0.08908884991793006,
          -0.2417485788543745,
          -0.10564557393372592,
          -0.019345117814696725,
          -0.06426957673074102,
          0.05204921560581557,
          0.12154490318265963,
          -0.14110760431675368,
          -0.015365271055516135,
          0.07704650265548922,
          -0.010525721053086023,
          0.22586799399605856,
          -0.1233447928588503,
          -0.1000063002826434,
          0.18585501415718245,
          -0.07212705209759347,
          -0.145385068787508,
          -0.18304720151932308,
          -0.18278901152701152,
          0.07228432302473645,
          -0.1981703075679121,
          0.02689183608027785,
          -0.1023890906511509,
          0.13801968601650197,
          -0.18987556762492805,
          -0.11874092982520733,
          0.07355682618275447,
          -0.15462623830906397,
          0.1838104627580407,
          -0.05147938067047775,
          -0.11063972188960808,
          0.16010839456237475,
          0.0038067709013048694,
          -0.06654729687311983,
          -0.014588958699747271,
          -0.039086180521278296,
          -0.052915640127301336,
          -0.06300089229076002,
          -0.23993807061849232,
          0.043789382798677765,
          0.034937691321054024,
          0.2994330305808712,
          -0.1627728724723298,
          0.4615931918006461,
          -0.12063775786690845,
          0.03873293372820632,
          0.009151659775572302,
          -0.13320894258202473,
          -0.0669449883889868,
          -0.03411858442918572,
          0.32558435313759043,
          -0.1905056016720318,
          0.14590725373692173,
          -0.11478855338945163,
          -0.03548288415920863,
          0.5281260870414032,
          0.7374072283031939,
          -0.1791574572088431,
          -0.0966129533892674,
          0.01902892143248206,
          -0.10932788412289388,
          0.6276246119534516,
          -0.017613110645360204,
          -0.014319641911650152,
          -0.07635714838382053,
          0.38371317426029566,
          -0.11508637738041408,
          -0.13021676753836658,
          -0.018623754023580876,
          0.005958332530387317,
          0.12970528023451175,
          -0.2097270258323361,
          -0.06620353032807957,
          0.15634947145812306,
          -0.029776395761242757,
          -0.08404766058204734,
          -0.10920366038316838,
          -0.0693804212029911,
          0.3415705474754353
         ],
         "yaxis": "y"
        }
       ],
       "layout": {
        "autosize": true,
        "coloraxis": {
         "colorbar": {
          "title": {
           "text": "color"
          }
         },
         "colorscale": [
          [
           0,
           "#0d0887"
          ],
          [
           0.1111111111111111,
           "#46039f"
          ],
          [
           0.2222222222222222,
           "#7201a8"
          ],
          [
           0.3333333333333333,
           "#9c179e"
          ],
          [
           0.4444444444444444,
           "#bd3786"
          ],
          [
           0.5555555555555556,
           "#d8576b"
          ],
          [
           0.6666666666666666,
           "#ed7953"
          ],
          [
           0.7777777777777778,
           "#fb9f3a"
          ],
          [
           0.8888888888888888,
           "#fdca26"
          ],
          [
           1,
           "#f0f921"
          ]
         ]
        },
        "legend": {
         "tracegroupgap": 0
        },
        "margin": {
         "t": 60
        },
        "template": {
         "data": {
          "bar": [
           {
            "error_x": {
             "color": "#2a3f5f"
            },
            "error_y": {
             "color": "#2a3f5f"
            },
            "marker": {
             "line": {
              "color": "#E5ECF6",
              "width": 0.5
             }
            },
            "type": "bar"
           }
          ],
          "barpolar": [
           {
            "marker": {
             "line": {
              "color": "#E5ECF6",
              "width": 0.5
             }
            },
            "type": "barpolar"
           }
          ],
          "carpet": [
           {
            "aaxis": {
             "endlinecolor": "#2a3f5f",
             "gridcolor": "white",
             "linecolor": "white",
             "minorgridcolor": "white",
             "startlinecolor": "#2a3f5f"
            },
            "baxis": {
             "endlinecolor": "#2a3f5f",
             "gridcolor": "white",
             "linecolor": "white",
             "minorgridcolor": "white",
             "startlinecolor": "#2a3f5f"
            },
            "type": "carpet"
           }
          ],
          "choropleth": [
           {
            "colorbar": {
             "outlinewidth": 0,
             "ticks": ""
            },
            "type": "choropleth"
           }
          ],
          "contour": [
           {
            "colorbar": {
             "outlinewidth": 0,
             "ticks": ""
            },
            "colorscale": [
             [
              0,
              "#0d0887"
             ],
             [
              0.1111111111111111,
              "#46039f"
             ],
             [
              0.2222222222222222,
              "#7201a8"
             ],
             [
              0.3333333333333333,
              "#9c179e"
             ],
             [
              0.4444444444444444,
              "#bd3786"
             ],
             [
              0.5555555555555556,
              "#d8576b"
             ],
             [
              0.6666666666666666,
              "#ed7953"
             ],
             [
              0.7777777777777778,
              "#fb9f3a"
             ],
             [
              0.8888888888888888,
              "#fdca26"
             ],
             [
              1,
              "#f0f921"
             ]
            ],
            "type": "contour"
           }
          ],
          "contourcarpet": [
           {
            "colorbar": {
             "outlinewidth": 0,
             "ticks": ""
            },
            "type": "contourcarpet"
           }
          ],
          "heatmap": [
           {
            "colorbar": {
             "outlinewidth": 0,
             "ticks": ""
            },
            "colorscale": [
             [
              0,
              "#0d0887"
             ],
             [
              0.1111111111111111,
              "#46039f"
             ],
             [
              0.2222222222222222,
              "#7201a8"
             ],
             [
              0.3333333333333333,
              "#9c179e"
             ],
             [
              0.4444444444444444,
              "#bd3786"
             ],
             [
              0.5555555555555556,
              "#d8576b"
             ],
             [
              0.6666666666666666,
              "#ed7953"
             ],
             [
              0.7777777777777778,
              "#fb9f3a"
             ],
             [
              0.8888888888888888,
              "#fdca26"
             ],
             [
              1,
              "#f0f921"
             ]
            ],
            "type": "heatmap"
           }
          ],
          "heatmapgl": [
           {
            "colorbar": {
             "outlinewidth": 0,
             "ticks": ""
            },
            "colorscale": [
             [
              0,
              "#0d0887"
             ],
             [
              0.1111111111111111,
              "#46039f"
             ],
             [
              0.2222222222222222,
              "#7201a8"
             ],
             [
              0.3333333333333333,
              "#9c179e"
             ],
             [
              0.4444444444444444,
              "#bd3786"
             ],
             [
              0.5555555555555556,
              "#d8576b"
             ],
             [
              0.6666666666666666,
              "#ed7953"
             ],
             [
              0.7777777777777778,
              "#fb9f3a"
             ],
             [
              0.8888888888888888,
              "#fdca26"
             ],
             [
              1,
              "#f0f921"
             ]
            ],
            "type": "heatmapgl"
           }
          ],
          "histogram": [
           {
            "marker": {
             "colorbar": {
              "outlinewidth": 0,
              "ticks": ""
             }
            },
            "type": "histogram"
           }
          ],
          "histogram2d": [
           {
            "colorbar": {
             "outlinewidth": 0,
             "ticks": ""
            },
            "colorscale": [
             [
              0,
              "#0d0887"
             ],
             [
              0.1111111111111111,
              "#46039f"
             ],
             [
              0.2222222222222222,
              "#7201a8"
             ],
             [
              0.3333333333333333,
              "#9c179e"
             ],
             [
              0.4444444444444444,
              "#bd3786"
             ],
             [
              0.5555555555555556,
              "#d8576b"
             ],
             [
              0.6666666666666666,
              "#ed7953"
             ],
             [
              0.7777777777777778,
              "#fb9f3a"
             ],
             [
              0.8888888888888888,
              "#fdca26"
             ],
             [
              1,
              "#f0f921"
             ]
            ],
            "type": "histogram2d"
           }
          ],
          "histogram2dcontour": [
           {
            "colorbar": {
             "outlinewidth": 0,
             "ticks": ""
            },
            "colorscale": [
             [
              0,
              "#0d0887"
             ],
             [
              0.1111111111111111,
              "#46039f"
             ],
             [
              0.2222222222222222,
              "#7201a8"
             ],
             [
              0.3333333333333333,
              "#9c179e"
             ],
             [
              0.4444444444444444,
              "#bd3786"
             ],
             [
              0.5555555555555556,
              "#d8576b"
             ],
             [
              0.6666666666666666,
              "#ed7953"
             ],
             [
              0.7777777777777778,
              "#fb9f3a"
             ],
             [
              0.8888888888888888,
              "#fdca26"
             ],
             [
              1,
              "#f0f921"
             ]
            ],
            "type": "histogram2dcontour"
           }
          ],
          "mesh3d": [
           {
            "colorbar": {
             "outlinewidth": 0,
             "ticks": ""
            },
            "type": "mesh3d"
           }
          ],
          "parcoords": [
           {
            "line": {
             "colorbar": {
              "outlinewidth": 0,
              "ticks": ""
             }
            },
            "type": "parcoords"
           }
          ],
          "pie": [
           {
            "automargin": true,
            "type": "pie"
           }
          ],
          "scatter": [
           {
            "marker": {
             "colorbar": {
              "outlinewidth": 0,
              "ticks": ""
             }
            },
            "type": "scatter"
           }
          ],
          "scatter3d": [
           {
            "line": {
             "colorbar": {
              "outlinewidth": 0,
              "ticks": ""
             }
            },
            "marker": {
             "colorbar": {
              "outlinewidth": 0,
              "ticks": ""
             }
            },
            "type": "scatter3d"
           }
          ],
          "scattercarpet": [
           {
            "marker": {
             "colorbar": {
              "outlinewidth": 0,
              "ticks": ""
             }
            },
            "type": "scattercarpet"
           }
          ],
          "scattergeo": [
           {
            "marker": {
             "colorbar": {
              "outlinewidth": 0,
              "ticks": ""
             }
            },
            "type": "scattergeo"
           }
          ],
          "scattergl": [
           {
            "marker": {
             "colorbar": {
              "outlinewidth": 0,
              "ticks": ""
             }
            },
            "type": "scattergl"
           }
          ],
          "scattermapbox": [
           {
            "marker": {
             "colorbar": {
              "outlinewidth": 0,
              "ticks": ""
             }
            },
            "type": "scattermapbox"
           }
          ],
          "scatterpolar": [
           {
            "marker": {
             "colorbar": {
              "outlinewidth": 0,
              "ticks": ""
             }
            },
            "type": "scatterpolar"
           }
          ],
          "scatterpolargl": [
           {
            "marker": {
             "colorbar": {
              "outlinewidth": 0,
              "ticks": ""
             }
            },
            "type": "scatterpolargl"
           }
          ],
          "scatterternary": [
           {
            "marker": {
             "colorbar": {
              "outlinewidth": 0,
              "ticks": ""
             }
            },
            "type": "scatterternary"
           }
          ],
          "surface": [
           {
            "colorbar": {
             "outlinewidth": 0,
             "ticks": ""
            },
            "colorscale": [
             [
              0,
              "#0d0887"
             ],
             [
              0.1111111111111111,
              "#46039f"
             ],
             [
              0.2222222222222222,
              "#7201a8"
             ],
             [
              0.3333333333333333,
              "#9c179e"
             ],
             [
              0.4444444444444444,
              "#bd3786"
             ],
             [
              0.5555555555555556,
              "#d8576b"
             ],
             [
              0.6666666666666666,
              "#ed7953"
             ],
             [
              0.7777777777777778,
              "#fb9f3a"
             ],
             [
              0.8888888888888888,
              "#fdca26"
             ],
             [
              1,
              "#f0f921"
             ]
            ],
            "type": "surface"
           }
          ],
          "table": [
           {
            "cells": {
             "fill": {
              "color": "#EBF0F8"
             },
             "line": {
              "color": "white"
             }
            },
            "header": {
             "fill": {
              "color": "#C8D4E3"
             },
             "line": {
              "color": "white"
             }
            },
            "type": "table"
           }
          ]
         },
         "layout": {
          "annotationdefaults": {
           "arrowcolor": "#2a3f5f",
           "arrowhead": 0,
           "arrowwidth": 1
          },
          "autotypenumbers": "strict",
          "coloraxis": {
           "colorbar": {
            "outlinewidth": 0,
            "ticks": ""
           }
          },
          "colorscale": {
           "diverging": [
            [
             0,
             "#8e0152"
            ],
            [
             0.1,
             "#c51b7d"
            ],
            [
             0.2,
             "#de77ae"
            ],
            [
             0.3,
             "#f1b6da"
            ],
            [
             0.4,
             "#fde0ef"
            ],
            [
             0.5,
             "#f7f7f7"
            ],
            [
             0.6,
             "#e6f5d0"
            ],
            [
             0.7,
             "#b8e186"
            ],
            [
             0.8,
             "#7fbc41"
            ],
            [
             0.9,
             "#4d9221"
            ],
            [
             1,
             "#276419"
            ]
           ],
           "sequential": [
            [
             0,
             "#0d0887"
            ],
            [
             0.1111111111111111,
             "#46039f"
            ],
            [
             0.2222222222222222,
             "#7201a8"
            ],
            [
             0.3333333333333333,
             "#9c179e"
            ],
            [
             0.4444444444444444,
             "#bd3786"
            ],
            [
             0.5555555555555556,
             "#d8576b"
            ],
            [
             0.6666666666666666,
             "#ed7953"
            ],
            [
             0.7777777777777778,
             "#fb9f3a"
            ],
            [
             0.8888888888888888,
             "#fdca26"
            ],
            [
             1,
             "#f0f921"
            ]
           ],
           "sequentialminus": [
            [
             0,
             "#0d0887"
            ],
            [
             0.1111111111111111,
             "#46039f"
            ],
            [
             0.2222222222222222,
             "#7201a8"
            ],
            [
             0.3333333333333333,
             "#9c179e"
            ],
            [
             0.4444444444444444,
             "#bd3786"
            ],
            [
             0.5555555555555556,
             "#d8576b"
            ],
            [
             0.6666666666666666,
             "#ed7953"
            ],
            [
             0.7777777777777778,
             "#fb9f3a"
            ],
            [
             0.8888888888888888,
             "#fdca26"
            ],
            [
             1,
             "#f0f921"
            ]
           ]
          },
          "colorway": [
           "#636efa",
           "#EF553B",
           "#00cc96",
           "#ab63fa",
           "#FFA15A",
           "#19d3f3",
           "#FF6692",
           "#B6E880",
           "#FF97FF",
           "#FECB52"
          ],
          "font": {
           "color": "#2a3f5f"
          },
          "geo": {
           "bgcolor": "white",
           "lakecolor": "white",
           "landcolor": "#E5ECF6",
           "showlakes": true,
           "showland": true,
           "subunitcolor": "white"
          },
          "hoverlabel": {
           "align": "left"
          },
          "hovermode": "closest",
          "mapbox": {
           "style": "light"
          },
          "paper_bgcolor": "white",
          "plot_bgcolor": "#E5ECF6",
          "polar": {
           "angularaxis": {
            "gridcolor": "white",
            "linecolor": "white",
            "ticks": ""
           },
           "bgcolor": "#E5ECF6",
           "radialaxis": {
            "gridcolor": "white",
            "linecolor": "white",
            "ticks": ""
           }
          },
          "scene": {
           "xaxis": {
            "backgroundcolor": "#E5ECF6",
            "gridcolor": "white",
            "gridwidth": 2,
            "linecolor": "white",
            "showbackground": true,
            "ticks": "",
            "zerolinecolor": "white"
           },
           "yaxis": {
            "backgroundcolor": "#E5ECF6",
            "gridcolor": "white",
            "gridwidth": 2,
            "linecolor": "white",
            "showbackground": true,
            "ticks": "",
            "zerolinecolor": "white"
           },
           "zaxis": {
            "backgroundcolor": "#E5ECF6",
            "gridcolor": "white",
            "gridwidth": 2,
            "linecolor": "white",
            "showbackground": true,
            "ticks": "",
            "zerolinecolor": "white"
           }
          },
          "shapedefaults": {
           "line": {
            "color": "#2a3f5f"
           }
          },
          "ternary": {
           "aaxis": {
            "gridcolor": "white",
            "linecolor": "white",
            "ticks": ""
           },
           "baxis": {
            "gridcolor": "white",
            "linecolor": "white",
            "ticks": ""
           },
           "bgcolor": "#E5ECF6",
           "caxis": {
            "gridcolor": "white",
            "linecolor": "white",
            "ticks": ""
           }
          },
          "title": {
           "x": 0.05
          },
          "xaxis": {
           "automargin": true,
           "gridcolor": "white",
           "linecolor": "white",
           "ticks": "",
           "title": {
            "standoff": 15
           },
           "zerolinecolor": "white",
           "zerolinewidth": 2
          },
          "yaxis": {
           "automargin": true,
           "gridcolor": "white",
           "linecolor": "white",
           "ticks": "",
           "title": {
            "standoff": 15
           },
           "zerolinecolor": "white",
           "zerolinewidth": 2
          }
         }
        },
        "xaxis": {
         "anchor": "y",
         "autorange": true,
         "domain": [
          0,
          1
         ],
         "range": [
          -0.6361778085808345,
          0.6470645304111142
         ],
         "title": {
          "text": "0"
         },
         "type": "linear"
        },
        "yaxis": {
         "anchor": "x",
         "autorange": true,
         "domain": [
          0,
          1
         ],
         "range": [
          -0.3639614521045979,
          0.9046053976686353
         ],
         "title": {
          "text": "1"
         },
         "type": "linear"
        }
       }
      },
      "image/png": "[encoded data removed]",
      "text/html": [
       "<div>                            <div id=\"9d681b2f-d014-45d7-a7d5-0c6d4d70ae19\" class=\"plotly-graph-div\" style=\"height:525px; width:100%;\"></div>            <script type=\"text/javascript\">                require([\"plotly\"], function(Plotly) {                    window.PLOTLYENV=window.PLOTLYENV || {};                                    if (document.getElementById(\"9d681b2f-d014-45d7-a7d5-0c6d4d70ae19\")) {                    Plotly.newPlot(                        \"9d681b2f-d014-45d7-a7d5-0c6d4d70ae19\",                        [{\"hovertemplate\": \"0=%{x}<br>1=%{y}<br>color=%{marker.color}<extra></extra>\", \"legendgroup\": \"\", \"marker\": {\"color\": [2, 3, 3, 3, 3, 3, 0, 3, 3, 2, 3, 0, 3, 3, 3, 2, 2, 2, 3, 3, 3, 3, 3, 2, 3, 3, 2, 3, 2, 3, 2, 3, 3, 3, 3, 3, 2, 2, 3, 2, 3, 2, 2, 0, 3, 2, 3, 0, 3, 1, 2, 3, 2, 2, 2, 2, 3, 3, 3, 2, 3, 3, 3, 2, 2, 3, 2, 3, 0, 2, 3, 3, 3, 2, 3, 3, 2, 2, 2, 2, 2, 3, 3, 2, 2, 2, 2, 3, 2, 2, 3, 3, 3, 2, 3, 1, 0, 0, 2, 3, 2, 2, 0, 3, 3, 3, 3, 3, 3, 2, 2, 3, 3, 2, 3, 3, 3, 3, 3, 3, 3, 3, 3, 3, 2, 3, 3, 2, 2, 2, 3, 3, 3, 3, 3, 0, 3, 0, 2, 2, 2, 2, 2, 2, 3, 2, 3, 3, 3, 2, 2, 1, 3, 1, 3, 2, 0, 3, 2, 2, 3, 2, 0, 2, 3, 3, 2, 2, 3, 3, 2, 2, 3, 3, 1, 3, 2, 3, 0, 2, 2, 2, 3, 2, 2, 2, 0, 3, 3, 3, 3, 2, 3, 3, 2, 3, 3, 2, 3, 3, 2, 2, 3, 2, 3, 3, 3, 0, 2, 3, 3, 3, 3, 3, 3, 2, 2, 3, 3, 2, 3, 2, 3, 3, 3, 3, 3, 3, 2, 2, 3, 3, 2, 3, 2, 3, 3, 2, 3, 2, 3, 3, 2, 3, 2, 3, 2, 3, 3, 3, 3, 2, 3, 2, 2, 3, 2, 3, 2, 3, 3, 2, 2, 3, 2, 3, 2, 3, 3, 3, 3, 3, 3, 0, 3, 3, 3, 2, 1, 0, 3, 3, 3, 2, 2, 2, 3, 3, 0, 3, 3, 3, 2, 3, 3, 3, 2, 2, 2, 3, 2, 0], \"coloraxis\": \"coloraxis\", \"symbol\": \"circle\"}, \"mode\": \"markers\", \"name\": \"\", \"orientation\": \"v\", \"showlegend\": false, \"type\": \"scatter\", \"x\": [0.19163657142747453, -0.13690238363829796, -0.09135330244495435, 0.08941380967047267, -0.18051001776742912, -0.07011783559102178, -0.05000687477590174, 0.1377436137514836, -0.14712556770176863, 0.24278937416125176, -0.3007993026429942, -0.17341713229618533, -0.10273912726627718, 0.06981557293561666, -0.2578828159692475, 0.3979901100868065, 0.34961246428592413, -0.1167761202834723, -0.08617395570496018, 0.0194827236320303, -0.19316477712842545, 0.06766410113550671, -0.015854619515764036, 0.3202353366800763, -0.20115056615413474, -0.10378176150754115, 0.1991158541180993, -0.1606148934194557, 0.1538125507126373, -0.24279182319386394, 0.4030707500860659, -0.02165147538989144, 0.06414408237436496, 0.08391423250610976, 0.04064143950328428, -0.03435978062314841, 0.2899534228558433, 0.22533428024634897, 0.008003403073782552, 0.312250858184436, -0.390937186121442, 0.16268776492599354, 0.4150116827289554, -0.14916046128333932, -0.18441034872521916, 0.17252808870465067, -0.05533063840000022, -0.035571801377447664, -0.24434802827005223, -0.051411150873672914, 0.3377254527948118, -0.39572302498067596, 0.4147357518759377, 0.18245873706119656, 0.18919290950536222, 0.2583399058906896, -0.25960120683907045, -0.1886405477614799, -0.11307111748531512, 0.15454023646627735, -0.339782738622987, -0.17074440007038114, -0.13596872266019636, 0.3565063628237485, 0.2732224256169491, 0.16985140526613682, 0.3183447096858537, 0.04405282400499672, 0.1313732296877337, 0.5137272557561279, -0.22628976257154504, -0.1498951860022617, -0.2711037307171266, 0.19315542166224547, -0.2345964945076909, 0.009611415074734737, 0.33543777615968456, 0.05203354758571542, 0.3773976444762527, 0.32228032268663476, 0.19841892495344976, -0.16434980280146902, -0.08337811792211555, 0.32291376428426516, 0.2070138166685663, 0.2716799848697252, -0.0713699030871192, -0.29028295455725817, 0.1541042646671531, 0.34446172408624987, -0.18693823075486235, -0.18265109402552246, -0.10505843359445619, 0.11287610347581434, -0.08848879055352721, -0.026125597267330575, -0.06719525955002803, -0.16734057679097963, -0.020931744314700705, 0.004583511235295624, 0.05123623841744779, 0.36539596405656544, -0.22695567611697634, -0.42751382401031907, -0.1577768487031438, -0.31162421201820256, -0.015733176295849704, -0.15401628323470604, -0.25506034378786435, -0.08678006345239425, 0.05721919375531176, -0.25166528537671445, 0.018446611017354113, -0.08189857374772243, -0.07357235724112393, 0.09397291418285854, -0.26744383747347567, -0.2703666793677485, 0.07067777394058201, -0.24818800514971318, -0.20390768629197675, -0.24081677274676622, -0.0451423613237726, -0.006190756611670397, 0.12717731494952622, -0.041979786476378816, -0.07075041314163778, 0.02345552602470332, 0.16408604756278977, 0.17607982011284737, 0.09301887357834686, 0.038709284776799885, 0.04450713408628301, -0.28191345488387026, 0.02433308419453289, -0.3902207481768541, -0.1395726820549833, -0.15764120279333615, 0.28157209633395486, 0.15130575499720325, 0.2860703467514069, 0.33155997023268663, 0.26056726878560316, 0.24683422406074862, 0.02557783366270835, 0.15556254481860346, -0.01915287967065053, -0.16911772499019445, 0.08536429849915876, 0.152369901349928, 0.3754357673363891, -0.0304697162500462, -0.2651100459359748, -0.02635355218267237, -0.02238415426220461, 0.14834287145816938, -0.4824916097673545, -0.04769121639213158, 0.1373698051739438, 0.1946626127290299, 0.07157584506817673, -0.11709223393331214, -0.35284249728379846, -0.13304680311515688, -0.08374262798641656, -0.25247940148545894, 0.15784019527024354, 0.16809486109352328, -0.06200522674445509, 0.10086850524524867, 0.390063757740874, 0.2004864532370238, 0.11576635988566542, -0.3044382922564812, -0.1434193519836738, -0.16670178926445792, 0.11413798036674891, -0.18910579209448442, -0.05440311100234937, -0.007525220306495025, 0.35258502811067355, 0.14785082292544022, 0.04548389612293387, 0.3040328135628885, 0.25719109198411866, 0.2713624132647964, -0.08807108291869653, -0.20480288836139196, 0.01679642536459991, -0.15684539209727846, -0.28873836212218634, 0.3148717314694368, -0.04973560345153339, -0.30036075925240324, 0.3936636935374555, 0.01921279451480977, 0.053649323800760436, 0.354696142539709, -0.32499455700008667, -0.2459055632921742, 0.15907588706775805, 0.16306690897781415, -0.24734177309025435, 0.43325145075321225, 0.09971488901500239, -0.24378878194945186, -0.21564433078544892, -0.2884632116196407, 0.18729368187668227, -0.03348237538911786, -0.049381523577607986, 0.08178101573316274, -0.3844477962730433, 0.05855409307781577, 0.08739356800816263, 0.10962370904458187, 0.2731004228494917, -0.1858592732974441, -0.08475207287093753, -0.0362367161663368, -0.2774028180919689, 0.34187564336900167, -0.051255502889833354, -0.14620956202788998, 0.022855205890246335, -0.09221422874875443, -0.038930053084942656, -0.11193282219227384, 0.10529688099685622, -0.004165236433203392, -0.2818060622478796, -0.39357527736406633, 0.21478904332257298, -0.22347701147077736, 0.3356379858781513, -0.12705304221545108, -0.06407011642183007, 0.03488525210919698, -0.10889910110946463, 0.15687440198482686, 0.08984010163656003, -0.18547935301131882, 0.01797700436985565, -0.19697010874703316, -0.07407201892579078, 0.07865565334717291, -0.02450519921194402, -0.2616171300204206, -0.16236730735084054, -0.0391095519185223, -0.12869436983653354, 0.25727931070888377, -0.2514250384236531, 0.24400202771846508, 0.2227754593709865, -0.03441330616777992, 0.1976009853673784, -0.25526311860212125, 0.26580814988347795, -0.0710095606940207, -0.1431174703292978, 0.22599134665058807, -0.002504858599266239, -0.18186275109929337, 0.14136552821658366, -0.17637628801245345, 0.047396762722066076, -0.26008049663564664, -0.16603904516648052, -0.27014755161846105, -0.006791406829745946, -0.2959795634556584, 0.041662601244525074, -0.5661328569475943, -0.17655423705883605, -0.015456299418743186, 0.05893164227464567, 0.3151770221135986, -0.2706435766203921, -0.11680069539935732, -0.002098619219247985, 0.012467786113237126, -0.2520757818960591, 0.36964179730576235, 0.577019578777874, 0.0931383410516547, 0.1297402015525824, 0.01415280307460016, -0.24353412770262992, 0.07782214735042484, 0.043340377406198484, -0.21680808149925485, 0.29983629922121113, -0.2217091632643572, -0.02304156633071041, -0.1541859863904778, -0.015174257905973477, 0.2828831939660885, 0.2288927378089525, -0.14996328161173852, 0.22569797347677945, -0.08617721412011059], \"xaxis\": \"x\", \"y\": [-0.1461155240500495, -0.07232971618707795, -0.07974228250198913, -0.10834190860681238, -0.12123965992322029, -0.0428284367453526, 0.3834142846616028, -0.13108908684035894, -0.0964520420529996, -0.15831082970053753, 0.08895053315112532, 0.2730648455273141, -0.09201011634220822, -0.09082241071835613, 0.11012851502709543, -0.09025351124693339, 0.05019304289438296, 0.15845277941852368, -0.11166780496357953, -0.10910614115525576, -0.05894566177411923, -0.1141387709001533, -0.0920270542373755, 0.5232740289485254, 0.052829391384365654, -0.22260712805208305, -0.09762163802036286, 0.01057757755928745, 0.29283737284098776, -0.036068152600541956, -0.16858498155064452, -0.031152522836276578, -0.14015153196714555, -0.2851875428848084, -0.06463410609954669, -0.10731256478517893, -0.23136239276661122, 0.04162092579024655, -0.14217270752966737, 0.4489777075157749, -0.1329588332548958, -0.20561621357137513, 0.10328088938127933, 0.15978462693949827, 0.02927753386835924, -0.02379604123615173, -0.16044482940323057, 0.567244802350439, -0.07523829025453987, 0.3687218084227597, -0.041744605085038924, -0.0019472975671274118, -0.08862453945424212, 0.05179803356942765, -0.14228594758396967, -0.04553467957410093, -0.05198074380526567, 0.1918773370236003, 0.019831363451059673, 0.18781201489132757, -0.025602269575136418, -0.09176962112029884, -0.15414090212136178, 0.24045751985799055, 0.018368470122025974, -0.1263896873545279, -0.051905536442459745, -0.13481637627966253, 0.6544440801420727, -0.11062146581400553, -0.17131711293408286, -0.07294165391862677, -0.013217401710631111, -0.11442519521642669, 0.01038149512472273, -0.035583018339182884, -0.23605811208078142, 0.05973747253631974, 0.38359507220609823, 0.38153275093141986, -0.07262792912881563, 0.1714385733121313, -0.0049971648684020075, -0.14788558443225447, -0.1098872683207952, -0.14973495906429166, 0.03024363975671671, -0.17075378820263587, -0.1506478179482749, 0.30637840747999673, -0.03937122995479472, -0.018129591475370712, -0.041077558933834024, -0.028797212793225408, -0.07291107253398559, 0.28801663303938596, 0.41238457197504386, 0.23299382248080963, 0.1417116626366687, -0.11554823890013408, 0.4969751709721168, 0.12323562814812433, 0.31457447021432833, -0.13045261979131367, -0.050776471442874754, -0.17163970470756118, -0.12480747296976202, -0.10527222450821423, -0.16578784566174096, 0.031130250472519695, 0.08710615422715677, -0.04182727737242956, -0.09801498190155691, 0.16918492948686048, 0.027486834899265542, -0.12307344865105105, -0.0930964680579402, -0.0818472266545777, -0.10774840650212382, 0.04496610553464933, 0.05724189570386488, -0.17894312081894762, 0.027180579834034723, -0.12833448894562346, 0.0014898112052283026, -0.046496009855273024, -0.05277002263890874, -0.0759479078587014, -0.11223916387287013, -0.11608834131908755, -0.17070972437959356, -0.12217990214634268, 0.0010671581223658034, -0.03326821777150764, -0.24202435910236822, 0.3758279880959737, -0.05337192481153242, 0.1897700680754609, -0.19458718213417686, -0.039780724969138925, 0.3327717138648611, -0.03965656810086353, -0.20295368160904076, -0.1193016751364052, -0.06332306382828082, -0.17580679272212796, -0.044696290183924174, -0.004951286621545401, -0.06790333506413358, -0.16992035921249574, 0.02673932847794224, 0.42193339815039577, -0.011193437578607048, 0.2942799410125927, -0.1139140037422398, 0.012406123182979657, 0.05461861025083252, -0.07034939154378568, -0.157306577577588, 0.16738186259304313, -0.041290181169295774, 0.014019760530593848, 0.2264043105251536, 0.0964646370259131, -0.09153493518873734, -0.03702987427947596, 0.23145345134349316, -0.04637224584005382, 0.015661617873966995, -0.12561067560408318, 0.3119228492192354, 0.0830204878290657, -0.09100928979658054, -0.029489804025170985, 0.8258314884488459, 0.03930025807066887, 0.03991434089481683, 0.055902936730046635, 0.31932258007311703, 0.12265801843232342, -0.06445834858770706, -0.1493050115943033, -0.0932670540726639, 0.16549648702289715, -0.21784444891838003, -0.03415930285472164, 0.5581501743728682, -0.20656349363895157, 0.03649251940398489, -0.05789780918948372, -0.13803433659601896, -0.06516987238932923, -0.007445198124071235, -0.026365372369087425, -0.10226766811424423, -0.10151173815118733, -0.02157197285366365, -0.1384182736650374, -0.005909292322097924, -0.06713245693267514, -0.10254136214167635, 0.04025590892135227, -0.03976562151692039, -0.039400763750092986, -0.16249313703979743, -0.18439907338887504, -0.08502282579537458, 0.3223496632260029, -0.1668987702035851, -0.10620851765119334, -0.0906593982517558, -0.10592576667644742, -0.12087622840907848, -0.08209435608397977, -0.1205197953211977, -0.009875419439838268, -0.2499732486295212, -0.05495744115480984, -0.1086500188458088, 0.1666684674066782, -0.15815237365479057, -0.03073114320924805, -0.14906704021259246, -0.08908884991793006, -0.2417485788543745, -0.10564557393372592, -0.019345117814696725, -0.06426957673074102, 0.05204921560581557, 0.12154490318265963, -0.14110760431675368, -0.015365271055516135, 0.07704650265548922, -0.010525721053086023, 0.22586799399605856, -0.1233447928588503, -0.1000063002826434, 0.18585501415718245, -0.07212705209759347, -0.145385068787508, -0.18304720151932308, -0.18278901152701152, 0.07228432302473645, -0.1981703075679121, 0.02689183608027785, -0.1023890906511509, 0.13801968601650197, -0.18987556762492805, -0.11874092982520733, 0.07355682618275447, -0.15462623830906397, 0.1838104627580407, -0.05147938067047775, -0.11063972188960808, 0.16010839456237475, 0.0038067709013048694, -0.06654729687311983, -0.014588958699747271, -0.039086180521278296, -0.052915640127301336, -0.06300089229076002, -0.23993807061849232, 0.043789382798677765, 0.034937691321054024, 0.2994330305808712, -0.1627728724723298, 0.4615931918006461, -0.12063775786690845, 0.03873293372820632, 0.009151659775572302, -0.13320894258202473, -0.0669449883889868, -0.03411858442918572, 0.32558435313759043, -0.1905056016720318, 0.14590725373692173, -0.11478855338945163, -0.03548288415920863, 0.5281260870414032, 0.7374072283031939, -0.1791574572088431, -0.0966129533892674, 0.01902892143248206, -0.10932788412289388, 0.6276246119534516, -0.017613110645360204, -0.014319641911650152, -0.07635714838382053, 0.38371317426029566, -0.11508637738041408, -0.13021676753836658, -0.018623754023580876, 0.005958332530387317, 0.12970528023451175, -0.2097270258323361, -0.06620353032807957, 0.15634947145812306, -0.029776395761242757, -0.08404766058204734, -0.10920366038316838, -0.0693804212029911, 0.3415705474754353], \"yaxis\": \"y\"}],                        {\"coloraxis\": {\"colorbar\": {\"title\": {\"text\": \"color\"}}, \"colorscale\": [[0.0, \"#0d0887\"], [0.1111111111111111, \"#46039f\"], [0.2222222222222222, \"#7201a8\"], [0.3333333333333333, \"#9c179e\"], [0.4444444444444444, \"#bd3786\"], [0.5555555555555556, \"#d8576b\"], [0.6666666666666666, \"#ed7953\"], [0.7777777777777778, \"#fb9f3a\"], [0.8888888888888888, \"#fdca26\"], [1.0, \"#f0f921\"]]}, \"legend\": {\"tracegroupgap\": 0}, \"margin\": {\"t\": 60}, \"template\": {\"data\": {\"bar\": [{\"error_x\": {\"color\": \"#2a3f5f\"}, \"error_y\": {\"color\": \"#2a3f5f\"}, \"marker\": {\"line\": {\"color\": \"#E5ECF6\", \"width\": 0.5}}, \"type\": \"bar\"}], \"barpolar\": [{\"marker\": {\"line\": {\"color\": \"#E5ECF6\", \"width\": 0.5}}, \"type\": \"barpolar\"}], \"carpet\": [{\"aaxis\": {\"endlinecolor\": \"#2a3f5f\", \"gridcolor\": \"white\", \"linecolor\": \"white\", \"minorgridcolor\": \"white\", \"startlinecolor\": \"#2a3f5f\"}, \"baxis\": {\"endlinecolor\": \"#2a3f5f\", \"gridcolor\": \"white\", \"linecolor\": \"white\", \"minorgridcolor\": \"white\", \"startlinecolor\": \"#2a3f5f\"}, \"type\": \"carpet\"}], \"choropleth\": [{\"colorbar\": {\"outlinewidth\": 0, \"ticks\": \"\"}, \"type\": \"choropleth\"}], \"contour\": [{\"colorbar\": {\"outlinewidth\": 0, \"ticks\": \"\"}, \"colorscale\": [[0.0, \"#0d0887\"], [0.1111111111111111, \"#46039f\"], [0.2222222222222222, \"#7201a8\"], [0.3333333333333333, \"#9c179e\"], [0.4444444444444444, \"#bd3786\"], [0.5555555555555556, \"#d8576b\"], [0.6666666666666666, \"#ed7953\"], [0.7777777777777778, \"#fb9f3a\"], [0.8888888888888888, \"#fdca26\"], [1.0, \"#f0f921\"]], \"type\": \"contour\"}], \"contourcarpet\": [{\"colorbar\": {\"outlinewidth\": 0, \"ticks\": \"\"}, \"type\": \"contourcarpet\"}], \"heatmap\": [{\"colorbar\": {\"outlinewidth\": 0, \"ticks\": \"\"}, \"colorscale\": [[0.0, \"#0d0887\"], [0.1111111111111111, \"#46039f\"], [0.2222222222222222, \"#7201a8\"], [0.3333333333333333, \"#9c179e\"], [0.4444444444444444, \"#bd3786\"], [0.5555555555555556, \"#d8576b\"], [0.6666666666666666, \"#ed7953\"], [0.7777777777777778, \"#fb9f3a\"], [0.8888888888888888, \"#fdca26\"], [1.0, \"#f0f921\"]], \"type\": \"heatmap\"}], \"heatmapgl\": [{\"colorbar\": {\"outlinewidth\": 0, \"ticks\": \"\"}, \"colorscale\": [[0.0, \"#0d0887\"], [0.1111111111111111, \"#46039f\"], [0.2222222222222222, \"#7201a8\"], [0.3333333333333333, \"#9c179e\"], [0.4444444444444444, \"#bd3786\"], [0.5555555555555556, \"#d8576b\"], [0.6666666666666666, \"#ed7953\"], [0.7777777777777778, \"#fb9f3a\"], [0.8888888888888888, \"#fdca26\"], [1.0, \"#f0f921\"]], \"type\": \"heatmapgl\"}], \"histogram\": [{\"marker\": {\"colorbar\": {\"outlinewidth\": 0, \"ticks\": \"\"}}, \"type\": \"histogram\"}], \"histogram2d\": [{\"colorbar\": {\"outlinewidth\": 0, \"ticks\": \"\"}, \"colorscale\": [[0.0, \"#0d0887\"], [0.1111111111111111, \"#46039f\"], [0.2222222222222222, \"#7201a8\"], [0.3333333333333333, \"#9c179e\"], [0.4444444444444444, \"#bd3786\"], [0.5555555555555556, \"#d8576b\"], [0.6666666666666666, \"#ed7953\"], [0.7777777777777778, \"#fb9f3a\"], [0.8888888888888888, \"#fdca26\"], [1.0, \"#f0f921\"]], \"type\": \"histogram2d\"}], \"histogram2dcontour\": [{\"colorbar\": {\"outlinewidth\": 0, \"ticks\": \"\"}, \"colorscale\": [[0.0, \"#0d0887\"], [0.1111111111111111, \"#46039f\"], [0.2222222222222222, \"#7201a8\"], [0.3333333333333333, \"#9c179e\"], [0.4444444444444444, \"#bd3786\"], [0.5555555555555556, \"#d8576b\"], [0.6666666666666666, \"#ed7953\"], [0.7777777777777778, \"#fb9f3a\"], [0.8888888888888888, \"#fdca26\"], [1.0, \"#f0f921\"]], \"type\": \"histogram2dcontour\"}], \"mesh3d\": [{\"colorbar\": {\"outlinewidth\": 0, \"ticks\": \"\"}, \"type\": \"mesh3d\"}], \"parcoords\": [{\"line\": {\"colorbar\": {\"outlinewidth\": 0, \"ticks\": \"\"}}, \"type\": \"parcoords\"}], \"pie\": [{\"automargin\": true, \"type\": \"pie\"}], \"scatter\": [{\"marker\": {\"colorbar\": {\"outlinewidth\": 0, \"ticks\": \"\"}}, \"type\": \"scatter\"}], \"scatter3d\": [{\"line\": {\"colorbar\": {\"outlinewidth\": 0, \"ticks\": \"\"}}, \"marker\": {\"colorbar\": {\"outlinewidth\": 0, \"ticks\": \"\"}}, \"type\": \"scatter3d\"}], \"scattercarpet\": [{\"marker\": {\"colorbar\": {\"outlinewidth\": 0, \"ticks\": \"\"}}, \"type\": \"scattercarpet\"}], \"scattergeo\": [{\"marker\": {\"colorbar\": {\"outlinewidth\": 0, \"ticks\": \"\"}}, \"type\": \"scattergeo\"}], \"scattergl\": [{\"marker\": {\"colorbar\": {\"outlinewidth\": 0, \"ticks\": \"\"}}, \"type\": \"scattergl\"}], \"scattermapbox\": [{\"marker\": {\"colorbar\": {\"outlinewidth\": 0, \"ticks\": \"\"}}, \"type\": \"scattermapbox\"}], \"scatterpolar\": [{\"marker\": {\"colorbar\": {\"outlinewidth\": 0, \"ticks\": \"\"}}, \"type\": \"scatterpolar\"}], \"scatterpolargl\": [{\"marker\": {\"colorbar\": {\"outlinewidth\": 0, \"ticks\": \"\"}}, \"type\": \"scatterpolargl\"}], \"scatterternary\": [{\"marker\": {\"colorbar\": {\"outlinewidth\": 0, \"ticks\": \"\"}}, \"type\": \"scatterternary\"}], \"surface\": [{\"colorbar\": {\"outlinewidth\": 0, \"ticks\": \"\"}, \"colorscale\": [[0.0, \"#0d0887\"], [0.1111111111111111, \"#46039f\"], [0.2222222222222222, \"#7201a8\"], [0.3333333333333333, \"#9c179e\"], [0.4444444444444444, \"#bd3786\"], [0.5555555555555556, \"#d8576b\"], [0.6666666666666666, \"#ed7953\"], [0.7777777777777778, \"#fb9f3a\"], [0.8888888888888888, \"#fdca26\"], [1.0, \"#f0f921\"]], \"type\": \"surface\"}], \"table\": [{\"cells\": {\"fill\": {\"color\": \"#EBF0F8\"}, \"line\": {\"color\": \"white\"}}, \"header\": {\"fill\": {\"color\": \"#C8D4E3\"}, \"line\": {\"color\": \"white\"}}, \"type\": \"table\"}]}, \"layout\": {\"annotationdefaults\": {\"arrowcolor\": \"#2a3f5f\", \"arrowhead\": 0, \"arrowwidth\": 1}, \"autotypenumbers\": \"strict\", \"coloraxis\": {\"colorbar\": {\"outlinewidth\": 0, \"ticks\": \"\"}}, \"colorscale\": {\"diverging\": [[0, \"#8e0152\"], [0.1, \"#c51b7d\"], [0.2, \"#de77ae\"], [0.3, \"#f1b6da\"], [0.4, \"#fde0ef\"], [0.5, \"#f7f7f7\"], [0.6, \"#e6f5d0\"], [0.7, \"#b8e186\"], [0.8, \"#7fbc41\"], [0.9, \"#4d9221\"], [1, \"#276419\"]], \"sequential\": [[0.0, \"#0d0887\"], [0.1111111111111111, \"#46039f\"], [0.2222222222222222, \"#7201a8\"], [0.3333333333333333, \"#9c179e\"], [0.4444444444444444, \"#bd3786\"], [0.5555555555555556, \"#d8576b\"], [0.6666666666666666, \"#ed7953\"], [0.7777777777777778, \"#fb9f3a\"], [0.8888888888888888, \"#fdca26\"], [1.0, \"#f0f921\"]], \"sequentialminus\": [[0.0, \"#0d0887\"], [0.1111111111111111, \"#46039f\"], [0.2222222222222222, \"#7201a8\"], [0.3333333333333333, \"#9c179e\"], [0.4444444444444444, \"#bd3786\"], [0.5555555555555556, \"#d8576b\"], [0.6666666666666666, \"#ed7953\"], [0.7777777777777778, \"#fb9f3a\"], [0.8888888888888888, \"#fdca26\"], [1.0, \"#f0f921\"]]}, \"colorway\": [\"#636efa\", \"#EF553B\", \"#00cc96\", \"#ab63fa\", \"#FFA15A\", \"#19d3f3\", \"#FF6692\", \"#B6E880\", \"#FF97FF\", \"#FECB52\"], \"font\": {\"color\": \"#2a3f5f\"}, \"geo\": {\"bgcolor\": \"white\", \"lakecolor\": \"white\", \"landcolor\": \"#E5ECF6\", \"showlakes\": true, \"showland\": true, \"subunitcolor\": \"white\"}, \"hoverlabel\": {\"align\": \"left\"}, \"hovermode\": \"closest\", \"mapbox\": {\"style\": \"light\"}, \"paper_bgcolor\": \"white\", \"plot_bgcolor\": \"#E5ECF6\", \"polar\": {\"angularaxis\": {\"gridcolor\": \"white\", \"linecolor\": \"white\", \"ticks\": \"\"}, \"bgcolor\": \"#E5ECF6\", \"radialaxis\": {\"gridcolor\": \"white\", \"linecolor\": \"white\", \"ticks\": \"\"}}, \"scene\": {\"xaxis\": {\"backgroundcolor\": \"#E5ECF6\", \"gridcolor\": \"white\", \"gridwidth\": 2, \"linecolor\": \"white\", \"showbackground\": true, \"ticks\": \"\", \"zerolinecolor\": \"white\"}, \"yaxis\": {\"backgroundcolor\": \"#E5ECF6\", \"gridcolor\": \"white\", \"gridwidth\": 2, \"linecolor\": \"white\", \"showbackground\": true, \"ticks\": \"\", \"zerolinecolor\": \"white\"}, \"zaxis\": {\"backgroundcolor\": \"#E5ECF6\", \"gridcolor\": \"white\", \"gridwidth\": 2, \"linecolor\": \"white\", \"showbackground\": true, \"ticks\": \"\", \"zerolinecolor\": \"white\"}}, \"shapedefaults\": {\"line\": {\"color\": \"#2a3f5f\"}}, \"ternary\": {\"aaxis\": {\"gridcolor\": \"white\", \"linecolor\": \"white\", \"ticks\": \"\"}, \"baxis\": {\"gridcolor\": \"white\", \"linecolor\": \"white\", \"ticks\": \"\"}, \"bgcolor\": \"#E5ECF6\", \"caxis\": {\"gridcolor\": \"white\", \"linecolor\": \"white\", \"ticks\": \"\"}}, \"title\": {\"x\": 0.05}, \"xaxis\": {\"automargin\": true, \"gridcolor\": \"white\", \"linecolor\": \"white\", \"ticks\": \"\", \"title\": {\"standoff\": 15}, \"zerolinecolor\": \"white\", \"zerolinewidth\": 2}, \"yaxis\": {\"automargin\": true, \"gridcolor\": \"white\", \"linecolor\": \"white\", \"ticks\": \"\", \"title\": {\"standoff\": 15}, \"zerolinecolor\": \"white\", \"zerolinewidth\": 2}}}, \"xaxis\": {\"anchor\": \"y\", \"domain\": [0.0, 1.0], \"title\": {\"text\": \"0\"}}, \"yaxis\": {\"anchor\": \"x\", \"domain\": [0.0, 1.0], \"title\": {\"text\": \"1\"}}},                        {\"responsive\": true}                    ).then(function(){\n",
       "                            \n",
       "var gd = document.getElementById('9d681b2f-d014-45d7-a7d5-0c6d4d70ae19');\n",
       "var x = new MutationObserver(function (mutations, observer) {{\n",
       "        var display = window.getComputedStyle(gd).display;\n",
       "        if (!display || display === 'none') {{\n",
       "            console.log([gd, 'removed!']);\n",
       "            Plotly.purge(gd);\n",
       "            observer.disconnect();\n",
       "        }}\n",
       "}});\n",
       "\n",
       "// Listen for the removal of the full notebook cells\n",
       "var notebookContainer = gd.closest('#notebook-container');\n",
       "if (notebookContainer) {{\n",
       "    x.observe(notebookContainer, {childList: true});\n",
       "}}\n",
       "\n",
       "// Listen for the clearing of the current output cell\n",
       "var outputEl = gd.closest('.output');\n",
       "if (outputEl) {{\n",
       "    x.observe(outputEl, {childList: true});\n",
       "}}\n",
       "\n",
       "                        })                };                });            </script>        </div>"
      ]
     },
     "metadata": {},
     "output_type": "display_data"
    }
   ],
   "source": [
    "pca = PCA(n_components = n_components)\n",
    "components = pca.fit_transform(normalized_df2)\n",
    "# Plotting the PCA scatter plot for different classes\n",
    "\n",
    "fig = px.scatter(components, x=0, y=1, color=y_hc_df[0]) #check if column name is correct\n",
    "fig.show()"
   ]
  },
  {
   "cell_type": "code",
   "execution_count": null,
   "metadata": {},
   "outputs": [],
   "source": []
  }
 ],
 "metadata": {
  "kernelspec": {
   "display_name": "Python 3",
   "language": "python",
   "name": "python3"
  },
  "language_info": {
   "codemirror_mode": {
    "name": "ipython",
    "version": 3
   },
   "file_extension": ".py",
   "mimetype": "text/x-python",
   "name": "python",
   "nbconvert_exporter": "python",
   "pygments_lexer": "ipython3",
   "version": "3.8.5"
  }
 },
 "nbformat": 4,
 "nbformat_minor": 4
}
