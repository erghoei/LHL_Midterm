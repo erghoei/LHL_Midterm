{
 "cells": [
  {
   "cell_type": "code",
   "execution_count": 1,
   "metadata": {},
   "outputs": [],
   "source": [
    "# import libraries\n",
    "import matplotlib.pyplot as plt\n",
    "import numpy as np"
   ]
  },
  {
   "cell_type": "code",
   "execution_count": 2,
   "metadata": {},
   "outputs": [],
   "source": [
    "# import DBSCAN\n",
    "from sklearn.cluster import DBSCAN\n",
    "import sklearn.utils\n",
    "from sklearn.preprocessing import StandardScaler\n",
    "\n",
    "import pandas as pd\n",
    "\n",
    "# import Kmeans from sklearn\n",
    "from sklearn.cluster import KMeans\n",
    "\n",
    "# import numpy\n",
    "import numpy as np\n",
    "\n",
    "import pandas as pd\n",
    "\n",
    "# import matplotlib\n",
    "import matplotlib.pyplot as plt\n",
    "\n",
    "#import MinMaxScaler for Normalization\n",
    "from sklearn.preprocessing import MinMaxScaler\n",
    "\n",
    "# PCA scatterplot\n",
    "import plotly.express as px\n",
    "from sklearn.decomposition import PCA\n",
    "\n",
    "#for box and whisker plots\n",
    "import seaborn as sns"
   ]
  },
  {
   "cell_type": "markdown",
   "metadata": {},
   "source": [
    "# import data"
   ]
  },
  {
   "cell_type": "code",
   "execution_count": 3,
   "metadata": {},
   "outputs": [],
   "source": [
    "# load geo data\n",
    "nyc_geo_dataframe = pd.read_csv(\"nyc_data.csv\")"
   ]
  },
  {
   "cell_type": "code",
   "execution_count": 4,
   "metadata": {},
   "outputs": [],
   "source": [
    "#will we just cluster on this or take out a few things"
   ]
  },
  {
   "cell_type": "code",
   "execution_count": 5,
   "metadata": {},
   "outputs": [
    {
     "data": {
      "text/html": [
       "<div>\n",
       "<style scoped>\n",
       "    .dataframe tbody tr th:only-of-type {\n",
       "        vertical-align: middle;\n",
       "    }\n",
       "\n",
       "    .dataframe tbody tr th {\n",
       "        vertical-align: top;\n",
       "    }\n",
       "\n",
       "    .dataframe thead th {\n",
       "        text-align: right;\n",
       "    }\n",
       "</style>\n",
       "<table border=\"1\" class=\"dataframe\">\n",
       "  <thead>\n",
       "    <tr style=\"text-align: right;\">\n",
       "      <th></th>\n",
       "      <th>name</th>\n",
       "      <th>longitude</th>\n",
       "      <th>latitude</th>\n",
       "      <th>uber_count</th>\n",
       "      <th>avg_price</th>\n",
       "      <th>adj_pop</th>\n",
       "      <th>median_daily_test_rate</th>\n",
       "      <th>avg_test_score</th>\n",
       "    </tr>\n",
       "  </thead>\n",
       "  <tbody>\n",
       "    <tr>\n",
       "      <th>0</th>\n",
       "      <td>Allerton</td>\n",
       "      <td>-73.859319</td>\n",
       "      <td>40.865788</td>\n",
       "      <td>860.0</td>\n",
       "      <td>1.50</td>\n",
       "      <td>28707.0</td>\n",
       "      <td>511.5</td>\n",
       "      <td>27.259983</td>\n",
       "    </tr>\n",
       "    <tr>\n",
       "      <th>1</th>\n",
       "      <td>Annadale</td>\n",
       "      <td>-74.178549</td>\n",
       "      <td>40.538114</td>\n",
       "      <td>11.0</td>\n",
       "      <td>1.75</td>\n",
       "      <td>27073.0</td>\n",
       "      <td>263.7</td>\n",
       "      <td>45.011856</td>\n",
       "    </tr>\n",
       "    <tr>\n",
       "      <th>2</th>\n",
       "      <td>Arden Heights</td>\n",
       "      <td>-74.185887</td>\n",
       "      <td>40.549286</td>\n",
       "      <td>10.0</td>\n",
       "      <td>1.70</td>\n",
       "      <td>25117.0</td>\n",
       "      <td>482.5</td>\n",
       "      <td>44.121985</td>\n",
       "    </tr>\n",
       "    <tr>\n",
       "      <th>3</th>\n",
       "      <td>Arlington</td>\n",
       "      <td>-74.165104</td>\n",
       "      <td>40.635325</td>\n",
       "      <td>0.0</td>\n",
       "      <td>1.55</td>\n",
       "      <td>29715.0</td>\n",
       "      <td>482.5</td>\n",
       "      <td>38.728529</td>\n",
       "    </tr>\n",
       "    <tr>\n",
       "      <th>4</th>\n",
       "      <td>Arrochar</td>\n",
       "      <td>-74.067124</td>\n",
       "      <td>40.596313</td>\n",
       "      <td>145.0</td>\n",
       "      <td>1.75</td>\n",
       "      <td>15659.0</td>\n",
       "      <td>317.3</td>\n",
       "      <td>48.440916</td>\n",
       "    </tr>\n",
       "    <tr>\n",
       "      <th>...</th>\n",
       "      <td>...</td>\n",
       "      <td>...</td>\n",
       "      <td>...</td>\n",
       "      <td>...</td>\n",
       "      <td>...</td>\n",
       "      <td>...</td>\n",
       "      <td>...</td>\n",
       "      <td>...</td>\n",
       "    </tr>\n",
       "    <tr>\n",
       "      <th>297</th>\n",
       "      <td>Woodhaven</td>\n",
       "      <td>-73.858110</td>\n",
       "      <td>40.689887</td>\n",
       "      <td>2058.0</td>\n",
       "      <td>1.40</td>\n",
       "      <td>55411.0</td>\n",
       "      <td>222.2</td>\n",
       "      <td>40.725764</td>\n",
       "    </tr>\n",
       "    <tr>\n",
       "      <th>298</th>\n",
       "      <td>Woodlawn</td>\n",
       "      <td>-73.867315</td>\n",
       "      <td>40.898273</td>\n",
       "      <td>810.0</td>\n",
       "      <td>1.40</td>\n",
       "      <td>43034.0</td>\n",
       "      <td>260.1</td>\n",
       "      <td>45.936409</td>\n",
       "    </tr>\n",
       "    <tr>\n",
       "      <th>299</th>\n",
       "      <td>Woodrow</td>\n",
       "      <td>-74.205246</td>\n",
       "      <td>40.541968</td>\n",
       "      <td>5.0</td>\n",
       "      <td>1.75</td>\n",
       "      <td>19829.0</td>\n",
       "      <td>297.5</td>\n",
       "      <td>44.273276</td>\n",
       "    </tr>\n",
       "    <tr>\n",
       "      <th>300</th>\n",
       "      <td>Woodside</td>\n",
       "      <td>-73.901842</td>\n",
       "      <td>40.746349</td>\n",
       "      <td>4567.0</td>\n",
       "      <td>1.40</td>\n",
       "      <td>44473.0</td>\n",
       "      <td>243.9</td>\n",
       "      <td>46.964018</td>\n",
       "    </tr>\n",
       "    <tr>\n",
       "      <th>301</th>\n",
       "      <td>Yorkville</td>\n",
       "      <td>-73.947118</td>\n",
       "      <td>40.775930</td>\n",
       "      <td>46819.0</td>\n",
       "      <td>1.80</td>\n",
       "      <td>77355.0</td>\n",
       "      <td>928.3</td>\n",
       "      <td>43.016239</td>\n",
       "    </tr>\n",
       "  </tbody>\n",
       "</table>\n",
       "<p>302 rows × 8 columns</p>\n",
       "</div>"
      ],
      "text/plain": [
       "              name  longitude   latitude  uber_count  avg_price  adj_pop  \\\n",
       "0         Allerton -73.859319  40.865788       860.0       1.50  28707.0   \n",
       "1         Annadale -74.178549  40.538114        11.0       1.75  27073.0   \n",
       "2    Arden Heights -74.185887  40.549286        10.0       1.70  25117.0   \n",
       "3        Arlington -74.165104  40.635325         0.0       1.55  29715.0   \n",
       "4         Arrochar -74.067124  40.596313       145.0       1.75  15659.0   \n",
       "..             ...        ...        ...         ...        ...      ...   \n",
       "297      Woodhaven -73.858110  40.689887      2058.0       1.40  55411.0   \n",
       "298       Woodlawn -73.867315  40.898273       810.0       1.40  43034.0   \n",
       "299        Woodrow -74.205246  40.541968         5.0       1.75  19829.0   \n",
       "300       Woodside -73.901842  40.746349      4567.0       1.40  44473.0   \n",
       "301      Yorkville -73.947118  40.775930     46819.0       1.80  77355.0   \n",
       "\n",
       "     median_daily_test_rate  avg_test_score  \n",
       "0                     511.5       27.259983  \n",
       "1                     263.7       45.011856  \n",
       "2                     482.5       44.121985  \n",
       "3                     482.5       38.728529  \n",
       "4                     317.3       48.440916  \n",
       "..                      ...             ...  \n",
       "297                   222.2       40.725764  \n",
       "298                   260.1       45.936409  \n",
       "299                   297.5       44.273276  \n",
       "300                   243.9       46.964018  \n",
       "301                   928.3       43.016239  \n",
       "\n",
       "[302 rows x 8 columns]"
      ]
     },
     "execution_count": 5,
     "metadata": {},
     "output_type": "execute_result"
    }
   ],
   "source": [
    "nyc_geo_dataframe"
   ]
  },
  {
   "cell_type": "code",
   "execution_count": null,
   "metadata": {},
   "outputs": [],
   "source": []
  },
  {
   "cell_type": "code",
   "execution_count": 6,
   "metadata": {},
   "outputs": [],
   "source": [
    "#leaves out longitude and latitude\n",
    "nyc_geo_dataframe_features_only = nyc_geo_dataframe[['uber_count','avg_price','adj_pop','median_daily_test_rate','avg_test_score']]"
   ]
  },
  {
   "cell_type": "markdown",
   "metadata": {},
   "source": [
    "# Optional: Normalize Data"
   ]
  },
  {
   "cell_type": "code",
   "execution_count": 7,
   "metadata": {},
   "outputs": [
    {
     "data": {
      "text/plain": [
       "array([[4.26096952e-03, 3.88888889e-01, 1.80149481e-01, 1.12784609e-01,\n",
       "        2.26247536e-01],\n",
       "       [5.45007729e-05, 6.66666667e-01, 1.69895388e-01, 3.98893922e-02,\n",
       "        4.80298979e-01],\n",
       "       [4.95461572e-05, 6.11111111e-01, 1.57620599e-01, 1.04253692e-01,\n",
       "        4.67563822e-01],\n",
       "       ...,\n",
       "       [2.47730786e-05, 6.66666667e-01, 1.24435993e-01, 4.98323234e-02,\n",
       "        4.69728978e-01],\n",
       "       [2.26277300e-02, 2.77777778e-01, 2.79088302e-01, 3.40648350e-02,\n",
       "        5.08236863e-01],\n",
       "       [2.31970153e-01, 7.22222222e-01, 4.85437807e-01, 2.35394481e-01,\n",
       "        4.51739222e-01]])"
      ]
     },
     "execution_count": 7,
     "metadata": {},
     "output_type": "execute_result"
    }
   ],
   "source": [
    "#normalize\n",
    "scaler = MinMaxScaler()\n",
    "normalized_df1 = scaler.fit_transform(nyc_geo_dataframe_features_only)\n",
    "normalized_df1\n"
   ]
  },
  {
   "cell_type": "code",
   "execution_count": 8,
   "metadata": {},
   "outputs": [
    {
     "data": {
      "text/html": [
       "<div>\n",
       "<style scoped>\n",
       "    .dataframe tbody tr th:only-of-type {\n",
       "        vertical-align: middle;\n",
       "    }\n",
       "\n",
       "    .dataframe tbody tr th {\n",
       "        vertical-align: top;\n",
       "    }\n",
       "\n",
       "    .dataframe thead th {\n",
       "        text-align: right;\n",
       "    }\n",
       "</style>\n",
       "<table border=\"1\" class=\"dataframe\">\n",
       "  <thead>\n",
       "    <tr style=\"text-align: right;\">\n",
       "      <th></th>\n",
       "      <th>uber_count</th>\n",
       "      <th>avg_price</th>\n",
       "      <th>adj_pop</th>\n",
       "      <th>median_daily_test_rate</th>\n",
       "      <th>avg_test_score</th>\n",
       "    </tr>\n",
       "  </thead>\n",
       "  <tbody>\n",
       "    <tr>\n",
       "      <th>0</th>\n",
       "      <td>0.004261</td>\n",
       "      <td>0.388889</td>\n",
       "      <td>0.180149</td>\n",
       "      <td>0.112785</td>\n",
       "      <td>0.226248</td>\n",
       "    </tr>\n",
       "    <tr>\n",
       "      <th>1</th>\n",
       "      <td>0.000055</td>\n",
       "      <td>0.666667</td>\n",
       "      <td>0.169895</td>\n",
       "      <td>0.039889</td>\n",
       "      <td>0.480299</td>\n",
       "    </tr>\n",
       "    <tr>\n",
       "      <th>2</th>\n",
       "      <td>0.000050</td>\n",
       "      <td>0.611111</td>\n",
       "      <td>0.157621</td>\n",
       "      <td>0.104254</td>\n",
       "      <td>0.467564</td>\n",
       "    </tr>\n",
       "    <tr>\n",
       "      <th>3</th>\n",
       "      <td>0.000000</td>\n",
       "      <td>0.444444</td>\n",
       "      <td>0.186475</td>\n",
       "      <td>0.104254</td>\n",
       "      <td>0.390377</td>\n",
       "    </tr>\n",
       "    <tr>\n",
       "      <th>4</th>\n",
       "      <td>0.000718</td>\n",
       "      <td>0.666667</td>\n",
       "      <td>0.098267</td>\n",
       "      <td>0.055657</td>\n",
       "      <td>0.529373</td>\n",
       "    </tr>\n",
       "    <tr>\n",
       "      <th>...</th>\n",
       "      <td>...</td>\n",
       "      <td>...</td>\n",
       "      <td>...</td>\n",
       "      <td>...</td>\n",
       "      <td>...</td>\n",
       "    </tr>\n",
       "    <tr>\n",
       "      <th>297</th>\n",
       "      <td>0.010197</td>\n",
       "      <td>0.277778</td>\n",
       "      <td>0.347729</td>\n",
       "      <td>0.027681</td>\n",
       "      <td>0.418960</td>\n",
       "    </tr>\n",
       "    <tr>\n",
       "      <th>298</th>\n",
       "      <td>0.004013</td>\n",
       "      <td>0.277778</td>\n",
       "      <td>0.270058</td>\n",
       "      <td>0.038830</td>\n",
       "      <td>0.493530</td>\n",
       "    </tr>\n",
       "    <tr>\n",
       "      <th>299</th>\n",
       "      <td>0.000025</td>\n",
       "      <td>0.666667</td>\n",
       "      <td>0.124436</td>\n",
       "      <td>0.049832</td>\n",
       "      <td>0.469729</td>\n",
       "    </tr>\n",
       "    <tr>\n",
       "      <th>300</th>\n",
       "      <td>0.022628</td>\n",
       "      <td>0.277778</td>\n",
       "      <td>0.279088</td>\n",
       "      <td>0.034065</td>\n",
       "      <td>0.508237</td>\n",
       "    </tr>\n",
       "    <tr>\n",
       "      <th>301</th>\n",
       "      <td>0.231970</td>\n",
       "      <td>0.722222</td>\n",
       "      <td>0.485438</td>\n",
       "      <td>0.235394</td>\n",
       "      <td>0.451739</td>\n",
       "    </tr>\n",
       "  </tbody>\n",
       "</table>\n",
       "<p>302 rows × 5 columns</p>\n",
       "</div>"
      ],
      "text/plain": [
       "     uber_count  avg_price   adj_pop  median_daily_test_rate  avg_test_score\n",
       "0      0.004261   0.388889  0.180149                0.112785        0.226248\n",
       "1      0.000055   0.666667  0.169895                0.039889        0.480299\n",
       "2      0.000050   0.611111  0.157621                0.104254        0.467564\n",
       "3      0.000000   0.444444  0.186475                0.104254        0.390377\n",
       "4      0.000718   0.666667  0.098267                0.055657        0.529373\n",
       "..          ...        ...       ...                     ...             ...\n",
       "297    0.010197   0.277778  0.347729                0.027681        0.418960\n",
       "298    0.004013   0.277778  0.270058                0.038830        0.493530\n",
       "299    0.000025   0.666667  0.124436                0.049832        0.469729\n",
       "300    0.022628   0.277778  0.279088                0.034065        0.508237\n",
       "301    0.231970   0.722222  0.485438                0.235394        0.451739\n",
       "\n",
       "[302 rows x 5 columns]"
      ]
     },
     "execution_count": 8,
     "metadata": {},
     "output_type": "execute_result"
    }
   ],
   "source": [
    "#make interpretable df\n",
    "normalized_df2 = pd.DataFrame(data=normalized_df1, columns=['uber_count','avg_price','adj_pop','median_daily_test_rate','avg_test_score'])\n",
    "normalized_df2"
   ]
  },
  {
   "cell_type": "code",
   "execution_count": null,
   "metadata": {},
   "outputs": [],
   "source": []
  },
  {
   "cell_type": "raw",
   "metadata": {},
   "source": [
    "#scale the data\n",
    "scaled_df_for_clustering = StandardScaler().fit_transform(nyc_geo_dataframe_features_only)"
   ]
  },
  {
   "cell_type": "raw",
   "metadata": {},
   "source": [
    "scaled_df_for_clustering"
   ]
  },
  {
   "cell_type": "markdown",
   "metadata": {},
   "source": [
    "# PCA feature reduction"
   ]
  },
  {
   "cell_type": "code",
   "execution_count": null,
   "metadata": {},
   "outputs": [],
   "source": []
  },
  {
   "cell_type": "code",
   "execution_count": 9,
   "metadata": {},
   "outputs": [],
   "source": [
    "n_components = 3 #from above"
   ]
  },
  {
   "cell_type": "code",
   "execution_count": 11,
   "metadata": {},
   "outputs": [],
   "source": [
    "pca = PCA(n_components = n_components)\n",
    "components = pca.fit_transform(normalized_df2)\n",
    "\n"
   ]
  },
  {
   "cell_type": "raw",
   "metadata": {},
   "source": [
    "components"
   ]
  },
  {
   "cell_type": "code",
   "execution_count": null,
   "metadata": {},
   "outputs": [],
   "source": []
  },
  {
   "cell_type": "markdown",
   "metadata": {},
   "source": [
    "# Create clustering model using DBSCAN"
   ]
  },
  {
   "cell_type": "code",
   "execution_count": 40,
   "metadata": {},
   "outputs": [],
   "source": [
    "#use grid search to optimize these\n",
    "db = DBSCAN(eps=0.2,\n",
    "            min_samples=5,\n",
    "            metric='manhattan')"
   ]
  },
  {
   "cell_type": "markdown",
   "metadata": {},
   "source": [
    "## fit the data"
   ]
  },
  {
   "cell_type": "code",
   "execution_count": 41,
   "metadata": {},
   "outputs": [
    {
     "data": {
      "text/plain": [
       "array([ 0,  0,  0,  0,  0,  0,  0,  0,  0,  0,  0,  0,  0,  0,  0,  0,  0,\n",
       "        0,  0,  0,  0,  0,  0,  0,  0,  0,  0,  0,  0,  0,  0,  0,  0,  0,\n",
       "        0, -1,  0,  0,  0, -1,  0,  0,  0,  0,  0,  0,  0, -1,  0,  0,  0,\n",
       "        0,  0,  0,  0,  0,  0,  0,  0,  0, -1,  0,  0, -1,  0,  0,  0,  0,\n",
       "       -1,  0,  0,  0,  0,  0,  0,  0,  0,  0, -1,  0,  0,  0,  0,  0,  0,\n",
       "        0,  0,  0,  0,  0,  0,  0,  0,  0,  0,  0,  0,  0,  0,  0, -1,  0,\n",
       "        0,  0, -1,  0,  0,  0,  0,  0,  0,  0,  0,  0,  0,  0,  0,  0,  0,\n",
       "        0,  0,  0,  0,  0,  0,  0,  0,  0,  0,  0,  0,  0,  0,  0,  0, -1,\n",
       "        0,  0,  0,  0,  0,  0,  0,  0,  0,  0,  0,  0,  0,  0,  0,  0,  0,\n",
       "        0,  0, -1, -1,  0,  0,  0,  0,  0, -1,  0,  0,  0,  0,  0,  0,  0,\n",
       "        0,  0,  0,  0, -1,  0,  0,  0,  0,  0,  0,  0,  0,  0,  0,  0,  0,\n",
       "        0,  0,  0,  0,  0,  0,  0,  0,  0,  0,  0, -1,  0,  0,  0,  0,  0,\n",
       "        0,  0,  0, -1,  0,  0,  0,  0,  0,  0,  0,  0,  0,  0,  0,  0,  0,\n",
       "        0,  0,  0,  0,  0,  0,  0,  0,  0,  0,  0,  0,  0,  0,  0,  0,  0,\n",
       "        0,  0,  0,  0,  0,  0,  0,  0,  0,  0,  0,  0,  0,  0,  0,  0,  0,\n",
       "        0,  0,  0,  0,  0,  0,  0,  0,  0,  0,  0,  0,  0,  0,  0,  0,  0,\n",
       "        0, -1,  0,  0,  0,  0, -1, -1,  0,  0,  0,  0, -1,  0,  0,  0, -1,\n",
       "        0,  0,  0,  0,  0,  0,  0,  0,  0,  0,  0,  0,  0])"
      ]
     },
     "execution_count": 41,
     "metadata": {},
     "output_type": "execute_result"
    }
   ],
   "source": [
    "# fit and predict\n",
    "db_clusters = db.fit_predict(components)\n",
    "db_clusters"
   ]
  },
  {
   "cell_type": "markdown",
   "metadata": {},
   "source": [
    "## Plot the results:"
   ]
  },
  {
   "cell_type": "code",
   "execution_count": 38,
   "metadata": {},
   "outputs": [],
   "source": [
    "def plot_clusters(X,y_res, plt_cluster_centers = False):\n",
    "    X_centroids = []\n",
    "    Y_centroids = []\n",
    "\n",
    "    for cluster in set(y_res):\n",
    "        x = X[y_res == cluster,0]\n",
    "        y = X[y_res == cluster,1]\n",
    "        X_centroids.append(np.mean(x))\n",
    "        Y_centroids.append(np.mean(y))\n",
    "\n",
    "        plt.scatter(x,\n",
    "                    y,\n",
    "                    s=50,\n",
    "                    marker='s',\n",
    "                    label=f'cluster {cluster}')\n",
    "\n",
    "    if plt_cluster_centers:\n",
    "        plt.scatter(X_centroids,\n",
    "                    Y_centroids,\n",
    "                    marker='*',\n",
    "                    c='red',\n",
    "                    s=250,\n",
    "                    label='centroids')\n",
    "    plt.legend()\n",
    "    plt.grid()\n",
    "    plt.show()"
   ]
  },
  {
   "cell_type": "code",
   "execution_count": 42,
   "metadata": {},
   "outputs": [
    {
     "data": {
      "image/png": "[encoded data removed]",
      "text/plain": [
       "<Figure size 432x288 with 1 Axes>"
      ]
     },
     "metadata": {
      "needs_background": "light"
     },
     "output_type": "display_data"
    }
   ],
   "source": [
    "# Plot DBSCAN clusters\n",
    "plot_clusters(components, db_clusters)"
   ]
  },
  {
   "cell_type": "code",
   "execution_count": null,
   "metadata": {},
   "outputs": [],
   "source": []
  }
 ],
 "metadata": {
  "kernelspec": {
   "display_name": "Python 3",
   "language": "python",
   "name": "python3"
  },
  "language_info": {
   "codemirror_mode": {
    "name": "ipython",
    "version": 3
   },
   "file_extension": ".py",
   "mimetype": "text/x-python",
   "name": "python",
   "nbconvert_exporter": "python",
   "pygments_lexer": "ipython3",
   "version": "3.8.5"
  }
 },
 "nbformat": 4,
 "nbformat_minor": 4
}
