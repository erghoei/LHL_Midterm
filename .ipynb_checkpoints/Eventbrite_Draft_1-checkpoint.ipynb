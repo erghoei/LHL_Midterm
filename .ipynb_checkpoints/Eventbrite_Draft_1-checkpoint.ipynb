{
 "cells": [
  {
   "cell_type": "markdown",
   "metadata": {},
   "source": [
    "needed to make an account, getting an api token was easy. see notes."
   ]
  },
  {
   "cell_type": "markdown",
   "metadata": {},
   "source": [
    "very good api instructions:\n",
    "https://www.eventbrite.com/platform/docs/api-basics\n",
    "\n",
    "Base URL\n",
    "\n",
    "All URLs referenced in the API documentation have the following base\n",
    "\n",
    "https://www.eventbriteapi.com/v3"
   ]
  }
 ],
 "metadata": {
  "kernelspec": {
   "display_name": "Python 3",
   "language": "python",
   "name": "python3"
  },
  "language_info": {
   "codemirror_mode": {
    "name": "ipython",
    "version": 3
   },
   "file_extension": ".py",
   "mimetype": "text/x-python",
   "name": "python",
   "nbconvert_exporter": "python",
   "pygments_lexer": "ipython3",
   "version": "3.8.5"
  }
 },
 "nbformat": 4,
 "nbformat_minor": 4
}
