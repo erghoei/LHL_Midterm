{
 "cells": [
  {
   "cell_type": "markdown",
   "metadata": {},
   "source": [
    "General API Documentation\n",
    "https://meetup-api.readthedocs.io/en/latest/index.html"
   ]
  },
  {
   "cell_type": "markdown",
   "metadata": {},
   "source": [
    "Had to apply for access to API\n",
    "\n",
    "Full Description of Use Case:\n",
    "\n",
    "I am taking a course on data science and our midterm project is to build an unsupervised learning clustering model to determine if individual neighbourhoods in New York City have distinguishable personalities. Our hypothesis is that one indicator of neighbourhood \"personality\" is the kinds of meetups that are common in their location. so we would like to use the Meetup API to get information on the types of gatherings and events hosted in each neighbourhood. \n",
    "\n",
    "No information on individuals/users will be collected. We will not be posting/changing anything on to Meetup"
   ]
  },
  {
   "cell_type": "markdown",
   "metadata": {},
   "source": [
    "could not get my payment information to work, sent an email. waiting for reply"
   ]
  },
  {
   "cell_type": "code",
   "execution_count": null,
   "metadata": {},
   "outputs": [],
   "source": []
  }
 ],
 "metadata": {
  "kernelspec": {
   "display_name": "Python 3",
   "language": "python",
   "name": "python3"
  },
  "language_info": {
   "codemirror_mode": {
    "name": "ipython",
    "version": 3
   },
   "file_extension": ".py",
   "mimetype": "text/x-python",
   "name": "python",
   "nbconvert_exporter": "python",
   "pygments_lexer": "ipython3",
   "version": "3.8.5"
  }
 },
 "nbformat": 4,
 "nbformat_minor": 4
}
